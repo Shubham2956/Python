{
 "cells": [
  {
   "cell_type": "code",
   "execution_count": null,
   "id": "3fff01cf",
   "metadata": {},
   "outputs": [],
   "source": [
    "#conditional statements \n",
    "1.....>simple if\n",
    "2.....>if else\n",
    "3.....>if else ladder\n",
    "4.....>nested if else"
   ]
  },
  {
   "cell_type": "code",
   "execution_count": null,
   "id": "1b167708",
   "metadata": {},
   "outputs": [],
   "source": [
    "1.....>simple if"
   ]
  },
  {
   "cell_type": "code",
   "execution_count": null,
   "id": "766b1bda",
   "metadata": {},
   "outputs": [],
   "source": [
    "x = int(input('enter the given number:'))\n",
    "if x>=15:\n",
    "    print('very good')\n",
    "else:\n",
    "    print('sorry you are not good')"
   ]
  },
  {
   "cell_type": "code",
   "execution_count": null,
   "id": "4bd3a3b8",
   "metadata": {},
   "outputs": [],
   "source": [
    "p = str(input('enter the given string:'))\n",
    "if p.startswith('sorry sir'):\n",
    "    print('you are obidient')\n",
    "else:\n",
    "    print('you are idiot')"
   ]
  },
  {
   "cell_type": "code",
   "execution_count": 37,
   "id": "f8f7e256",
   "metadata": {},
   "outputs": [
    {
     "name": "stdout",
     "output_type": "stream",
     "text": [
      "enter your age:45\n",
      "you need to take booster dose also\n"
     ]
    }
   ],
   "source": [
    "p = int(input('enter your age:'))\n",
    "if p<=18:\n",
    "    print('you have to take 2 vaccine compulsory')\n",
    "elif p<=30:\n",
    "    print('please take care with your immunity')\n",
    "else:\n",
    "    print('you need to take booster dose also')"
   ]
  },
  {
   "cell_type": "code",
   "execution_count": null,
   "id": "11bd505e",
   "metadata": {},
   "outputs": [],
   "source": [
    "p = float(input('enter your marks we will show u grade according to your marks:'))\n",
    "if p<=100 and p>=90:\n",
    "    print('congratulations....!!!!!! you are pass with distiction.')\n",
    "elif p<=89 and p>=70:\n",
    "    print('very good.....you clear the exam with the first class.')\n",
    "elif p<=69 and p>=50:\n",
    "    print('well try....you pass with second class.')\n",
    "elif p<=49 and p>=35:\n",
    "    print('you pass but need to improve.......study hard.')\n",
    "    "
   ]
  },
  {
   "cell_type": "code",
   "execution_count": null,
   "id": "3f4e8d2a",
   "metadata": {},
   "outputs": [],
   "source": [
    "p = float(input('enter your marks we will show u grade according to your marks:'))\n",
    "if p<=100 and p>=90:\n",
    "    print('congratulations....!!!!!! you are pass with distiction.')\n",
    "elif p<=89 and p>=70:\n",
    "    print('very good.....you clear the exam with the first class.')\n",
    "elif p<=69 and p>=50:\n",
    "    print('well try....you pass with second class.')\n",
    "elif p<=49 and p>=35:\n",
    "    print('you pass but need to improve.......study hard.')\n",
    "    "
   ]
  },
  {
   "cell_type": "code",
   "execution_count": 36,
   "id": "3cb26bff",
   "metadata": {},
   "outputs": [
    {
     "name": "stdout",
     "output_type": "stream",
     "text": [
      "enter your marks we will show u grade according to your marks:35\n",
      "you pass but need to improve.......study hard.\n"
     ]
    }
   ],
   "source": [
    "p = float(input('enter your marks we will show u grade according to your marks:'))\n",
    "if p<=100 and p>=90:\n",
    "    print('congratulations....!!!!!! you are pass with distiction.')\n",
    "elif p<=89 and p>=70:\n",
    "    print('very good.....you clear the exam with the first class.')\n",
    "elif p<=69 and p>=50:\n",
    "    print('well try....you pass with second class.')\n",
    "elif p<=49 and p>=35:\n",
    "    print('you pass but need to improve.......study hard.')\n",
    "    "
   ]
  },
  {
   "cell_type": "code",
   "execution_count": null,
   "id": "ad1d0867",
   "metadata": {},
   "outputs": [],
   "source": [
    "a =13"
   ]
  },
  {
   "cell_type": "code",
   "execution_count": null,
   "id": "2e968106",
   "metadata": {},
   "outputs": [],
   "source": []
  },
  {
   "cell_type": "code",
   "execution_count": null,
   "id": "9ba8d24c",
   "metadata": {},
   "outputs": [],
   "source": [
    "b = 56"
   ]
  },
  {
   "cell_type": "code",
   "execution_count": null,
   "id": "ec1b85c2",
   "metadata": {},
   "outputs": [],
   "source": [
    "b"
   ]
  },
  {
   "cell_type": "code",
   "execution_count": null,
   "id": "569f16d7",
   "metadata": {},
   "outputs": [],
   "source": [
    "type(b)"
   ]
  },
  {
   "cell_type": "code",
   "execution_count": null,
   "id": "4f463fe7",
   "metadata": {},
   "outputs": [],
   "source": []
  },
  {
   "cell_type": "code",
   "execution_count": null,
   "id": "86aea73d",
   "metadata": {},
   "outputs": [],
   "source": [
    "take one no and check it even or odd."
   ]
  },
  {
   "cell_type": "code",
   "execution_count": 15,
   "id": "000bf83f",
   "metadata": {},
   "outputs": [
    {
     "name": "stdout",
     "output_type": "stream",
     "text": [
      "enter the number that you want to check:67\n",
      "given number is odd\n"
     ]
    }
   ],
   "source": [
    "a = int(input('enter the number that you want to check:'))\n",
    "if (a%2 == 0):\n",
    "    print('given number is even')\n",
    "else:\n",
    "    print('given number is odd')"
   ]
  },
  {
   "cell_type": "code",
   "execution_count": null,
   "id": "b91c7d9f",
   "metadata": {},
   "outputs": [],
   "source": []
  },
  {
   "cell_type": "code",
   "execution_count": 9,
   "id": "2399d0c4",
   "metadata": {},
   "outputs": [
    {
     "name": "stdin",
     "output_type": "stream",
     "text": [
      "enter number and check whether it is float no or not: 666.5\n"
     ]
    },
    {
     "name": "stdout",
     "output_type": "stream",
     "text": [
      "given number is float\n"
     ]
    }
   ],
   "source": [
    "b =float(input('enter number and check whether it is float no or not:'))\n",
    "if type(b) == float:\n",
    "    print('given number is float')\n",
    "else:\n",
    "    print('sorry it is other than float')"
   ]
  },
  {
   "cell_type": "code",
   "execution_count": null,
   "id": "421da164",
   "metadata": {},
   "outputs": [],
   "source": []
  },
  {
   "cell_type": "code",
   "execution_count": null,
   "id": "c75fbf20",
   "metadata": {},
   "outputs": [],
   "source": []
  },
  {
   "cell_type": "code",
   "execution_count": 8,
   "id": "bbbce79a",
   "metadata": {},
   "outputs": [
    {
     "name": "stdout",
     "output_type": "stream",
     "text": [
      "enter the number:51\n",
      "odd number\n"
     ]
    }
   ],
   "source": [
    "c =int(input('enter the number:'))\n",
    "if c%2==0:\n",
    "    print('enev number')\n",
    "else:\n",
    "    print('odd number')\n",
    "    "
   ]
  },
  {
   "cell_type": "code",
   "execution_count": null,
   "id": "b762bbdb",
   "metadata": {},
   "outputs": [],
   "source": []
  },
  {
   "cell_type": "code",
   "execution_count": 13,
   "id": "df416957",
   "metadata": {},
   "outputs": [],
   "source": [
    "a = 30"
   ]
  },
  {
   "cell_type": "code",
   "execution_count": 14,
   "id": "ce5172f0",
   "metadata": {},
   "outputs": [
    {
     "data": {
      "text/plain": [
       "30"
      ]
     },
     "execution_count": 14,
     "metadata": {},
     "output_type": "execute_result"
    }
   ],
   "source": [
    "a"
   ]
  },
  {
   "cell_type": "code",
   "execution_count": 24,
   "id": "e332d4be",
   "metadata": {},
   "outputs": [
    {
     "name": "stdout",
     "output_type": "stream",
     "text": [
      "enter the value if a:89\n",
      "enter the value of b:96\n",
      "-7\n"
     ]
    }
   ],
   "source": [
    "a = int(input('enter the value if a:'))\n",
    "b = int(input('enter the value of b:'))\n",
    "if a==b:\n",
    "    c=a+b\n",
    "    print(c)\n",
    "else:\n",
    "    c=a-b\n",
    "    print(c)"
   ]
  },
  {
   "cell_type": "code",
   "execution_count": null,
   "id": "d04a7dc6",
   "metadata": {},
   "outputs": [],
   "source": []
  },
  {
   "cell_type": "code",
   "execution_count": 30,
   "id": "7bbb9ff4",
   "metadata": {},
   "outputs": [
    {
     "ename": "SyntaxError",
     "evalue": "invalid syntax (Temp/ipykernel_12884/2357559186.py, line 3)",
     "output_type": "error",
     "traceback": [
      "\u001b[1;36m  File \u001b[1;32m\"C:\\Users\\Dell\\AppData\\Local\\Temp/ipykernel_12884/2357559186.py\"\u001b[1;36m, line \u001b[1;32m3\u001b[0m\n\u001b[1;33m    b = a.[0]+[1]+[2]/2\u001b[0m\n\u001b[1;37m          ^\u001b[0m\n\u001b[1;31mSyntaxError\u001b[0m\u001b[1;31m:\u001b[0m invalid syntax\n"
     ]
    }
   ],
   "source": [
    "a = [34,56,45,34,45,45,6]\n",
    "for i in a:\n",
    "    b \n",
    "    print(avg)\n",
    "    "
   ]
  },
  {
   "cell_type": "code",
   "execution_count": 1,
   "id": "180a06a6",
   "metadata": {},
   "outputs": [],
   "source": [
    "a = 4"
   ]
  },
  {
   "cell_type": "code",
   "execution_count": 2,
   "id": "a0871a77",
   "metadata": {},
   "outputs": [
    {
     "data": {
      "text/plain": [
       "4"
      ]
     },
     "execution_count": 2,
     "metadata": {},
     "output_type": "execute_result"
    }
   ],
   "source": [
    "a"
   ]
  },
  {
   "cell_type": "code",
   "execution_count": 3,
   "id": "a010b4fc",
   "metadata": {},
   "outputs": [
    {
     "data": {
      "text/plain": [
       "int"
      ]
     },
     "execution_count": 3,
     "metadata": {},
     "output_type": "execute_result"
    }
   ],
   "source": [
    "type(a)"
   ]
  },
  {
   "cell_type": "code",
   "execution_count": null,
   "id": "a23bdc22",
   "metadata": {},
   "outputs": [],
   "source": [
    "a = int(input())"
   ]
  },
  {
   "cell_type": "code",
   "execution_count": null,
   "id": "2e5f52b6",
   "metadata": {},
   "outputs": [],
   "source": []
  },
  {
   "cell_type": "code",
   "execution_count": 10,
   "id": "eeca1370",
   "metadata": {},
   "outputs": [
    {
     "name": "stdout",
     "output_type": "stream",
     "text": [
      "hello\n"
     ]
    }
   ],
   "source": [
    "a = print('hello')"
   ]
  },
  {
   "cell_type": "code",
   "execution_count": 12,
   "id": "12d74832",
   "metadata": {},
   "outputs": [
    {
     "name": "stdout",
     "output_type": "stream",
     "text": [
      "enter your age:56\n",
      "you have to take booster dose\n"
     ]
    }
   ],
   "source": [
    "a = int(input('enter your age:'))\n",
    "if a<=18:\n",
    "    print('you have to take atleast two doses')\n",
    "else:\n",
    "    print('you have to take booster dose')"
   ]
  },
  {
   "cell_type": "code",
   "execution_count": null,
   "id": "6689f03a",
   "metadata": {},
   "outputs": [],
   "source": []
  },
  {
   "cell_type": "code",
   "execution_count": 14,
   "id": "01f48ca9",
   "metadata": {},
   "outputs": [
    {
     "name": "stdout",
     "output_type": "stream",
     "text": [
      "enter the file name that you want to check:shubham.pdf\n",
      "shubham.pdf is pfd\n"
     ]
    }
   ],
   "source": [
    "filename = input('enter the file name that you want to check:')\n",
    "if filename.endswith('.pdf'):\n",
    "    print(f\"{filename} is pfd\")\n",
    "else:\n",
    "    print(f\"{filename} is other than pdf\")"
   ]
  },
  {
   "cell_type": "code",
   "execution_count": null,
   "id": "24c90fa7",
   "metadata": {},
   "outputs": [],
   "source": []
  },
  {
   "cell_type": "code",
   "execution_count": null,
   "id": "f6f99d23",
   "metadata": {},
   "outputs": [],
   "source": []
  },
  {
   "cell_type": "code",
   "execution_count": null,
   "id": "b55f2675",
   "metadata": {},
   "outputs": [],
   "source": []
  },
  {
   "cell_type": "code",
   "execution_count": 2,
   "id": "7cc0ff4b",
   "metadata": {},
   "outputs": [
    {
     "name": "stdout",
     "output_type": "stream",
     "text": [
      "enter the file name:gfghgg.pdf\n",
      "gfghgg.pdf is pdf\n"
     ]
    }
   ],
   "source": [
    "pdf_file = input('enter the file name:')\n",
    "if pdf_file.endswith('.pdf'):\n",
    "    print(f\"{pdf_file} is pdf\")\n",
    "else:\n",
    "    print(f\"{pdf_file}is not pdf\")"
   ]
  },
  {
   "cell_type": "code",
   "execution_count": null,
   "id": "8dfe6fa5",
   "metadata": {},
   "outputs": [],
   "source": []
  },
  {
   "cell_type": "code",
   "execution_count": 7,
   "id": "d56dcd1a",
   "metadata": {},
   "outputs": [
    {
     "name": "stdout",
     "output_type": "stream",
     "text": [
      "enter the given number:15\n",
      "hello your choice is for under 15 or equal to 15\n",
      "thnks for using our service\n"
     ]
    }
   ],
   "source": [
    "a = int(input('enter the given number:'))\n",
    "if a<=15:\n",
    "    print('hello your choice is for under 15 or equal to 15')\n",
    "print('thnks for using our service')"
   ]
  },
  {
   "cell_type": "code",
   "execution_count": null,
   "id": "ec89c37d",
   "metadata": {},
   "outputs": [],
   "source": []
  },
  {
   "cell_type": "code",
   "execution_count": 9,
   "id": "7a25b331",
   "metadata": {},
   "outputs": [
    {
     "name": "stdout",
     "output_type": "stream",
     "text": [
      "enter your age:33\n",
      "thanks for using our servise\n",
      "stay home,stay safe\n"
     ]
    }
   ],
   "source": [
    "age = int(input('enter your age:'))\n",
    "if age>=35:\n",
    "    print('please take booster dose')\n",
    "print('thanks for using our servise')\n",
    "print('stay home,stay safe')"
   ]
  },
  {
   "cell_type": "code",
   "execution_count": null,
   "id": "e7a27f2f",
   "metadata": {},
   "outputs": [],
   "source": []
  },
  {
   "cell_type": "code",
   "execution_count": null,
   "id": "07a6409b",
   "metadata": {},
   "outputs": [],
   "source": [
    "age1 = int(input('enter your age:'))\n",
    "if age1>=35:\n",
    "    print('take booster dose')\n",
    "else:\n",
    "    print('take two doses compulsory')\n",
    "print('STAY HOME, STAY SAFE').lower()"
   ]
  },
  {
   "cell_type": "code",
   "execution_count": null,
   "id": "738feff6",
   "metadata": {},
   "outputs": [],
   "source": []
  },
  {
   "cell_type": "code",
   "execution_count": null,
   "id": "c32efead",
   "metadata": {},
   "outputs": [],
   "source": []
  },
  {
   "cell_type": "code",
   "execution_count": null,
   "id": "3fd3bf60",
   "metadata": {},
   "outputs": [],
   "source": [
    "#if "
   ]
  },
  {
   "cell_type": "code",
   "execution_count": 6,
   "id": "ef9c7ae2",
   "metadata": {},
   "outputs": [
    {
     "name": "stdout",
     "output_type": "stream",
     "text": [
      "enter the age:8\n",
      "thnq for using our service\n",
      "stay home,stay safe\n"
     ]
    }
   ],
   "source": [
    "a = int(input('enter the age:'))\n",
    "if a>=18:\n",
    "    print('plz take booster dose')\n",
    "print('thnq for using our service')\n",
    "print('stay home,stay safe')"
   ]
  },
  {
   "cell_type": "code",
   "execution_count": null,
   "id": "fda4df62",
   "metadata": {},
   "outputs": [],
   "source": []
  },
  {
   "cell_type": "code",
   "execution_count": null,
   "id": "d414146e",
   "metadata": {},
   "outputs": [],
   "source": [
    "#if else"
   ]
  },
  {
   "cell_type": "code",
   "execution_count": null,
   "id": "e4793181",
   "metadata": {},
   "outputs": [],
   "source": [
    "b = int(input('enter your age:'))\n",
    "if a<=25:\n",
    "    print('plzzz take atleast two dose')\n",
    "else:\n",
    "    print('ffdf')"
   ]
  },
  {
   "cell_type": "code",
   "execution_count": null,
   "id": "368e9a2b",
   "metadata": {},
   "outputs": [],
   "source": []
  },
  {
   "cell_type": "code",
   "execution_count": null,
   "id": "73a26260",
   "metadata": {},
   "outputs": [],
   "source": []
  },
  {
   "cell_type": "code",
   "execution_count": null,
   "id": "a9ed672b",
   "metadata": {},
   "outputs": [],
   "source": []
  },
  {
   "cell_type": "code",
   "execution_count": null,
   "id": "4d0031dc",
   "metadata": {},
   "outputs": [],
   "source": []
  },
  {
   "cell_type": "code",
   "execution_count": null,
   "id": "99381b0d",
   "metadata": {},
   "outputs": [],
   "source": []
  },
  {
   "cell_type": "code",
   "execution_count": null,
   "id": "182b2f9f",
   "metadata": {},
   "outputs": [],
   "source": []
  },
  {
   "cell_type": "code",
   "execution_count": null,
   "id": "ede3c51e",
   "metadata": {},
   "outputs": [],
   "source": []
  },
  {
   "cell_type": "code",
   "execution_count": null,
   "id": "1c7cb9e1",
   "metadata": {},
   "outputs": [],
   "source": []
  },
  {
   "cell_type": "code",
   "execution_count": null,
   "id": "80ec1394",
   "metadata": {},
   "outputs": [],
   "source": []
  },
  {
   "cell_type": "code",
   "execution_count": null,
   "id": "dcac1465",
   "metadata": {},
   "outputs": [],
   "source": []
  },
  {
   "cell_type": "code",
   "execution_count": null,
   "id": "10941768",
   "metadata": {},
   "outputs": [],
   "source": []
  },
  {
   "cell_type": "code",
   "execution_count": null,
   "id": "2d2f9489",
   "metadata": {},
   "outputs": [],
   "source": []
  },
  {
   "cell_type": "code",
   "execution_count": null,
   "id": "a105f939",
   "metadata": {},
   "outputs": [],
   "source": []
  },
  {
   "cell_type": "code",
   "execution_count": null,
   "id": "ee12ca31",
   "metadata": {},
   "outputs": [],
   "source": []
  },
  {
   "cell_type": "code",
   "execution_count": null,
   "id": "3e128513",
   "metadata": {},
   "outputs": [],
   "source": []
  },
  {
   "cell_type": "code",
   "execution_count": null,
   "id": "b69dacdb",
   "metadata": {},
   "outputs": [],
   "source": []
  },
  {
   "cell_type": "code",
   "execution_count": null,
   "id": "149afde9",
   "metadata": {},
   "outputs": [],
   "source": []
  },
  {
   "cell_type": "code",
   "execution_count": null,
   "id": "f2d9398d",
   "metadata": {},
   "outputs": [],
   "source": []
  },
  {
   "cell_type": "code",
   "execution_count": null,
   "id": "83406d4d",
   "metadata": {},
   "outputs": [],
   "source": []
  },
  {
   "cell_type": "code",
   "execution_count": null,
   "id": "335796f8",
   "metadata": {},
   "outputs": [],
   "source": []
  },
  {
   "cell_type": "code",
   "execution_count": null,
   "id": "a69023b3",
   "metadata": {},
   "outputs": [],
   "source": []
  },
  {
   "cell_type": "code",
   "execution_count": null,
   "id": "c2e86e31",
   "metadata": {},
   "outputs": [],
   "source": []
  },
  {
   "cell_type": "code",
   "execution_count": null,
   "id": "73f1b773",
   "metadata": {},
   "outputs": [],
   "source": []
  },
  {
   "cell_type": "code",
   "execution_count": null,
   "id": "0bdcc345",
   "metadata": {},
   "outputs": [],
   "source": []
  },
  {
   "cell_type": "code",
   "execution_count": null,
   "id": "01937990",
   "metadata": {},
   "outputs": [],
   "source": []
  },
  {
   "cell_type": "code",
   "execution_count": null,
   "id": "5cd503fb",
   "metadata": {},
   "outputs": [],
   "source": []
  },
  {
   "cell_type": "code",
   "execution_count": null,
   "id": "e7068889",
   "metadata": {},
   "outputs": [],
   "source": []
  }
 ],
 "metadata": {
  "kernelspec": {
   "display_name": "Python 3 (ipykernel)",
   "language": "python",
   "name": "python3"
  },
  "language_info": {
   "codemirror_mode": {
    "name": "ipython",
    "version": 3
   },
   "file_extension": ".py",
   "mimetype": "text/x-python",
   "name": "python",
   "nbconvert_exporter": "python",
   "pygments_lexer": "ipython3",
   "version": "3.9.19"
  }
 },
 "nbformat": 4,
 "nbformat_minor": 5
}
