{
 "cells": [
  {
   "cell_type": "code",
   "execution_count": null,
   "id": "6ed5aed4",
   "metadata": {},
   "outputs": [],
   "source": [
    "Data types:\n",
    "    int\n",
    "    float\n",
    "    str\n",
    "    bool\n",
    "    None\n",
    "    complex\n",
    "DS :\n",
    "    list\n",
    "    tuple\n",
    "    set\n",
    "    dict\n",
    "    frozenset\n",
    "    string\n",
    "    "
   ]
  },
  {
   "cell_type": "code",
   "execution_count": null,
   "id": "07505a7e",
   "metadata": {},
   "outputs": [],
   "source": [
    "int -->\n",
    "complete number without fraction or decimal point"
   ]
  },
  {
   "cell_type": "code",
   "execution_count": 1,
   "id": "26446d0c",
   "metadata": {},
   "outputs": [],
   "source": [
    "a = 500"
   ]
  },
  {
   "cell_type": "code",
   "execution_count": 2,
   "id": "b35985d8",
   "metadata": {},
   "outputs": [
    {
     "data": {
      "text/plain": [
       "int"
      ]
     },
     "execution_count": 2,
     "metadata": {},
     "output_type": "execute_result"
    }
   ],
   "source": [
    "type(a)"
   ]
  },
  {
   "cell_type": "code",
   "execution_count": 3,
   "id": "8dd13873",
   "metadata": {},
   "outputs": [],
   "source": [
    "#float"
   ]
  },
  {
   "cell_type": "code",
   "execution_count": 4,
   "id": "c133808b",
   "metadata": {},
   "outputs": [],
   "source": [
    "a = 45.56"
   ]
  },
  {
   "cell_type": "code",
   "execution_count": 5,
   "id": "d65f8a73",
   "metadata": {},
   "outputs": [
    {
     "data": {
      "text/plain": [
       "float"
      ]
     },
     "execution_count": 5,
     "metadata": {},
     "output_type": "execute_result"
    }
   ],
   "source": [
    "type(a)"
   ]
  },
  {
   "cell_type": "code",
   "execution_count": 6,
   "id": "82352b72",
   "metadata": {},
   "outputs": [],
   "source": [
    "a = 'python'"
   ]
  },
  {
   "cell_type": "code",
   "execution_count": 7,
   "id": "0971826c",
   "metadata": {},
   "outputs": [
    {
     "data": {
      "text/plain": [
       "str"
      ]
     },
     "execution_count": 7,
     "metadata": {},
     "output_type": "execute_result"
    }
   ],
   "source": [
    "type(a)"
   ]
  },
  {
   "cell_type": "code",
   "execution_count": 8,
   "id": "f6a58fce",
   "metadata": {},
   "outputs": [],
   "source": [
    "py_str = 'Java'"
   ]
  },
  {
   "cell_type": "code",
   "execution_count": 9,
   "id": "5dc96540",
   "metadata": {},
   "outputs": [
    {
     "data": {
      "text/plain": [
       "str"
      ]
     },
     "execution_count": 9,
     "metadata": {},
     "output_type": "execute_result"
    }
   ],
   "source": [
    "type(py_str)"
   ]
  },
  {
   "cell_type": "code",
   "execution_count": 10,
   "id": "d5672774",
   "metadata": {},
   "outputs": [
    {
     "data": {
      "text/plain": [
       "bool"
      ]
     },
     "execution_count": 10,
     "metadata": {},
     "output_type": "execute_result"
    }
   ],
   "source": [
    "bool \n",
    "\n"
   ]
  },
  {
   "cell_type": "code",
   "execution_count": null,
   "id": "9bf9f0bc",
   "metadata": {},
   "outputs": [],
   "source": [
    "True ->1\n",
    "False ->0"
   ]
  },
  {
   "cell_type": "code",
   "execution_count": null,
   "id": "3b19849e",
   "metadata": {},
   "outputs": [],
   "source": []
  },
  {
   "cell_type": "code",
   "execution_count": 11,
   "id": "88cbc290",
   "metadata": {},
   "outputs": [
    {
     "data": {
      "text/plain": [
       "2"
      ]
     },
     "execution_count": 11,
     "metadata": {},
     "output_type": "execute_result"
    }
   ],
   "source": [
    "True+True"
   ]
  },
  {
   "cell_type": "code",
   "execution_count": null,
   "id": "16b54554",
   "metadata": {},
   "outputs": [],
   "source": [
    "True ---> bool"
   ]
  },
  {
   "cell_type": "code",
   "execution_count": 12,
   "id": "4c4119b3",
   "metadata": {},
   "outputs": [],
   "source": [
    "a = 10"
   ]
  },
  {
   "cell_type": "code",
   "execution_count": 13,
   "id": "b920a918",
   "metadata": {},
   "outputs": [],
   "source": [
    "b = 50"
   ]
  },
  {
   "cell_type": "code",
   "execution_count": 14,
   "id": "53b4bdf3",
   "metadata": {},
   "outputs": [
    {
     "data": {
      "text/plain": [
       "False"
      ]
     },
     "execution_count": 14,
     "metadata": {},
     "output_type": "execute_result"
    }
   ],
   "source": [
    "a>b"
   ]
  },
  {
   "cell_type": "code",
   "execution_count": 15,
   "id": "e1efd0c1",
   "metadata": {},
   "outputs": [],
   "source": [
    "a = True"
   ]
  },
  {
   "cell_type": "code",
   "execution_count": 16,
   "id": "bb2a69ca",
   "metadata": {},
   "outputs": [
    {
     "data": {
      "text/plain": [
       "bool"
      ]
     },
     "execution_count": 16,
     "metadata": {},
     "output_type": "execute_result"
    }
   ],
   "source": [
    "type(a)"
   ]
  },
  {
   "cell_type": "code",
   "execution_count": null,
   "id": "2dc36771",
   "metadata": {},
   "outputs": [],
   "source": [
    "General Methods \n",
    "\n",
    "type ----> to check variable data type"
   ]
  },
  {
   "cell_type": "code",
   "execution_count": 17,
   "id": "d058470c",
   "metadata": {},
   "outputs": [],
   "source": [
    "py = 458"
   ]
  },
  {
   "cell_type": "code",
   "execution_count": 18,
   "id": "99407719",
   "metadata": {},
   "outputs": [
    {
     "data": {
      "text/plain": [
       "int"
      ]
     },
     "execution_count": 18,
     "metadata": {},
     "output_type": "execute_result"
    }
   ],
   "source": [
    "type(py)"
   ]
  },
  {
   "cell_type": "code",
   "execution_count": 19,
   "id": "c4adfa98",
   "metadata": {},
   "outputs": [],
   "source": [
    "t=  True"
   ]
  },
  {
   "cell_type": "code",
   "execution_count": 20,
   "id": "73341a4b",
   "metadata": {},
   "outputs": [
    {
     "data": {
      "text/plain": [
       "bool"
      ]
     },
     "execution_count": 20,
     "metadata": {},
     "output_type": "execute_result"
    }
   ],
   "source": [
    "type(t)"
   ]
  },
  {
   "cell_type": "code",
   "execution_count": 21,
   "id": "09300144",
   "metadata": {},
   "outputs": [],
   "source": [
    "a = None"
   ]
  },
  {
   "cell_type": "code",
   "execution_count": 22,
   "id": "3e2fd7c5",
   "metadata": {},
   "outputs": [],
   "source": [
    "a"
   ]
  },
  {
   "cell_type": "code",
   "execution_count": 23,
   "id": "4c39f280",
   "metadata": {},
   "outputs": [
    {
     "data": {
      "text/plain": [
       "complex"
      ]
     },
     "execution_count": 23,
     "metadata": {},
     "output_type": "execute_result"
    }
   ],
   "source": [
    "complex"
   ]
  },
  {
   "cell_type": "code",
   "execution_count": 24,
   "id": "43d91a9e",
   "metadata": {},
   "outputs": [],
   "source": [
    "temp = None"
   ]
  },
  {
   "cell_type": "code",
   "execution_count": 25,
   "id": "c953712e",
   "metadata": {},
   "outputs": [],
   "source": [
    "temp"
   ]
  },
  {
   "cell_type": "code",
   "execution_count": 26,
   "id": "32e51a60",
   "metadata": {},
   "outputs": [
    {
     "name": "stdout",
     "output_type": "stream",
     "text": [
      "None\n"
     ]
    }
   ],
   "source": [
    "print(temp)"
   ]
  },
  {
   "cell_type": "code",
   "execution_count": 27,
   "id": "623a285f",
   "metadata": {},
   "outputs": [
    {
     "data": {
      "text/plain": [
       "NoneType"
      ]
     },
     "execution_count": 27,
     "metadata": {},
     "output_type": "execute_result"
    }
   ],
   "source": [
    "type(temp)"
   ]
  },
  {
   "cell_type": "code",
   "execution_count": null,
   "id": "de3c3eee",
   "metadata": {},
   "outputs": [],
   "source": []
  },
  {
   "cell_type": "code",
   "execution_count": 28,
   "id": "f5810a32",
   "metadata": {},
   "outputs": [],
   "source": [
    "#complex"
   ]
  },
  {
   "cell_type": "code",
   "execution_count": 29,
   "id": "5f991d8a",
   "metadata": {},
   "outputs": [
    {
     "data": {
      "text/plain": [
       "(5+6j)"
      ]
     },
     "execution_count": 29,
     "metadata": {},
     "output_type": "execute_result"
    }
   ],
   "source": [
    "5+6j"
   ]
  },
  {
   "cell_type": "code",
   "execution_count": 32,
   "id": "94f03b5e",
   "metadata": {},
   "outputs": [
    {
     "ename": "SyntaxError",
     "evalue": "invalid syntax (<ipython-input-32-828dc7ee93b8>, line 1)",
     "output_type": "error",
     "traceback": [
      "\u001b[1;36m  File \u001b[1;32m\"<ipython-input-32-828dc7ee93b8>\"\u001b[1;36m, line \u001b[1;32m1\u001b[0m\n\u001b[1;33m    p = 5+6i\u001b[0m\n\u001b[1;37m           ^\u001b[0m\n\u001b[1;31mSyntaxError\u001b[0m\u001b[1;31m:\u001b[0m invalid syntax\n"
     ]
    }
   ],
   "source": [
    "p = 5+6i"
   ]
  },
  {
   "cell_type": "code",
   "execution_count": 31,
   "id": "b663fc50",
   "metadata": {},
   "outputs": [
    {
     "data": {
      "text/plain": [
       "complex"
      ]
     },
     "execution_count": 31,
     "metadata": {},
     "output_type": "execute_result"
    }
   ],
   "source": [
    "type(p)"
   ]
  },
  {
   "cell_type": "code",
   "execution_count": 33,
   "id": "610e2b6f",
   "metadata": {},
   "outputs": [],
   "source": [
    "py = 15+56j"
   ]
  },
  {
   "cell_type": "code",
   "execution_count": 34,
   "id": "5b715c8a",
   "metadata": {},
   "outputs": [
    {
     "data": {
      "text/plain": [
       "complex"
      ]
     },
     "execution_count": 34,
     "metadata": {},
     "output_type": "execute_result"
    }
   ],
   "source": [
    "type(p)"
   ]
  },
  {
   "cell_type": "code",
   "execution_count": 35,
   "id": "b54ed518",
   "metadata": {},
   "outputs": [],
   "source": [
    "py_list = None"
   ]
  },
  {
   "cell_type": "code",
   "execution_count": 36,
   "id": "de360002",
   "metadata": {},
   "outputs": [],
   "source": [
    "py_list"
   ]
  },
  {
   "cell_type": "code",
   "execution_count": 38,
   "id": "744053a8",
   "metadata": {},
   "outputs": [],
   "source": [
    "a = '123aj'"
   ]
  },
  {
   "cell_type": "code",
   "execution_count": null,
   "id": "573d036f",
   "metadata": {},
   "outputs": [],
   "source": [
    "int\n",
    "float\n",
    "str\n",
    "bool\n"
   ]
  },
  {
   "cell_type": "code",
   "execution_count": 39,
   "id": "bf0792e0",
   "metadata": {},
   "outputs": [
    {
     "data": {
      "text/plain": [
       "str"
      ]
     },
     "execution_count": 39,
     "metadata": {},
     "output_type": "execute_result"
    }
   ],
   "source": [
    "type(a)"
   ]
  },
  {
   "cell_type": "code",
   "execution_count": 40,
   "id": "25995b15",
   "metadata": {},
   "outputs": [],
   "source": [
    "p = '4324324asdfsadfsdfsdaf'"
   ]
  },
  {
   "cell_type": "code",
   "execution_count": 42,
   "id": "10804a53",
   "metadata": {},
   "outputs": [],
   "source": [
    "p = '123aj'"
   ]
  },
  {
   "cell_type": "code",
   "execution_count": null,
   "id": "471f03f8",
   "metadata": {},
   "outputs": [],
   "source": [
    "' '\n",
    "''' '''\n",
    "\" \"\n",
    "\"\"\" \"\"\""
   ]
  },
  {
   "cell_type": "code",
   "execution_count": 44,
   "id": "dac09bed",
   "metadata": {},
   "outputs": [],
   "source": [
    "xyz = 656"
   ]
  },
  {
   "cell_type": "code",
   "execution_count": 45,
   "id": "a20ef7c1",
   "metadata": {},
   "outputs": [
    {
     "data": {
      "text/plain": [
       "656"
      ]
     },
     "execution_count": 45,
     "metadata": {},
     "output_type": "execute_result"
    }
   ],
   "source": [
    "xyz"
   ]
  },
  {
   "cell_type": "code",
   "execution_count": null,
   "id": "acc16eb0",
   "metadata": {},
   "outputs": [],
   "source": []
  },
  {
   "cell_type": "code",
   "execution_count": 46,
   "id": "257ca380",
   "metadata": {},
   "outputs": [],
   "source": [
    "a = 10"
   ]
  },
  {
   "cell_type": "code",
   "execution_count": 47,
   "id": "b785ce09",
   "metadata": {},
   "outputs": [],
   "source": [
    "b = 10"
   ]
  },
  {
   "cell_type": "code",
   "execution_count": 48,
   "id": "32c3a816",
   "metadata": {},
   "outputs": [],
   "source": [
    "c = 10"
   ]
  },
  {
   "cell_type": "code",
   "execution_count": 49,
   "id": "31211f75",
   "metadata": {},
   "outputs": [
    {
     "data": {
      "text/plain": [
       "140720343558224"
      ]
     },
     "execution_count": 49,
     "metadata": {},
     "output_type": "execute_result"
    }
   ],
   "source": [
    "id(a)"
   ]
  },
  {
   "cell_type": "code",
   "execution_count": 50,
   "id": "30d91c12",
   "metadata": {},
   "outputs": [
    {
     "data": {
      "text/plain": [
       "140720343558224"
      ]
     },
     "execution_count": 50,
     "metadata": {},
     "output_type": "execute_result"
    }
   ],
   "source": [
    "id(b)"
   ]
  },
  {
   "cell_type": "code",
   "execution_count": 51,
   "id": "7f2bce20",
   "metadata": {},
   "outputs": [
    {
     "data": {
      "text/plain": [
       "140720343558224"
      ]
     },
     "execution_count": 51,
     "metadata": {},
     "output_type": "execute_result"
    }
   ],
   "source": [
    "id(c)"
   ]
  },
  {
   "cell_type": "code",
   "execution_count": null,
   "id": "b429ec08",
   "metadata": {},
   "outputs": [],
   "source": [
    "type\n",
    "id --- memory location variable"
   ]
  },
  {
   "cell_type": "code",
   "execution_count": 52,
   "id": "84b633af",
   "metadata": {},
   "outputs": [],
   "source": [
    "p = 10+11j"
   ]
  },
  {
   "cell_type": "code",
   "execution_count": 53,
   "id": "0926117c",
   "metadata": {},
   "outputs": [
    {
     "data": {
      "text/plain": [
       "(10+11j)"
      ]
     },
     "execution_count": 53,
     "metadata": {},
     "output_type": "execute_result"
    }
   ],
   "source": [
    "p"
   ]
  },
  {
   "cell_type": "code",
   "execution_count": 54,
   "id": "caeedaf9",
   "metadata": {},
   "outputs": [
    {
     "data": {
      "text/plain": [
       "complex"
      ]
     },
     "execution_count": 54,
     "metadata": {},
     "output_type": "execute_result"
    }
   ],
   "source": [
    "type(p)"
   ]
  },
  {
   "cell_type": "code",
   "execution_count": null,
   "id": "4e862815",
   "metadata": {},
   "outputs": [],
   "source": [
    "complier(checking) -- interpreter(execution unit)"
   ]
  },
  {
   "cell_type": "code",
   "execution_count": null,
   "id": "7e9a9494",
   "metadata": {},
   "outputs": [],
   "source": [
    "string  ---"
   ]
  },
  {
   "cell_type": "code",
   "execution_count": null,
   "id": "4775f991",
   "metadata": {},
   "outputs": [],
   "source": []
  },
  {
   "cell_type": "code",
   "execution_count": 1,
   "id": "a251a488",
   "metadata": {},
   "outputs": [],
   "source": [
    "#Data Structure"
   ]
  },
  {
   "cell_type": "code",
   "execution_count": null,
   "id": "5e2702b4",
   "metadata": {},
   "outputs": [],
   "source": [
    "List\n",
    "Tuple\n",
    "Set\n",
    "Dict\n",
    "Frozenset\n",
    "String"
   ]
  },
  {
   "cell_type": "code",
   "execution_count": 2,
   "id": "e2e9f9b9",
   "metadata": {},
   "outputs": [],
   "source": [
    "#list"
   ]
  },
  {
   "cell_type": "code",
   "execution_count": null,
   "id": "b3cd0f16",
   "metadata": {},
   "outputs": [],
   "source": [
    "list is mutable type DS\n",
    "it is collection of elememnt\n",
    "similar or different types of element \n",
    "similar ---> homogeneous\n",
    "different --> hetrogeneous\n",
    "denote --> []\n",
    "it is orderd type\n",
    "it is zero index based\n",
    "list can have duplcates element"
   ]
  },
  {
   "cell_type": "code",
   "execution_count": 3,
   "id": "3a9479ad",
   "metadata": {},
   "outputs": [],
   "source": [
    "py_list = [1,4,6,9,0,556]"
   ]
  },
  {
   "cell_type": "code",
   "execution_count": 4,
   "id": "75d893ce",
   "metadata": {},
   "outputs": [
    {
     "data": {
      "text/plain": [
       "[1, 4, 6, 9, 0, 556]"
      ]
     },
     "execution_count": 4,
     "metadata": {},
     "output_type": "execute_result"
    }
   ],
   "source": [
    "py_list"
   ]
  },
  {
   "cell_type": "code",
   "execution_count": 5,
   "id": "1782e879",
   "metadata": {},
   "outputs": [
    {
     "data": {
      "text/plain": [
       "list"
      ]
     },
     "execution_count": 5,
     "metadata": {},
     "output_type": "execute_result"
    }
   ],
   "source": [
    "type(py_list)"
   ]
  },
  {
   "cell_type": "code",
   "execution_count": 6,
   "id": "b1252012",
   "metadata": {},
   "outputs": [],
   "source": [
    "py_list1 = ['python',123,75.54,'java',True,4+5j]"
   ]
  },
  {
   "cell_type": "code",
   "execution_count": 7,
   "id": "40619c0e",
   "metadata": {},
   "outputs": [
    {
     "data": {
      "text/plain": [
       "['python', 123, 75.54, 'java', True, (4+5j)]"
      ]
     },
     "execution_count": 7,
     "metadata": {},
     "output_type": "execute_result"
    }
   ],
   "source": [
    "py_list1"
   ]
  },
  {
   "cell_type": "code",
   "execution_count": 8,
   "id": "4393bdea",
   "metadata": {},
   "outputs": [],
   "source": [
    "p = [45,57,354,34,755,]"
   ]
  },
  {
   "cell_type": "code",
   "execution_count": 9,
   "id": "a085ba73",
   "metadata": {},
   "outputs": [
    {
     "data": {
      "text/plain": [
       "list"
      ]
     },
     "execution_count": 9,
     "metadata": {},
     "output_type": "execute_result"
    }
   ],
   "source": [
    "type(p)"
   ]
  },
  {
   "cell_type": "code",
   "execution_count": 10,
   "id": "3647f5ea",
   "metadata": {},
   "outputs": [],
   "source": [
    "p = ['python',4535,'java',646,567567]"
   ]
  },
  {
   "cell_type": "code",
   "execution_count": 11,
   "id": "76ea2dcb",
   "metadata": {},
   "outputs": [
    {
     "data": {
      "text/plain": [
       "['python', 4535, 'java', 646, 567567]"
      ]
     },
     "execution_count": 11,
     "metadata": {},
     "output_type": "execute_result"
    }
   ],
   "source": [
    "p"
   ]
  },
  {
   "cell_type": "code",
   "execution_count": 14,
   "id": "a5267b2d",
   "metadata": {},
   "outputs": [
    {
     "data": {
      "text/plain": [
       "4535"
      ]
     },
     "execution_count": 14,
     "metadata": {},
     "output_type": "execute_result"
    }
   ],
   "source": [
    "p[1]"
   ]
  },
  {
   "cell_type": "code",
   "execution_count": 15,
   "id": "25d98d07",
   "metadata": {},
   "outputs": [
    {
     "data": {
      "text/plain": [
       "4535"
      ]
     },
     "execution_count": 15,
     "metadata": {},
     "output_type": "execute_result"
    }
   ],
   "source": [
    "p[-4]"
   ]
  },
  {
   "cell_type": "code",
   "execution_count": 16,
   "id": "475060a5",
   "metadata": {},
   "outputs": [
    {
     "data": {
      "text/plain": [
       "['python', 4535, 'java', 646, 567567]"
      ]
     },
     "execution_count": 16,
     "metadata": {},
     "output_type": "execute_result"
    }
   ],
   "source": [
    "p"
   ]
  },
  {
   "cell_type": "code",
   "execution_count": null,
   "id": "38e70e8e",
   "metadata": {},
   "outputs": [],
   "source": [
    "insert\n",
    "delete\n",
    "update"
   ]
  },
  {
   "cell_type": "code",
   "execution_count": null,
   "id": "8f93932f",
   "metadata": {},
   "outputs": [],
   "source": [
    "1.insertion\n",
    "  insert\n",
    "  append\n",
    "  extend\n"
   ]
  },
  {
   "cell_type": "code",
   "execution_count": 17,
   "id": "d1770887",
   "metadata": {},
   "outputs": [
    {
     "data": {
      "text/plain": [
       "['python', 4535, 'java', 646, 567567]"
      ]
     },
     "execution_count": 17,
     "metadata": {},
     "output_type": "execute_result"
    }
   ],
   "source": [
    "p"
   ]
  },
  {
   "cell_type": "code",
   "execution_count": 18,
   "id": "c29a9974",
   "metadata": {},
   "outputs": [],
   "source": [
    "p.insert(2,500)"
   ]
  },
  {
   "cell_type": "markdown",
   "id": "ed934daa",
   "metadata": {},
   "source": []
  },
  {
   "cell_type": "code",
   "execution_count": 20,
   "id": "25dddfaf",
   "metadata": {},
   "outputs": [],
   "source": [
    "p.insert(5,'scoden')"
   ]
  },
  {
   "cell_type": "code",
   "execution_count": 21,
   "id": "60af4b08",
   "metadata": {},
   "outputs": [
    {
     "data": {
      "text/plain": [
       "['python', 4535, 500, 'java', 646, 'scoden', 567567]"
      ]
     },
     "execution_count": 21,
     "metadata": {},
     "output_type": "execute_result"
    }
   ],
   "source": [
    "p"
   ]
  },
  {
   "cell_type": "code",
   "execution_count": 22,
   "id": "cb33563a",
   "metadata": {},
   "outputs": [],
   "source": [
    "p.insert(3,'Adv Python')"
   ]
  },
  {
   "cell_type": "code",
   "execution_count": 23,
   "id": "2b451463",
   "metadata": {},
   "outputs": [
    {
     "data": {
      "text/plain": [
       "['python', 4535, 500, 'Adv Python', 'java', 646, 'scoden', 567567]"
      ]
     },
     "execution_count": 23,
     "metadata": {},
     "output_type": "execute_result"
    }
   ],
   "source": [
    "p"
   ]
  },
  {
   "cell_type": "code",
   "execution_count": null,
   "id": "112418cf",
   "metadata": {},
   "outputs": [],
   "source": [
    "#insert ----> to insert element at desired location"
   ]
  },
  {
   "cell_type": "code",
   "execution_count": 24,
   "id": "b5b67617",
   "metadata": {},
   "outputs": [],
   "source": [
    "py = [2,5,7,90,6,54,]"
   ]
  },
  {
   "cell_type": "code",
   "execution_count": 25,
   "id": "5609dc88",
   "metadata": {},
   "outputs": [
    {
     "data": {
      "text/plain": [
       "[2, 5, 7, 90, 6, 54]"
      ]
     },
     "execution_count": 25,
     "metadata": {},
     "output_type": "execute_result"
    }
   ],
   "source": [
    "py"
   ]
  },
  {
   "cell_type": "code",
   "execution_count": 26,
   "id": "ddc9ce2f",
   "metadata": {},
   "outputs": [],
   "source": [
    "py.insert(3,'Java')"
   ]
  },
  {
   "cell_type": "code",
   "execution_count": 27,
   "id": "590972b0",
   "metadata": {},
   "outputs": [
    {
     "data": {
      "text/plain": [
       "[2, 5, 7, 'Java', 90, 6, 54]"
      ]
     },
     "execution_count": 27,
     "metadata": {},
     "output_type": "execute_result"
    }
   ],
   "source": [
    "py"
   ]
  },
  {
   "cell_type": "code",
   "execution_count": 28,
   "id": "76df5b1e",
   "metadata": {},
   "outputs": [],
   "source": [
    "py.insert(4,[56,789,34])"
   ]
  },
  {
   "cell_type": "code",
   "execution_count": 29,
   "id": "827f18b4",
   "metadata": {},
   "outputs": [
    {
     "data": {
      "text/plain": [
       "[2, 5, 7, 'Java', [56, 789, 34], 90, 6, 54]"
      ]
     },
     "execution_count": 29,
     "metadata": {},
     "output_type": "execute_result"
    }
   ],
   "source": [
    "py"
   ]
  },
  {
   "cell_type": "code",
   "execution_count": null,
   "id": "9eff42e9",
   "metadata": {},
   "outputs": [],
   "source": []
  },
  {
   "cell_type": "code",
   "execution_count": 32,
   "id": "5e70c3e9",
   "metadata": {},
   "outputs": [
    {
     "data": {
      "text/plain": [
       "[2, 5, 7, 'Java', [56, 789, 34], 90, 6, 54]"
      ]
     },
     "execution_count": 32,
     "metadata": {},
     "output_type": "execute_result"
    }
   ],
   "source": [
    "py"
   ]
  },
  {
   "cell_type": "code",
   "execution_count": 33,
   "id": "d6299741",
   "metadata": {},
   "outputs": [],
   "source": [
    "py.insert(4,'sdfsdf')"
   ]
  },
  {
   "cell_type": "code",
   "execution_count": 34,
   "id": "9936ad88",
   "metadata": {},
   "outputs": [
    {
     "data": {
      "text/plain": [
       "[2, 5, 7, 'Java', 'sdfsdf', [56, 789, 34], 90, 6, 54]"
      ]
     },
     "execution_count": 34,
     "metadata": {},
     "output_type": "execute_result"
    }
   ],
   "source": [
    "py"
   ]
  },
  {
   "cell_type": "code",
   "execution_count": null,
   "id": "17641fb6",
   "metadata": {},
   "outputs": [],
   "source": []
  },
  {
   "cell_type": "code",
   "execution_count": 30,
   "id": "1900a3b8",
   "metadata": {},
   "outputs": [
    {
     "data": {
      "text/plain": [
       "[56, 789, 34]"
      ]
     },
     "execution_count": 30,
     "metadata": {},
     "output_type": "execute_result"
    }
   ],
   "source": [
    "py[4]"
   ]
  },
  {
   "cell_type": "code",
   "execution_count": 31,
   "id": "475b748a",
   "metadata": {},
   "outputs": [
    {
     "data": {
      "text/plain": [
       "54"
      ]
     },
     "execution_count": 31,
     "metadata": {},
     "output_type": "execute_result"
    }
   ],
   "source": [
    "py[-1]"
   ]
  },
  {
   "cell_type": "code",
   "execution_count": 35,
   "id": "8fef0c41",
   "metadata": {},
   "outputs": [
    {
     "data": {
      "text/plain": [
       "[2, 5, 7, 'Java', 'sdfsdf', [56, 789, 34], 90, 6, 54]"
      ]
     },
     "execution_count": 35,
     "metadata": {},
     "output_type": "execute_result"
    }
   ],
   "source": [
    "py"
   ]
  },
  {
   "cell_type": "code",
   "execution_count": 36,
   "id": "f4379c7f",
   "metadata": {},
   "outputs": [],
   "source": [
    "py.insert(-1,3535)"
   ]
  },
  {
   "cell_type": "code",
   "execution_count": 37,
   "id": "55b46f89",
   "metadata": {},
   "outputs": [
    {
     "data": {
      "text/plain": [
       "[2, 5, 7, 'Java', 'sdfsdf', [56, 789, 34], 90, 6, 3535, 54]"
      ]
     },
     "execution_count": 37,
     "metadata": {},
     "output_type": "execute_result"
    }
   ],
   "source": [
    "py"
   ]
  },
  {
   "cell_type": "code",
   "execution_count": 38,
   "id": "66495583",
   "metadata": {},
   "outputs": [],
   "source": [
    "py.append(454)"
   ]
  },
  {
   "cell_type": "code",
   "execution_count": 39,
   "id": "342cab14",
   "metadata": {},
   "outputs": [
    {
     "data": {
      "text/plain": [
       "[2, 5, 7, 'Java', 'sdfsdf', [56, 789, 34], 90, 6, 3535, 54, 454]"
      ]
     },
     "execution_count": 39,
     "metadata": {},
     "output_type": "execute_result"
    }
   ],
   "source": [
    "py"
   ]
  },
  {
   "cell_type": "code",
   "execution_count": 40,
   "id": "360f543d",
   "metadata": {},
   "outputs": [],
   "source": [
    "py.insert(34,5000)"
   ]
  },
  {
   "cell_type": "code",
   "execution_count": 41,
   "id": "00321c7a",
   "metadata": {},
   "outputs": [
    {
     "data": {
      "text/plain": [
       "[2, 5, 7, 'Java', 'sdfsdf', [56, 789, 34], 90, 6, 3535, 54, 454, 5000]"
      ]
     },
     "execution_count": 41,
     "metadata": {},
     "output_type": "execute_result"
    }
   ],
   "source": [
    "py"
   ]
  },
  {
   "cell_type": "code",
   "execution_count": 48,
   "id": "d4552506",
   "metadata": {},
   "outputs": [],
   "source": [
    "py[5].insert(2,4545641564)"
   ]
  },
  {
   "cell_type": "code",
   "execution_count": 49,
   "id": "84e2072e",
   "metadata": {},
   "outputs": [
    {
     "data": {
      "text/plain": [
       "[2,\n",
       " 5,\n",
       " 7,\n",
       " 'Java',\n",
       " 'sdfsdf',\n",
       " [56, 789, 4545641564, 34],\n",
       " 90,\n",
       " 6,\n",
       " 3535,\n",
       " 54,\n",
       " 454,\n",
       " 5000]"
      ]
     },
     "execution_count": 49,
     "metadata": {},
     "output_type": "execute_result"
    }
   ],
   "source": [
    "py"
   ]
  },
  {
   "cell_type": "code",
   "execution_count": null,
   "id": "135da016",
   "metadata": {},
   "outputs": [],
   "source": []
  },
  {
   "cell_type": "code",
   "execution_count": 50,
   "id": "0d9b6022",
   "metadata": {},
   "outputs": [],
   "source": [
    "p = [1,[2,40,[60,[100]]]]"
   ]
  },
  {
   "cell_type": "code",
   "execution_count": 51,
   "id": "87199e84",
   "metadata": {},
   "outputs": [
    {
     "data": {
      "text/plain": [
       "[1, [2, 40, [60, [100]]]]"
      ]
     },
     "execution_count": 51,
     "metadata": {},
     "output_type": "execute_result"
    }
   ],
   "source": [
    "p"
   ]
  },
  {
   "cell_type": "code",
   "execution_count": 54,
   "id": "abf4164d",
   "metadata": {},
   "outputs": [
    {
     "data": {
      "text/plain": [
       "60"
      ]
     },
     "execution_count": 54,
     "metadata": {},
     "output_type": "execute_result"
    }
   ],
   "source": [
    "p[1][2][0]"
   ]
  },
  {
   "cell_type": "code",
   "execution_count": 55,
   "id": "766ab2dd",
   "metadata": {},
   "outputs": [
    {
     "data": {
      "text/plain": [
       "[1, [2, 40, [60, [100]]]]"
      ]
     },
     "execution_count": 55,
     "metadata": {},
     "output_type": "execute_result"
    }
   ],
   "source": [
    "p"
   ]
  },
  {
   "cell_type": "code",
   "execution_count": 56,
   "id": "fd72306f",
   "metadata": {},
   "outputs": [],
   "source": [
    "py_list = [2, 5, 7, 'Java', 'sdfsdf']"
   ]
  },
  {
   "cell_type": "code",
   "execution_count": 58,
   "id": "01acd302",
   "metadata": {},
   "outputs": [],
   "source": [
    "py_list[2] = 500"
   ]
  },
  {
   "cell_type": "code",
   "execution_count": 59,
   "id": "33e77104",
   "metadata": {},
   "outputs": [
    {
     "data": {
      "text/plain": [
       "[2, 5, 500, 'Java', 'sdfsdf']"
      ]
     },
     "execution_count": 59,
     "metadata": {},
     "output_type": "execute_result"
    }
   ],
   "source": [
    "py_list"
   ]
  },
  {
   "cell_type": "code",
   "execution_count": 60,
   "id": "9667754f",
   "metadata": {},
   "outputs": [],
   "source": [
    "py_list.append(900)"
   ]
  },
  {
   "cell_type": "code",
   "execution_count": 61,
   "id": "b695f484",
   "metadata": {},
   "outputs": [
    {
     "data": {
      "text/plain": [
       "[2, 5, 500, 'Java', 'sdfsdf', 900]"
      ]
     },
     "execution_count": 61,
     "metadata": {},
     "output_type": "execute_result"
    }
   ],
   "source": [
    "py_list"
   ]
  },
  {
   "cell_type": "code",
   "execution_count": 62,
   "id": "b63bae77",
   "metadata": {},
   "outputs": [
    {
     "data": {
      "text/plain": [
       "3"
      ]
     },
     "execution_count": 62,
     "metadata": {},
     "output_type": "execute_result"
    }
   ],
   "source": [
    "py_list.index('Java')"
   ]
  },
  {
   "cell_type": "code",
   "execution_count": 64,
   "id": "2c9d296e",
   "metadata": {},
   "outputs": [],
   "source": [
    "py_list.append(54545)"
   ]
  },
  {
   "cell_type": "code",
   "execution_count": 65,
   "id": "4cd5fede",
   "metadata": {},
   "outputs": [
    {
     "data": {
      "text/plain": [
       "[2, 5, 500, 'Java', 'sdfsdf', 900, 54545]"
      ]
     },
     "execution_count": 65,
     "metadata": {},
     "output_type": "execute_result"
    }
   ],
   "source": [
    "py_list"
   ]
  },
  {
   "cell_type": "code",
   "execution_count": 66,
   "id": "e28ef4d4",
   "metadata": {},
   "outputs": [],
   "source": [
    "py_list.append([3,7,789,])"
   ]
  },
  {
   "cell_type": "code",
   "execution_count": 67,
   "id": "84fe6387",
   "metadata": {},
   "outputs": [
    {
     "data": {
      "text/plain": [
       "[2, 5, 500, 'Java', 'sdfsdf', 900, 54545, [3, 7, 789]]"
      ]
     },
     "execution_count": 67,
     "metadata": {},
     "output_type": "execute_result"
    }
   ],
   "source": [
    "py_list"
   ]
  },
  {
   "cell_type": "code",
   "execution_count": null,
   "id": "6784f6a5",
   "metadata": {},
   "outputs": [],
   "source": [
    "insert----> adding single element at desired location\n",
    "append ---> adding single element at the end of the list\n"
   ]
  },
  {
   "cell_type": "code",
   "execution_count": null,
   "id": "91b2aea3",
   "metadata": {},
   "outputs": [],
   "source": [
    "extend"
   ]
  },
  {
   "cell_type": "code",
   "execution_count": 68,
   "id": "e718d8a4",
   "metadata": {},
   "outputs": [],
   "source": [
    "p1 = [1,2,3,4,5]"
   ]
  },
  {
   "cell_type": "code",
   "execution_count": 69,
   "id": "e04edcde",
   "metadata": {},
   "outputs": [],
   "source": [
    "p1.extend([100,200,300])"
   ]
  },
  {
   "cell_type": "code",
   "execution_count": 70,
   "id": "d95044b0",
   "metadata": {},
   "outputs": [
    {
     "data": {
      "text/plain": [
       "[1, 2, 3, 4, 5, 100, 200, 300]"
      ]
     },
     "execution_count": 70,
     "metadata": {},
     "output_type": "execute_result"
    }
   ],
   "source": [
    "p1"
   ]
  },
  {
   "cell_type": "code",
   "execution_count": 71,
   "id": "c2e0bd5c",
   "metadata": {},
   "outputs": [],
   "source": [
    "test = [100,50,35,5,7,6]"
   ]
  },
  {
   "cell_type": "code",
   "execution_count": 72,
   "id": "a0ab237e",
   "metadata": {},
   "outputs": [
    {
     "data": {
      "text/plain": [
       "[100, 50, 35, 5, 7, 6]"
      ]
     },
     "execution_count": 72,
     "metadata": {},
     "output_type": "execute_result"
    }
   ],
   "source": [
    "test"
   ]
  },
  {
   "cell_type": "code",
   "execution_count": null,
   "id": "81c28d72",
   "metadata": {},
   "outputs": [],
   "source": [
    "append \n",
    "\n",
    "single at the end\n",
    "\n",
    "extend \n",
    "multiple element at the end"
   ]
  },
  {
   "cell_type": "code",
   "execution_count": null,
   "id": "f0c70ca4",
   "metadata": {},
   "outputs": [],
   "source": []
  },
  {
   "cell_type": "code",
   "execution_count": 73,
   "id": "7b8a478a",
   "metadata": {},
   "outputs": [],
   "source": [
    "py_name = ['arun','akash','jon']"
   ]
  },
  {
   "cell_type": "code",
   "execution_count": 74,
   "id": "0acc61f0",
   "metadata": {},
   "outputs": [],
   "source": [
    "py_city = ['pune','bang','chennai']"
   ]
  },
  {
   "cell_type": "code",
   "execution_count": 75,
   "id": "8d4809e2",
   "metadata": {},
   "outputs": [],
   "source": [
    "py_name.extend(py_city)"
   ]
  },
  {
   "cell_type": "code",
   "execution_count": 76,
   "id": "20e663d7",
   "metadata": {},
   "outputs": [
    {
     "data": {
      "text/plain": [
       "['arun', 'akash', 'jon', 'pune', 'bang', 'chennai']"
      ]
     },
     "execution_count": 76,
     "metadata": {},
     "output_type": "execute_result"
    }
   ],
   "source": [
    "py_name"
   ]
  },
  {
   "cell_type": "code",
   "execution_count": null,
   "id": "d2185307",
   "metadata": {},
   "outputs": [],
   "source": [
    "insert\n",
    "append\n",
    "extend"
   ]
  },
  {
   "cell_type": "code",
   "execution_count": null,
   "id": "8f81f4ec",
   "metadata": {},
   "outputs": [],
   "source": []
  },
  {
   "cell_type": "code",
   "execution_count": 77,
   "id": "5e7daa38",
   "metadata": {},
   "outputs": [],
   "source": [
    "#how to delete element from list"
   ]
  },
  {
   "cell_type": "code",
   "execution_count": 79,
   "id": "77d930a0",
   "metadata": {},
   "outputs": [
    {
     "data": {
      "text/plain": [
       "['arun', 'akash', 'jon', 'pune', 'bang', 'chennai']"
      ]
     },
     "execution_count": 79,
     "metadata": {},
     "output_type": "execute_result"
    }
   ],
   "source": [
    "py_name"
   ]
  },
  {
   "cell_type": "code",
   "execution_count": 80,
   "id": "169245c8",
   "metadata": {},
   "outputs": [],
   "source": [
    "py_name.remove('pune')"
   ]
  },
  {
   "cell_type": "code",
   "execution_count": 81,
   "id": "9eb5c86f",
   "metadata": {},
   "outputs": [
    {
     "data": {
      "text/plain": [
       "['arun', 'akash', 'jon', 'bang', 'chennai']"
      ]
     },
     "execution_count": 81,
     "metadata": {},
     "output_type": "execute_result"
    }
   ],
   "source": [
    "py_name"
   ]
  },
  {
   "cell_type": "code",
   "execution_count": 82,
   "id": "22ddecd9",
   "metadata": {},
   "outputs": [],
   "source": [
    " p = [1,1,1,1,1,2,34,6]"
   ]
  },
  {
   "cell_type": "code",
   "execution_count": 83,
   "id": "0fee8c39",
   "metadata": {},
   "outputs": [
    {
     "data": {
      "text/plain": [
       "[1, 1, 1, 1, 1, 2, 34, 6]"
      ]
     },
     "execution_count": 83,
     "metadata": {},
     "output_type": "execute_result"
    }
   ],
   "source": [
    "p"
   ]
  },
  {
   "cell_type": "code",
   "execution_count": 84,
   "id": "5c6374ec",
   "metadata": {},
   "outputs": [],
   "source": [
    "p.remove(1)"
   ]
  },
  {
   "cell_type": "code",
   "execution_count": 85,
   "id": "579da27b",
   "metadata": {},
   "outputs": [
    {
     "data": {
      "text/plain": [
       "[1, 1, 1, 1, 2, 34, 6]"
      ]
     },
     "execution_count": 85,
     "metadata": {},
     "output_type": "execute_result"
    }
   ],
   "source": [
    "p"
   ]
  },
  {
   "cell_type": "code",
   "execution_count": 86,
   "id": "d39f229d",
   "metadata": {},
   "outputs": [],
   "source": [
    "p.remove(1)"
   ]
  },
  {
   "cell_type": "code",
   "execution_count": 87,
   "id": "ce57fafa",
   "metadata": {},
   "outputs": [
    {
     "data": {
      "text/plain": [
       "[1, 1, 1, 2, 34, 6]"
      ]
     },
     "execution_count": 87,
     "metadata": {},
     "output_type": "execute_result"
    }
   ],
   "source": [
    "p"
   ]
  },
  {
   "cell_type": "code",
   "execution_count": 88,
   "id": "d039afc0",
   "metadata": {},
   "outputs": [],
   "source": [
    "p.remove(1)"
   ]
  },
  {
   "cell_type": "code",
   "execution_count": 89,
   "id": "4a270b0f",
   "metadata": {},
   "outputs": [
    {
     "data": {
      "text/plain": [
       "[1, 1, 2, 34, 6]"
      ]
     },
     "execution_count": 89,
     "metadata": {},
     "output_type": "execute_result"
    }
   ],
   "source": [
    "p"
   ]
  },
  {
   "cell_type": "code",
   "execution_count": null,
   "id": "1edd9b80",
   "metadata": {},
   "outputs": [],
   "source": [
    "#remove ---> by using element "
   ]
  },
  {
   "cell_type": "code",
   "execution_count": 91,
   "id": "94327fd3",
   "metadata": {},
   "outputs": [
    {
     "data": {
      "text/plain": [
       "['arun', 'akash', 'jon', 'bang', 'chennai']"
      ]
     },
     "execution_count": 91,
     "metadata": {},
     "output_type": "execute_result"
    }
   ],
   "source": [
    "py_name"
   ]
  },
  {
   "cell_type": "code",
   "execution_count": 92,
   "id": "8d4e9e15",
   "metadata": {},
   "outputs": [
    {
     "data": {
      "text/plain": [
       "'jon'"
      ]
     },
     "execution_count": 92,
     "metadata": {},
     "output_type": "execute_result"
    }
   ],
   "source": [
    "py_name.pop(2)"
   ]
  },
  {
   "cell_type": "code",
   "execution_count": 93,
   "id": "558acf9e",
   "metadata": {},
   "outputs": [
    {
     "data": {
      "text/plain": [
       "['arun', 'akash', 'bang', 'chennai']"
      ]
     },
     "execution_count": 93,
     "metadata": {},
     "output_type": "execute_result"
    }
   ],
   "source": [
    "py_name"
   ]
  },
  {
   "cell_type": "code",
   "execution_count": null,
   "id": "6897e9b0",
   "metadata": {},
   "outputs": [],
   "source": [
    "#delete\n",
    "\n",
    "remove --- by using element\n",
    "pop ---by using index number"
   ]
  },
  {
   "cell_type": "code",
   "execution_count": null,
   "id": "f21e9004",
   "metadata": {},
   "outputs": [],
   "source": []
  },
  {
   "cell_type": "code",
   "execution_count": 94,
   "id": "0707de0b",
   "metadata": {},
   "outputs": [
    {
     "data": {
      "text/plain": [
       "['arun', 'akash', 'bang', 'chennai']"
      ]
     },
     "execution_count": 94,
     "metadata": {},
     "output_type": "execute_result"
    }
   ],
   "source": [
    "py_name"
   ]
  },
  {
   "cell_type": "code",
   "execution_count": 95,
   "id": "d1a1aa0e",
   "metadata": {},
   "outputs": [],
   "source": [
    "deleted_list = []"
   ]
  },
  {
   "cell_type": "code",
   "execution_count": 96,
   "id": "e2185b11",
   "metadata": {},
   "outputs": [],
   "source": [
    "d = py_name.pop(1)"
   ]
  },
  {
   "cell_type": "code",
   "execution_count": 97,
   "id": "874bfef6",
   "metadata": {},
   "outputs": [],
   "source": [
    "deleted_list.append(d)"
   ]
  },
  {
   "cell_type": "code",
   "execution_count": 98,
   "id": "d56a8dba",
   "metadata": {},
   "outputs": [
    {
     "data": {
      "text/plain": [
       "['akash']"
      ]
     },
     "execution_count": 98,
     "metadata": {},
     "output_type": "execute_result"
    }
   ],
   "source": [
    "deleted_list"
   ]
  },
  {
   "cell_type": "code",
   "execution_count": 99,
   "id": "a684aa55",
   "metadata": {},
   "outputs": [
    {
     "data": {
      "text/plain": [
       "['arun', 'bang', 'chennai']"
      ]
     },
     "execution_count": 99,
     "metadata": {},
     "output_type": "execute_result"
    }
   ],
   "source": [
    "py_name"
   ]
  },
  {
   "cell_type": "code",
   "execution_count": 100,
   "id": "af66da78",
   "metadata": {},
   "outputs": [],
   "source": [
    "deleted_list.append(py_name.pop(-1))"
   ]
  },
  {
   "cell_type": "code",
   "execution_count": 101,
   "id": "8cea3088",
   "metadata": {},
   "outputs": [
    {
     "data": {
      "text/plain": [
       "['akash', 'chennai']"
      ]
     },
     "execution_count": 101,
     "metadata": {},
     "output_type": "execute_result"
    }
   ],
   "source": [
    "deleted_list"
   ]
  },
  {
   "cell_type": "code",
   "execution_count": 102,
   "id": "0bc7fe03",
   "metadata": {},
   "outputs": [
    {
     "data": {
      "text/plain": [
       "['pune', 'bang', 'chennai']"
      ]
     },
     "execution_count": 102,
     "metadata": {},
     "output_type": "execute_result"
    }
   ],
   "source": [
    "py_city"
   ]
  },
  {
   "cell_type": "code",
   "execution_count": 103,
   "id": "4bc37ae7",
   "metadata": {},
   "outputs": [
    {
     "data": {
      "text/plain": [
       "'bang'"
      ]
     },
     "execution_count": 103,
     "metadata": {},
     "output_type": "execute_result"
    }
   ],
   "source": [
    "py_city.pop(1)"
   ]
  },
  {
   "cell_type": "code",
   "execution_count": 1,
   "id": "e25ada63",
   "metadata": {},
   "outputs": [],
   "source": [
    "#insert -- add element at \n",
    "#append --  at the end\n",
    "#extend -- multiple "
   ]
  },
  {
   "cell_type": "code",
   "execution_count": 2,
   "id": "6fcbb3db",
   "metadata": {},
   "outputs": [],
   "source": [
    "# deletion of element ."
   ]
  },
  {
   "cell_type": "code",
   "execution_count": null,
   "id": "3ddf4da9",
   "metadata": {},
   "outputs": [],
   "source": [
    "remove --- element\n",
    "pop --- index"
   ]
  },
  {
   "cell_type": "code",
   "execution_count": 3,
   "id": "b7cea5e3",
   "metadata": {},
   "outputs": [],
   "source": [
    "p = [23,56,68,9,34,8,'python','java']"
   ]
  },
  {
   "cell_type": "code",
   "execution_count": 4,
   "id": "da9317ea",
   "metadata": {},
   "outputs": [
    {
     "data": {
      "text/plain": [
       "3"
      ]
     },
     "execution_count": 4,
     "metadata": {},
     "output_type": "execute_result"
    }
   ],
   "source": [
    "p.index(9)"
   ]
  },
  {
   "cell_type": "code",
   "execution_count": 5,
   "id": "7c000f8a",
   "metadata": {},
   "outputs": [
    {
     "data": {
      "text/plain": [
       "6"
      ]
     },
     "execution_count": 5,
     "metadata": {},
     "output_type": "execute_result"
    }
   ],
   "source": [
    "p.index('python')"
   ]
  },
  {
   "cell_type": "code",
   "execution_count": 6,
   "id": "97a2d9a4",
   "metadata": {},
   "outputs": [
    {
     "data": {
      "text/plain": [
       "[23, 56, 68, 9, 34, 8, 'python', 'java']"
      ]
     },
     "execution_count": 6,
     "metadata": {},
     "output_type": "execute_result"
    }
   ],
   "source": [
    "p"
   ]
  },
  {
   "cell_type": "code",
   "execution_count": 7,
   "id": "71c80c9b",
   "metadata": {},
   "outputs": [],
   "source": [
    "p = [1,1,1,1,1,3,5,8,89,4,7,9]"
   ]
  },
  {
   "cell_type": "code",
   "execution_count": 8,
   "id": "8caafc43",
   "metadata": {},
   "outputs": [
    {
     "data": {
      "text/plain": [
       "1"
      ]
     },
     "execution_count": 8,
     "metadata": {},
     "output_type": "execute_result"
    }
   ],
   "source": [
    "p.count(5)"
   ]
  },
  {
   "cell_type": "code",
   "execution_count": 9,
   "id": "38c4f63b",
   "metadata": {},
   "outputs": [
    {
     "data": {
      "text/plain": [
       "5"
      ]
     },
     "execution_count": 9,
     "metadata": {},
     "output_type": "execute_result"
    }
   ],
   "source": [
    "p.count(1)"
   ]
  },
  {
   "cell_type": "code",
   "execution_count": 17,
   "id": "4663cadc",
   "metadata": {},
   "outputs": [],
   "source": [
    "p = [23, 56, 68, 9, 34, 8,'python']"
   ]
  },
  {
   "cell_type": "code",
   "execution_count": 18,
   "id": "12a08fd6",
   "metadata": {},
   "outputs": [
    {
     "ename": "NameError",
     "evalue": "name 'sorting' is not defined",
     "output_type": "error",
     "traceback": [
      "\u001b[1;31m---------------------------------------------------------------------------\u001b[0m",
      "\u001b[1;31mNameError\u001b[0m                                 Traceback (most recent call last)",
      "\u001b[1;32m<ipython-input-18-61d9b1129b84>\u001b[0m in \u001b[0;36m<module>\u001b[1;34m\u001b[0m\n\u001b[1;32m----> 1\u001b[1;33m \u001b[0msorting\u001b[0m\u001b[1;33m\u001b[0m\u001b[1;33m\u001b[0m\u001b[0m\n\u001b[0m\u001b[0;32m      2\u001b[0m \u001b[0masc\u001b[0m\u001b[1;33m\u001b[0m\u001b[1;33m\u001b[0m\u001b[0m\n\u001b[0;32m      3\u001b[0m \u001b[0mdesc\u001b[0m\u001b[1;33m\u001b[0m\u001b[1;33m\u001b[0m\u001b[0m\n",
      "\u001b[1;31mNameError\u001b[0m: name 'sorting' is not defined"
     ]
    }
   ],
   "source": [
    "sorting\n",
    "asc\n",
    "desc"
   ]
  },
  {
   "cell_type": "code",
   "execution_count": 19,
   "id": "bae7265d",
   "metadata": {},
   "outputs": [
    {
     "ename": "TypeError",
     "evalue": "'<' not supported between instances of 'int' and 'str'",
     "output_type": "error",
     "traceback": [
      "\u001b[1;31m---------------------------------------------------------------------------\u001b[0m",
      "\u001b[1;31mTypeError\u001b[0m                                 Traceback (most recent call last)",
      "\u001b[1;32m<ipython-input-19-634cb8e1d7ca>\u001b[0m in \u001b[0;36m<module>\u001b[1;34m\u001b[0m\n\u001b[1;32m----> 1\u001b[1;33m \u001b[0mp\u001b[0m\u001b[1;33m.\u001b[0m\u001b[0msort\u001b[0m\u001b[1;33m(\u001b[0m\u001b[0mreverse\u001b[0m\u001b[1;33m=\u001b[0m\u001b[1;32mTrue\u001b[0m\u001b[1;33m)\u001b[0m\u001b[1;33m\u001b[0m\u001b[1;33m\u001b[0m\u001b[0m\n\u001b[0m",
      "\u001b[1;31mTypeError\u001b[0m: '<' not supported between instances of 'int' and 'str'"
     ]
    }
   ],
   "source": [
    "p.sort(reverse=True)"
   ]
  },
  {
   "cell_type": "code",
   "execution_count": 15,
   "id": "98bb6c5b",
   "metadata": {},
   "outputs": [
    {
     "data": {
      "text/plain": [
       "[68, 56, 34, 23, 9, 8]"
      ]
     },
     "execution_count": 15,
     "metadata": {},
     "output_type": "execute_result"
    }
   ],
   "source": [
    "p"
   ]
  },
  {
   "cell_type": "code",
   "execution_count": 16,
   "id": "f032ed2e",
   "metadata": {},
   "outputs": [
    {
     "ename": "TypeError",
     "evalue": "'>' not supported between instances of 'str' and 'int'",
     "output_type": "error",
     "traceback": [
      "\u001b[1;31m---------------------------------------------------------------------------\u001b[0m",
      "\u001b[1;31mTypeError\u001b[0m                                 Traceback (most recent call last)",
      "\u001b[1;32m<ipython-input-16-014dd97a9833>\u001b[0m in \u001b[0;36m<module>\u001b[1;34m\u001b[0m\n\u001b[1;32m----> 1\u001b[1;33m \u001b[1;34m'sdfsdf'\u001b[0m \u001b[1;33m>\u001b[0m\u001b[1;36m56\u001b[0m\u001b[1;33m\u001b[0m\u001b[1;33m\u001b[0m\u001b[0m\n\u001b[0m",
      "\u001b[1;31mTypeError\u001b[0m: '>' not supported between instances of 'str' and 'int'"
     ]
    }
   ],
   "source": [
    "'sdfsdf' >56"
   ]
  },
  {
   "cell_type": "code",
   "execution_count": 23,
   "id": "e6423116",
   "metadata": {},
   "outputs": [],
   "source": [
    "p = ['f','h','python','Z','sdf','java']"
   ]
  },
  {
   "cell_type": "code",
   "execution_count": 24,
   "id": "28735399",
   "metadata": {},
   "outputs": [],
   "source": [
    "p.sort()"
   ]
  },
  {
   "cell_type": "code",
   "execution_count": 25,
   "id": "777b1e12",
   "metadata": {},
   "outputs": [
    {
     "data": {
      "text/plain": [
       "['Z', 'f', 'h', 'java', 'python', 'sdf']"
      ]
     },
     "execution_count": 25,
     "metadata": {},
     "output_type": "execute_result"
    }
   ],
   "source": [
    "p"
   ]
  },
  {
   "cell_type": "code",
   "execution_count": 26,
   "id": "12b46f72",
   "metadata": {},
   "outputs": [
    {
     "data": {
      "text/plain": [
       "90"
      ]
     },
     "execution_count": 26,
     "metadata": {},
     "output_type": "execute_result"
    }
   ],
   "source": []
  },
  {
   "cell_type": "code",
   "execution_count": 28,
   "id": "6468bec8",
   "metadata": {},
   "outputs": [
    {
     "data": {
      "text/plain": [
       "90"
      ]
     },
     "execution_count": 28,
     "metadata": {},
     "output_type": "execute_result"
    }
   ],
   "source": [
    "ord('Z')"
   ]
  },
  {
   "cell_type": "code",
   "execution_count": 29,
   "id": "fea0ee1a",
   "metadata": {},
   "outputs": [
    {
     "data": {
      "text/plain": [
       "102"
      ]
     },
     "execution_count": 29,
     "metadata": {},
     "output_type": "execute_result"
    }
   ],
   "source": [
    "ord('f')"
   ]
  },
  {
   "cell_type": "code",
   "execution_count": 30,
   "id": "ab191bb2",
   "metadata": {},
   "outputs": [],
   "source": [
    " p =[68, 56, 34, 23, 9, 8]"
   ]
  },
  {
   "cell_type": "code",
   "execution_count": 31,
   "id": "efa63fbf",
   "metadata": {},
   "outputs": [
    {
     "data": {
      "text/plain": [
       "[68, 56, 34, 23, 9, 8]"
      ]
     },
     "execution_count": 31,
     "metadata": {},
     "output_type": "execute_result"
    }
   ],
   "source": [
    "p"
   ]
  },
  {
   "cell_type": "code",
   "execution_count": 32,
   "id": "1aab0c90",
   "metadata": {},
   "outputs": [],
   "source": [
    "p.reverse()"
   ]
  },
  {
   "cell_type": "code",
   "execution_count": 33,
   "id": "65c55145",
   "metadata": {},
   "outputs": [
    {
     "data": {
      "text/plain": [
       "[8, 9, 23, 34, 56, 68]"
      ]
     },
     "execution_count": 33,
     "metadata": {},
     "output_type": "execute_result"
    }
   ],
   "source": [
    "p"
   ]
  },
  {
   "cell_type": "code",
   "execution_count": 34,
   "id": "5c422f85",
   "metadata": {},
   "outputs": [],
   "source": [
    "p =[23, 56, 68, 9, 34, 8]"
   ]
  },
  {
   "cell_type": "code",
   "execution_count": 35,
   "id": "abbad285",
   "metadata": {},
   "outputs": [],
   "source": [
    "p.reverse()"
   ]
  },
  {
   "cell_type": "code",
   "execution_count": 36,
   "id": "024b373f",
   "metadata": {},
   "outputs": [
    {
     "data": {
      "text/plain": [
       "[8, 34, 9, 68, 56, 23]"
      ]
     },
     "execution_count": 36,
     "metadata": {},
     "output_type": "execute_result"
    }
   ],
   "source": [
    "p"
   ]
  },
  {
   "cell_type": "code",
   "execution_count": 37,
   "id": "7e4b73ac",
   "metadata": {},
   "outputs": [
    {
     "data": {
      "text/plain": [
       "[8, 34, 9, 68, 56, 23]"
      ]
     },
     "execution_count": 37,
     "metadata": {},
     "output_type": "execute_result"
    }
   ],
   "source": [
    "p"
   ]
  },
  {
   "cell_type": "code",
   "execution_count": 38,
   "id": "c8bda6de",
   "metadata": {},
   "outputs": [
    {
     "data": {
      "text/plain": [
       "[8, 9, 23, 34, 56, 68]"
      ]
     },
     "execution_count": 38,
     "metadata": {},
     "output_type": "execute_result"
    }
   ],
   "source": [
    "sorted(p)"
   ]
  },
  {
   "cell_type": "code",
   "execution_count": null,
   "id": "6025d5e9",
   "metadata": {},
   "outputs": [],
   "source": []
  },
  {
   "cell_type": "code",
   "execution_count": null,
   "id": "ffbaae1d",
   "metadata": {},
   "outputs": [],
   "source": []
  },
  {
   "cell_type": "code",
   "execution_count": 40,
   "id": "e5090374",
   "metadata": {},
   "outputs": [
    {
     "data": {
      "text/plain": [
       "[68, 56, 34, 23, 9, 8]"
      ]
     },
     "execution_count": 40,
     "metadata": {},
     "output_type": "execute_result"
    }
   ],
   "source": [
    "sorted(p,reverse=True)"
   ]
  },
  {
   "cell_type": "code",
   "execution_count": 41,
   "id": "ba9d5fa5",
   "metadata": {},
   "outputs": [],
   "source": []
  },
  {
   "cell_type": "code",
   "execution_count": 42,
   "id": "689d3005",
   "metadata": {},
   "outputs": [
    {
     "data": {
      "text/plain": [
       "['h', 'n', 'o', 'p', 't', 'y']"
      ]
     },
     "execution_count": 42,
     "metadata": {},
     "output_type": "execute_result"
    }
   ],
   "source": []
  },
  {
   "cell_type": "code",
   "execution_count": null,
   "id": "a240228b",
   "metadata": {},
   "outputs": [],
   "source": [
    "ascii"
   ]
  },
  {
   "cell_type": "code",
   "execution_count": null,
   "id": "520eaf81",
   "metadata": {},
   "outputs": [],
   "source": [
    "ord ---> char ---> ascii code\n",
    "chr ---> ascii code ---> char"
   ]
  },
  {
   "cell_type": "code",
   "execution_count": null,
   "id": "69d645c0",
   "metadata": {},
   "outputs": [],
   "source": []
  },
  {
   "cell_type": "code",
   "execution_count": 43,
   "id": "ef827357",
   "metadata": {},
   "outputs": [
    {
     "data": {
      "text/plain": [
       "114"
      ]
     },
     "execution_count": 43,
     "metadata": {},
     "output_type": "execute_result"
    }
   ],
   "source": [
    "ord('r')"
   ]
  },
  {
   "cell_type": "code",
   "execution_count": 45,
   "id": "a346954c",
   "metadata": {},
   "outputs": [
    {
     "data": {
      "text/plain": [
       "'r'"
      ]
     },
     "execution_count": 45,
     "metadata": {},
     "output_type": "execute_result"
    }
   ],
   "source": [
    "chr(114)"
   ]
  },
  {
   "cell_type": "code",
   "execution_count": null,
   "id": "4cd06566",
   "metadata": {},
   "outputs": [],
   "source": [
    "type\n",
    "id\n",
    "chr\n",
    "ord\n",
    "sorted"
   ]
  },
  {
   "cell_type": "code",
   "execution_count": 46,
   "id": "ecc862a2",
   "metadata": {},
   "outputs": [],
   "source": [
    "l1 = [1,2,3]"
   ]
  },
  {
   "cell_type": "code",
   "execution_count": 47,
   "id": "bb2a8ae5",
   "metadata": {},
   "outputs": [],
   "source": [
    "l2=l1   # shallow copy"
   ]
  },
  {
   "cell_type": "code",
   "execution_count": 48,
   "id": "cee58ae1",
   "metadata": {},
   "outputs": [
    {
     "data": {
      "text/plain": [
       "[1, 2, 3]"
      ]
     },
     "execution_count": 48,
     "metadata": {},
     "output_type": "execute_result"
    }
   ],
   "source": [
    "l2"
   ]
  },
  {
   "cell_type": "code",
   "execution_count": 49,
   "id": "86083e3d",
   "metadata": {},
   "outputs": [],
   "source": [
    "l2.append(500)"
   ]
  },
  {
   "cell_type": "code",
   "execution_count": 50,
   "id": "4c34592d",
   "metadata": {},
   "outputs": [
    {
     "data": {
      "text/plain": [
       "[1, 2, 3, 500]"
      ]
     },
     "execution_count": 50,
     "metadata": {},
     "output_type": "execute_result"
    }
   ],
   "source": [
    "l2"
   ]
  },
  {
   "cell_type": "markdown",
   "id": "219ce520",
   "metadata": {},
   "source": []
  },
  {
   "cell_type": "code",
   "execution_count": 51,
   "id": "7523d2d2",
   "metadata": {
    "scrolled": true
   },
   "outputs": [
    {
     "data": {
      "text/plain": [
       "[1, 2, 3, 500]"
      ]
     },
     "execution_count": 51,
     "metadata": {},
     "output_type": "execute_result"
    }
   ],
   "source": [
    "l1"
   ]
  },
  {
   "cell_type": "code",
   "execution_count": 52,
   "id": "23596746",
   "metadata": {},
   "outputs": [
    {
     "data": {
      "text/plain": [
       "[1, 2, 3, 500]"
      ]
     },
     "execution_count": 52,
     "metadata": {},
     "output_type": "execute_result"
    }
   ],
   "source": [
    "l1"
   ]
  },
  {
   "cell_type": "code",
   "execution_count": 53,
   "id": "548fe1fe",
   "metadata": {},
   "outputs": [],
   "source": [
    "newcopy =  l1.copy()"
   ]
  },
  {
   "cell_type": "code",
   "execution_count": 54,
   "id": "fc7b741b",
   "metadata": {},
   "outputs": [
    {
     "data": {
      "text/plain": [
       "[1, 2, 3, 500]"
      ]
     },
     "execution_count": 54,
     "metadata": {},
     "output_type": "execute_result"
    }
   ],
   "source": [
    "newcopy"
   ]
  },
  {
   "cell_type": "code",
   "execution_count": 55,
   "id": "1c789c42",
   "metadata": {},
   "outputs": [
    {
     "data": {
      "text/plain": [
       "[1, 2, 3, 500]"
      ]
     },
     "execution_count": 55,
     "metadata": {},
     "output_type": "execute_result"
    }
   ],
   "source": [
    "l1"
   ]
  },
  {
   "cell_type": "code",
   "execution_count": 56,
   "id": "8937827e",
   "metadata": {},
   "outputs": [
    {
     "data": {
      "text/plain": [
       "[1, 2, 3, 500]"
      ]
     },
     "execution_count": 56,
     "metadata": {},
     "output_type": "execute_result"
    }
   ],
   "source": [
    "newcopy\n"
   ]
  },
  {
   "cell_type": "code",
   "execution_count": null,
   "id": "6d746366",
   "metadata": {},
   "outputs": [],
   "source": []
  },
  {
   "cell_type": "code",
   "execution_count": null,
   "id": "6e6c2ccf",
   "metadata": {},
   "outputs": [],
   "source": [
    "list\n",
    "insert\n",
    "append\n",
    "extend\n",
    "index\n",
    "count\n",
    "remove\n",
    "pop\n",
    "sort\n",
    "reverse\n",
    "copy"
   ]
  },
  {
   "cell_type": "code",
   "execution_count": null,
   "id": "c01afa3b",
   "metadata": {},
   "outputs": [],
   "source": []
  },
  {
   "cell_type": "code",
   "execution_count": 58,
   "id": "bcfe027f",
   "metadata": {},
   "outputs": [],
   "source": [
    "p = [35,6,7,8,43,56,7,7,7,7,345,46]"
   ]
  },
  {
   "cell_type": "code",
   "execution_count": 59,
   "id": "11495625",
   "metadata": {},
   "outputs": [
    {
     "data": {
      "text/plain": [
       "5"
      ]
     },
     "execution_count": 59,
     "metadata": {},
     "output_type": "execute_result"
    }
   ],
   "source": [
    "p.count(7)"
   ]
  },
  {
   "cell_type": "code",
   "execution_count": null,
   "id": "f6818e53",
   "metadata": {},
   "outputs": [],
   "source": []
  },
  {
   "cell_type": "code",
   "execution_count": 1,
   "id": "5ee09d02",
   "metadata": {},
   "outputs": [],
   "source": [
    "d = [2,3,4,5,4]"
   ]
  },
  {
   "cell_type": "code",
   "execution_count": 2,
   "id": "6d1b8ddd",
   "metadata": {},
   "outputs": [],
   "source": [
    "d.insert(2,55)"
   ]
  },
  {
   "cell_type": "code",
   "execution_count": 3,
   "id": "edb9174b",
   "metadata": {},
   "outputs": [
    {
     "data": {
      "text/plain": [
       "[2, 3, 55, 4, 5, 4]"
      ]
     },
     "execution_count": 3,
     "metadata": {},
     "output_type": "execute_result"
    }
   ],
   "source": [
    "d"
   ]
  },
  {
   "cell_type": "code",
   "execution_count": 4,
   "id": "8d7d8393",
   "metadata": {},
   "outputs": [],
   "source": [
    "d.append(444)"
   ]
  },
  {
   "cell_type": "code",
   "execution_count": 5,
   "id": "e6cefc5e",
   "metadata": {},
   "outputs": [
    {
     "data": {
      "text/plain": [
       "[2, 3, 55, 4, 5, 4, 444]"
      ]
     },
     "execution_count": 5,
     "metadata": {},
     "output_type": "execute_result"
    }
   ],
   "source": [
    "d"
   ]
  },
  {
   "cell_type": "code",
   "execution_count": 8,
   "id": "8f79065c",
   "metadata": {},
   "outputs": [],
   "source": [
    "d.extend([111,222,333,443])"
   ]
  },
  {
   "cell_type": "code",
   "execution_count": 9,
   "id": "89b515b6",
   "metadata": {},
   "outputs": [
    {
     "data": {
      "text/plain": [
       "[2, 3, 55, 4, 5, 4, 444, 111, 222, 333, 443]"
      ]
     },
     "execution_count": 9,
     "metadata": {},
     "output_type": "execute_result"
    }
   ],
   "source": [
    "d"
   ]
  },
  {
   "cell_type": "code",
   "execution_count": 10,
   "id": "109d51d5",
   "metadata": {},
   "outputs": [],
   "source": [
    "d.remove(444)"
   ]
  },
  {
   "cell_type": "code",
   "execution_count": 11,
   "id": "488c74d9",
   "metadata": {},
   "outputs": [
    {
     "data": {
      "text/plain": [
       "[2, 3, 55, 4, 5, 4, 111, 222, 333, 443]"
      ]
     },
     "execution_count": 11,
     "metadata": {},
     "output_type": "execute_result"
    }
   ],
   "source": [
    "d"
   ]
  },
  {
   "cell_type": "code",
   "execution_count": 12,
   "id": "980aa130",
   "metadata": {},
   "outputs": [
    {
     "data": {
      "text/plain": [
       "443"
      ]
     },
     "execution_count": 12,
     "metadata": {},
     "output_type": "execute_result"
    }
   ],
   "source": [
    "d.pop()"
   ]
  },
  {
   "cell_type": "code",
   "execution_count": 13,
   "id": "d60d1f76",
   "metadata": {},
   "outputs": [],
   "source": [
    "c = (22,33344,3433,323,12,'ttth')"
   ]
  },
  {
   "cell_type": "code",
   "execution_count": 14,
   "id": "ee5aeae4",
   "metadata": {},
   "outputs": [
    {
     "data": {
      "text/plain": [
       "tuple"
      ]
     },
     "execution_count": 14,
     "metadata": {},
     "output_type": "execute_result"
    }
   ],
   "source": [
    "type(c)"
   ]
  },
  {
   "cell_type": "code",
   "execution_count": 15,
   "id": "e1a40311",
   "metadata": {},
   "outputs": [],
   "source": [
    "x = {11,22,33,33,'rrdf','ffdf'}"
   ]
  },
  {
   "cell_type": "code",
   "execution_count": 16,
   "id": "43de4190",
   "metadata": {},
   "outputs": [
    {
     "data": {
      "text/plain": [
       "set"
      ]
     },
     "execution_count": 16,
     "metadata": {},
     "output_type": "execute_result"
    }
   ],
   "source": [
    "type(x)"
   ]
  },
  {
   "cell_type": "code",
   "execution_count": null,
   "id": "d14cc9f5",
   "metadata": {},
   "outputs": [],
   "source": []
  },
  {
   "cell_type": "code",
   "execution_count": null,
   "id": "67a3755e",
   "metadata": {},
   "outputs": [],
   "source": []
  },
  {
   "cell_type": "code",
   "execution_count": null,
   "id": "4af938cc",
   "metadata": {},
   "outputs": [],
   "source": []
  },
  {
   "cell_type": "code",
   "execution_count": null,
   "id": "373506af",
   "metadata": {},
   "outputs": [],
   "source": []
  },
  {
   "cell_type": "code",
   "execution_count": null,
   "id": "cebc33c5",
   "metadata": {},
   "outputs": [],
   "source": []
  }
 ],
 "metadata": {
  "kernelspec": {
   "display_name": "Python 3 (ipykernel)",
   "language": "python",
   "name": "python3"
  },
  "language_info": {
   "codemirror_mode": {
    "name": "ipython",
    "version": 3
   },
   "file_extension": ".py",
   "mimetype": "text/x-python",
   "name": "python",
   "nbconvert_exporter": "python",
   "pygments_lexer": "ipython3",
   "version": "3.9.7"
  }
 },
 "nbformat": 4,
 "nbformat_minor": 5
}
