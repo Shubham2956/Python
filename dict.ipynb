{
 "cells": [
  {
   "cell_type": "code",
   "execution_count": null,
   "id": "aa8ffd7c",
   "metadata": {},
   "outputs": [],
   "source": [
    "dict:\n",
    "    it is collection of item\n",
    "    item ---> key:value pair\n",
    "    it is mutable type DS\n",
    "    it is unordered\n",
    "    \n",
    "        "
   ]
  },
  {
   "cell_type": "code",
   "execution_count": 1,
   "id": "fd2ce387",
   "metadata": {},
   "outputs": [],
   "source": [
    "my_details = {'id':101,'name':'Arun','sal':50000}"
   ]
  },
  {
   "cell_type": "code",
   "execution_count": 2,
   "id": "fcfb70c6",
   "metadata": {},
   "outputs": [
    {
     "data": {
      "text/plain": [
       "{'id': 101, 'name': 'Arun', 'sal': 50000}"
      ]
     },
     "execution_count": 2,
     "metadata": {},
     "output_type": "execute_result"
    }
   ],
   "source": [
    "my_details"
   ]
  },
  {
   "cell_type": "code",
   "execution_count": 3,
   "id": "61eb2469",
   "metadata": {},
   "outputs": [
    {
     "data": {
      "text/plain": [
       "dict"
      ]
     },
     "execution_count": 3,
     "metadata": {},
     "output_type": "execute_result"
    }
   ],
   "source": [
    "type(my_details)"
   ]
  },
  {
   "cell_type": "code",
   "execution_count": null,
   "id": "5457e694",
   "metadata": {},
   "outputs": [],
   "source": [
    "key:\n",
    "    always immutable,and unique\n",
    "    \n",
    "    \n",
    "    \n",
    "    \n",
    "value: \n",
    "    can be mutable or immutable"
   ]
  },
  {
   "cell_type": "code",
   "execution_count": 6,
   "id": "9f14dfc8",
   "metadata": {},
   "outputs": [],
   "source": [
    "d = {1:'Cricket',2:'Football',3:'base ball',1:'Computer Game'}"
   ]
  },
  {
   "cell_type": "code",
   "execution_count": 7,
   "id": "8fbef088",
   "metadata": {},
   "outputs": [
    {
     "data": {
      "text/plain": [
       "{1: 'Computer Game', 2: 'Football', 3: 'base ball'}"
      ]
     },
     "execution_count": 7,
     "metadata": {},
     "output_type": "execute_result"
    }
   ],
   "source": [
    "d"
   ]
  },
  {
   "cell_type": "code",
   "execution_count": 8,
   "id": "10beae3c",
   "metadata": {},
   "outputs": [],
   "source": [
    "d = {}"
   ]
  },
  {
   "cell_type": "code",
   "execution_count": 9,
   "id": "c951b4a4",
   "metadata": {},
   "outputs": [
    {
     "data": {
      "text/plain": [
       "dict"
      ]
     },
     "execution_count": 9,
     "metadata": {},
     "output_type": "execute_result"
    }
   ],
   "source": [
    "type(d)"
   ]
  },
  {
   "cell_type": "code",
   "execution_count": null,
   "id": "23269b10",
   "metadata": {},
   "outputs": [],
   "source": []
  },
  {
   "cell_type": "code",
   "execution_count": null,
   "id": "ccd413a6",
   "metadata": {},
   "outputs": [],
   "source": []
  },
  {
   "cell_type": "code",
   "execution_count": null,
   "id": "b93fc420",
   "metadata": {},
   "outputs": [],
   "source": []
  },
  {
   "cell_type": "code",
   "execution_count": null,
   "id": "91f7b84d",
   "metadata": {},
   "outputs": [],
   "source": []
  },
  {
   "cell_type": "code",
   "execution_count": null,
   "id": "de60ccd2",
   "metadata": {},
   "outputs": [],
   "source": [
    "d = {1:'Cricket',2:'Football',3:'base ball'}"
   ]
  },
  {
   "cell_type": "code",
   "execution_count": null,
   "id": "94d17795",
   "metadata": {},
   "outputs": [],
   "source": []
  },
  {
   "cell_type": "code",
   "execution_count": null,
   "id": "77fb97c2",
   "metadata": {},
   "outputs": [],
   "source": []
  },
  {
   "cell_type": "code",
   "execution_count": 4,
   "id": "8b7531f4",
   "metadata": {},
   "outputs": [],
   "source": []
  },
  {
   "cell_type": "code",
   "execution_count": 5,
   "id": "1c47af72",
   "metadata": {},
   "outputs": [
    {
     "data": {
      "text/plain": [
       "{1: 'Cricket', 2: 'Football', 3: 'base ball'}"
      ]
     },
     "execution_count": 5,
     "metadata": {},
     "output_type": "execute_result"
    }
   ],
   "source": [
    "d"
   ]
  },
  {
   "cell_type": "code",
   "execution_count": null,
   "id": "78f70c21",
   "metadata": {},
   "outputs": [],
   "source": [
    "immutable DS:\n",
    "    number\n",
    "    string\n",
    "    tuple\n",
    "    frozenset\n",
    "mutable :\n",
    "    list\n",
    "    set\n",
    "    dict"
   ]
  },
  {
   "cell_type": "code",
   "execution_count": 11,
   "id": "e2c8c235",
   "metadata": {},
   "outputs": [],
   "source": [
    "my_dict = {(1,2,3):'python',34:'java'}"
   ]
  },
  {
   "cell_type": "code",
   "execution_count": 12,
   "id": "a17d7fb5",
   "metadata": {},
   "outputs": [
    {
     "data": {
      "text/plain": [
       "{(1, 2, 3): 'python', 34: 'java'}"
      ]
     },
     "execution_count": 12,
     "metadata": {},
     "output_type": "execute_result"
    }
   ],
   "source": [
    "my_dict"
   ]
  },
  {
   "cell_type": "code",
   "execution_count": 13,
   "id": "794da538",
   "metadata": {},
   "outputs": [],
   "source": [
    "car_details = {\n",
    "    'car_name':'bmw',\n",
    "    'price':20,\n",
    "    'color':'red'\n",
    "}"
   ]
  },
  {
   "cell_type": "code",
   "execution_count": 14,
   "id": "8c92ad95",
   "metadata": {},
   "outputs": [
    {
     "data": {
      "text/plain": [
       "{'car_name': 'bmw', 'price': 20, 'color': 'red'}"
      ]
     },
     "execution_count": 14,
     "metadata": {},
     "output_type": "execute_result"
    }
   ],
   "source": [
    "car_details"
   ]
  },
  {
   "cell_type": "code",
   "execution_count": 15,
   "id": "210a4425",
   "metadata": {},
   "outputs": [
    {
     "data": {
      "text/plain": [
       "'bmw'"
      ]
     },
     "execution_count": 15,
     "metadata": {},
     "output_type": "execute_result"
    }
   ],
   "source": [
    "car_details['car_name']"
   ]
  },
  {
   "cell_type": "code",
   "execution_count": 16,
   "id": "f4c17cd8",
   "metadata": {},
   "outputs": [
    {
     "data": {
      "text/plain": [
       "20"
      ]
     },
     "execution_count": 16,
     "metadata": {},
     "output_type": "execute_result"
    }
   ],
   "source": [
    "car_details['price']"
   ]
  },
  {
   "cell_type": "code",
   "execution_count": 17,
   "id": "b8990ad9",
   "metadata": {},
   "outputs": [
    {
     "ename": "KeyError",
     "evalue": "'dskjbfjkbsd'",
     "output_type": "error",
     "traceback": [
      "\u001b[1;31m---------------------------------------------------------------------------\u001b[0m",
      "\u001b[1;31mKeyError\u001b[0m                                  Traceback (most recent call last)",
      "\u001b[1;32m<ipython-input-17-4b56a0eaef24>\u001b[0m in \u001b[0;36m<module>\u001b[1;34m\u001b[0m\n\u001b[1;32m----> 1\u001b[1;33m \u001b[0mcar_details\u001b[0m\u001b[1;33m[\u001b[0m\u001b[1;34m'dskjbfjkbsd'\u001b[0m\u001b[1;33m]\u001b[0m\u001b[1;33m\u001b[0m\u001b[1;33m\u001b[0m\u001b[0m\n\u001b[0m",
      "\u001b[1;31mKeyError\u001b[0m: 'dskjbfjkbsd'"
     ]
    }
   ],
   "source": [
    "car_details['dskjbfjkbsd']"
   ]
  },
  {
   "cell_type": "code",
   "execution_count": 18,
   "id": "f12077a7",
   "metadata": {},
   "outputs": [
    {
     "data": {
      "text/plain": [
       "{'car_name': 'bmw', 'price': 20, 'color': 'red'}"
      ]
     },
     "execution_count": 18,
     "metadata": {},
     "output_type": "execute_result"
    }
   ],
   "source": [
    "car_details"
   ]
  },
  {
   "cell_type": "code",
   "execution_count": 22,
   "id": "7107fe42",
   "metadata": {},
   "outputs": [
    {
     "data": {
      "text/plain": [
       "20"
      ]
     },
     "execution_count": 22,
     "metadata": {},
     "output_type": "execute_result"
    }
   ],
   "source": [
    "car_details.get('price','No key present')"
   ]
  },
  {
   "cell_type": "code",
   "execution_count": null,
   "id": "268aa562",
   "metadata": {},
   "outputs": [],
   "source": [
    "#get ---> if key present then return its associated value if not then return default value"
   ]
  },
  {
   "cell_type": "code",
   "execution_count": 24,
   "id": "80b9abd2",
   "metadata": {},
   "outputs": [
    {
     "data": {
      "text/plain": [
       "0"
      ]
     },
     "execution_count": 24,
     "metadata": {},
     "output_type": "execute_result"
    }
   ],
   "source": [
    "car_details.get('pridgdgdgce',0)"
   ]
  },
  {
   "cell_type": "code",
   "execution_count": 25,
   "id": "8f7de99e",
   "metadata": {},
   "outputs": [
    {
     "data": {
      "text/plain": [
       "{'id': 101, 'name': 'Arun', 'sal': 50000}"
      ]
     },
     "execution_count": 25,
     "metadata": {},
     "output_type": "execute_result"
    }
   ],
   "source": [
    "my_details"
   ]
  },
  {
   "cell_type": "code",
   "execution_count": 26,
   "id": "f4c1fcc6",
   "metadata": {},
   "outputs": [
    {
     "data": {
      "text/plain": [
       "dict_keys(['id', 'name', 'sal'])"
      ]
     },
     "execution_count": 26,
     "metadata": {},
     "output_type": "execute_result"
    }
   ],
   "source": [
    "my_details.keys()"
   ]
  },
  {
   "cell_type": "code",
   "execution_count": 27,
   "id": "b648d9ce",
   "metadata": {},
   "outputs": [
    {
     "data": {
      "text/plain": [
       "dict_values([101, 'Arun', 50000])"
      ]
     },
     "execution_count": 27,
     "metadata": {},
     "output_type": "execute_result"
    }
   ],
   "source": [
    "my_details.values()"
   ]
  },
  {
   "cell_type": "code",
   "execution_count": 28,
   "id": "529980e5",
   "metadata": {},
   "outputs": [
    {
     "data": {
      "text/plain": [
       "dict_items([('id', 101), ('name', 'Arun'), ('sal', 50000)])"
      ]
     },
     "execution_count": 28,
     "metadata": {},
     "output_type": "execute_result"
    }
   ],
   "source": [
    "my_details.items()"
   ]
  },
  {
   "cell_type": "code",
   "execution_count": 29,
   "id": "ba77f2d8",
   "metadata": {},
   "outputs": [],
   "source": [
    "#insertiton"
   ]
  },
  {
   "cell_type": "code",
   "execution_count": 30,
   "id": "8ae982f9",
   "metadata": {},
   "outputs": [],
   "source": [
    "my_details['city'] = 'pune'"
   ]
  },
  {
   "cell_type": "code",
   "execution_count": 31,
   "id": "7b500d31",
   "metadata": {},
   "outputs": [
    {
     "data": {
      "text/plain": [
       "{'id': 101, 'name': 'Arun', 'sal': 50000, 'city': 'pune'}"
      ]
     },
     "execution_count": 31,
     "metadata": {},
     "output_type": "execute_result"
    }
   ],
   "source": [
    "my_details"
   ]
  },
  {
   "cell_type": "code",
   "execution_count": 32,
   "id": "b17297d7",
   "metadata": {},
   "outputs": [
    {
     "ename": "KeyError",
     "evalue": "1",
     "output_type": "error",
     "traceback": [
      "\u001b[1;31m---------------------------------------------------------------------------\u001b[0m",
      "\u001b[1;31mKeyError\u001b[0m                                  Traceback (most recent call last)",
      "\u001b[1;32m<ipython-input-32-e44e3c8ca9ce>\u001b[0m in \u001b[0;36m<module>\u001b[1;34m\u001b[0m\n\u001b[1;32m----> 1\u001b[1;33m \u001b[0mmy_details\u001b[0m\u001b[1;33m[\u001b[0m\u001b[1;36m1\u001b[0m\u001b[1;33m]\u001b[0m\u001b[1;33m\u001b[0m\u001b[1;33m\u001b[0m\u001b[0m\n\u001b[0m",
      "\u001b[1;31mKeyError\u001b[0m: 1"
     ]
    }
   ],
   "source": [
    "my_details[1]"
   ]
  },
  {
   "cell_type": "code",
   "execution_count": 33,
   "id": "f535d4b9",
   "metadata": {},
   "outputs": [
    {
     "data": {
      "text/plain": [
       "{'id': 101, 'name': 'Arun', 'sal': 50000, 'city': 'pune'}"
      ]
     },
     "execution_count": 33,
     "metadata": {},
     "output_type": "execute_result"
    }
   ],
   "source": [
    "my_details"
   ]
  },
  {
   "cell_type": "code",
   "execution_count": 35,
   "id": "0902e14f",
   "metadata": {},
   "outputs": [],
   "source": [
    "my_details['ince'] = 75000"
   ]
  },
  {
   "cell_type": "code",
   "execution_count": 36,
   "id": "db39307a",
   "metadata": {},
   "outputs": [],
   "source": [
    "my_details.update({'a':1,'b':2,'c':3})"
   ]
  },
  {
   "cell_type": "code",
   "execution_count": 37,
   "id": "5bffee6f",
   "metadata": {},
   "outputs": [
    {
     "data": {
      "text/plain": [
       "{'id': 101,\n",
       " 'name': 'Arun',\n",
       " 'sal': 50000,\n",
       " 'city': 'pune',\n",
       " 'ince': 75000,\n",
       " 'a': 1,\n",
       " 'b': 2,\n",
       " 'c': 3}"
      ]
     },
     "execution_count": 37,
     "metadata": {},
     "output_type": "execute_result"
    }
   ],
   "source": [
    "my_details"
   ]
  },
  {
   "cell_type": "code",
   "execution_count": null,
   "id": "8ac552ae",
   "metadata": {},
   "outputs": [],
   "source": [
    "len() ---- > function ---> call\n",
    "[]  ---> element --access index/key"
   ]
  },
  {
   "cell_type": "code",
   "execution_count": null,
   "id": "52af10be",
   "metadata": {},
   "outputs": [],
   "source": [
    "single ---> [newkey] = value\n",
    "multiple ---> update({key:value pair})"
   ]
  },
  {
   "cell_type": "code",
   "execution_count": 38,
   "id": "c3afae57",
   "metadata": {},
   "outputs": [
    {
     "data": {
      "text/plain": [
       "dict_items([('id', 101), ('name', 'Arun'), ('sal', 50000), ('city', 'pune'), ('ince', 75000), ('a', 1), ('b', 2), ('c', 3)])"
      ]
     },
     "execution_count": 38,
     "metadata": {},
     "output_type": "execute_result"
    }
   ],
   "source": [
    "my_details.items()"
   ]
  },
  {
   "cell_type": "code",
   "execution_count": 39,
   "id": "091a1249",
   "metadata": {},
   "outputs": [
    {
     "data": {
      "text/plain": [
       "dict_keys(['id', 'name', 'sal', 'city', 'ince', 'a', 'b', 'c'])"
      ]
     },
     "execution_count": 39,
     "metadata": {},
     "output_type": "execute_result"
    }
   ],
   "source": [
    "my_details.keys()"
   ]
  },
  {
   "cell_type": "code",
   "execution_count": 40,
   "id": "ab3cb391",
   "metadata": {},
   "outputs": [
    {
     "data": {
      "text/plain": [
       "dict_values([101, 'Arun', 50000, 'pune', 75000, 1, 2, 3])"
      ]
     },
     "execution_count": 40,
     "metadata": {},
     "output_type": "execute_result"
    }
   ],
   "source": [
    "my_details.values()"
   ]
  },
  {
   "cell_type": "code",
   "execution_count": 41,
   "id": "8fe7ba47",
   "metadata": {},
   "outputs": [],
   "source": [
    "#how to update values from dict"
   ]
  },
  {
   "cell_type": "code",
   "execution_count": 42,
   "id": "656c5f39",
   "metadata": {},
   "outputs": [],
   "source": [
    "my_details['name'] = 'Jon'"
   ]
  },
  {
   "cell_type": "code",
   "execution_count": 43,
   "id": "de75426e",
   "metadata": {},
   "outputs": [
    {
     "data": {
      "text/plain": [
       "{'id': 101,\n",
       " 'name': 'Jon',\n",
       " 'sal': 50000,\n",
       " 'city': 'pune',\n",
       " 'ince': 75000,\n",
       " 'a': 1,\n",
       " 'b': 2,\n",
       " 'c': 3}"
      ]
     },
     "execution_count": 43,
     "metadata": {},
     "output_type": "execute_result"
    }
   ],
   "source": [
    "my_details"
   ]
  },
  {
   "cell_type": "code",
   "execution_count": 65,
   "id": "194da8ef",
   "metadata": {},
   "outputs": [],
   "source": [
    "import numpy as np\n",
    "my_dict = {'id':[101,102,103],\n",
    "          'name':['a','b',np.nan],\n",
    "          'city':['pune','bang','chennai']}"
   ]
  },
  {
   "cell_type": "code",
   "execution_count": 66,
   "id": "ae61873f",
   "metadata": {},
   "outputs": [
    {
     "data": {
      "text/plain": [
       "{'id': [101, 102, 103],\n",
       " 'name': ['a', 'b', nan],\n",
       " 'city': ['pune', 'bang', 'chennai']}"
      ]
     },
     "execution_count": 66,
     "metadata": {},
     "output_type": "execute_result"
    }
   ],
   "source": [
    "my_dict"
   ]
  },
  {
   "cell_type": "code",
   "execution_count": 67,
   "id": "fdb12721",
   "metadata": {},
   "outputs": [],
   "source": [
    "import pandas as pd"
   ]
  },
  {
   "cell_type": "code",
   "execution_count": 68,
   "id": "9a4a75dc",
   "metadata": {},
   "outputs": [
    {
     "data": {
      "text/html": [
       "<div>\n",
       "<style scoped>\n",
       "    .dataframe tbody tr th:only-of-type {\n",
       "        vertical-align: middle;\n",
       "    }\n",
       "\n",
       "    .dataframe tbody tr th {\n",
       "        vertical-align: top;\n",
       "    }\n",
       "\n",
       "    .dataframe thead th {\n",
       "        text-align: right;\n",
       "    }\n",
       "</style>\n",
       "<table border=\"1\" class=\"dataframe\">\n",
       "  <thead>\n",
       "    <tr style=\"text-align: right;\">\n",
       "      <th></th>\n",
       "      <th>id</th>\n",
       "      <th>name</th>\n",
       "      <th>city</th>\n",
       "    </tr>\n",
       "  </thead>\n",
       "  <tbody>\n",
       "    <tr>\n",
       "      <th>0</th>\n",
       "      <td>101</td>\n",
       "      <td>a</td>\n",
       "      <td>pune</td>\n",
       "    </tr>\n",
       "    <tr>\n",
       "      <th>1</th>\n",
       "      <td>102</td>\n",
       "      <td>b</td>\n",
       "      <td>bang</td>\n",
       "    </tr>\n",
       "    <tr>\n",
       "      <th>2</th>\n",
       "      <td>103</td>\n",
       "      <td>NaN</td>\n",
       "      <td>chennai</td>\n",
       "    </tr>\n",
       "  </tbody>\n",
       "</table>\n",
       "</div>"
      ],
      "text/plain": [
       "    id name     city\n",
       "0  101    a     pune\n",
       "1  102    b     bang\n",
       "2  103  NaN  chennai"
      ]
     },
     "execution_count": 68,
     "metadata": {},
     "output_type": "execute_result"
    }
   ],
   "source": [
    "pd.DataFrame(my_dict)"
   ]
  },
  {
   "cell_type": "code",
   "execution_count": 64,
   "id": "1f6986bc",
   "metadata": {},
   "outputs": [],
   "source": [
    "k = ('id','prdname','prdprice')"
   ]
  },
  {
   "cell_type": "code",
   "execution_count": 50,
   "id": "80c4e027",
   "metadata": {},
   "outputs": [
    {
     "data": {
      "text/plain": [
       "{'id': 0, 'prdname': 0, 'prdprice': 0}"
      ]
     },
     "execution_count": 50,
     "metadata": {},
     "output_type": "execute_result"
    }
   ],
   "source": [
    "dict.fromkeys(k,0)"
   ]
  },
  {
   "cell_type": "code",
   "execution_count": 51,
   "id": "5dc1ae4e",
   "metadata": {},
   "outputs": [],
   "source": [
    "#when want blank dict without value then we can use fromkeys"
   ]
  },
  {
   "cell_type": "code",
   "execution_count": 69,
   "id": "b3f4baa3",
   "metadata": {},
   "outputs": [
    {
     "data": {
      "text/plain": [
       "{'id': [101, 102, 103],\n",
       " 'name': ['a', 'b', nan],\n",
       " 'city': ['pune', 'bang', 'chennai']}"
      ]
     },
     "execution_count": 69,
     "metadata": {},
     "output_type": "execute_result"
    }
   ],
   "source": [
    "my_dict"
   ]
  },
  {
   "cell_type": "code",
   "execution_count": 70,
   "id": "a56c3a07",
   "metadata": {},
   "outputs": [
    {
     "data": {
      "text/plain": [
       "{'id': 101,\n",
       " 'name': 'Jon',\n",
       " 'sal': 50000,\n",
       " 'city': 'pune',\n",
       " 'ince': 75000,\n",
       " 'a': 1,\n",
       " 'b': 2,\n",
       " 'c': 3}"
      ]
     },
     "execution_count": 70,
     "metadata": {},
     "output_type": "execute_result"
    }
   ],
   "source": [
    "my_details"
   ]
  },
  {
   "cell_type": "code",
   "execution_count": 71,
   "id": "215acdb3",
   "metadata": {},
   "outputs": [],
   "source": [
    "my_details.update({'id':200,'name':'Justin'})"
   ]
  },
  {
   "cell_type": "code",
   "execution_count": 72,
   "id": "28eae31b",
   "metadata": {},
   "outputs": [
    {
     "data": {
      "text/plain": [
       "{'id': 200,\n",
       " 'name': 'Justin',\n",
       " 'sal': 50000,\n",
       " 'city': 'pune',\n",
       " 'ince': 75000,\n",
       " 'a': 1,\n",
       " 'b': 2,\n",
       " 'c': 3}"
      ]
     },
     "execution_count": 72,
     "metadata": {},
     "output_type": "execute_result"
    }
   ],
   "source": [
    "my_details"
   ]
  },
  {
   "cell_type": "code",
   "execution_count": 74,
   "id": "f45e2395",
   "metadata": {},
   "outputs": [],
   "source": [
    "#if key already present then return its value if not then add key value pair"
   ]
  },
  {
   "cell_type": "code",
   "execution_count": 75,
   "id": "b04df842",
   "metadata": {},
   "outputs": [
    {
     "data": {
      "text/plain": [
       "{'id': 200,\n",
       " 'name': 'Justin',\n",
       " 'sal': 50000,\n",
       " 'city': 'pune',\n",
       " 'ince': 75000,\n",
       " 'a': 1,\n",
       " 'b': 2,\n",
       " 'c': 3}"
      ]
     },
     "execution_count": 75,
     "metadata": {},
     "output_type": "execute_result"
    }
   ],
   "source": [
    "my_details"
   ]
  },
  {
   "cell_type": "code",
   "execution_count": 79,
   "id": "b9b563bd",
   "metadata": {},
   "outputs": [
    {
     "data": {
      "text/plain": [
       "500"
      ]
     },
     "execution_count": 79,
     "metadata": {},
     "output_type": "execute_result"
    }
   ],
   "source": [
    "my_details.setdefault('z',500)"
   ]
  },
  {
   "cell_type": "code",
   "execution_count": 80,
   "id": "54491c2e",
   "metadata": {},
   "outputs": [
    {
     "data": {
      "text/plain": [
       "{'id': 200,\n",
       " 'name': 'Justin',\n",
       " 'sal': 50000,\n",
       " 'city': 'pune',\n",
       " 'ince': 75000,\n",
       " 'a': 1,\n",
       " 'b': 2,\n",
       " 'c': 3,\n",
       " <function id(obj, /)>: 500,\n",
       " 'z': 500}"
      ]
     },
     "execution_count": 80,
     "metadata": {},
     "output_type": "execute_result"
    }
   ],
   "source": [
    "my_details"
   ]
  },
  {
   "cell_type": "code",
   "execution_count": 81,
   "id": "1636e2d3",
   "metadata": {},
   "outputs": [],
   "source": [
    "d = {'id': 200,\n",
    " 'name': 'Justin',\n",
    " 'sal': 50000,\n",
    " 'city': 'pune',\n",
    " 'ince': 75000,}"
   ]
  },
  {
   "cell_type": "code",
   "execution_count": 82,
   "id": "8ec4052b",
   "metadata": {},
   "outputs": [
    {
     "data": {
      "text/plain": [
       "{'id': 200, 'name': 'Justin', 'sal': 50000, 'city': 'pune', 'ince': 75000}"
      ]
     },
     "execution_count": 82,
     "metadata": {},
     "output_type": "execute_result"
    }
   ],
   "source": [
    "d"
   ]
  },
  {
   "cell_type": "code",
   "execution_count": 83,
   "id": "a473e2bf",
   "metadata": {},
   "outputs": [
    {
     "data": {
      "text/plain": [
       "'Justin'"
      ]
     },
     "execution_count": 83,
     "metadata": {},
     "output_type": "execute_result"
    }
   ],
   "source": [
    "d.setdefault('name','Rahul')"
   ]
  },
  {
   "cell_type": "code",
   "execution_count": 84,
   "id": "f254c669",
   "metadata": {},
   "outputs": [
    {
     "data": {
      "text/plain": [
       "{'id': 200, 'name': 'Justin', 'sal': 50000, 'city': 'pune', 'ince': 75000}"
      ]
     },
     "execution_count": 84,
     "metadata": {},
     "output_type": "execute_result"
    }
   ],
   "source": [
    "d"
   ]
  },
  {
   "cell_type": "code",
   "execution_count": 85,
   "id": "f95df10d",
   "metadata": {},
   "outputs": [
    {
     "data": {
      "text/plain": [
       "'Mumbai'"
      ]
     },
     "execution_count": 85,
     "metadata": {},
     "output_type": "execute_result"
    }
   ],
   "source": [
    "d.setdefault('loc','Mumbai')"
   ]
  },
  {
   "cell_type": "code",
   "execution_count": 86,
   "id": "602e7427",
   "metadata": {},
   "outputs": [
    {
     "data": {
      "text/plain": [
       "{'id': 200,\n",
       " 'name': 'Justin',\n",
       " 'sal': 50000,\n",
       " 'city': 'pune',\n",
       " 'ince': 75000,\n",
       " 'loc': 'Mumbai'}"
      ]
     },
     "execution_count": 86,
     "metadata": {},
     "output_type": "execute_result"
    }
   ],
   "source": [
    "d"
   ]
  },
  {
   "cell_type": "code",
   "execution_count": 87,
   "id": "9287140d",
   "metadata": {},
   "outputs": [],
   "source": [
    "# how to remove items from dict"
   ]
  },
  {
   "cell_type": "code",
   "execution_count": 89,
   "id": "1538077f",
   "metadata": {},
   "outputs": [
    {
     "data": {
      "text/plain": [
       "'Justin'"
      ]
     },
     "execution_count": 89,
     "metadata": {},
     "output_type": "execute_result"
    }
   ],
   "source": [
    "my_details.pop('name')"
   ]
  },
  {
   "cell_type": "code",
   "execution_count": 90,
   "id": "47289fee",
   "metadata": {},
   "outputs": [
    {
     "data": {
      "text/plain": [
       "{'id': 200,\n",
       " 'sal': 50000,\n",
       " 'city': 'pune',\n",
       " 'ince': 75000,\n",
       " 'a': 1,\n",
       " 'b': 2,\n",
       " 'c': 3,\n",
       " <function id(obj, /)>: 500,\n",
       " 'z': 500}"
      ]
     },
     "execution_count": 90,
     "metadata": {},
     "output_type": "execute_result"
    }
   ],
   "source": [
    "my_details"
   ]
  },
  {
   "cell_type": "code",
   "execution_count": 93,
   "id": "53f5636f",
   "metadata": {},
   "outputs": [
    {
     "data": {
      "text/plain": [
       "2"
      ]
     },
     "execution_count": 93,
     "metadata": {},
     "output_type": "execute_result"
    }
   ],
   "source": [
    "my_details.pop('b')"
   ]
  },
  {
   "cell_type": "code",
   "execution_count": 95,
   "id": "d83d85ed",
   "metadata": {},
   "outputs": [
    {
     "data": {
      "text/plain": [
       "50000"
      ]
     },
     "execution_count": 95,
     "metadata": {},
     "output_type": "execute_result"
    }
   ],
   "source": [
    "my_details.pop('sal')"
   ]
  },
  {
   "cell_type": "code",
   "execution_count": 96,
   "id": "eb1d9ca2",
   "metadata": {},
   "outputs": [
    {
     "data": {
      "text/plain": [
       "{'id': 200,\n",
       " 'city': 'pune',\n",
       " 'ince': 75000,\n",
       " 'a': 1,\n",
       " 'c': 3,\n",
       " <function id(obj, /)>: 500,\n",
       " 'z': 500}"
      ]
     },
     "execution_count": 96,
     "metadata": {},
     "output_type": "execute_result"
    }
   ],
   "source": [
    "my_details"
   ]
  },
  {
   "cell_type": "code",
   "execution_count": 97,
   "id": "7ebf84b3",
   "metadata": {},
   "outputs": [
    {
     "data": {
      "text/plain": [
       "{'id': [101, 102, 103],\n",
       " 'name': ['a', 'b', nan],\n",
       " 'city': ['pune', 'bang', 'chennai']}"
      ]
     },
     "execution_count": 97,
     "metadata": {},
     "output_type": "execute_result"
    }
   ],
   "source": [
    "my_dict"
   ]
  },
  {
   "cell_type": "code",
   "execution_count": 99,
   "id": "f6051ec6",
   "metadata": {},
   "outputs": [],
   "source": [
    "my_dict['id'].remove(102)"
   ]
  },
  {
   "cell_type": "code",
   "execution_count": 100,
   "id": "e10ac3df",
   "metadata": {},
   "outputs": [
    {
     "data": {
      "text/plain": [
       "{'id': [101, 103],\n",
       " 'name': ['a', 'b', nan],\n",
       " 'city': ['pune', 'bang', 'chennai']}"
      ]
     },
     "execution_count": 100,
     "metadata": {},
     "output_type": "execute_result"
    }
   ],
   "source": [
    "my_dict"
   ]
  },
  {
   "cell_type": "code",
   "execution_count": 102,
   "id": "cf27c642",
   "metadata": {},
   "outputs": [
    {
     "data": {
      "text/plain": [
       "200"
      ]
     },
     "execution_count": 102,
     "metadata": {},
     "output_type": "execute_result"
    }
   ],
   "source": [
    "my_details.pop('id')"
   ]
  },
  {
   "cell_type": "code",
   "execution_count": 103,
   "id": "4e4b6d19",
   "metadata": {},
   "outputs": [
    {
     "data": {
      "text/plain": [
       "{'city': 'pune',\n",
       " 'ince': 75000,\n",
       " 'a': 1,\n",
       " 'c': 3,\n",
       " <function id(obj, /)>: 500,\n",
       " 'z': 500}"
      ]
     },
     "execution_count": 103,
     "metadata": {},
     "output_type": "execute_result"
    }
   ],
   "source": [
    "my_details"
   ]
  },
  {
   "cell_type": "code",
   "execution_count": 108,
   "id": "c170c7dd",
   "metadata": {},
   "outputs": [
    {
     "data": {
      "text/plain": [
       "('a', 1)"
      ]
     },
     "execution_count": 108,
     "metadata": {},
     "output_type": "execute_result"
    }
   ],
   "source": [
    "my_details.popitem()"
   ]
  },
  {
   "cell_type": "code",
   "execution_count": 109,
   "id": "e86c0af2",
   "metadata": {},
   "outputs": [
    {
     "data": {
      "text/plain": [
       "{'city': 'pune', 'ince': 75000}"
      ]
     },
     "execution_count": 109,
     "metadata": {},
     "output_type": "execute_result"
    }
   ],
   "source": [
    "my_details"
   ]
  },
  {
   "cell_type": "code",
   "execution_count": 110,
   "id": "9a4bbb95",
   "metadata": {},
   "outputs": [
    {
     "data": {
      "text/plain": [
       "('ince', 75000)"
      ]
     },
     "execution_count": 110,
     "metadata": {},
     "output_type": "execute_result"
    }
   ],
   "source": [
    "my_details.popitem()"
   ]
  },
  {
   "cell_type": "code",
   "execution_count": 112,
   "id": "87e4acf7",
   "metadata": {},
   "outputs": [
    {
     "data": {
      "text/plain": [
       "('city', ['pune', 'bang', 'chennai'])"
      ]
     },
     "execution_count": 112,
     "metadata": {},
     "output_type": "execute_result"
    }
   ],
   "source": [
    "my_dict.popitem()"
   ]
  },
  {
   "cell_type": "code",
   "execution_count": 114,
   "id": "cd01e8cf",
   "metadata": {},
   "outputs": [
    {
     "data": {
      "text/plain": [
       "{'id': [101, 103], 'name': ['a', 'b', nan]}"
      ]
     },
     "execution_count": 114,
     "metadata": {},
     "output_type": "execute_result"
    }
   ],
   "source": [
    "my_dict"
   ]
  },
  {
   "cell_type": "code",
   "execution_count": 115,
   "id": "5d54a592",
   "metadata": {},
   "outputs": [
    {
     "data": {
      "text/plain": [
       "[101, 103]"
      ]
     },
     "execution_count": 115,
     "metadata": {},
     "output_type": "execute_result"
    }
   ],
   "source": [
    "my_dict.pop('id')"
   ]
  },
  {
   "cell_type": "code",
   "execution_count": 117,
   "id": "58001714",
   "metadata": {},
   "outputs": [],
   "source": [
    "d = {'id': [101, 103],\n",
    " 'name': ['a', 'b',' nan'],\n",
    " 'city': ['pune', 'bang', 'chennai']}"
   ]
  },
  {
   "cell_type": "code",
   "execution_count": 118,
   "id": "b3618532",
   "metadata": {},
   "outputs": [
    {
     "data": {
      "text/plain": [
       "{'id': [101, 103],\n",
       " 'name': ['a', 'b', ' nan'],\n",
       " 'city': ['pune', 'bang', 'chennai']}"
      ]
     },
     "execution_count": 118,
     "metadata": {},
     "output_type": "execute_result"
    }
   ],
   "source": [
    "d"
   ]
  },
  {
   "cell_type": "code",
   "execution_count": 120,
   "id": "9bf35532",
   "metadata": {},
   "outputs": [],
   "source": [
    "d['city'].insert(2,'fsfs')"
   ]
  },
  {
   "cell_type": "code",
   "execution_count": 121,
   "id": "1c2ed85f",
   "metadata": {},
   "outputs": [
    {
     "data": {
      "text/plain": [
       "{'id': [101, 103],\n",
       " 'name': ['a', 'b', ' nan'],\n",
       " 'city': ['pune', 'bang', 'fsfs', 'chennai']}"
      ]
     },
     "execution_count": 121,
     "metadata": {},
     "output_type": "execute_result"
    }
   ],
   "source": [
    "d"
   ]
  },
  {
   "cell_type": "code",
   "execution_count": 122,
   "id": "1a3918ad",
   "metadata": {},
   "outputs": [
    {
     "data": {
      "text/plain": [
       "{'id': [101, 103],\n",
       " 'name': ['a', 'b', ' nan'],\n",
       " 'city': ['pune', 'bang', 'fsfs', 'chennai']}"
      ]
     },
     "execution_count": 122,
     "metadata": {},
     "output_type": "execute_result"
    }
   ],
   "source": [
    "d"
   ]
  },
  {
   "cell_type": "code",
   "execution_count": 123,
   "id": "b5873b66",
   "metadata": {},
   "outputs": [],
   "source": [
    "d.clear()"
   ]
  },
  {
   "cell_type": "code",
   "execution_count": 124,
   "id": "7b8db2dd",
   "metadata": {},
   "outputs": [
    {
     "data": {
      "text/plain": [
       "{}"
      ]
     },
     "execution_count": 124,
     "metadata": {},
     "output_type": "execute_result"
    }
   ],
   "source": [
    "d"
   ]
  },
  {
   "cell_type": "code",
   "execution_count": 125,
   "id": "7b5b7ec7",
   "metadata": {},
   "outputs": [],
   "source": [
    "del d"
   ]
  },
  {
   "cell_type": "code",
   "execution_count": 126,
   "id": "68941197",
   "metadata": {},
   "outputs": [
    {
     "ename": "NameError",
     "evalue": "name 'd' is not defined",
     "output_type": "error",
     "traceback": [
      "\u001b[1;31m---------------------------------------------------------------------------\u001b[0m",
      "\u001b[1;31mNameError\u001b[0m                                 Traceback (most recent call last)",
      "\u001b[1;32m<ipython-input-126-e983f374794d>\u001b[0m in \u001b[0;36m<module>\u001b[1;34m\u001b[0m\n\u001b[1;32m----> 1\u001b[1;33m \u001b[0md\u001b[0m\u001b[1;33m\u001b[0m\u001b[1;33m\u001b[0m\u001b[0m\n\u001b[0m",
      "\u001b[1;31mNameError\u001b[0m: name 'd' is not defined"
     ]
    }
   ],
   "source": [
    "d"
   ]
  },
  {
   "cell_type": "code",
   "execution_count": 127,
   "id": "3e543ea2",
   "metadata": {},
   "outputs": [],
   "source": [
    "p = [1,2,3]"
   ]
  },
  {
   "cell_type": "code",
   "execution_count": 128,
   "id": "6ecabb75",
   "metadata": {},
   "outputs": [
    {
     "data": {
      "text/plain": [
       "[1, 2, 3]"
      ]
     },
     "execution_count": 128,
     "metadata": {},
     "output_type": "execute_result"
    }
   ],
   "source": [
    "p"
   ]
  },
  {
   "cell_type": "code",
   "execution_count": 129,
   "id": "e7c8732c",
   "metadata": {},
   "outputs": [],
   "source": [
    "del p"
   ]
  },
  {
   "cell_type": "code",
   "execution_count": 130,
   "id": "f22b2789",
   "metadata": {},
   "outputs": [
    {
     "ename": "NameError",
     "evalue": "name 'p' is not defined",
     "output_type": "error",
     "traceback": [
      "\u001b[1;31m---------------------------------------------------------------------------\u001b[0m",
      "\u001b[1;31mNameError\u001b[0m                                 Traceback (most recent call last)",
      "\u001b[1;32m<ipython-input-130-6c10289a8da7>\u001b[0m in \u001b[0;36m<module>\u001b[1;34m\u001b[0m\n\u001b[1;32m----> 1\u001b[1;33m \u001b[0mp\u001b[0m\u001b[1;33m\u001b[0m\u001b[1;33m\u001b[0m\u001b[0m\n\u001b[0m",
      "\u001b[1;31mNameError\u001b[0m: name 'p' is not defined"
     ]
    }
   ],
   "source": [
    "p"
   ]
  },
  {
   "cell_type": "code",
   "execution_count": 1,
   "id": "9b26e419",
   "metadata": {},
   "outputs": [],
   "source": [
    "d = {'id': 200,\n",
    " 'city': 'pune',\n",
    " 'ince': 75000,\n",
    " 'a': 1,\n",
    " 'c': 3,}"
   ]
  },
  {
   "cell_type": "code",
   "execution_count": 2,
   "id": "b41ab4f0",
   "metadata": {},
   "outputs": [
    {
     "data": {
      "text/plain": [
       "{'id': 200, 'city': 'pune', 'ince': 75000, 'a': 1, 'c': 3}"
      ]
     },
     "execution_count": 2,
     "metadata": {},
     "output_type": "execute_result"
    }
   ],
   "source": [
    "d"
   ]
  },
  {
   "cell_type": "code",
   "execution_count": 3,
   "id": "1b391bf5",
   "metadata": {},
   "outputs": [],
   "source": [
    "d['test'] = 5000"
   ]
  },
  {
   "cell_type": "code",
   "execution_count": 4,
   "id": "1fc560ba",
   "metadata": {},
   "outputs": [
    {
     "data": {
      "text/plain": [
       "{'id': 200, 'city': 'pune', 'ince': 75000, 'a': 1, 'c': 3, 'test': 5000}"
      ]
     },
     "execution_count": 4,
     "metadata": {},
     "output_type": "execute_result"
    }
   ],
   "source": [
    "d"
   ]
  },
  {
   "cell_type": "code",
   "execution_count": 5,
   "id": "cc6a64be",
   "metadata": {},
   "outputs": [],
   "source": [
    "d['city'] = 'mumbai'"
   ]
  },
  {
   "cell_type": "code",
   "execution_count": 6,
   "id": "4a911e84",
   "metadata": {},
   "outputs": [
    {
     "data": {
      "text/plain": [
       "{'id': 200, 'city': 'mumbai', 'ince': 75000, 'a': 1, 'c': 3, 'test': 5000}"
      ]
     },
     "execution_count": 6,
     "metadata": {},
     "output_type": "execute_result"
    }
   ],
   "source": [
    "d"
   ]
  },
  {
   "cell_type": "code",
   "execution_count": 7,
   "id": "ef5e617d",
   "metadata": {},
   "outputs": [
    {
     "data": {
      "text/plain": [
       "200"
      ]
     },
     "execution_count": 7,
     "metadata": {},
     "output_type": "execute_result"
    }
   ],
   "source": [
    "d.pop('id')"
   ]
  },
  {
   "cell_type": "code",
   "execution_count": 8,
   "id": "67d76076",
   "metadata": {},
   "outputs": [
    {
     "data": {
      "text/plain": [
       "{'city': 'mumbai', 'ince': 75000, 'a': 1, 'c': 3, 'test': 5000}"
      ]
     },
     "execution_count": 8,
     "metadata": {},
     "output_type": "execute_result"
    }
   ],
   "source": [
    "d"
   ]
  },
  {
   "cell_type": "code",
   "execution_count": null,
   "id": "fb7c6dbc",
   "metadata": {},
   "outputs": [],
   "source": []
  },
  {
   "cell_type": "code",
   "execution_count": 1,
   "id": "981f3b2c",
   "metadata": {},
   "outputs": [],
   "source": [
    "a = {1:'shubham',\n",
    "    2:\"rakesh\",\n",
    "    3:\"sagar\",\n",
    "    4:\"prakash\"}"
   ]
  },
  {
   "cell_type": "code",
   "execution_count": 2,
   "id": "cc0c2f1d",
   "metadata": {},
   "outputs": [
    {
     "data": {
      "text/plain": [
       "{1: 'shubham', 2: 'rakesh', 3: 'sagar', 4: 'prakash'}"
      ]
     },
     "execution_count": 2,
     "metadata": {},
     "output_type": "execute_result"
    }
   ],
   "source": [
    "a"
   ]
  },
  {
   "cell_type": "code",
   "execution_count": 3,
   "id": "9205e2ed",
   "metadata": {},
   "outputs": [],
   "source": [
    "a[5]=\"nitin\""
   ]
  },
  {
   "cell_type": "code",
   "execution_count": 4,
   "id": "3358bedd",
   "metadata": {},
   "outputs": [
    {
     "data": {
      "text/plain": [
       "{1: 'shubham', 2: 'rakesh', 3: 'sagar', 4: 'prakash', 5: 'nitin'}"
      ]
     },
     "execution_count": 4,
     "metadata": {},
     "output_type": "execute_result"
    }
   ],
   "source": [
    "a"
   ]
  },
  {
   "cell_type": "code",
   "execution_count": null,
   "id": "d2689b98",
   "metadata": {},
   "outputs": [],
   "source": []
  },
  {
   "cell_type": "code",
   "execution_count": 1,
   "id": "04717ed9",
   "metadata": {},
   "outputs": [],
   "source": [
    "A = (1,2,3)"
   ]
  },
  {
   "cell_type": "code",
   "execution_count": 2,
   "id": "5dd2ebfa",
   "metadata": {},
   "outputs": [],
   "source": [
    "b = dict.fromkeys(A,0)"
   ]
  },
  {
   "cell_type": "code",
   "execution_count": 3,
   "id": "0579c6fe",
   "metadata": {},
   "outputs": [
    {
     "data": {
      "text/plain": [
       "{1: 0, 2: 0, 3: 0}"
      ]
     },
     "execution_count": 3,
     "metadata": {},
     "output_type": "execute_result"
    }
   ],
   "source": [
    "b"
   ]
  },
  {
   "cell_type": "code",
   "execution_count": null,
   "id": "196e4564",
   "metadata": {},
   "outputs": [],
   "source": []
  },
  {
   "cell_type": "code",
   "execution_count": null,
   "id": "d300b12e",
   "metadata": {},
   "outputs": [],
   "source": []
  },
  {
   "cell_type": "code",
   "execution_count": null,
   "id": "962de935",
   "metadata": {},
   "outputs": [],
   "source": []
  },
  {
   "cell_type": "code",
   "execution_count": null,
   "id": "f7729bc3",
   "metadata": {},
   "outputs": [],
   "source": []
  },
  {
   "cell_type": "code",
   "execution_count": null,
   "id": "eab225ba",
   "metadata": {},
   "outputs": [],
   "source": []
  },
  {
   "cell_type": "code",
   "execution_count": null,
   "id": "01c89c32",
   "metadata": {},
   "outputs": [],
   "source": []
  },
  {
   "cell_type": "code",
   "execution_count": null,
   "id": "218ce657",
   "metadata": {},
   "outputs": [],
   "source": []
  },
  {
   "cell_type": "code",
   "execution_count": null,
   "id": "9f4bc9c5",
   "metadata": {},
   "outputs": [],
   "source": []
  },
  {
   "cell_type": "code",
   "execution_count": null,
   "id": "7b2de9a9",
   "metadata": {},
   "outputs": [],
   "source": []
  },
  {
   "cell_type": "code",
   "execution_count": null,
   "id": "8f27d453",
   "metadata": {},
   "outputs": [],
   "source": []
  },
  {
   "cell_type": "code",
   "execution_count": null,
   "id": "5bb798fb",
   "metadata": {},
   "outputs": [],
   "source": []
  },
  {
   "cell_type": "code",
   "execution_count": null,
   "id": "34f57485",
   "metadata": {},
   "outputs": [],
   "source": []
  },
  {
   "cell_type": "code",
   "execution_count": null,
   "id": "99b2b122",
   "metadata": {},
   "outputs": [],
   "source": []
  },
  {
   "cell_type": "code",
   "execution_count": null,
   "id": "7258394c",
   "metadata": {},
   "outputs": [],
   "source": []
  },
  {
   "cell_type": "code",
   "execution_count": null,
   "id": "73292f43",
   "metadata": {},
   "outputs": [],
   "source": []
  },
  {
   "cell_type": "code",
   "execution_count": null,
   "id": "8f00dfad",
   "metadata": {},
   "outputs": [],
   "source": []
  }
 ],
 "metadata": {
  "kernelspec": {
   "display_name": "Python 3 (ipykernel)",
   "language": "python",
   "name": "python3"
  },
  "language_info": {
   "codemirror_mode": {
    "name": "ipython",
    "version": 3
   },
   "file_extension": ".py",
   "mimetype": "text/x-python",
   "name": "python",
   "nbconvert_exporter": "python",
   "pygments_lexer": "ipython3",
   "version": "3.9.19"
  }
 },
 "nbformat": 4,
 "nbformat_minor": 5
}
