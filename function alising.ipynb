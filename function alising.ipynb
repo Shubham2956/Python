{
 "cells": [
  {
   "cell_type": "code",
   "execution_count": 10,
   "id": "1936a0a6",
   "metadata": {},
   "outputs": [],
   "source": [
    "x = 100 # global\n",
    "def outer():\n",
    "   \n",
    "    def inner():\n",
    "        \n",
    "        print(x)\n",
    "    "
   ]
  },
  {
   "cell_type": "code",
   "execution_count": 11,
   "id": "95923259",
   "metadata": {},
   "outputs": [],
   "source": [
    "outer()"
   ]
  },
  {
   "cell_type": "code",
   "execution_count": 12,
   "id": "efbb49a5",
   "metadata": {},
   "outputs": [
    {
     "ename": "NameError",
     "evalue": "name 'inner' is not defined",
     "output_type": "error",
     "traceback": [
      "\u001b[1;31m---------------------------------------------------------------------------\u001b[0m",
      "\u001b[1;31mNameError\u001b[0m                                 Traceback (most recent call last)",
      "\u001b[1;32m<ipython-input-12-bc10f1654870>\u001b[0m in \u001b[0;36m<module>\u001b[1;34m\u001b[0m\n\u001b[1;32m----> 1\u001b[1;33m \u001b[0minner\u001b[0m\u001b[1;33m(\u001b[0m\u001b[1;33m)\u001b[0m\u001b[1;33m\u001b[0m\u001b[1;33m\u001b[0m\u001b[0m\n\u001b[0m",
      "\u001b[1;31mNameError\u001b[0m: name 'inner' is not defined"
     ]
    }
   ],
   "source": [
    "inner()"
   ]
  },
  {
   "cell_type": "code",
   "execution_count": null,
   "id": "c60f1beb",
   "metadata": {},
   "outputs": [],
   "source": []
  },
  {
   "cell_type": "code",
   "execution_count": null,
   "id": "2554d1f9",
   "metadata": {},
   "outputs": [],
   "source": []
  },
  {
   "cell_type": "code",
   "execution_count": 13,
   "id": "3facd980",
   "metadata": {},
   "outputs": [],
   "source": [
    "def add():\n",
    "    x = 10\n",
    "    y = 20\n",
    "    print(x+y)"
   ]
  },
  {
   "cell_type": "code",
   "execution_count": 14,
   "id": "75dad908",
   "metadata": {},
   "outputs": [
    {
     "name": "stdout",
     "output_type": "stream",
     "text": [
      "30\n"
     ]
    }
   ],
   "source": [
    "add()"
   ]
  },
  {
   "cell_type": "code",
   "execution_count": 15,
   "id": "1a2ee83c",
   "metadata": {},
   "outputs": [],
   "source": [
    "s = add  # function alicing --- "
   ]
  },
  {
   "cell_type": "code",
   "execution_count": 16,
   "id": "78f1df26",
   "metadata": {},
   "outputs": [
    {
     "name": "stdout",
     "output_type": "stream",
     "text": [
      "30\n"
     ]
    }
   ],
   "source": [
    "s()"
   ]
  },
  {
   "cell_type": "code",
   "execution_count": 17,
   "id": "57dadb8a",
   "metadata": {},
   "outputs": [
    {
     "name": "stdout",
     "output_type": "stream",
     "text": [
      "30\n"
     ]
    }
   ],
   "source": [
    "add()"
   ]
  },
  {
   "cell_type": "code",
   "execution_count": 18,
   "id": "20a3f369",
   "metadata": {},
   "outputs": [],
   "source": [
    "newname = add"
   ]
  },
  {
   "cell_type": "code",
   "execution_count": 19,
   "id": "c8be0b40",
   "metadata": {},
   "outputs": [
    {
     "name": "stdout",
     "output_type": "stream",
     "text": [
      "30\n"
     ]
    }
   ],
   "source": [
    "newname()"
   ]
  },
  {
   "cell_type": "code",
   "execution_count": 20,
   "id": "bff9ae2c",
   "metadata": {},
   "outputs": [
    {
     "name": "stdout",
     "output_type": "stream",
     "text": [
      "30\n"
     ]
    }
   ],
   "source": [
    "s()"
   ]
  },
  {
   "cell_type": "code",
   "execution_count": 21,
   "id": "3f00b3d8",
   "metadata": {},
   "outputs": [
    {
     "name": "stdout",
     "output_type": "stream",
     "text": [
      "30\n"
     ]
    }
   ],
   "source": [
    "newname()"
   ]
  },
  {
   "cell_type": "code",
   "execution_count": 22,
   "id": "0471c197",
   "metadata": {},
   "outputs": [
    {
     "name": "stdout",
     "output_type": "stream",
     "text": [
      "30\n"
     ]
    }
   ],
   "source": [
    "add()"
   ]
  },
  {
   "cell_type": "code",
   "execution_count": 23,
   "id": "742ad2d5",
   "metadata": {},
   "outputs": [],
   "source": [
    "def outer():\n",
    "    def inner():\n",
    "        print(\"from inner\")\n",
    "    return inner"
   ]
  },
  {
   "cell_type": "code",
   "execution_count": 24,
   "id": "5dcc8293",
   "metadata": {},
   "outputs": [],
   "source": [
    "result = outer()"
   ]
  },
  {
   "cell_type": "code",
   "execution_count": 25,
   "id": "0383041d",
   "metadata": {},
   "outputs": [
    {
     "name": "stdout",
     "output_type": "stream",
     "text": [
      "from inner\n"
     ]
    }
   ],
   "source": [
    "result()"
   ]
  },
  {
   "cell_type": "code",
   "execution_count": 27,
   "id": "8e461741",
   "metadata": {},
   "outputs": [],
   "source": [
    "o = outer()"
   ]
  },
  {
   "cell_type": "code",
   "execution_count": 28,
   "id": "2941666d",
   "metadata": {},
   "outputs": [
    {
     "name": "stdout",
     "output_type": "stream",
     "text": [
      "from inner\n"
     ]
    }
   ],
   "source": [
    "o()"
   ]
  },
  {
   "cell_type": "code",
   "execution_count": 29,
   "id": "889489a5",
   "metadata": {},
   "outputs": [],
   "source": [
    "def m1():\n",
    "    def f1():\n",
    "        print(\"from f1\")\n",
    "    return f1"
   ]
  },
  {
   "cell_type": "code",
   "execution_count": 30,
   "id": "0a6205bb",
   "metadata": {},
   "outputs": [],
   "source": [
    "n1 = m1()"
   ]
  },
  {
   "cell_type": "code",
   "execution_count": 31,
   "id": "19e8296c",
   "metadata": {},
   "outputs": [
    {
     "name": "stdout",
     "output_type": "stream",
     "text": [
      "from f1\n"
     ]
    }
   ],
   "source": [
    "n1()"
   ]
  },
  {
   "cell_type": "code",
   "execution_count": 32,
   "id": "0ed01814",
   "metadata": {},
   "outputs": [],
   "source": [
    "g1 = n1"
   ]
  },
  {
   "cell_type": "code",
   "execution_count": 33,
   "id": "8c26c913",
   "metadata": {},
   "outputs": [
    {
     "name": "stdout",
     "output_type": "stream",
     "text": [
      "from f1\n"
     ]
    }
   ],
   "source": [
    "g1()"
   ]
  },
  {
   "cell_type": "code",
   "execution_count": null,
   "id": "5df50013",
   "metadata": {},
   "outputs": [],
   "source": []
  },
  {
   "cell_type": "code",
   "execution_count": 66,
   "id": "3d1c9116",
   "metadata": {},
   "outputs": [],
   "source": [
    "def xyz(func):\n",
    "    def inner():\n",
    "        print(\"*\"*20)\n",
    "        func()\n",
    "        print(\"*\"*20)\n",
    "    return inner\n",
    "\n",
    "\n",
    "def show():\n",
    "    print(\"hi\")"
   ]
  },
  {
   "cell_type": "code",
   "execution_count": 40,
   "id": "31f884f4",
   "metadata": {},
   "outputs": [
    {
     "name": "stdout",
     "output_type": "stream",
     "text": [
      "********************\n",
      "hi\n",
      "********************\n"
     ]
    }
   ],
   "source": [
    "show()"
   ]
  },
  {
   "cell_type": "code",
   "execution_count": 38,
   "id": "d42bd1c1",
   "metadata": {},
   "outputs": [
    {
     "name": "stdout",
     "output_type": "stream",
     "text": [
      "********************\n",
      "hi\n",
      "********************\n"
     ]
    }
   ],
   "source": []
  },
  {
   "cell_type": "code",
   "execution_count": 41,
   "id": "85bf0ff5",
   "metadata": {},
   "outputs": [],
   "source": []
  },
  {
   "cell_type": "code",
   "execution_count": 47,
   "id": "82c165e2",
   "metadata": {},
   "outputs": [],
   "source": [
    "@xyz\n",
    "def display():\n",
    "    x = int(input(\"Enter the number:\"))\n",
    "    y = int(input(\"Enter the second number:\"))\n",
    "    print(x+y)"
   ]
  },
  {
   "cell_type": "code",
   "execution_count": 48,
   "id": "1cd30a8c",
   "metadata": {},
   "outputs": [
    {
     "name": "stdout",
     "output_type": "stream",
     "text": [
      "********************\n",
      "Enter the number:545\n",
      "Enter the second number:151\n",
      "696\n",
      "********************\n"
     ]
    }
   ],
   "source": [
    "display()"
   ]
  },
  {
   "cell_type": "code",
   "execution_count": 50,
   "id": "b94df991",
   "metadata": {},
   "outputs": [],
   "source": [
    "@xyz\n",
    "def f1():\n",
    "    print(\"in f1\")"
   ]
  },
  {
   "cell_type": "code",
   "execution_count": 51,
   "id": "11d13925",
   "metadata": {},
   "outputs": [
    {
     "name": "stdout",
     "output_type": "stream",
     "text": [
      "********************\n",
      "in f1\n",
      "********************\n"
     ]
    }
   ],
   "source": [
    "f1()"
   ]
  },
  {
   "cell_type": "code",
   "execution_count": 62,
   "id": "d0f9c7f5",
   "metadata": {},
   "outputs": [],
   "source": [
    "def decor(f):\n",
    "    def inner(x,y):\n",
    "        if y==0:\n",
    "            print(\"Please check y\")\n",
    "        else :\n",
    "            return f(x,y)\n",
    "    return inner\n",
    "def div(x,y):\n",
    "    return x/y"
   ]
  },
  {
   "cell_type": "code",
   "execution_count": 65,
   "id": "f5eb694d",
   "metadata": {},
   "outputs": [
    {
     "name": "stdout",
     "output_type": "stream",
     "text": [
      "Please check y\n"
     ]
    }
   ],
   "source": [
    "r = div(15,0)"
   ]
  },
  {
   "cell_type": "code",
   "execution_count": 64,
   "id": "1786add2",
   "metadata": {},
   "outputs": [
    {
     "data": {
      "text/plain": [
       "2.5"
      ]
     },
     "execution_count": 64,
     "metadata": {},
     "output_type": "execute_result"
    }
   ],
   "source": [
    "r"
   ]
  },
  {
   "cell_type": "code",
   "execution_count": 69,
   "id": "48f8753a",
   "metadata": {},
   "outputs": [],
   "source": [
    "\n",
    "def temp():\n",
    "    print(\"bhsaduifbsduif\")"
   ]
  },
  {
   "cell_type": "code",
   "execution_count": 70,
   "id": "a9576e91",
   "metadata": {},
   "outputs": [
    {
     "name": "stdout",
     "output_type": "stream",
     "text": [
      "bhsaduifbsduif\n"
     ]
    }
   ],
   "source": [
    "temp()"
   ]
  },
  {
   "cell_type": "code",
   "execution_count": 75,
   "id": "400ceae9",
   "metadata": {},
   "outputs": [],
   "source": [
    "t1 = temp"
   ]
  },
  {
   "cell_type": "code",
   "execution_count": 76,
   "id": "ae537a84",
   "metadata": {},
   "outputs": [
    {
     "name": "stdout",
     "output_type": "stream",
     "text": [
      "bhsaduifbsduif\n"
     ]
    }
   ],
   "source": [
    "t1()"
   ]
  },
  {
   "cell_type": "code",
   "execution_count": null,
   "id": "0d0d750c",
   "metadata": {},
   "outputs": [],
   "source": []
  },
  {
   "cell_type": "code",
   "execution_count": 1,
   "id": "62325348",
   "metadata": {},
   "outputs": [],
   "source": [
    "def outer():\n",
    "    def inner():\n",
    "        return \"from inner\"\n",
    "    return inner"
   ]
  },
  {
   "cell_type": "code",
   "execution_count": 2,
   "id": "1926bb39",
   "metadata": {},
   "outputs": [],
   "source": [
    "obj = outer()"
   ]
  },
  {
   "cell_type": "code",
   "execution_count": 4,
   "id": "3ffdbd54",
   "metadata": {},
   "outputs": [
    {
     "data": {
      "text/plain": [
       "'from inner'"
      ]
     },
     "execution_count": 4,
     "metadata": {},
     "output_type": "execute_result"
    }
   ],
   "source": [
    "obj()"
   ]
  },
  {
   "cell_type": "code",
   "execution_count": null,
   "id": "786e860e",
   "metadata": {},
   "outputs": [],
   "source": []
  },
  {
   "cell_type": "code",
   "execution_count": 2,
   "id": "91d97d4a",
   "metadata": {},
   "outputs": [],
   "source": [
    "def newdec(func):\n",
    "    def inner():\n",
    "        print (\"*\"*20)\n",
    "        func()\n",
    "        print(\"*\"*20)\n",
    "    return inner"
   ]
  },
  {
   "cell_type": "code",
   "execution_count": 6,
   "id": "f166296c",
   "metadata": {},
   "outputs": [],
   "source": [
    "@newdec\n",
    "def add():\n",
    "    x = 20\n",
    "    y = 30\n",
    "    print(x+y)\n",
    "    "
   ]
  },
  {
   "cell_type": "code",
   "execution_count": 8,
   "id": "a66e22fd",
   "metadata": {},
   "outputs": [
    {
     "name": "stdout",
     "output_type": "stream",
     "text": [
      "********************\n",
      "50\n",
      "********************\n"
     ]
    }
   ],
   "source": [
    "add()"
   ]
  },
  {
   "cell_type": "code",
   "execution_count": null,
   "id": "0e8f92c3",
   "metadata": {},
   "outputs": [],
   "source": []
  },
  {
   "cell_type": "code",
   "execution_count": null,
   "id": "f5958ddc",
   "metadata": {},
   "outputs": [],
   "source": []
  },
  {
   "cell_type": "code",
   "execution_count": null,
   "id": "3887c3b3",
   "metadata": {},
   "outputs": [],
   "source": []
  },
  {
   "cell_type": "code",
   "execution_count": null,
   "id": "50d7114f",
   "metadata": {},
   "outputs": [],
   "source": []
  }
 ],
 "metadata": {
  "kernelspec": {
   "display_name": "Python 3 (ipykernel)",
   "language": "python",
   "name": "python3"
  },
  "language_info": {
   "codemirror_mode": {
    "name": "ipython",
    "version": 3
   },
   "file_extension": ".py",
   "mimetype": "text/x-python",
   "name": "python",
   "nbconvert_exporter": "python",
   "pygments_lexer": "ipython3",
   "version": "3.9.19"
  }
 },
 "nbformat": 4,
 "nbformat_minor": 5
}
