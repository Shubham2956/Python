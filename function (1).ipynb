{
 "cells": [
  {
   "cell_type": "code",
   "execution_count": null,
   "id": "5d574321",
   "metadata": {},
   "outputs": [],
   "source": [
    "def functionname(arguments/parameters): # formal arguments\n",
    "    block of statement\n",
    "    return values"
   ]
  },
  {
   "cell_type": "code",
   "execution_count": 87,
   "id": "0ff3f8a7",
   "metadata": {},
   "outputs": [],
   "source": [
    "def a():\n",
    "    print(\"in a\")\n",
    "def b():\n",
    "    print(\"in b\")\n",
    "def c():\n",
    "    print(\"in c\")"
   ]
  },
  {
   "cell_type": "code",
   "execution_count": 89,
   "id": "1239756f",
   "metadata": {},
   "outputs": [],
   "source": [
    "def d():\n",
    "    print(\"in d\")"
   ]
  },
  {
   "cell_type": "code",
   "execution_count": 90,
   "id": "b01dd626",
   "metadata": {},
   "outputs": [
    {
     "name": "stdout",
     "output_type": "stream",
     "text": [
      "in d\n"
     ]
    }
   ],
   "source": [
    "d()"
   ]
  },
  {
   "cell_type": "code",
   "execution_count": 91,
   "id": "24c5f089",
   "metadata": {},
   "outputs": [
    {
     "name": "stdout",
     "output_type": "stream",
     "text": [
      "in a\n"
     ]
    }
   ],
   "source": [
    "a()"
   ]
  },
  {
   "cell_type": "code",
   "execution_count": 92,
   "id": "21aceeef",
   "metadata": {},
   "outputs": [
    {
     "name": "stdout",
     "output_type": "stream",
     "text": [
      "in b\n"
     ]
    }
   ],
   "source": [
    "b()"
   ]
  },
  {
   "cell_type": "code",
   "execution_count": 93,
   "id": "91e482a6",
   "metadata": {},
   "outputs": [
    {
     "name": "stdout",
     "output_type": "stream",
     "text": [
      "in c\n"
     ]
    }
   ],
   "source": [
    "c()"
   ]
  },
  {
   "cell_type": "code",
   "execution_count": null,
   "id": "593cd9cc",
   "metadata": {},
   "outputs": [],
   "source": [
    "functionname(arguemnts/parametes) # actual arguments"
   ]
  },
  {
   "cell_type": "code",
   "execution_count": null,
   "id": "6b5d3b1b",
   "metadata": {},
   "outputs": [],
   "source": []
  },
  {
   "cell_type": "code",
   "execution_count": 96,
   "id": "723a70b3",
   "metadata": {},
   "outputs": [],
   "source": [
    "h = 6000"
   ]
  },
  {
   "cell_type": "code",
   "execution_count": 97,
   "id": "0f6f25bc",
   "metadata": {},
   "outputs": [
    {
     "data": {
      "text/plain": [
       "6000"
      ]
     },
     "execution_count": 97,
     "metadata": {},
     "output_type": "execute_result"
    }
   ],
   "source": [
    "h"
   ]
  },
  {
   "cell_type": "code",
   "execution_count": null,
   "id": "432dd5c2",
   "metadata": {},
   "outputs": [],
   "source": []
  },
  {
   "cell_type": "code",
   "execution_count": null,
   "id": "9f512b73",
   "metadata": {},
   "outputs": [],
   "source": []
  },
  {
   "cell_type": "code",
   "execution_count": 1,
   "id": "dc387cab",
   "metadata": {},
   "outputs": [],
   "source": [
    "def add():\n",
    "    x = 10\n",
    "    y = 20\n",
    "    z = x+y\n",
    "    print(z)"
   ]
  },
  {
   "cell_type": "code",
   "execution_count": 2,
   "id": "d8b1a6a9",
   "metadata": {},
   "outputs": [
    {
     "name": "stdout",
     "output_type": "stream",
     "text": [
      "30\n"
     ]
    }
   ],
   "source": [
    "add()"
   ]
  },
  {
   "cell_type": "code",
   "execution_count": null,
   "id": "f64c0c41",
   "metadata": {},
   "outputs": [],
   "source": []
  },
  {
   "cell_type": "code",
   "execution_count": 5,
   "id": "ff29cf01",
   "metadata": {},
   "outputs": [],
   "source": [
    "def add():\n",
    "\n",
    "    x = int(input(\"Enter the number:\"))\n",
    "    y = int(input(\"enter the number:\"))\n",
    "    z = x+y\n",
    "    print(z)"
   ]
  },
  {
   "cell_type": "code",
   "execution_count": 6,
   "id": "4f0a2b32",
   "metadata": {},
   "outputs": [
    {
     "name": "stdout",
     "output_type": "stream",
     "text": [
      "Enter the number:56\n",
      "enter the number:45\n",
      "101\n"
     ]
    }
   ],
   "source": [
    "add()"
   ]
  },
  {
   "cell_type": "code",
   "execution_count": null,
   "id": "813f1401",
   "metadata": {},
   "outputs": [],
   "source": []
  },
  {
   "cell_type": "code",
   "execution_count": 17,
   "id": "2461f7ae",
   "metadata": {},
   "outputs": [],
   "source": [
    "def add(x,y,p):\n",
    "    z = x+y+p\n",
    "    return z,"
   ]
  },
  {
   "cell_type": "code",
   "execution_count": null,
   "id": "82f1421d",
   "metadata": {},
   "outputs": [],
   "source": []
  },
  {
   "cell_type": "code",
   "execution_count": 15,
   "id": "5a7d27c6",
   "metadata": {},
   "outputs": [
    {
     "name": "stdout",
     "output_type": "stream",
     "text": [
      "176\n"
     ]
    }
   ],
   "source": [
    "add(59,87,30)"
   ]
  },
  {
   "cell_type": "code",
   "execution_count": 21,
   "id": "9bdc3b45",
   "metadata": {},
   "outputs": [
    {
     "name": "stdout",
     "output_type": "stream",
     "text": [
      "welcome to addition programm\n",
      "Enter the number:1\n",
      "enter the number:2\n",
      "enter the number:3\n",
      "else\n"
     ]
    }
   ],
   "source": [
    "print(\"welcome to addition programm\")\n",
    "x = int(input(\"Enter the number:\"))\n",
    "y = int(input(\"enter the number:\"))\n",
    "p = int(input(\"enter the number:\"))\n",
    "result = add(x,y,p)\n",
    "if result > 50:\n",
    "    print(\"if\")\n",
    "else:\n",
    "    print(\"else\")"
   ]
  },
  {
   "cell_type": "code",
   "execution_count": null,
   "id": "8edc3012",
   "metadata": {},
   "outputs": [],
   "source": []
  },
  {
   "cell_type": "code",
   "execution_count": null,
   "id": "0e1a994b",
   "metadata": {},
   "outputs": [],
   "source": []
  },
  {
   "cell_type": "code",
   "execution_count": 25,
   "id": "5281c0ef",
   "metadata": {},
   "outputs": [],
   "source": [
    "def add(x,y,p):\n",
    "    z = x+y+p\n",
    "    return z,x,y,p"
   ]
  },
  {
   "cell_type": "code",
   "execution_count": 26,
   "id": "0080a112",
   "metadata": {},
   "outputs": [],
   "source": [
    "d = add(10,20,30)"
   ]
  },
  {
   "cell_type": "code",
   "execution_count": 27,
   "id": "d32682cc",
   "metadata": {},
   "outputs": [
    {
     "data": {
      "text/plain": [
       "(60, 10, 20, 30)"
      ]
     },
     "execution_count": 27,
     "metadata": {},
     "output_type": "execute_result"
    }
   ],
   "source": [
    "d"
   ]
  },
  {
   "cell_type": "code",
   "execution_count": 28,
   "id": "5ebe2e7f",
   "metadata": {},
   "outputs": [
    {
     "data": {
      "text/plain": [
       "1"
      ]
     },
     "execution_count": 28,
     "metadata": {},
     "output_type": "execute_result"
    }
   ],
   "source": [
    "x"
   ]
  },
  {
   "cell_type": "code",
   "execution_count": 30,
   "id": "5d8838cd",
   "metadata": {},
   "outputs": [],
   "source": [
    "def add(f,h):\n",
    "    l = f+h\n",
    "    return l\n",
    "    "
   ]
  },
  {
   "cell_type": "code",
   "execution_count": 31,
   "id": "3d960480",
   "metadata": {},
   "outputs": [],
   "source": [
    "k = add(50,45)"
   ]
  },
  {
   "cell_type": "code",
   "execution_count": 32,
   "id": "ca7c48c0",
   "metadata": {},
   "outputs": [
    {
     "data": {
      "text/plain": [
       "95"
      ]
     },
     "execution_count": 32,
     "metadata": {},
     "output_type": "execute_result"
    }
   ],
   "source": [
    "k"
   ]
  },
  {
   "cell_type": "code",
   "execution_count": 33,
   "id": "918c2ec8",
   "metadata": {},
   "outputs": [
    {
     "ename": "NameError",
     "evalue": "name 'f' is not defined",
     "output_type": "error",
     "traceback": [
      "\u001b[1;31m---------------------------------------------------------------------------\u001b[0m",
      "\u001b[1;31mNameError\u001b[0m                                 Traceback (most recent call last)",
      "\u001b[1;32m<ipython-input-33-a9fcd54b25e7>\u001b[0m in \u001b[0;36m<module>\u001b[1;34m\u001b[0m\n\u001b[1;32m----> 1\u001b[1;33m \u001b[0mf\u001b[0m\u001b[1;33m\u001b[0m\u001b[1;33m\u001b[0m\u001b[0m\n\u001b[0m",
      "\u001b[1;31mNameError\u001b[0m: name 'f' is not defined"
     ]
    }
   ],
   "source": [
    "f"
   ]
  },
  {
   "cell_type": "code",
   "execution_count": 34,
   "id": "dba893d9",
   "metadata": {},
   "outputs": [
    {
     "ename": "NameError",
     "evalue": "name 'l' is not defined",
     "output_type": "error",
     "traceback": [
      "\u001b[1;31m---------------------------------------------------------------------------\u001b[0m",
      "\u001b[1;31mNameError\u001b[0m                                 Traceback (most recent call last)",
      "\u001b[1;32m<ipython-input-34-cde25b5e10ad>\u001b[0m in \u001b[0;36m<module>\u001b[1;34m\u001b[0m\n\u001b[1;32m----> 1\u001b[1;33m \u001b[0ml\u001b[0m\u001b[1;33m\u001b[0m\u001b[1;33m\u001b[0m\u001b[0m\n\u001b[0m",
      "\u001b[1;31mNameError\u001b[0m: name 'l' is not defined"
     ]
    }
   ],
   "source": [
    "l"
   ]
  },
  {
   "cell_type": "code",
   "execution_count": null,
   "id": "54a0d1b7",
   "metadata": {},
   "outputs": [],
   "source": [
    "no arg no return type\n",
    "def add():\n",
    "    x=10\n",
    "    y = 20\n",
    "    z = x+y"
   ]
  },
  {
   "cell_type": "code",
   "execution_count": null,
   "id": "d3972c83",
   "metadata": {},
   "outputs": [],
   "source": [
    "no arg with return value\n",
    "def add():\n",
    "    x=10\n",
    "    y = 20\n",
    "    return x+y"
   ]
  },
  {
   "cell_type": "code",
   "execution_count": null,
   "id": "525ef7d2",
   "metadata": {},
   "outputs": [],
   "source": [
    "arg with no return type\n",
    "def add(x,y):\n",
    "    print(x+y)"
   ]
  },
  {
   "cell_type": "code",
   "execution_count": null,
   "id": "93339302",
   "metadata": {},
   "outputs": [],
   "source": [
    "arg with return value/ype\n",
    "def add(x,y):\n",
    "    return x+y"
   ]
  },
  {
   "cell_type": "code",
   "execution_count": null,
   "id": "117c8acc",
   "metadata": {},
   "outputs": [],
   "source": [
    "#type of arguements\n",
    "1.positional arguements\n",
    "2.defualt arguements\n",
    "3.variable length arguements(*args) ---> tuple\n",
    "4.keyword arguements\n",
    "5.variable length keyword arguements(**kwargs) ---> dict"
   ]
  },
  {
   "cell_type": "code",
   "execution_count": null,
   "id": "9f6a46d8",
   "metadata": {},
   "outputs": [],
   "source": []
  },
  {
   "cell_type": "code",
   "execution_count": 35,
   "id": "109f5882",
   "metadata": {},
   "outputs": [],
   "source": [
    "#1.Positional arguements"
   ]
  },
  {
   "cell_type": "code",
   "execution_count": 47,
   "id": "3928d513",
   "metadata": {},
   "outputs": [],
   "source": [
    "def car_details(car_name,car_price,car_color,no_of_wheel=4):\n",
    "    print(\"Car Name:\",car_name)\n",
    "    print(\"Car Price:\",car_price)\n",
    "    print(\"Car Color:\",car_color)\n",
    "    print(\"No of Wheel:\",no_of_wheel)"
   ]
  },
  {
   "cell_type": "code",
   "execution_count": 64,
   "id": "f7dd84a8",
   "metadata": {},
   "outputs": [
    {
     "name": "stdout",
     "output_type": "stream",
     "text": [
      "Car Name: BMW\n",
      "Car Price: 45\n",
      "Car Color: red\n",
      "No of Wheel: 5\n"
     ]
    }
   ],
   "source": [
    "car_details('BMW',45,'red',5)"
   ]
  },
  {
   "cell_type": "code",
   "execution_count": 42,
   "id": "f55de0d4",
   "metadata": {},
   "outputs": [
    {
     "ename": "TypeError",
     "evalue": "car_details() missing 1 required positional argument: 'no_of_wheel'",
     "output_type": "error",
     "traceback": [
      "\u001b[1;31m---------------------------------------------------------------------------\u001b[0m",
      "\u001b[1;31mTypeError\u001b[0m                                 Traceback (most recent call last)",
      "\u001b[1;32m<ipython-input-42-38c38475ce43>\u001b[0m in \u001b[0;36m<module>\u001b[1;34m\u001b[0m\n\u001b[1;32m----> 1\u001b[1;33m \u001b[0mcar_details\u001b[0m\u001b[1;33m(\u001b[0m\u001b[1;36m96\u001b[0m\u001b[1;33m,\u001b[0m\u001b[1;34m'black'\u001b[0m\u001b[1;33m,\u001b[0m\u001b[1;34m'Audi'\u001b[0m\u001b[1;33m)\u001b[0m\u001b[1;33m\u001b[0m\u001b[1;33m\u001b[0m\u001b[0m\n\u001b[0m",
      "\u001b[1;31mTypeError\u001b[0m: car_details() missing 1 required positional argument: 'no_of_wheel'"
     ]
    }
   ],
   "source": [
    "car_details()"
   ]
  },
  {
   "cell_type": "code",
   "execution_count": 56,
   "id": "ae8eaf2e",
   "metadata": {},
   "outputs": [],
   "source": [
    "def Personal_details(id,name,city,aadhar='No Data Avilable'):\n",
    "    print(id)\n",
    "    print(name)\n",
    "    print(city)\n",
    "    print(aadhar)"
   ]
  },
  {
   "cell_type": "code",
   "execution_count": 58,
   "id": "061e21cf",
   "metadata": {},
   "outputs": [
    {
     "name": "stdout",
     "output_type": "stream",
     "text": [
      "101\n",
      "Jon\n",
      "Pune\n",
      "54964949\n"
     ]
    }
   ],
   "source": [
    "Personal_details(101,'Jon','Pune',54964949)"
   ]
  },
  {
   "cell_type": "code",
   "execution_count": 59,
   "id": "3da6277c",
   "metadata": {},
   "outputs": [],
   "source": [
    "def add(a=0,b=0,c=0):\n",
    "    print(a+b+c)"
   ]
  },
  {
   "cell_type": "code",
   "execution_count": 66,
   "id": "91796fd1",
   "metadata": {},
   "outputs": [
    {
     "name": "stdout",
     "output_type": "stream",
     "text": [
      "60\n"
     ]
    }
   ],
   "source": [
    "add(10,20,30)"
   ]
  },
  {
   "cell_type": "code",
   "execution_count": null,
   "id": "4fab3863",
   "metadata": {},
   "outputs": [],
   "source": []
  },
  {
   "cell_type": "code",
   "execution_count": 75,
   "id": "0c1ba5a3",
   "metadata": {},
   "outputs": [],
   "source": [
    "def add(*temp):\n",
    "    t = 0\n",
    "    for  i in temp:\n",
    "        t = t+i\n",
    "    print(f\"Addition of given num is :{t}\")\n",
    "   "
   ]
  },
  {
   "cell_type": "code",
   "execution_count": 76,
   "id": "8d6a3021",
   "metadata": {},
   "outputs": [
    {
     "name": "stdout",
     "output_type": "stream",
     "text": [
      "Addition of given num is :105\n"
     ]
    }
   ],
   "source": [
    "add(45,60)"
   ]
  },
  {
   "cell_type": "code",
   "execution_count": 77,
   "id": "263a80ec",
   "metadata": {},
   "outputs": [
    {
     "name": "stdout",
     "output_type": "stream",
     "text": [
      "Addition of given num is :153\n"
     ]
    }
   ],
   "source": [
    "add(90,60,3)"
   ]
  },
  {
   "cell_type": "code",
   "execution_count": null,
   "id": "63af4d01",
   "metadata": {},
   "outputs": [],
   "source": [
    "#variable length arguments --> tuple"
   ]
  },
  {
   "cell_type": "code",
   "execution_count": 78,
   "id": "c2ef85b2",
   "metadata": {},
   "outputs": [
    {
     "name": "stdout",
     "output_type": "stream",
     "text": [
      "Addition of given num is :655\n"
     ]
    }
   ],
   "source": [
    "add(1,56,90,36,78,56,23,45,20,30,60,90,70)"
   ]
  },
  {
   "cell_type": "code",
   "execution_count": null,
   "id": "b328ec7f",
   "metadata": {},
   "outputs": [],
   "source": []
  },
  {
   "cell_type": "code",
   "execution_count": 79,
   "id": "05cc6fd6",
   "metadata": {},
   "outputs": [],
   "source": [
    "def car_details(car_name,car_price,car_color,no_of_wheel):\n",
    "    print(\"Car Name:\",car_name)\n",
    "    print(\"Car Price:\",car_price)\n",
    "    print(\"Car Color:\",car_color)\n",
    "    print(\"No of Wheel:\",no_of_wheel)"
   ]
  },
  {
   "cell_type": "code",
   "execution_count": 80,
   "id": "63e66182",
   "metadata": {},
   "outputs": [
    {
     "name": "stdout",
     "output_type": "stream",
     "text": [
      "Car Name: BMW\n",
      "Car Price: 4664646456\n",
      "Car Color: yellow\n",
      "No of Wheel: 5\n"
     ]
    }
   ],
   "source": [
    "car_details(no_of_wheel=5,car_color='yellow',car_name ='BMW',car_price=4664646456)"
   ]
  },
  {
   "cell_type": "code",
   "execution_count": 81,
   "id": "9ac8d562",
   "metadata": {},
   "outputs": [],
   "source": [
    "def personal_details(**kwargs):\n",
    "    print(kwargs)"
   ]
  },
  {
   "cell_type": "code",
   "execution_count": 84,
   "id": "cbcb4e61",
   "metadata": {},
   "outputs": [
    {
     "name": "stdout",
     "output_type": "stream",
     "text": [
      "{'name': 'Justin', 'age': 45, 'designation': 'SE'}\n"
     ]
    }
   ],
   "source": [
    "personal_details(name='Justin',age=45,designation='SE')"
   ]
  },
  {
   "cell_type": "code",
   "execution_count": 86,
   "id": "4412150e",
   "metadata": {},
   "outputs": [],
   "source": [
    "##   *args vs **kwargs"
   ]
  },
  {
   "cell_type": "code",
   "execution_count": null,
   "id": "c2b5413e",
   "metadata": {},
   "outputs": [],
   "source": [
    "#types variable\n",
    "1.local variable\n",
    "2.global variable"
   ]
  },
  {
   "cell_type": "code",
   "execution_count": null,
   "id": "17e0b68f",
   "metadata": {},
   "outputs": [],
   "source": []
  },
  {
   "cell_type": "code",
   "execution_count": null,
   "id": "fa1c8057",
   "metadata": {},
   "outputs": [],
   "source": []
  },
  {
   "cell_type": "code",
   "execution_count": 4,
   "id": "568e7edc",
   "metadata": {},
   "outputs": [],
   "source": [
    "def add():\n",
    "    x = 10\n",
    "    y = 20\n",
    "    z = x+y\n",
    "    print(z)\n",
    "    "
   ]
  },
  {
   "cell_type": "code",
   "execution_count": 5,
   "id": "fde6f565",
   "metadata": {},
   "outputs": [
    {
     "name": "stdout",
     "output_type": "stream",
     "text": [
      "30\n"
     ]
    }
   ],
   "source": [
    "add()"
   ]
  },
  {
   "cell_type": "code",
   "execution_count": 6,
   "id": "efb01a9d",
   "metadata": {},
   "outputs": [],
   "source": [
    "def add1(x,y):\n",
    "    z = x+y\n",
    "    print(z)"
   ]
  },
  {
   "cell_type": "code",
   "execution_count": 8,
   "id": "f1e7e807",
   "metadata": {},
   "outputs": [
    {
     "name": "stdout",
     "output_type": "stream",
     "text": [
      "76\n"
     ]
    }
   ],
   "source": [
    "add1(20,56)"
   ]
  },
  {
   "cell_type": "code",
   "execution_count": 10,
   "id": "86b5d637",
   "metadata": {},
   "outputs": [],
   "source": [
    "def add2():\n",
    "    x = int(input(\"enter the number:\"))\n",
    "    y = int(input(\"enter the number:\"))\n",
    "    z = x+y\n",
    "    print(f\"addition of {x} and {y} is {z}\")\n",
    "    "
   ]
  },
  {
   "cell_type": "code",
   "execution_count": 11,
   "id": "e5cacf6c",
   "metadata": {},
   "outputs": [
    {
     "name": "stdout",
     "output_type": "stream",
     "text": [
      "enter the number:33\n",
      "enter the number:24\n",
      "addition of 33 and 24 is 57\n"
     ]
    }
   ],
   "source": [
    "add2()"
   ]
  },
  {
   "cell_type": "code",
   "execution_count": null,
   "id": "485f97ab",
   "metadata": {},
   "outputs": [],
   "source": []
  },
  {
   "cell_type": "code",
   "execution_count": null,
   "id": "7a687e16",
   "metadata": {},
   "outputs": [],
   "source": [
    "# positional argument\n",
    "# default argument\n",
    "# variable length argument\n",
    "# keyword argument\n",
    "# variable length keyword arguments"
   ]
  },
  {
   "cell_type": "code",
   "execution_count": null,
   "id": "b96d5dd7",
   "metadata": {},
   "outputs": [],
   "source": []
  },
  {
   "cell_type": "code",
   "execution_count": null,
   "id": "e668cf72",
   "metadata": {},
   "outputs": [],
   "source": [
    "# positional arguments :"
   ]
  },
  {
   "cell_type": "code",
   "execution_count": null,
   "id": "56aad03a",
   "metadata": {},
   "outputs": [],
   "source": []
  },
  {
   "cell_type": "code",
   "execution_count": 14,
   "id": "1180234a",
   "metadata": {},
   "outputs": [],
   "source": [
    "def pyt(name , emp_id , salary , addr):\n",
    "    print(name , emp_id , salary , addr)\n",
    "    "
   ]
  },
  {
   "cell_type": "code",
   "execution_count": 18,
   "id": "07e761e0",
   "metadata": {},
   "outputs": [
    {
     "name": "stdout",
     "output_type": "stream",
     "text": [
      "shubham 101 20000 pune\n"
     ]
    }
   ],
   "source": [
    "pyt('shubham',101,20000,'pune')"
   ]
  },
  {
   "cell_type": "code",
   "execution_count": null,
   "id": "ff7527b3",
   "metadata": {},
   "outputs": [],
   "source": []
  },
  {
   "cell_type": "code",
   "execution_count": null,
   "id": "85b459f2",
   "metadata": {},
   "outputs": [],
   "source": [
    "#default arguments"
   ]
  },
  {
   "cell_type": "code",
   "execution_count": null,
   "id": "fb0e9e38",
   "metadata": {},
   "outputs": [],
   "source": []
  },
  {
   "cell_type": "code",
   "execution_count": 20,
   "id": "c6ae128a",
   "metadata": {},
   "outputs": [],
   "source": [
    "def pyth(name,emp_id,salary,adhar_no = 'not having aadhar'):\n",
    "    print(name)\n",
    "    print(emp_id)\n",
    "    print(adhar_no)\n",
    "    print(salary)"
   ]
  },
  {
   "cell_type": "code",
   "execution_count": 21,
   "id": "a441acac",
   "metadata": {},
   "outputs": [
    {
     "name": "stdout",
     "output_type": "stream",
     "text": [
      "shubham\n",
      "101\n",
      "not having aadhar\n",
      "200000\n"
     ]
    }
   ],
   "source": [
    "pyth('shubham',101,200000)"
   ]
  },
  {
   "cell_type": "code",
   "execution_count": null,
   "id": "1efc2ea4",
   "metadata": {},
   "outputs": [],
   "source": []
  },
  {
   "cell_type": "code",
   "execution_count": null,
   "id": "91496d18",
   "metadata": {},
   "outputs": [],
   "source": [
    "# variable length argument :"
   ]
  },
  {
   "cell_type": "code",
   "execution_count": null,
   "id": "461102fe",
   "metadata": {},
   "outputs": [],
   "source": []
  },
  {
   "cell_type": "code",
   "execution_count": 23,
   "id": "037f7813",
   "metadata": {},
   "outputs": [],
   "source": [
    "def new(*args):\n",
    "    print(*args)"
   ]
  },
  {
   "cell_type": "code",
   "execution_count": 24,
   "id": "c8354ac6",
   "metadata": {},
   "outputs": [
    {
     "name": "stdout",
     "output_type": "stream",
     "text": [
      "10 20 30 20\n"
     ]
    }
   ],
   "source": [
    "new(10,20,30,20)"
   ]
  },
  {
   "cell_type": "code",
   "execution_count": null,
   "id": "60b6eb60",
   "metadata": {},
   "outputs": [],
   "source": []
  },
  {
   "cell_type": "code",
   "execution_count": 3,
   "id": "f4ad5c38",
   "metadata": {},
   "outputs": [],
   "source": [
    "def argadd(*args):\n",
    "    t = 0\n",
    "    for i in args:\n",
    "        t = t+i\n",
    "    print(f\" addition of numbers is {t}\")"
   ]
  },
  {
   "cell_type": "code",
   "execution_count": 4,
   "id": "a9cab141",
   "metadata": {},
   "outputs": [
    {
     "name": "stdout",
     "output_type": "stream",
     "text": [
      " addition of numbers is 140\n"
     ]
    }
   ],
   "source": [
    "argadd(20,40,50,30)"
   ]
  },
  {
   "cell_type": "code",
   "execution_count": null,
   "id": "a2e9333c",
   "metadata": {},
   "outputs": [],
   "source": []
  },
  {
   "cell_type": "code",
   "execution_count": 2,
   "id": "588fd603",
   "metadata": {},
   "outputs": [],
   "source": [
    "def adds():\n",
    "    x = 20\n",
    "    y = 30\n",
    "    z = x+y\n",
    "    return z "
   ]
  },
  {
   "cell_type": "code",
   "execution_count": 3,
   "id": "e2b7e3b4",
   "metadata": {},
   "outputs": [
    {
     "data": {
      "text/plain": [
       "50"
      ]
     },
     "execution_count": 3,
     "metadata": {},
     "output_type": "execute_result"
    }
   ],
   "source": [
    "adds()"
   ]
  },
  {
   "cell_type": "code",
   "execution_count": null,
   "id": "6c42b0d3",
   "metadata": {},
   "outputs": [],
   "source": []
  },
  {
   "cell_type": "code",
   "execution_count": 19,
   "id": "9e29ca5a",
   "metadata": {},
   "outputs": [],
   "source": [
    "\n",
    "def addd():\n",
    "    x = int(input(\"enter the number for x :\"))\n",
    "    y = int(input(\"enter the number for y :\"))\n",
    "    z = x+y\n",
    "    print(f\"answer of the equation is :{z}\" )\n",
    "   \n",
    "    "
   ]
  },
  {
   "cell_type": "code",
   "execution_count": 20,
   "id": "338145ec",
   "metadata": {},
   "outputs": [
    {
     "name": "stdout",
     "output_type": "stream",
     "text": [
      "enter the number for x :33\n",
      "enter the number for y :44\n",
      "answer of the equation is :77\n"
     ]
    }
   ],
   "source": [
    "addd()"
   ]
  },
  {
   "cell_type": "code",
   "execution_count": null,
   "id": "ad6d266f",
   "metadata": {},
   "outputs": [],
   "source": []
  },
  {
   "cell_type": "code",
   "execution_count": 21,
   "id": "6f32d99e",
   "metadata": {},
   "outputs": [],
   "source": [
    "def sum(x,y):\n",
    "    z = x+y\n",
    "    print(z)"
   ]
  },
  {
   "cell_type": "code",
   "execution_count": 22,
   "id": "51a8d7b2",
   "metadata": {},
   "outputs": [
    {
     "name": "stdout",
     "output_type": "stream",
     "text": [
      "70\n"
     ]
    }
   ],
   "source": [
    "sum(20,50)"
   ]
  },
  {
   "cell_type": "code",
   "execution_count": null,
   "id": "f18a080e",
   "metadata": {},
   "outputs": [],
   "source": []
  },
  {
   "cell_type": "code",
   "execution_count": 3,
   "id": "0f9fd9a9",
   "metadata": {},
   "outputs": [],
   "source": [
    "x = 500\n",
    "def temp():\n",
    "    x = 100\n",
    "    print(x)"
   ]
  },
  {
   "cell_type": "code",
   "execution_count": 4,
   "id": "b742a4ea",
   "metadata": {},
   "outputs": [
    {
     "data": {
      "text/plain": [
       "500"
      ]
     },
     "execution_count": 4,
     "metadata": {},
     "output_type": "execute_result"
    }
   ],
   "source": [
    "x"
   ]
  },
  {
   "cell_type": "code",
   "execution_count": 5,
   "id": "bcb39777",
   "metadata": {},
   "outputs": [
    {
     "name": "stdout",
     "output_type": "stream",
     "text": [
      "100\n"
     ]
    }
   ],
   "source": [
    "temp()"
   ]
  },
  {
   "cell_type": "code",
   "execution_count": 6,
   "id": "48f1eeac",
   "metadata": {},
   "outputs": [],
   "source": [
    "x = 500\n",
    "def temp():\n",
    "    global x\n",
    "    x = 100\n",
    "    print(x)"
   ]
  },
  {
   "cell_type": "code",
   "execution_count": 7,
   "id": "f26be385",
   "metadata": {},
   "outputs": [
    {
     "name": "stdout",
     "output_type": "stream",
     "text": [
      "100\n"
     ]
    }
   ],
   "source": [
    "temp()"
   ]
  },
  {
   "cell_type": "code",
   "execution_count": 8,
   "id": "262007c1",
   "metadata": {},
   "outputs": [
    {
     "data": {
      "text/plain": [
       "100"
      ]
     },
     "execution_count": 8,
     "metadata": {},
     "output_type": "execute_result"
    }
   ],
   "source": [
    "x"
   ]
  },
  {
   "cell_type": "code",
   "execution_count": 9,
   "id": "93910ac6",
   "metadata": {},
   "outputs": [
    {
     "data": {
      "text/plain": [
       "40"
      ]
     },
     "execution_count": 9,
     "metadata": {},
     "output_type": "execute_result"
    }
   ],
   "source": [
    "(lambda x,y:x+y)(10,30)"
   ]
  },
  {
   "cell_type": "code",
   "execution_count": 3,
   "id": "eb3b3381",
   "metadata": {},
   "outputs": [],
   "source": [
    "def add(*arg):\n",
    "        t = 0\n",
    "        for i in arg:\n",
    "            t = t+i\n",
    "        print(f\"adition of numbers is {t}\")\n",
    "        "
   ]
  },
  {
   "cell_type": "code",
   "execution_count": 4,
   "id": "870aa111",
   "metadata": {},
   "outputs": [
    {
     "name": "stdout",
     "output_type": "stream",
     "text": [
      "adition of numbers is 150\n"
     ]
    }
   ],
   "source": [
    "add(10,30,50,60)"
   ]
  },
  {
   "cell_type": "code",
   "execution_count": null,
   "id": "8fd7481b",
   "metadata": {},
   "outputs": [],
   "source": []
  },
  {
   "cell_type": "code",
   "execution_count": 4,
   "id": "fb601f38",
   "metadata": {},
   "outputs": [],
   "source": [
    "def add(x,y):\n",
    "    x\n",
    "    y\n",
    "    z = x+y\n",
    "    print(z)"
   ]
  },
  {
   "cell_type": "code",
   "execution_count": 5,
   "id": "d9db04da",
   "metadata": {},
   "outputs": [
    {
     "name": "stdout",
     "output_type": "stream",
     "text": [
      "30\n"
     ]
    }
   ],
   "source": [
    "add(20,10)"
   ]
  },
  {
   "cell_type": "code",
   "execution_count": 9,
   "id": "dcde5165",
   "metadata": {},
   "outputs": [],
   "source": [
    "def add(x = 10,y = 20):\n",
    "    print(x)\n",
    "    print(y)\n",
    "    z = x+y\n",
    "    print(f\"addition of {x} and {y} is {z}\")"
   ]
  },
  {
   "cell_type": "code",
   "execution_count": 10,
   "id": "a1a6c57b",
   "metadata": {},
   "outputs": [
    {
     "name": "stdout",
     "output_type": "stream",
     "text": [
      "10\n",
      "20\n",
      "addition of 10 and 20 is 30\n"
     ]
    }
   ],
   "source": [
    "add()"
   ]
  },
  {
   "cell_type": "code",
   "execution_count": 20,
   "id": "67e0bb8a",
   "metadata": {},
   "outputs": [],
   "source": [
    "def add(*arg):\n",
    "    t = 0\n",
    "    for i in arg:\n",
    "        t = t+i\n",
    "    print(t)"
   ]
  },
  {
   "cell_type": "code",
   "execution_count": 21,
   "id": "c6018d14",
   "metadata": {},
   "outputs": [
    {
     "name": "stdout",
     "output_type": "stream",
     "text": [
      "30\n"
     ]
    }
   ],
   "source": [
    "add(10,20)"
   ]
  },
  {
   "cell_type": "code",
   "execution_count": null,
   "id": "18acb9e4",
   "metadata": {},
   "outputs": [],
   "source": []
  },
  {
   "cell_type": "code",
   "execution_count": 2,
   "id": "64736e92",
   "metadata": {},
   "outputs": [],
   "source": [
    "def add(a,b,c):\n",
    "    z = a+b+c\n",
    "    return z"
   ]
  },
  {
   "cell_type": "code",
   "execution_count": 7,
   "id": "6b4030ae",
   "metadata": {},
   "outputs": [],
   "source": [
    "def add(*temp):\n",
    "    t = 0\n",
    "    for i in temp:\n",
    "        t = t+i\n",
    "    print(f\"addition od given no. is {t}\")"
   ]
  },
  {
   "cell_type": "code",
   "execution_count": 8,
   "id": "b1f851fe",
   "metadata": {},
   "outputs": [
    {
     "name": "stdout",
     "output_type": "stream",
     "text": [
      "addition od given no. is 110\n"
     ]
    }
   ],
   "source": [
    "add(20,40,50)"
   ]
  },
  {
   "cell_type": "code",
   "execution_count": null,
   "id": "80408766",
   "metadata": {},
   "outputs": [],
   "source": []
  },
  {
   "cell_type": "code",
   "execution_count": 3,
   "id": "306fab71",
   "metadata": {},
   "outputs": [],
   "source": [
    "def add(x ,y):\n",
    "    print(x)\n",
    "    print(y)\n",
    "    z = x+y\n",
    "    return (f\"addition of {x} and {y} is :{z}\")"
   ]
  },
  {
   "cell_type": "code",
   "execution_count": 4,
   "id": "4c41d801",
   "metadata": {},
   "outputs": [
    {
     "name": "stdout",
     "output_type": "stream",
     "text": [
      "20\n",
      "10\n"
     ]
    },
    {
     "data": {
      "text/plain": [
       "'addition of 20 and 10 is :30'"
      ]
     },
     "execution_count": 4,
     "metadata": {},
     "output_type": "execute_result"
    }
   ],
   "source": [
    "add(20,10)"
   ]
  },
  {
   "cell_type": "code",
   "execution_count": 10,
   "id": "269a9584",
   "metadata": {},
   "outputs": [],
   "source": [
    "### positional arguments\n",
    "\n",
    "def car_details(car_company,car_color,car_price,car_seat_capacity):\n",
    "    print(\"Car Company :\",car_company)\n",
    "    print(\"Car color :\",car_color)    \n",
    "    print(\"Car price :\" ,car_price)\n",
    "    print(\"Car capacity :\" ,car_seat_capacity)\n",
    "    "
   ]
  },
  {
   "cell_type": "code",
   "execution_count": 14,
   "id": "80f52722",
   "metadata": {},
   "outputs": [
    {
     "name": "stdout",
     "output_type": "stream",
     "text": [
      "Car Company : ford\n",
      "Car color : black\n",
      "Car price : 700000\n",
      "Car capacity : 5\n"
     ]
    }
   ],
   "source": [
    "car_details(\"ford\",\"black\",700000,5)"
   ]
  },
  {
   "cell_type": "code",
   "execution_count": null,
   "id": "038a667c",
   "metadata": {},
   "outputs": [],
   "source": [
    "#### default arguments "
   ]
  },
  {
   "cell_type": "code",
   "execution_count": 15,
   "id": "3c218009",
   "metadata": {},
   "outputs": [],
   "source": [
    "def fruit(fruit_name,fruit_colour,fruit_type = \"edible\"):\n",
    "    print(\"fruit name :\" , fruit_name)\n",
    "    print(\"fruit color :\" , fruit_colour)    \n",
    "    print(\"fruit type :\" , fruit_type)\n",
    "       "
   ]
  },
  {
   "cell_type": "code",
   "execution_count": 16,
   "id": "b0a1130e",
   "metadata": {},
   "outputs": [
    {
     "name": "stdout",
     "output_type": "stream",
     "text": [
      "fruit name : orange\n",
      "fruit color : orange\n",
      "fruit type : edible\n"
     ]
    }
   ],
   "source": [
    "fruit(\"orange\",\"orange\")"
   ]
  },
  {
   "cell_type": "code",
   "execution_count": null,
   "id": "3986b740",
   "metadata": {},
   "outputs": [],
   "source": [
    "#### keyword argument"
   ]
  },
  {
   "cell_type": "code",
   "execution_count": 17,
   "id": "8305d670",
   "metadata": {},
   "outputs": [],
   "source": [
    "def fruit_1(fruit_name,fruit_colour,fruit_taste, fruit_qulity,fruit_type = \"edible\"):\n",
    "    print(\"fruit name :\" , fruit_name)\n",
    "    print(\"fruit color :\" , fruit_colour)    \n",
    "    print(\"fruit taste :\" , fruit_taste)\n",
    "    print(\"fruit quality :\" , fruit_qulity)\n",
    "    print(\"fruit type :\" , fruit_type)"
   ]
  },
  {
   "cell_type": "code",
   "execution_count": 18,
   "id": "24fd3977",
   "metadata": {},
   "outputs": [
    {
     "name": "stdout",
     "output_type": "stream",
     "text": [
      "fruit name : orange\n",
      "fruit color : orange\n",
      "fruit taste : sweet and tangy\n",
      "fruit quality : good\n",
      "fruit type : edible\n"
     ]
    }
   ],
   "source": [
    "fruit_1(fruit_qulity=\"good\",fruit_taste=\"sweet and tangy\",fruit_name = \"orange\",fruit_colour = \"orange\")"
   ]
  },
  {
   "cell_type": "code",
   "execution_count": null,
   "id": "1f544897",
   "metadata": {},
   "outputs": [],
   "source": []
  },
  {
   "cell_type": "code",
   "execution_count": null,
   "id": "2407dcc7",
   "metadata": {},
   "outputs": [],
   "source": [
    "####variable length argument"
   ]
  },
  {
   "cell_type": "code",
   "execution_count": 19,
   "id": "6210b571",
   "metadata": {},
   "outputs": [],
   "source": [
    "def add(*arg):\n",
    "    print(arg)"
   ]
  },
  {
   "cell_type": "code",
   "execution_count": 20,
   "id": "d3ab87bf",
   "metadata": {},
   "outputs": [
    {
     "name": "stdout",
     "output_type": "stream",
     "text": [
      "(10, 30, 50)\n"
     ]
    }
   ],
   "source": [
    "add(10,30,50)"
   ]
  },
  {
   "cell_type": "code",
   "execution_count": 21,
   "id": "f2955d17",
   "metadata": {},
   "outputs": [],
   "source": [
    "def sum(**kwargs):\n",
    "    print(kwargs)"
   ]
  },
  {
   "cell_type": "code",
   "execution_count": 23,
   "id": "7ac40b2c",
   "metadata": {},
   "outputs": [
    {
     "name": "stdout",
     "output_type": "stream",
     "text": [
      "{'one': 'one_1', 'two': 'two_2'}\n"
     ]
    }
   ],
   "source": [
    "sum(one =\"one_1\",two =\"two_2\")"
   ]
  },
  {
   "cell_type": "code",
   "execution_count": null,
   "id": "b2dc5e88",
   "metadata": {},
   "outputs": [],
   "source": []
  },
  {
   "cell_type": "code",
   "execution_count": 1,
   "id": "fbde17b0",
   "metadata": {},
   "outputs": [],
   "source": [
    "p = [0,3,4,54,2,4]"
   ]
  },
  {
   "cell_type": "code",
   "execution_count": 3,
   "id": "a284c10a",
   "metadata": {},
   "outputs": [],
   "source": [
    "lambda"
   ]
  },
  {
   "cell_type": "code",
   "execution_count": 6,
   "id": "d4bab345",
   "metadata": {},
   "outputs": [
    {
     "data": {
      "text/plain": [
       "(<function __main__.<lambda>(x)>, [0, 3, 4, 54, 2, 4])"
      ]
     },
     "execution_count": 6,
     "metadata": {},
     "output_type": "execute_result"
    }
   ],
   "source": [
    "l"
   ]
  },
  {
   "cell_type": "code",
   "execution_count": null,
   "id": "706152dc",
   "metadata": {},
   "outputs": [],
   "source": []
  },
  {
   "cell_type": "code",
   "execution_count": 2,
   "id": "37ce98fb",
   "metadata": {},
   "outputs": [],
   "source": [
    "def add():\n",
    "    a = 20\n",
    "    b = 30\n",
    "    z = a+b\n",
    "    return z"
   ]
  },
  {
   "cell_type": "code",
   "execution_count": 4,
   "id": "c5b251af",
   "metadata": {},
   "outputs": [
    {
     "data": {
      "text/plain": [
       "50"
      ]
     },
     "execution_count": 4,
     "metadata": {},
     "output_type": "execute_result"
    }
   ],
   "source": [
    "add()"
   ]
  },
  {
   "cell_type": "code",
   "execution_count": 6,
   "id": "1f6ac2bd",
   "metadata": {},
   "outputs": [],
   "source": [
    "def new(a,b):\n",
    "    a = a\n",
    "    b = b\n",
    "    z = a+b\n",
    "    return z\n",
    "    "
   ]
  },
  {
   "cell_type": "code",
   "execution_count": 8,
   "id": "21eacb0a-2b29-476a-8d7e-9652958ba79a",
   "metadata": {},
   "outputs": [
    {
     "data": {
      "text/plain": [
       "90"
      ]
     },
     "execution_count": 8,
     "metadata": {},
     "output_type": "execute_result"
    }
   ],
   "source": [
    "new(40,50)"
   ]
  },
  {
   "cell_type": "code",
   "execution_count": 14,
   "id": "7d38d54d-8982-48ab-ae9b-f33e8cad54cd",
   "metadata": {},
   "outputs": [],
   "source": [
    "def new_add(*temp):\n",
    "    t = 0\n",
    "    for i in temp:\n",
    "        t = t+i\n",
    "    print(f\"sum of all is {t}\")"
   ]
  },
  {
   "cell_type": "code",
   "execution_count": 16,
   "id": "78a13a7a-d5c0-4d0f-b15d-4d6b02e7dacc",
   "metadata": {},
   "outputs": [
    {
     "name": "stdout",
     "output_type": "stream",
     "text": [
      "sum of all is 150\n"
     ]
    }
   ],
   "source": [
    "new_add(10,30,50,60)"
   ]
  },
  {
   "cell_type": "code",
   "execution_count": null,
   "id": "48cae046-a4a1-4ecc-9c58-ad6ff815780c",
   "metadata": {},
   "outputs": [],
   "source": []
  },
  {
   "cell_type": "code",
   "execution_count": null,
   "id": "a86af38e-7ecc-4faa-8d62-e477e9047cca",
   "metadata": {},
   "outputs": [],
   "source": [
    "def add(*temp):\n",
    "    t = 0\n",
    "    for i in temp:\n",
    "        t = t+i\n",
    "    print(f\"addition od given no. is {t}\")"
   ]
  },
  {
   "cell_type": "code",
   "execution_count": null,
   "id": "55efbeeb-e1d7-490c-9303-12ef9607c531",
   "metadata": {},
   "outputs": [],
   "source": [
    "types of arg..\n",
    "positional arg\n",
    "default arg\n",
    "variable legth arg\n",
    "keyword arg\n",
    "variable length keyword arg\n"
   ]
  },
  {
   "cell_type": "code",
   "execution_count": 22,
   "id": "4ed7647e-164a-4495-8d9f-5a1da724ab35",
   "metadata": {},
   "outputs": [],
   "source": [
    "###positional argument is in which position is very important if you input wrong parameter for wrong argument then it will display wrong .\n",
    "\n",
    "def add(name,roll,education,gender):\n",
    "    print(f\"name of the student is {name}\")\n",
    "    print(f\"roll_no of the student is {roll}\")\n",
    "    print(f\"education of the student is {education}\")\n",
    "    print(f\"gender of the student is {gender}\")\n",
    "    \n",
    "\n",
    "    "
   ]
  },
  {
   "cell_type": "code",
   "execution_count": 24,
   "id": "56ac7a73-f662-4045-a4e4-ef18d296cd62",
   "metadata": {},
   "outputs": [
    {
     "name": "stdout",
     "output_type": "stream",
     "text": [
      "name of the student is shubham\n",
      "roll_no of the student is 21\n",
      "education of the student is bca\n",
      "gender of the student is male\n"
     ]
    }
   ],
   "source": [
    "add(\"shubham\",21,\"bca\",\"male\")"
   ]
  },
  {
   "cell_type": "code",
   "execution_count": 28,
   "id": "90c18e50-9c7c-4b95-b2db-a79e79a5774e",
   "metadata": {},
   "outputs": [],
   "source": [
    "###default argument \n",
    "\n",
    "def add_new(name,roll,gender ,education =\"mca\"):\n",
    "    \n",
    "    print(f\"name of the student is {name}\")\n",
    "    print(f\"roll_no of the student is {roll}\")\n",
    "    print(f\"education of the student is {education}\")\n",
    "    print(f\"gender of the student is {gender}\")"
   ]
  },
  {
   "cell_type": "code",
   "execution_count": 30,
   "id": "23496ea0-1523-4ceb-a759-125879dfdc43",
   "metadata": {},
   "outputs": [
    {
     "name": "stdout",
     "output_type": "stream",
     "text": [
      "name of the student is shubham\n",
      "roll_no of the student is 23\n",
      "education of the student is mca\n",
      "gender of the student is male\n"
     ]
    }
   ],
   "source": [
    "add_new(\"shubham\",23,\"male\")"
   ]
  },
  {
   "cell_type": "code",
   "execution_count": 32,
   "id": "2ece96d8-2c56-4465-81b1-b8444d708ebc",
   "metadata": {},
   "outputs": [],
   "source": [
    "###variable length argument \n",
    "\n",
    "def add_var_len(*args):\n",
    "    print(args)"
   ]
  },
  {
   "cell_type": "code",
   "execution_count": 34,
   "id": "893e2554-9634-41b9-abd3-4eb403584be5",
   "metadata": {},
   "outputs": [
    {
     "name": "stdout",
     "output_type": "stream",
     "text": [
      "(1, 2, 3, 4, 'shubham', 'pawar', 'samir', 'shinde')\n"
     ]
    }
   ],
   "source": [
    "add_var_len(1,2,3,4,\"shubham\",\"pawar\",\"samir\",\"shinde\")"
   ]
  },
  {
   "cell_type": "code",
   "execution_count": null,
   "id": "3627e5cc-4987-4f6b-a61f-ad98afb7bd97",
   "metadata": {},
   "outputs": [],
   "source": []
  },
  {
   "cell_type": "code",
   "execution_count": 36,
   "id": "9b9e0b48-1723-48d4-96c1-657ae8cc1a6e",
   "metadata": {},
   "outputs": [],
   "source": [
    "def add(*temp):\n",
    "    t = 0\n",
    "    for i in temp:\n",
    "        t = t+i\n",
    "    print(f\"addition of all is {t}\")\n",
    "    "
   ]
  },
  {
   "cell_type": "code",
   "execution_count": 38,
   "id": "085d7dd1-6b78-4ecb-b5c3-781779987c60",
   "metadata": {},
   "outputs": [
    {
     "name": "stdout",
     "output_type": "stream",
     "text": [
      "addition of all is 134\n"
     ]
    }
   ],
   "source": [
    "add(12,56,43,23)"
   ]
  },
  {
   "cell_type": "code",
   "execution_count": null,
   "id": "b03b143c-f0c1-48fb-889e-cc0cd4f15fc4",
   "metadata": {},
   "outputs": [],
   "source": []
  },
  {
   "cell_type": "code",
   "execution_count": 53,
   "id": "5220ebf1-0670-4ebb-a82a-ca9dbb78e7be",
   "metadata": {},
   "outputs": [],
   "source": [
    "def add_n(name = \"no name\",education=\"mca\",age=21,address = \"pune\",adhar_card = \"no adhar\"):\n",
    "    print(\"name :\",name)\n",
    "    print(\"education :\",education)\n",
    "    print(\"age :\",age)\n",
    "    print(\"address :\",address)\n",
    "    print(\"adhar_card :\",adhar_card)\n",
    "\n",
    "    "
   ]
  },
  {
   "cell_type": "code",
   "execution_count": 56,
   "id": "e5ade647-5c82-4dfb-bfb8-ed505d894820",
   "metadata": {},
   "outputs": [
    {
     "name": "stdout",
     "output_type": "stream",
     "text": [
      "name : sangram\n",
      "education : bca\n",
      "age : 22\n",
      "address : pune\n",
      "adhar_card : 7573432818128\n"
     ]
    }
   ],
   "source": [
    "add_n(education = \"bca\",name=\"sangram\",adhar_card=\"7573432818128\",age=22)"
   ]
  },
  {
   "cell_type": "code",
   "execution_count": null,
   "id": "eb698ad4-91d2-4810-b2fa-aece06062631",
   "metadata": {},
   "outputs": [],
   "source": []
  },
  {
   "cell_type": "code",
   "execution_count": 62,
   "id": "f446c72d-d155-4177-97ba-f91f8e83e922",
   "metadata": {},
   "outputs": [],
   "source": [
    "def vkey(**kwargs):\n",
    "    print(kwargs)"
   ]
  },
  {
   "cell_type": "code",
   "execution_count": 64,
   "id": "d156d985-6839-46b9-9f50-dc86b98d2d85",
   "metadata": {},
   "outputs": [
    {
     "name": "stdout",
     "output_type": "stream",
     "text": [
      "{'name': 'rakesh', 'age': 21}\n"
     ]
    }
   ],
   "source": [
    "vkey(name = \"rakesh\",age = 21)"
   ]
  },
  {
   "cell_type": "code",
   "execution_count": null,
   "id": "a1fac795-f097-4f68-af6c-47d7248e6dbd",
   "metadata": {},
   "outputs": [],
   "source": []
  },
  {
   "cell_type": "code",
   "execution_count": null,
   "id": "3b037bf9-061b-4106-8f11-66ddc70347d1",
   "metadata": {},
   "outputs": [],
   "source": []
  },
  {
   "cell_type": "code",
   "execution_count": null,
   "id": "a6e57834-f547-4857-beb1-500dc9b005b9",
   "metadata": {},
   "outputs": [],
   "source": []
  },
  {
   "cell_type": "code",
   "execution_count": null,
   "id": "c49c9ab6-6a6d-4278-b336-a522eb538819",
   "metadata": {},
   "outputs": [],
   "source": []
  },
  {
   "cell_type": "code",
   "execution_count": null,
   "id": "3e4e64b5-ab7a-4889-bdfd-06fb8db1c023",
   "metadata": {},
   "outputs": [],
   "source": []
  },
  {
   "cell_type": "code",
   "execution_count": null,
   "id": "2f127cca-7c74-4805-9927-8c389a421eb4",
   "metadata": {},
   "outputs": [],
   "source": []
  },
  {
   "cell_type": "code",
   "execution_count": null,
   "id": "bd7b3e47-a7e9-4ab2-b623-74caba752497",
   "metadata": {},
   "outputs": [],
   "source": []
  },
  {
   "cell_type": "code",
   "execution_count": null,
   "id": "aad0947c",
   "metadata": {},
   "outputs": [],
   "source": []
  },
  {
   "cell_type": "code",
   "execution_count": null,
   "id": "2eebf459",
   "metadata": {},
   "outputs": [],
   "source": []
  }
 ],
 "metadata": {
  "kernelspec": {
   "display_name": "Python 3 (ipykernel)",
   "language": "python",
   "name": "python3"
  },
  "language_info": {
   "codemirror_mode": {
    "name": "ipython",
    "version": 3
   },
   "file_extension": ".py",
   "mimetype": "text/x-python",
   "name": "python",
   "nbconvert_exporter": "python",
   "pygments_lexer": "ipython3",
   "version": "3.9.19"
  }
 },
 "nbformat": 4,
 "nbformat_minor": 5
}
