{
 "cells": [
  {
   "cell_type": "code",
   "execution_count": 1,
   "id": "84747af1",
   "metadata": {},
   "outputs": [],
   "source": [
    "# data structure \n",
    "\n",
    "# list \n",
    "# tuple \n",
    "# set \n",
    "# dictionary\n",
    "# frozenset \n",
    "# string \n"
   ]
  },
  {
   "cell_type": "code",
   "execution_count": null,
   "id": "91f715b6",
   "metadata": {},
   "outputs": [],
   "source": [
    "# list ----list is the mutable type of data stucture \n",
    "        # it is ordered type \n",
    "        # list is define inb [1,2,3,4,'shubham'] this.\n",
    "        # duplication of elements allowed\n",
    "        # index based \n",
    "        # insertion operation - insert , append , extend\n",
    "        # deletion operation - remove , pop \n",
    "        \n",
    "        # insert used with the help of index number \n",
    "        # l[3]= 4444\n",
    "        \n",
    "        # append use for insert elements at the last\n",
    "        #  l.append(3)\n",
    "        \n",
    "        # extend will use to add multiple elements or a list into another list \n",
    "        \n",
    "        "
   ]
  },
  {
   "cell_type": "code",
   "execution_count": 2,
   "id": "6cb3ea28",
   "metadata": {},
   "outputs": [],
   "source": [
    "l = [1,2,3,4,33,21,2,32,4,2,'shubham','sir']"
   ]
  },
  {
   "cell_type": "code",
   "execution_count": 3,
   "id": "8f2be4fe",
   "metadata": {},
   "outputs": [
    {
     "data": {
      "text/plain": [
       "[1, 2, 3, 4, 33, 21, 2, 32, 4, 2, 'shubham', 'sir']"
      ]
     },
     "execution_count": 3,
     "metadata": {},
     "output_type": "execute_result"
    }
   ],
   "source": [
    "l"
   ]
  },
  {
   "cell_type": "code",
   "execution_count": 4,
   "id": "e90416ea",
   "metadata": {},
   "outputs": [],
   "source": [
    "l[3] = 4 #insert"
   ]
  },
  {
   "cell_type": "code",
   "execution_count": 5,
   "id": "a92e3d69",
   "metadata": {},
   "outputs": [
    {
     "data": {
      "text/plain": [
       "[1, 2, 3, 4, 33, 21, 2, 32, 4, 2, 'shubham', 'sir']"
      ]
     },
     "execution_count": 5,
     "metadata": {},
     "output_type": "execute_result"
    }
   ],
   "source": [
    "l"
   ]
  },
  {
   "cell_type": "code",
   "execution_count": 6,
   "id": "5ca12eef",
   "metadata": {},
   "outputs": [],
   "source": [
    "l[3] = 555555 #insert"
   ]
  },
  {
   "cell_type": "code",
   "execution_count": 7,
   "id": "b6dfec12",
   "metadata": {},
   "outputs": [
    {
     "data": {
      "text/plain": [
       "[1, 2, 3, 555555, 33, 21, 2, 32, 4, 2, 'shubham', 'sir']"
      ]
     },
     "execution_count": 7,
     "metadata": {},
     "output_type": "execute_result"
    }
   ],
   "source": [
    "l"
   ]
  },
  {
   "cell_type": "code",
   "execution_count": 8,
   "id": "e6837bcc",
   "metadata": {},
   "outputs": [],
   "source": [
    "l.append(2)"
   ]
  },
  {
   "cell_type": "code",
   "execution_count": 9,
   "id": "b3734647",
   "metadata": {},
   "outputs": [
    {
     "data": {
      "text/plain": [
       "[1, 2, 3, 555555, 33, 21, 2, 32, 4, 2, 'shubham', 'sir', 2]"
      ]
     },
     "execution_count": 9,
     "metadata": {},
     "output_type": "execute_result"
    }
   ],
   "source": [
    "l"
   ]
  },
  {
   "cell_type": "code",
   "execution_count": 14,
   "id": "f7d91f4b",
   "metadata": {},
   "outputs": [],
   "source": [
    "p = ['i','will','proud']"
   ]
  },
  {
   "cell_type": "code",
   "execution_count": 15,
   "id": "84bac9d7",
   "metadata": {},
   "outputs": [],
   "source": [
    "l.extend(p)"
   ]
  },
  {
   "cell_type": "code",
   "execution_count": 16,
   "id": "0d287650",
   "metadata": {},
   "outputs": [
    {
     "data": {
      "text/plain": [
       "[1,\n",
       " 2,\n",
       " 3,\n",
       " 555555,\n",
       " 33,\n",
       " 21,\n",
       " 2,\n",
       " 32,\n",
       " 4,\n",
       " 2,\n",
       " 'shubham',\n",
       " 'sir',\n",
       " 2,\n",
       " 'i',\n",
       " 'will',\n",
       " 'proud']"
      ]
     },
     "execution_count": 16,
     "metadata": {},
     "output_type": "execute_result"
    }
   ],
   "source": [
    "l"
   ]
  },
  {
   "cell_type": "code",
   "execution_count": null,
   "id": "c8b96011",
   "metadata": {},
   "outputs": [],
   "source": []
  },
  {
   "cell_type": "code",
   "execution_count": null,
   "id": "06503103",
   "metadata": {},
   "outputs": [],
   "source": []
  },
  {
   "cell_type": "code",
   "execution_count": null,
   "id": "16e83621",
   "metadata": {},
   "outputs": [],
   "source": [
    "# tuple \n",
    "        # tuple is the immutable type of data structure \n",
    "        # tuple is only readable \n",
    "        # it is highly secure\n",
    "        # it is faster than list \n",
    "        # duplication is allowed\n",
    "        \n",
    "        # t = (1,2,3,2,3,21,2,3,2)\n",
    "        # t.index()\n",
    "        # t.count()"
   ]
  },
  {
   "cell_type": "code",
   "execution_count": 17,
   "id": "232cda7b",
   "metadata": {},
   "outputs": [],
   "source": [
    "t = (1,2,3,4,532,2311,21,21,32,43112,212,23,23,43,432,2,22,1)"
   ]
  },
  {
   "cell_type": "code",
   "execution_count": 18,
   "id": "97ac0a99",
   "metadata": {},
   "outputs": [
    {
     "data": {
      "text/plain": [
       "(1, 2, 3, 4, 532, 2311, 21, 21, 32, 43112, 212, 23, 23, 43, 432, 2, 22, 1)"
      ]
     },
     "execution_count": 18,
     "metadata": {},
     "output_type": "execute_result"
    }
   ],
   "source": [
    "t"
   ]
  },
  {
   "cell_type": "code",
   "execution_count": 19,
   "id": "4cd4bdfa",
   "metadata": {},
   "outputs": [
    {
     "data": {
      "text/plain": [
       "tuple"
      ]
     },
     "execution_count": 19,
     "metadata": {},
     "output_type": "execute_result"
    }
   ],
   "source": [
    "type(t)"
   ]
  },
  {
   "cell_type": "code",
   "execution_count": 27,
   "id": "26ce8f67",
   "metadata": {},
   "outputs": [
    {
     "data": {
      "text/plain": [
       "2"
      ]
     },
     "execution_count": 27,
     "metadata": {},
     "output_type": "execute_result"
    }
   ],
   "source": [
    "t.count(2)"
   ]
  },
  {
   "cell_type": "code",
   "execution_count": null,
   "id": "84b1f5e9",
   "metadata": {},
   "outputs": [],
   "source": []
  },
  {
   "cell_type": "code",
   "execution_count": null,
   "id": "08757c5c",
   "metadata": {},
   "outputs": [],
   "source": []
  },
  {
   "cell_type": "code",
   "execution_count": null,
   "id": "55638652",
   "metadata": {},
   "outputs": [],
   "source": [
    "# set \n",
    "        # set is mutable type of ds\n",
    "        # set is unordered ds\n",
    "        # set is defined in {at least one element}\n",
    "        # duplication is not allowed \n",
    "        # s = {1,2,3,4}\n",
    "        #indexing is not possible \n",
    "        \n",
    "        # insertion opertation = add , update \n",
    "        # deletion operation = remove , discard , pop\n",
    "        "
   ]
  },
  {
   "cell_type": "code",
   "execution_count": 28,
   "id": "b6f2d1dd",
   "metadata": {},
   "outputs": [],
   "source": [
    "s = {1,2,3,3,4,3,444,34,34,'shubham','pawar'}"
   ]
  },
  {
   "cell_type": "code",
   "execution_count": 29,
   "id": "91d98817",
   "metadata": {},
   "outputs": [
    {
     "data": {
      "text/plain": [
       "{1, 2, 3, 34, 4, 444, 'pawar', 'shubham'}"
      ]
     },
     "execution_count": 29,
     "metadata": {},
     "output_type": "execute_result"
    }
   ],
   "source": [
    "s"
   ]
  },
  {
   "cell_type": "code",
   "execution_count": 30,
   "id": "657181cf",
   "metadata": {},
   "outputs": [],
   "source": [
    "s.add('3434')"
   ]
  },
  {
   "cell_type": "code",
   "execution_count": 31,
   "id": "d02cb809",
   "metadata": {},
   "outputs": [
    {
     "data": {
      "text/plain": [
       "{1, 2, 3, 34, '3434', 4, 444, 'pawar', 'shubham'}"
      ]
     },
     "execution_count": 31,
     "metadata": {},
     "output_type": "execute_result"
    }
   ],
   "source": [
    "s"
   ]
  },
  {
   "cell_type": "code",
   "execution_count": 32,
   "id": "e92b4731",
   "metadata": {},
   "outputs": [],
   "source": [
    "s.add(4)"
   ]
  },
  {
   "cell_type": "code",
   "execution_count": 33,
   "id": "57f3ab9d",
   "metadata": {},
   "outputs": [
    {
     "data": {
      "text/plain": [
       "{1, 2, 3, 34, '3434', 4, 444, 'pawar', 'shubham'}"
      ]
     },
     "execution_count": 33,
     "metadata": {},
     "output_type": "execute_result"
    }
   ],
   "source": [
    "s"
   ]
  },
  {
   "cell_type": "code",
   "execution_count": 34,
   "id": "582f5669",
   "metadata": {},
   "outputs": [],
   "source": [
    "s.add(45856858)"
   ]
  },
  {
   "cell_type": "code",
   "execution_count": 35,
   "id": "d67b1171",
   "metadata": {},
   "outputs": [
    {
     "data": {
      "text/plain": [
       "{1, 2, 3, 34, '3434', 4, 444, 45856858, 'pawar', 'shubham'}"
      ]
     },
     "execution_count": 35,
     "metadata": {},
     "output_type": "execute_result"
    }
   ],
   "source": [
    "s"
   ]
  },
  {
   "cell_type": "code",
   "execution_count": 36,
   "id": "8226b999",
   "metadata": {},
   "outputs": [],
   "source": [
    "s.update({5554,555,666,7777,666,5})"
   ]
  },
  {
   "cell_type": "code",
   "execution_count": 37,
   "id": "dad4ec2e",
   "metadata": {},
   "outputs": [
    {
     "data": {
      "text/plain": [
       "{1,\n",
       " 2,\n",
       " 3,\n",
       " 34,\n",
       " '3434',\n",
       " 4,\n",
       " 444,\n",
       " 45856858,\n",
       " 5,\n",
       " 555,\n",
       " 5554,\n",
       " 666,\n",
       " 7777,\n",
       " 'pawar',\n",
       " 'shubham'}"
      ]
     },
     "execution_count": 37,
     "metadata": {},
     "output_type": "execute_result"
    }
   ],
   "source": [
    "s"
   ]
  },
  {
   "cell_type": "code",
   "execution_count": 38,
   "id": "0657530a",
   "metadata": {},
   "outputs": [
    {
     "ename": "KeyError",
     "evalue": "77",
     "output_type": "error",
     "traceback": [
      "\u001b[1;31m---------------------------------------------------------------------------\u001b[0m",
      "\u001b[1;31mKeyError\u001b[0m                                  Traceback (most recent call last)",
      "\u001b[1;32m~\\AppData\\Local\\Temp/ipykernel_952/202573019.py\u001b[0m in \u001b[0;36m<module>\u001b[1;34m\u001b[0m\n\u001b[1;32m----> 1\u001b[1;33m \u001b[0ms\u001b[0m\u001b[1;33m.\u001b[0m\u001b[0mremove\u001b[0m\u001b[1;33m(\u001b[0m\u001b[1;36m77\u001b[0m\u001b[1;33m)\u001b[0m\u001b[1;33m\u001b[0m\u001b[1;33m\u001b[0m\u001b[0m\n\u001b[0m",
      "\u001b[1;31mKeyError\u001b[0m: 77"
     ]
    }
   ],
   "source": [
    "s.remove(77)"
   ]
  },
  {
   "cell_type": "code",
   "execution_count": 39,
   "id": "99baafe5",
   "metadata": {},
   "outputs": [],
   "source": [
    "s.discard(77)"
   ]
  },
  {
   "cell_type": "code",
   "execution_count": 41,
   "id": "b66488d7",
   "metadata": {},
   "outputs": [],
   "source": [
    "s.discard(7777)"
   ]
  },
  {
   "cell_type": "code",
   "execution_count": 42,
   "id": "20b4e75d",
   "metadata": {},
   "outputs": [
    {
     "data": {
      "text/plain": [
       "{1, 2, 3, 34, '3434', 4, 444, 45856858, 5, 555, 5554, 666, 'pawar', 'shubham'}"
      ]
     },
     "execution_count": 42,
     "metadata": {},
     "output_type": "execute_result"
    }
   ],
   "source": [
    "s"
   ]
  },
  {
   "cell_type": "code",
   "execution_count": 43,
   "id": "ff6f5bb9",
   "metadata": {},
   "outputs": [
    {
     "data": {
      "text/plain": [
       "1"
      ]
     },
     "execution_count": 43,
     "metadata": {},
     "output_type": "execute_result"
    }
   ],
   "source": [
    "s.pop()"
   ]
  },
  {
   "cell_type": "code",
   "execution_count": 45,
   "id": "c749491e",
   "metadata": {},
   "outputs": [
    {
     "data": {
      "text/plain": [
       "2"
      ]
     },
     "execution_count": 45,
     "metadata": {},
     "output_type": "execute_result"
    }
   ],
   "source": [
    "s.pop()"
   ]
  },
  {
   "cell_type": "code",
   "execution_count": 46,
   "id": "e54e1667",
   "metadata": {},
   "outputs": [
    {
     "data": {
      "text/plain": [
       "{3, 34, '3434', 4, 444, 45856858, 5, 555, 5554, 666, 'pawar', 'shubham'}"
      ]
     },
     "execution_count": 46,
     "metadata": {},
     "output_type": "execute_result"
    }
   ],
   "source": [
    "s"
   ]
  },
  {
   "cell_type": "code",
   "execution_count": 47,
   "id": "85d2d8b5",
   "metadata": {},
   "outputs": [
    {
     "data": {
      "text/plain": [
       "3"
      ]
     },
     "execution_count": 47,
     "metadata": {},
     "output_type": "execute_result"
    }
   ],
   "source": [
    "s.pop()"
   ]
  },
  {
   "cell_type": "code",
   "execution_count": 48,
   "id": "b747172f",
   "metadata": {},
   "outputs": [
    {
     "data": {
      "text/plain": [
       "4"
      ]
     },
     "execution_count": 48,
     "metadata": {},
     "output_type": "execute_result"
    }
   ],
   "source": [
    "s.pop()"
   ]
  },
  {
   "cell_type": "code",
   "execution_count": 49,
   "id": "9d224ada",
   "metadata": {},
   "outputs": [
    {
     "data": {
      "text/plain": [
       "{34, '3434', 444, 45856858, 5, 555, 5554, 666, 'pawar', 'shubham'}"
      ]
     },
     "execution_count": 49,
     "metadata": {},
     "output_type": "execute_result"
    }
   ],
   "source": [
    "s"
   ]
  },
  {
   "cell_type": "code",
   "execution_count": 50,
   "id": "5a1d8a56",
   "metadata": {},
   "outputs": [
    {
     "data": {
      "text/plain": [
       "34"
      ]
     },
     "execution_count": 50,
     "metadata": {},
     "output_type": "execute_result"
    }
   ],
   "source": [
    "s.pop()"
   ]
  },
  {
   "cell_type": "code",
   "execution_count": 51,
   "id": "9e9ee95e",
   "metadata": {},
   "outputs": [
    {
     "data": {
      "text/plain": [
       "{'3434', 444, 45856858, 5, 555, 5554, 666, 'pawar', 'shubham'}"
      ]
     },
     "execution_count": 51,
     "metadata": {},
     "output_type": "execute_result"
    }
   ],
   "source": [
    "s"
   ]
  },
  {
   "cell_type": "code",
   "execution_count": null,
   "id": "671d60d6",
   "metadata": {},
   "outputs": [],
   "source": []
  },
  {
   "cell_type": "code",
   "execution_count": null,
   "id": "affe9d40",
   "metadata": {},
   "outputs": [],
   "source": []
  },
  {
   "cell_type": "code",
   "execution_count": null,
   "id": "439ed8b8",
   "metadata": {},
   "outputs": [],
   "source": [
    "# dictionary \n",
    "                # it is mutable type of ds\n",
    "                # it is key value combination \n",
    "                # it is represent as {'key' : 'value'} pair combination\n",
    "                # key is always immutable and unique\n",
    "                # value may be mutable or immutable\n",
    "                # it is unordered\n",
    "                # d = {'key': 'value','hii':'hello'}\n",
    "                \n",
    "                # insertion operation \n",
    "                \n",
    "                # d['key'] = 'value'\n",
    "                #d.update({'key':'value','key':'value'})\n",
    "                \n",
    "                "
   ]
  },
  {
   "cell_type": "code",
   "execution_count": 52,
   "id": "05bb4e9f",
   "metadata": {},
   "outputs": [],
   "source": [
    "d = {'name':'shubham',\n",
    "    'standard':'post graduate',\n",
    "    'college':'abhinav clg',\n",
    "    }"
   ]
  },
  {
   "cell_type": "code",
   "execution_count": 53,
   "id": "16f6fc6d",
   "metadata": {},
   "outputs": [
    {
     "data": {
      "text/plain": [
       "{'name': 'shubham', 'standard': 'post graduate', 'college': 'abhinav clg'}"
      ]
     },
     "execution_count": 53,
     "metadata": {},
     "output_type": "execute_result"
    }
   ],
   "source": [
    "d"
   ]
  },
  {
   "cell_type": "code",
   "execution_count": 54,
   "id": "38cf5ffb",
   "metadata": {},
   "outputs": [
    {
     "data": {
      "text/plain": [
       "dict"
      ]
     },
     "execution_count": 54,
     "metadata": {},
     "output_type": "execute_result"
    }
   ],
   "source": [
    "type(d)"
   ]
  },
  {
   "cell_type": "code",
   "execution_count": 55,
   "id": "5b0eb347",
   "metadata": {},
   "outputs": [
    {
     "data": {
      "text/plain": [
       "'shubham'"
      ]
     },
     "execution_count": 55,
     "metadata": {},
     "output_type": "execute_result"
    }
   ],
   "source": [
    "d['name']"
   ]
  },
  {
   "cell_type": "code",
   "execution_count": 56,
   "id": "8f2522f2",
   "metadata": {},
   "outputs": [
    {
     "ename": "TypeError",
     "evalue": "'dict' object is not callable",
     "output_type": "error",
     "traceback": [
      "\u001b[1;31m---------------------------------------------------------------------------\u001b[0m",
      "\u001b[1;31mTypeError\u001b[0m                                 Traceback (most recent call last)",
      "\u001b[1;32m~\\AppData\\Local\\Temp/ipykernel_952/3171294173.py\u001b[0m in \u001b[0;36m<module>\u001b[1;34m\u001b[0m\n\u001b[1;32m----> 1\u001b[1;33m \u001b[0md\u001b[0m\u001b[1;33m(\u001b[0m\u001b[1;34m'name'\u001b[0m\u001b[1;33m)\u001b[0m\u001b[1;33m\u001b[0m\u001b[1;33m\u001b[0m\u001b[0m\n\u001b[0m",
      "\u001b[1;31mTypeError\u001b[0m: 'dict' object is not callable"
     ]
    }
   ],
   "source": [
    "d('name')"
   ]
  },
  {
   "cell_type": "code",
   "execution_count": 57,
   "id": "5188054e",
   "metadata": {},
   "outputs": [
    {
     "data": {
      "text/plain": [
       "'abhinav clg'"
      ]
     },
     "execution_count": 57,
     "metadata": {},
     "output_type": "execute_result"
    }
   ],
   "source": [
    "d['college']"
   ]
  },
  {
   "cell_type": "code",
   "execution_count": 58,
   "id": "aeb07b2d",
   "metadata": {},
   "outputs": [
    {
     "data": {
      "text/plain": [
       "dict_items([('name', 'shubham'), ('standard', 'post graduate'), ('college', 'abhinav clg')])"
      ]
     },
     "execution_count": 58,
     "metadata": {},
     "output_type": "execute_result"
    }
   ],
   "source": [
    "d.items()"
   ]
  },
  {
   "cell_type": "code",
   "execution_count": 59,
   "id": "13240cda",
   "metadata": {},
   "outputs": [
    {
     "data": {
      "text/plain": [
       "dict_keys(['name', 'standard', 'college'])"
      ]
     },
     "execution_count": 59,
     "metadata": {},
     "output_type": "execute_result"
    }
   ],
   "source": [
    "d.keys()"
   ]
  },
  {
   "cell_type": "code",
   "execution_count": 60,
   "id": "c6b5feb8",
   "metadata": {},
   "outputs": [
    {
     "data": {
      "text/plain": [
       "dict_values(['shubham', 'post graduate', 'abhinav clg'])"
      ]
     },
     "execution_count": 60,
     "metadata": {},
     "output_type": "execute_result"
    }
   ],
   "source": [
    "d.values()"
   ]
  },
  {
   "cell_type": "code",
   "execution_count": 61,
   "id": "5d70a515",
   "metadata": {},
   "outputs": [
    {
     "data": {
      "text/plain": [
       "'no data found'"
      ]
     },
     "execution_count": 61,
     "metadata": {},
     "output_type": "execute_result"
    }
   ],
   "source": [
    "d.get('shhh', 'no data found')"
   ]
  },
  {
   "cell_type": "code",
   "execution_count": 62,
   "id": "af2149ba",
   "metadata": {},
   "outputs": [
    {
     "data": {
      "text/plain": [
       "'shubham'"
      ]
     },
     "execution_count": 62,
     "metadata": {},
     "output_type": "execute_result"
    }
   ],
   "source": [
    "d.get('name','no found')"
   ]
  },
  {
   "cell_type": "code",
   "execution_count": 63,
   "id": "c109a95b",
   "metadata": {},
   "outputs": [],
   "source": [
    "d['hobby'] = 'swimming'"
   ]
  },
  {
   "cell_type": "code",
   "execution_count": 64,
   "id": "9916e408",
   "metadata": {},
   "outputs": [
    {
     "data": {
      "text/plain": [
       "{'name': 'shubham',\n",
       " 'standard': 'post graduate',\n",
       " 'college': 'abhinav clg',\n",
       " 'hobby': 'swimming'}"
      ]
     },
     "execution_count": 64,
     "metadata": {},
     "output_type": "execute_result"
    }
   ],
   "source": [
    "d"
   ]
  },
  {
   "cell_type": "code",
   "execution_count": 66,
   "id": "5adfe8f7",
   "metadata": {},
   "outputs": [],
   "source": [
    "d.update({'fav.actor':'none','fav.actrs': 'none'})"
   ]
  },
  {
   "cell_type": "code",
   "execution_count": 67,
   "id": "27d30076",
   "metadata": {},
   "outputs": [
    {
     "data": {
      "text/plain": [
       "{'name': 'shubham',\n",
       " 'standard': 'post graduate',\n",
       " 'college': 'abhinav clg',\n",
       " 'hobby': 'swimming',\n",
       " 'fav.actor': 'none',\n",
       " 'fav.actrs': 'none'}"
      ]
     },
     "execution_count": 67,
     "metadata": {},
     "output_type": "execute_result"
    }
   ],
   "source": [
    "d"
   ]
  },
  {
   "cell_type": "code",
   "execution_count": 68,
   "id": "122521d1",
   "metadata": {},
   "outputs": [
    {
     "data": {
      "text/plain": [
       "'swimming'"
      ]
     },
     "execution_count": 68,
     "metadata": {},
     "output_type": "execute_result"
    }
   ],
   "source": [
    "d.pop('hobby')"
   ]
  },
  {
   "cell_type": "code",
   "execution_count": 69,
   "id": "0533d24c",
   "metadata": {},
   "outputs": [
    {
     "data": {
      "text/plain": [
       "{'name': 'shubham',\n",
       " 'standard': 'post graduate',\n",
       " 'college': 'abhinav clg',\n",
       " 'fav.actor': 'none',\n",
       " 'fav.actrs': 'none'}"
      ]
     },
     "execution_count": 69,
     "metadata": {},
     "output_type": "execute_result"
    }
   ],
   "source": [
    "d"
   ]
  },
  {
   "cell_type": "code",
   "execution_count": 70,
   "id": "6d7e3630",
   "metadata": {},
   "outputs": [
    {
     "data": {
      "text/plain": [
       "('fav.actrs', 'none')"
      ]
     },
     "execution_count": 70,
     "metadata": {},
     "output_type": "execute_result"
    }
   ],
   "source": [
    "d.popitem()"
   ]
  },
  {
   "cell_type": "code",
   "execution_count": null,
   "id": "7e77ff25",
   "metadata": {},
   "outputs": [],
   "source": []
  },
  {
   "cell_type": "code",
   "execution_count": null,
   "id": "6cafd4e7",
   "metadata": {},
   "outputs": [],
   "source": []
  },
  {
   "cell_type": "code",
   "execution_count": null,
   "id": "255aa1b0",
   "metadata": {},
   "outputs": [],
   "source": [
    "# string \n",
    "            # string is immutble type  of ds\n",
    "            # string is having folloeing operations like \n",
    "        \n",
    "            # lower\n",
    "            # upper\n",
    "            #capitalize\n",
    "            #split\n",
    "            #title\n",
    "            #startswith\n",
    "            #endswith\n",
    "            #find\n",
    "            #format\n",
    "            #swapcase"
   ]
  },
  {
   "cell_type": "code",
   "execution_count": 71,
   "id": "422be832",
   "metadata": {},
   "outputs": [],
   "source": [
    "s = 'shubham is nice'"
   ]
  },
  {
   "cell_type": "code",
   "execution_count": 72,
   "id": "82d5ba1d",
   "metadata": {},
   "outputs": [
    {
     "data": {
      "text/plain": [
       "'shubham is nice'"
      ]
     },
     "execution_count": 72,
     "metadata": {},
     "output_type": "execute_result"
    }
   ],
   "source": [
    "s"
   ]
  },
  {
   "cell_type": "code",
   "execution_count": 73,
   "id": "de18bf7c",
   "metadata": {},
   "outputs": [
    {
     "data": {
      "text/plain": [
       "str"
      ]
     },
     "execution_count": 73,
     "metadata": {},
     "output_type": "execute_result"
    }
   ],
   "source": [
    "type(s)"
   ]
  },
  {
   "cell_type": "code",
   "execution_count": 74,
   "id": "d85b73a3",
   "metadata": {},
   "outputs": [
    {
     "data": {
      "text/plain": [
       "'SHUBHAM IS NICE'"
      ]
     },
     "execution_count": 74,
     "metadata": {},
     "output_type": "execute_result"
    }
   ],
   "source": [
    "s.upper()    #capital all"
   ]
  },
  {
   "cell_type": "code",
   "execution_count": 75,
   "id": "09a0b284",
   "metadata": {},
   "outputs": [
    {
     "data": {
      "text/plain": [
       "'Shubham is nice'"
      ]
     },
     "execution_count": 75,
     "metadata": {},
     "output_type": "execute_result"
    }
   ],
   "source": [
    "s.capitalize()    #initial of the very first letter capital"
   ]
  },
  {
   "cell_type": "code",
   "execution_count": 76,
   "id": "38eeb7e6",
   "metadata": {},
   "outputs": [
    {
     "data": {
      "text/plain": [
       "'Shubham Is Nice'"
      ]
     },
     "execution_count": 76,
     "metadata": {},
     "output_type": "execute_result"
    }
   ],
   "source": [
    "s.title()      # first character of every word capital"
   ]
  },
  {
   "cell_type": "code",
   "execution_count": 77,
   "id": "196eb146",
   "metadata": {},
   "outputs": [
    {
     "data": {
      "text/plain": [
       "'shubham is nice'"
      ]
     },
     "execution_count": 77,
     "metadata": {},
     "output_type": "execute_result"
    }
   ],
   "source": [
    "s.lower()    #all lower"
   ]
  },
  {
   "cell_type": "code",
   "execution_count": 78,
   "id": "4df41759",
   "metadata": {},
   "outputs": [
    {
     "data": {
      "text/plain": [
       "['shubham ', ' nice']"
      ]
     },
     "execution_count": 78,
     "metadata": {},
     "output_type": "execute_result"
    }
   ],
   "source": [
    "s.split('is')"
   ]
  },
  {
   "cell_type": "code",
   "execution_count": 79,
   "id": "a36d2c6f",
   "metadata": {},
   "outputs": [
    {
     "data": {
      "text/plain": [
       "['shubham ', 's n', 'ce']"
      ]
     },
     "execution_count": 79,
     "metadata": {},
     "output_type": "execute_result"
    }
   ],
   "source": [
    "s.split('i')"
   ]
  },
  {
   "cell_type": "code",
   "execution_count": 80,
   "id": "8fdf14fd",
   "metadata": {},
   "outputs": [
    {
     "data": {
      "text/plain": [
       "['shubham is nic', '']"
      ]
     },
     "execution_count": 80,
     "metadata": {},
     "output_type": "execute_result"
    }
   ],
   "source": [
    "s.split('e')"
   ]
  },
  {
   "cell_type": "code",
   "execution_count": 81,
   "id": "55b871b8",
   "metadata": {},
   "outputs": [],
   "source": [
    "m = 'this is the exact time right now nine o clock thank you'"
   ]
  },
  {
   "cell_type": "code",
   "execution_count": 82,
   "id": "5b89d82c",
   "metadata": {},
   "outputs": [],
   "source": [
    "import datetime"
   ]
  },
  {
   "cell_type": "code",
   "execution_count": 96,
   "id": "e18ec41c",
   "metadata": {},
   "outputs": [],
   "source": [
    "cdtime = datetime.datetime.now()"
   ]
  },
  {
   "cell_type": "code",
   "execution_count": 99,
   "id": "6d6386f5",
   "metadata": {},
   "outputs": [],
   "source": [
    "t = cdtime.time()"
   ]
  },
  {
   "cell_type": "code",
   "execution_count": 100,
   "id": "79f52613",
   "metadata": {},
   "outputs": [
    {
     "data": {
      "text/plain": [
       "datetime.time(16, 18, 33, 351783)"
      ]
     },
     "execution_count": 100,
     "metadata": {},
     "output_type": "execute_result"
    }
   ],
   "source": [
    "t"
   ]
  },
  {
   "cell_type": "code",
   "execution_count": 107,
   "id": "b8e98b79",
   "metadata": {},
   "outputs": [
    {
     "data": {
      "text/plain": [
       "'this is the exact time right now nine o clock thank you'"
      ]
     },
     "execution_count": 107,
     "metadata": {},
     "output_type": "execute_result"
    }
   ],
   "source": [
    "m"
   ]
  },
  {
   "cell_type": "code",
   "execution_count": 108,
   "id": "6482a3c4",
   "metadata": {},
   "outputs": [
    {
     "data": {
      "text/plain": [
       "12"
      ]
     },
     "execution_count": 108,
     "metadata": {},
     "output_type": "execute_result"
    }
   ],
   "source": [
    "m.find('exact')"
   ]
  },
  {
   "cell_type": "code",
   "execution_count": 112,
   "id": "c9e3fbaa",
   "metadata": {},
   "outputs": [
    {
     "name": "stdout",
     "output_type": "stream",
     "text": [
      "enter the word that ypu want to find  hiii this is shubham mohan pawar\n",
      "hiii this is shubham mohan pawar\n",
      "enter the word you want to find : shubham\n",
      "your word is at the location index of number : \n",
      "13\n"
     ]
    }
   ],
   "source": [
    "\n",
    "s = input(str('enter the word that ypu want to find  '))\n",
    "print(s)\n",
    "p = input('enter the word you want to find : ')\n",
    "if s.find == -1:\n",
    "    print('ths given word is noit in above statement')\n",
    "else:\n",
    "    print('your word is at the location index of number : ')\n",
    "    print(s.find(p))"
   ]
  },
  {
   "cell_type": "code",
   "execution_count": 114,
   "id": "0cc533fc",
   "metadata": {},
   "outputs": [
    {
     "name": "stdout",
     "output_type": "stream",
     "text": [
      "enter the statement : hiiii mera naam shubham mohan pawar hai ....aur me abhinav college mai padhata hu...apko aur kya puchna hai kya muze\n",
      "enter the word thqat you want to find from the above statement : aur\n",
      "your given word is at location of index value is :\n",
      "44\n"
     ]
    }
   ],
   "source": [
    "q = input('enter the statement : ')\n",
    "w = input('enter the word thqat you want to find from the above statement : ')\n",
    "if q.find == -1:\n",
    "    print('the given word is not in the above statement...... plzzzz check your required word ')\n",
    "else :\n",
    "    print('your given word is at location of index value is :')\n",
    "    print(q.find(w))"
   ]
  },
  {
   "cell_type": "code",
   "execution_count": 115,
   "id": "fd9de6a2",
   "metadata": {},
   "outputs": [],
   "source": [
    "a = 20\n",
    "b = 56\n",
    "c = a+b"
   ]
  },
  {
   "cell_type": "code",
   "execution_count": 116,
   "id": "c4fd794a",
   "metadata": {},
   "outputs": [
    {
     "data": {
      "text/plain": [
       "76"
      ]
     },
     "execution_count": 116,
     "metadata": {},
     "output_type": "execute_result"
    }
   ],
   "source": [
    "c"
   ]
  },
  {
   "cell_type": "code",
   "execution_count": null,
   "id": "6250e07c",
   "metadata": {},
   "outputs": [],
   "source": []
  },
  {
   "cell_type": "code",
   "execution_count": 117,
   "id": "8899d1e7",
   "metadata": {},
   "outputs": [],
   "source": [
    "m = 'the addition of {} and {} is {}'.format(a,b,c) "
   ]
  },
  {
   "cell_type": "code",
   "execution_count": 118,
   "id": "3c4c97b2",
   "metadata": {},
   "outputs": [
    {
     "data": {
      "text/plain": [
       "'the addition of 20 and 56 is 76'"
      ]
     },
     "execution_count": 118,
     "metadata": {},
     "output_type": "execute_result"
    }
   ],
   "source": [
    "m"
   ]
  },
  {
   "cell_type": "code",
   "execution_count": 125,
   "id": "9ec9b576",
   "metadata": {},
   "outputs": [
    {
     "data": {
      "text/plain": [
       "' the addition of 20 and 56 is 76'"
      ]
     },
     "execution_count": 125,
     "metadata": {},
     "output_type": "execute_result"
    }
   ],
   "source": [
    "f\" the addition of {a} and {b} is {c}\""
   ]
  },
  {
   "cell_type": "code",
   "execution_count": 126,
   "id": "4db746e7",
   "metadata": {},
   "outputs": [],
   "source": [
    "p  = \"SHUBHAM\""
   ]
  },
  {
   "cell_type": "code",
   "execution_count": 127,
   "id": "bc56f296",
   "metadata": {},
   "outputs": [
    {
     "data": {
      "text/plain": [
       "'shubham'"
      ]
     },
     "execution_count": 127,
     "metadata": {},
     "output_type": "execute_result"
    }
   ],
   "source": [
    "p.swapcase()"
   ]
  },
  {
   "cell_type": "code",
   "execution_count": null,
   "id": "ec2a6f8e",
   "metadata": {},
   "outputs": [],
   "source": []
  },
  {
   "cell_type": "code",
   "execution_count": null,
   "id": "4cc2f859",
   "metadata": {},
   "outputs": [],
   "source": []
  }
 ],
 "metadata": {
  "kernelspec": {
   "display_name": "Python 3 (ipykernel)",
   "language": "python",
   "name": "python3"
  },
  "language_info": {
   "codemirror_mode": {
    "name": "ipython",
    "version": 3
   },
   "file_extension": ".py",
   "mimetype": "text/x-python",
   "name": "python",
   "nbconvert_exporter": "python",
   "pygments_lexer": "ipython3",
   "version": "3.9.7"
  }
 },
 "nbformat": 4,
 "nbformat_minor": 5
}
