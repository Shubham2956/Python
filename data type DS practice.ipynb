{
 "cells": [
  {
   "cell_type": "code",
   "execution_count": null,
   "id": "649825cc",
   "metadata": {},
   "outputs": [],
   "source": [
    "data types:\n",
    "    int \n",
    "    float\n",
    "    str\n",
    "    bool\n",
    "    None\n",
    "    complex\n",
    "\n",
    "data structure:\n",
    "    list\n",
    "    tuple\n",
    "    set\n",
    "    dict\n",
    "    frozenset\n",
    "    string\n",
    "    \n"
   ]
  },
  {
   "cell_type": "code",
   "execution_count": null,
   "id": "2a8fa540",
   "metadata": {},
   "outputs": [],
   "source": [
    "1....>int\n",
    "complete number without fraction or deciamal point"
   ]
  },
  {
   "cell_type": "code",
   "execution_count": 2,
   "id": "adf8f10b",
   "metadata": {},
   "outputs": [],
   "source": [
    "a = 500"
   ]
  },
  {
   "cell_type": "code",
   "execution_count": 3,
   "id": "894bb26b",
   "metadata": {},
   "outputs": [
    {
     "data": {
      "text/plain": [
       "500"
      ]
     },
     "execution_count": 3,
     "metadata": {},
     "output_type": "execute_result"
    }
   ],
   "source": [
    "a"
   ]
  },
  {
   "cell_type": "code",
   "execution_count": 6,
   "id": "014f9846",
   "metadata": {},
   "outputs": [
    {
     "data": {
      "text/plain": [
       "int"
      ]
     },
     "execution_count": 6,
     "metadata": {},
     "output_type": "execute_result"
    }
   ],
   "source": [
    "type(a)"
   ]
  },
  {
   "cell_type": "code",
   "execution_count": null,
   "id": "cd037b78",
   "metadata": {},
   "outputs": [],
   "source": [
    "2....>float \n",
    "number with fraction or decimal point"
   ]
  },
  {
   "cell_type": "code",
   "execution_count": 11,
   "id": "9ce25432",
   "metadata": {},
   "outputs": [],
   "source": [
    "a = 60.50"
   ]
  },
  {
   "cell_type": "code",
   "execution_count": 12,
   "id": "092288fe",
   "metadata": {},
   "outputs": [
    {
     "data": {
      "text/plain": [
       "float"
      ]
     },
     "execution_count": 12,
     "metadata": {},
     "output_type": "execute_result"
    }
   ],
   "source": [
    "type(a)"
   ]
  },
  {
   "cell_type": "code",
   "execution_count": null,
   "id": "8e8b2ed3",
   "metadata": {},
   "outputs": [],
   "source": [
    "3....>string\n",
    "character or any value written in '' \"\"."
   ]
  },
  {
   "cell_type": "code",
   "execution_count": 14,
   "id": "3e812e88",
   "metadata": {},
   "outputs": [],
   "source": [
    "a = 'shubham'"
   ]
  },
  {
   "cell_type": "code",
   "execution_count": 15,
   "id": "f0214e9b",
   "metadata": {},
   "outputs": [
    {
     "data": {
      "text/plain": [
       "str"
      ]
     },
     "execution_count": 15,
     "metadata": {},
     "output_type": "execute_result"
    }
   ],
   "source": [
    "type(a)"
   ]
  },
  {
   "cell_type": "code",
   "execution_count": 16,
   "id": "393d33bc",
   "metadata": {},
   "outputs": [],
   "source": [
    "a = '11234'"
   ]
  },
  {
   "cell_type": "code",
   "execution_count": 17,
   "id": "3cde33e3",
   "metadata": {},
   "outputs": [
    {
     "data": {
      "text/plain": [
       "str"
      ]
     },
     "execution_count": 17,
     "metadata": {},
     "output_type": "execute_result"
    }
   ],
   "source": [
    "type(a)"
   ]
  },
  {
   "cell_type": "code",
   "execution_count": 1,
   "id": "12f1fdcc",
   "metadata": {},
   "outputs": [],
   "source": [
    "a='____'"
   ]
  },
  {
   "cell_type": "code",
   "execution_count": 2,
   "id": "2ad0414e",
   "metadata": {},
   "outputs": [
    {
     "data": {
      "text/plain": [
       "'____'"
      ]
     },
     "execution_count": 2,
     "metadata": {},
     "output_type": "execute_result"
    }
   ],
   "source": [
    "a"
   ]
  },
  {
   "cell_type": "code",
   "execution_count": 6,
   "id": "61f09aa2",
   "metadata": {},
   "outputs": [
    {
     "data": {
      "text/plain": [
       "str"
      ]
     },
     "execution_count": 6,
     "metadata": {},
     "output_type": "execute_result"
    }
   ],
   "source": [
    "type(a)"
   ]
  },
  {
   "cell_type": "code",
   "execution_count": 3,
   "id": "e562f299",
   "metadata": {},
   "outputs": [],
   "source": [
    "a=\"=====\""
   ]
  },
  {
   "cell_type": "code",
   "execution_count": 4,
   "id": "bff3efe4",
   "metadata": {},
   "outputs": [
    {
     "data": {
      "text/plain": [
       "'====='"
      ]
     },
     "execution_count": 4,
     "metadata": {},
     "output_type": "execute_result"
    }
   ],
   "source": [
    "a"
   ]
  },
  {
   "cell_type": "code",
   "execution_count": 5,
   "id": "6735129b",
   "metadata": {},
   "outputs": [
    {
     "data": {
      "text/plain": [
       "str"
      ]
     },
     "execution_count": 5,
     "metadata": {},
     "output_type": "execute_result"
    }
   ],
   "source": [
    "type(a)"
   ]
  },
  {
   "cell_type": "code",
   "execution_count": 18,
   "id": "68394669",
   "metadata": {},
   "outputs": [],
   "source": [
    "a = \"shubham\""
   ]
  },
  {
   "cell_type": "code",
   "execution_count": 19,
   "id": "8be99ae6",
   "metadata": {},
   "outputs": [
    {
     "data": {
      "text/plain": [
       "str"
      ]
     },
     "execution_count": 19,
     "metadata": {},
     "output_type": "execute_result"
    }
   ],
   "source": [
    "type(a)"
   ]
  },
  {
   "cell_type": "code",
   "execution_count": 20,
   "id": "e2ef38aa",
   "metadata": {},
   "outputs": [],
   "source": [
    "a = \"234565.66.yugir\""
   ]
  },
  {
   "cell_type": "code",
   "execution_count": 21,
   "id": "e10d8999",
   "metadata": {},
   "outputs": [
    {
     "data": {
      "text/plain": [
       "str"
      ]
     },
     "execution_count": 21,
     "metadata": {},
     "output_type": "execute_result"
    }
   ],
   "source": [
    "type(a)"
   ]
  },
  {
   "cell_type": "code",
   "execution_count": null,
   "id": "f687a730",
   "metadata": {},
   "outputs": [],
   "source": [
    "4....>bool\n",
    "which writtens values in 0 and 1 . 1=true , 0=false"
   ]
  },
  {
   "cell_type": "code",
   "execution_count": 23,
   "id": "caed932c",
   "metadata": {},
   "outputs": [
    {
     "data": {
      "text/plain": [
       "2"
      ]
     },
     "execution_count": 23,
     "metadata": {},
     "output_type": "execute_result"
    }
   ],
   "source": [
    "True+True"
   ]
  },
  {
   "cell_type": "code",
   "execution_count": 24,
   "id": "c3a0f213",
   "metadata": {},
   "outputs": [
    {
     "data": {
      "text/plain": [
       "0"
      ]
     },
     "execution_count": 24,
     "metadata": {},
     "output_type": "execute_result"
    }
   ],
   "source": [
    "False+False"
   ]
  },
  {
   "cell_type": "code",
   "execution_count": 25,
   "id": "9b4d6e7c",
   "metadata": {},
   "outputs": [
    {
     "data": {
      "text/plain": [
       "1"
      ]
     },
     "execution_count": 25,
     "metadata": {},
     "output_type": "execute_result"
    }
   ],
   "source": [
    "True+False"
   ]
  },
  {
   "cell_type": "code",
   "execution_count": 26,
   "id": "f25b321b",
   "metadata": {},
   "outputs": [
    {
     "data": {
      "text/plain": [
       "0"
      ]
     },
     "execution_count": 26,
     "metadata": {},
     "output_type": "execute_result"
    }
   ],
   "source": [
    "True-True"
   ]
  },
  {
   "cell_type": "code",
   "execution_count": 27,
   "id": "560f6823",
   "metadata": {},
   "outputs": [],
   "source": [
    "a = 50"
   ]
  },
  {
   "cell_type": "code",
   "execution_count": 28,
   "id": "d2fb5c48",
   "metadata": {},
   "outputs": [],
   "source": [
    "b = 30"
   ]
  },
  {
   "cell_type": "code",
   "execution_count": 29,
   "id": "0637aa0a",
   "metadata": {},
   "outputs": [
    {
     "data": {
      "text/plain": [
       "True"
      ]
     },
     "execution_count": 29,
     "metadata": {},
     "output_type": "execute_result"
    }
   ],
   "source": [
    "a>b"
   ]
  },
  {
   "cell_type": "code",
   "execution_count": 30,
   "id": "a913f326",
   "metadata": {},
   "outputs": [
    {
     "data": {
      "text/plain": [
       "False"
      ]
     },
     "execution_count": 30,
     "metadata": {},
     "output_type": "execute_result"
    }
   ],
   "source": [
    "a<b"
   ]
  },
  {
   "cell_type": "code",
   "execution_count": 31,
   "id": "4b6db898",
   "metadata": {},
   "outputs": [],
   "source": [
    "a = 50"
   ]
  },
  {
   "cell_type": "code",
   "execution_count": 32,
   "id": "2c511c99",
   "metadata": {},
   "outputs": [],
   "source": [
    "b = 50"
   ]
  },
  {
   "cell_type": "code",
   "execution_count": 35,
   "id": "171d49bb",
   "metadata": {},
   "outputs": [
    {
     "data": {
      "text/plain": [
       "True"
      ]
     },
     "execution_count": 35,
     "metadata": {},
     "output_type": "execute_result"
    }
   ],
   "source": [
    "a>=b"
   ]
  },
  {
   "cell_type": "code",
   "execution_count": 36,
   "id": "cf479e4d",
   "metadata": {},
   "outputs": [
    {
     "data": {
      "text/plain": [
       "True"
      ]
     },
     "execution_count": 36,
     "metadata": {},
     "output_type": "execute_result"
    }
   ],
   "source": [
    "b<=a"
   ]
  },
  {
   "cell_type": "code",
   "execution_count": 37,
   "id": "f8efa232",
   "metadata": {},
   "outputs": [],
   "source": [
    "a = True"
   ]
  },
  {
   "cell_type": "code",
   "execution_count": 38,
   "id": "9757e688",
   "metadata": {},
   "outputs": [
    {
     "data": {
      "text/plain": [
       "bool"
      ]
     },
     "execution_count": 38,
     "metadata": {},
     "output_type": "execute_result"
    }
   ],
   "source": [
    "type(a)"
   ]
  },
  {
   "cell_type": "code",
   "execution_count": 1,
   "id": "81854f67",
   "metadata": {},
   "outputs": [],
   "source": [
    "a = 50\n",
    "b =50"
   ]
  },
  {
   "cell_type": "code",
   "execution_count": 2,
   "id": "47fa0bbf",
   "metadata": {},
   "outputs": [
    {
     "data": {
      "text/plain": [
       "True"
      ]
     },
     "execution_count": 2,
     "metadata": {},
     "output_type": "execute_result"
    }
   ],
   "source": [
    "a == b"
   ]
  },
  {
   "cell_type": "code",
   "execution_count": 3,
   "id": "6a77beb0",
   "metadata": {},
   "outputs": [
    {
     "data": {
      "text/plain": [
       "int"
      ]
     },
     "execution_count": 3,
     "metadata": {},
     "output_type": "execute_result"
    }
   ],
   "source": [
    "type(a)"
   ]
  },
  {
   "cell_type": "code",
   "execution_count": null,
   "id": "1ee75495",
   "metadata": {},
   "outputs": [],
   "source": []
  },
  {
   "cell_type": "code",
   "execution_count": null,
   "id": "71c0373b",
   "metadata": {},
   "outputs": [],
   "source": [
    "5....>None \n",
    "empty variable"
   ]
  },
  {
   "cell_type": "code",
   "execution_count": 7,
   "id": "599e1edd",
   "metadata": {},
   "outputs": [],
   "source": [
    "a=None"
   ]
  },
  {
   "cell_type": "code",
   "execution_count": 8,
   "id": "fce7f880",
   "metadata": {},
   "outputs": [
    {
     "data": {
      "text/plain": [
       "NoneType"
      ]
     },
     "execution_count": 8,
     "metadata": {},
     "output_type": "execute_result"
    }
   ],
   "source": [
    "type(a)"
   ]
  },
  {
   "cell_type": "code",
   "execution_count": 11,
   "id": "4078a0ec",
   "metadata": {},
   "outputs": [],
   "source": [
    "a=('Nghj,fhgg,ffg')"
   ]
  },
  {
   "cell_type": "code",
   "execution_count": 17,
   "id": "ece990b2",
   "metadata": {},
   "outputs": [
    {
     "data": {
      "text/plain": [
       "str"
      ]
     },
     "execution_count": 17,
     "metadata": {},
     "output_type": "execute_result"
    }
   ],
   "source": [
    "type(a)"
   ]
  },
  {
   "cell_type": "code",
   "execution_count": 23,
   "id": "1a04d704",
   "metadata": {},
   "outputs": [],
   "source": [
    "a=_"
   ]
  },
  {
   "cell_type": "code",
   "execution_count": 24,
   "id": "7d5b98ee",
   "metadata": {},
   "outputs": [
    {
     "data": {
      "text/plain": [
       "type"
      ]
     },
     "execution_count": 24,
     "metadata": {},
     "output_type": "execute_result"
    }
   ],
   "source": [
    "type(a)"
   ]
  },
  {
   "cell_type": "code",
   "execution_count": null,
   "id": "716ef491",
   "metadata": {},
   "outputs": [],
   "source": [
    "6....>complex\n",
    "artithmetic operations like (6+8j)"
   ]
  },
  {
   "cell_type": "code",
   "execution_count": 25,
   "id": "2ba8932b",
   "metadata": {},
   "outputs": [],
   "source": [
    "a=6+8j"
   ]
  },
  {
   "cell_type": "code",
   "execution_count": 26,
   "id": "2069653e",
   "metadata": {},
   "outputs": [
    {
     "data": {
      "text/plain": [
       "(6+8j)"
      ]
     },
     "execution_count": 26,
     "metadata": {},
     "output_type": "execute_result"
    }
   ],
   "source": [
    "a\n"
   ]
  },
  {
   "cell_type": "code",
   "execution_count": 27,
   "id": "2f0153c9",
   "metadata": {},
   "outputs": [
    {
     "data": {
      "text/plain": [
       "complex"
      ]
     },
     "execution_count": 27,
     "metadata": {},
     "output_type": "execute_result"
    }
   ],
   "source": [
    "type(a)"
   ]
  },
  {
   "cell_type": "code",
   "execution_count": 28,
   "id": "9ec6d0a3",
   "metadata": {},
   "outputs": [],
   "source": [
    "b=(5-9j)"
   ]
  },
  {
   "cell_type": "code",
   "execution_count": 29,
   "id": "e827cb57",
   "metadata": {},
   "outputs": [
    {
     "data": {
      "text/plain": [
       "(5-9j)"
      ]
     },
     "execution_count": 29,
     "metadata": {},
     "output_type": "execute_result"
    }
   ],
   "source": [
    "b"
   ]
  },
  {
   "cell_type": "code",
   "execution_count": 30,
   "id": "9c5d275b",
   "metadata": {},
   "outputs": [
    {
     "data": {
      "text/plain": [
       "complex"
      ]
     },
     "execution_count": 30,
     "metadata": {},
     "output_type": "execute_result"
    }
   ],
   "source": [
    "type(b)"
   ]
  },
  {
   "cell_type": "code",
   "execution_count": 32,
   "id": "5386cd79",
   "metadata": {},
   "outputs": [],
   "source": [
    "c=(6*8j)"
   ]
  },
  {
   "cell_type": "code",
   "execution_count": 33,
   "id": "b9ce8889",
   "metadata": {},
   "outputs": [
    {
     "data": {
      "text/plain": [
       "48j"
      ]
     },
     "execution_count": 33,
     "metadata": {},
     "output_type": "execute_result"
    }
   ],
   "source": [
    "c"
   ]
  },
  {
   "cell_type": "code",
   "execution_count": 34,
   "id": "9888164e",
   "metadata": {},
   "outputs": [],
   "source": [
    "c=(21/3j)"
   ]
  },
  {
   "cell_type": "code",
   "execution_count": 35,
   "id": "92dadf26",
   "metadata": {},
   "outputs": [
    {
     "data": {
      "text/plain": [
       "-7j"
      ]
     },
     "execution_count": 35,
     "metadata": {},
     "output_type": "execute_result"
    }
   ],
   "source": [
    "c"
   ]
  },
  {
   "cell_type": "code",
   "execution_count": 36,
   "id": "0a6d698e",
   "metadata": {},
   "outputs": [
    {
     "data": {
      "text/plain": [
       "complex"
      ]
     },
     "execution_count": 36,
     "metadata": {},
     "output_type": "execute_result"
    }
   ],
   "source": [
    "type(c)"
   ]
  },
  {
   "cell_type": "code",
   "execution_count": 43,
   "id": "e5a5a9bd",
   "metadata": {},
   "outputs": [],
   "source": [
    "c=(4+6j)+(6+3j)*(6)/8"
   ]
  },
  {
   "cell_type": "code",
   "execution_count": 44,
   "id": "12f314bd",
   "metadata": {},
   "outputs": [
    {
     "data": {
      "text/plain": [
       "(8.5+8.25j)"
      ]
     },
     "execution_count": 44,
     "metadata": {},
     "output_type": "execute_result"
    }
   ],
   "source": [
    "c"
   ]
  },
  {
   "cell_type": "code",
   "execution_count": 45,
   "id": "ff753d93",
   "metadata": {},
   "outputs": [
    {
     "data": {
      "text/plain": [
       "complex"
      ]
     },
     "execution_count": 45,
     "metadata": {},
     "output_type": "execute_result"
    }
   ],
   "source": [
    "type(c)"
   ]
  },
  {
   "cell_type": "code",
   "execution_count": 48,
   "id": "057fcbba",
   "metadata": {},
   "outputs": [],
   "source": [
    "a = 40"
   ]
  },
  {
   "cell_type": "code",
   "execution_count": 46,
   "id": "ea2342d3",
   "metadata": {},
   "outputs": [],
   "source": [
    "b=40"
   ]
  },
  {
   "cell_type": "code",
   "execution_count": 47,
   "id": "1ad59209",
   "metadata": {},
   "outputs": [],
   "source": [
    "c=40"
   ]
  },
  {
   "cell_type": "code",
   "execution_count": 49,
   "id": "e77bfe85",
   "metadata": {},
   "outputs": [
    {
     "data": {
      "text/plain": [
       "1299254636048"
      ]
     },
     "execution_count": 49,
     "metadata": {},
     "output_type": "execute_result"
    }
   ],
   "source": [
    "id(a)"
   ]
  },
  {
   "cell_type": "code",
   "execution_count": 50,
   "id": "81c76a8d",
   "metadata": {},
   "outputs": [
    {
     "data": {
      "text/plain": [
       "1299254636048"
      ]
     },
     "execution_count": 50,
     "metadata": {},
     "output_type": "execute_result"
    }
   ],
   "source": [
    "id(b)"
   ]
  },
  {
   "cell_type": "code",
   "execution_count": null,
   "id": "494fb8bb",
   "metadata": {},
   "outputs": [],
   "source": []
  },
  {
   "cell_type": "code",
   "execution_count": null,
   "id": "2326149e",
   "metadata": {},
   "outputs": [],
   "source": [
    "#....data structure "
   ]
  },
  {
   "cell_type": "code",
   "execution_count": null,
   "id": "3f6aee3a",
   "metadata": {},
   "outputs": [],
   "source": [
    "list\n",
    "tuple \n",
    "set\n",
    "dict\n",
    "frozenset\n",
    "str\n"
   ]
  },
  {
   "cell_type": "code",
   "execution_count": null,
   "id": "f7e9c1ac",
   "metadata": {},
   "outputs": [],
   "source": [
    "1....> list"
   ]
  },
  {
   "cell_type": "code",
   "execution_count": null,
   "id": "14255184",
   "metadata": {},
   "outputs": [],
   "source": [
    "1....>list is collection of element similar or differnent kind of data element.\n",
    "2....>homogenous ....>same data element\n",
    "3....>heterogenous....>different data element.\n",
    "4....>list can be defined in [].\n",
    "5....>it is mutable it can change.\n",
    "6....>it is zero index based.\n",
    "7....>list can have duplicate elements."
   ]
  },
  {
   "cell_type": "code",
   "execution_count": 1,
   "id": "c1d6968c",
   "metadata": {},
   "outputs": [],
   "source": [
    "l1=[1,3,5,7,9]"
   ]
  },
  {
   "cell_type": "code",
   "execution_count": 2,
   "id": "aea14b56",
   "metadata": {},
   "outputs": [
    {
     "data": {
      "text/plain": [
       "[1, 3, 5, 7, 9]"
      ]
     },
     "execution_count": 2,
     "metadata": {},
     "output_type": "execute_result"
    }
   ],
   "source": [
    "l1"
   ]
  },
  {
   "cell_type": "code",
   "execution_count": 3,
   "id": "1e440e2d",
   "metadata": {},
   "outputs": [
    {
     "data": {
      "text/plain": [
       "list"
      ]
     },
     "execution_count": 3,
     "metadata": {},
     "output_type": "execute_result"
    }
   ],
   "source": [
    "type(l1)"
   ]
  },
  {
   "cell_type": "code",
   "execution_count": 10,
   "id": "e9aeb8b2",
   "metadata": {},
   "outputs": [],
   "source": [
    "l1=['python',1,5,5.78,9.76,'_java',6+8j]"
   ]
  },
  {
   "cell_type": "code",
   "execution_count": 11,
   "id": "0c5d57b0",
   "metadata": {},
   "outputs": [
    {
     "data": {
      "text/plain": [
       "['python', 1, 5, 5.78, 9.76, '_java', (6+8j)]"
      ]
     },
     "execution_count": 11,
     "metadata": {},
     "output_type": "execute_result"
    }
   ],
   "source": [
    "l1"
   ]
  },
  {
   "cell_type": "code",
   "execution_count": 12,
   "id": "4ab9e0a4",
   "metadata": {},
   "outputs": [],
   "source": [
    "_list=[1,4,6,87,545,342234]"
   ]
  },
  {
   "cell_type": "code",
   "execution_count": 13,
   "id": "2b611076",
   "metadata": {},
   "outputs": [
    {
     "data": {
      "text/plain": [
       "[1, 4, 6, 87, 545, 342234]"
      ]
     },
     "execution_count": 13,
     "metadata": {},
     "output_type": "execute_result"
    }
   ],
   "source": [
    "_list"
   ]
  },
  {
   "cell_type": "code",
   "execution_count": 15,
   "id": "2f02d7f0",
   "metadata": {},
   "outputs": [],
   "source": [
    "l1=['python','new','colour','member',2,4,6,8,9,5,4,3,2,4,6,8,9,77,66,66,77,666,55,444,333,22,34,445,1,1,1,1,1,1]"
   ]
  },
  {
   "cell_type": "code",
   "execution_count": 16,
   "id": "185a2f65",
   "metadata": {},
   "outputs": [
    {
     "data": {
      "text/plain": [
       "['python',\n",
       " 'new',\n",
       " 'colour',\n",
       " 'member',\n",
       " 2,\n",
       " 4,\n",
       " 6,\n",
       " 8,\n",
       " 9,\n",
       " 5,\n",
       " 4,\n",
       " 3,\n",
       " 2,\n",
       " 4,\n",
       " 6,\n",
       " 8,\n",
       " 9,\n",
       " 77,\n",
       " 66,\n",
       " 66,\n",
       " 77,\n",
       " 666,\n",
       " 55,\n",
       " 444,\n",
       " 333,\n",
       " 22,\n",
       " 34,\n",
       " 445,\n",
       " 1,\n",
       " 1,\n",
       " 1,\n",
       " 1,\n",
       " 1,\n",
       " 1]"
      ]
     },
     "execution_count": 16,
     "metadata": {},
     "output_type": "execute_result"
    }
   ],
   "source": [
    "l1"
   ]
  },
  {
   "cell_type": "code",
   "execution_count": 17,
   "id": "7a3d67cd",
   "metadata": {},
   "outputs": [
    {
     "data": {
      "text/plain": [
       "list"
      ]
     },
     "execution_count": 17,
     "metadata": {},
     "output_type": "execute_result"
    }
   ],
   "source": [
    "type(l1)"
   ]
  },
  {
   "cell_type": "code",
   "execution_count": 18,
   "id": "838e304b",
   "metadata": {},
   "outputs": [
    {
     "data": {
      "text/plain": [
       "4"
      ]
     },
     "execution_count": 18,
     "metadata": {},
     "output_type": "execute_result"
    }
   ],
   "source": [
    "l1[10]"
   ]
  },
  {
   "cell_type": "code",
   "execution_count": 19,
   "id": "98b67f85",
   "metadata": {},
   "outputs": [
    {
     "data": {
      "text/plain": [
       "333"
      ]
     },
     "execution_count": 19,
     "metadata": {},
     "output_type": "execute_result"
    }
   ],
   "source": [
    "l1[-10]"
   ]
  },
  {
   "cell_type": "code",
   "execution_count": null,
   "id": "f492cc6e",
   "metadata": {},
   "outputs": [],
   "source": []
  },
  {
   "cell_type": "code",
   "execution_count": null,
   "id": "bfbceaeb",
   "metadata": {},
   "outputs": [],
   "source": [
    "insert \n",
    "delete\n",
    "update"
   ]
  },
  {
   "cell_type": "code",
   "execution_count": null,
   "id": "8367e697",
   "metadata": {},
   "outputs": [],
   "source": []
  },
  {
   "cell_type": "code",
   "execution_count": null,
   "id": "d10cf716",
   "metadata": {},
   "outputs": [],
   "source": [
    "1....>insertion\n",
    "    insert\n",
    "    append\n",
    "    extend"
   ]
  },
  {
   "cell_type": "code",
   "execution_count": 28,
   "id": "07979bb9",
   "metadata": {},
   "outputs": [],
   "source": [
    "p =[2,678,654,678,657,'java','shubham','345']"
   ]
  },
  {
   "cell_type": "code",
   "execution_count": 29,
   "id": "b9c69ebb",
   "metadata": {},
   "outputs": [
    {
     "data": {
      "text/plain": [
       "[2, 678, 654, 678, 657, 'java', 'shubham', '345']"
      ]
     },
     "execution_count": 29,
     "metadata": {},
     "output_type": "execute_result"
    }
   ],
   "source": [
    "p"
   ]
  },
  {
   "cell_type": "code",
   "execution_count": 3,
   "id": "96a91c76",
   "metadata": {},
   "outputs": [
    {
     "data": {
      "text/plain": [
       "list"
      ]
     },
     "execution_count": 3,
     "metadata": {},
     "output_type": "execute_result"
    }
   ],
   "source": [
    "type(p)"
   ]
  },
  {
   "cell_type": "code",
   "execution_count": null,
   "id": "9cd6fec4",
   "metadata": {},
   "outputs": [],
   "source": [
    "insert\n",
    "append\n",
    "extend"
   ]
  },
  {
   "cell_type": "code",
   "execution_count": null,
   "id": "ef9167cb",
   "metadata": {},
   "outputs": [],
   "source": []
  },
  {
   "cell_type": "code",
   "execution_count": 30,
   "id": "cdd92460",
   "metadata": {},
   "outputs": [],
   "source": [
    "p.insert(5,'neuro')"
   ]
  },
  {
   "cell_type": "code",
   "execution_count": 31,
   "id": "3005d65d",
   "metadata": {},
   "outputs": [
    {
     "data": {
      "text/plain": [
       "[2, 678, 654, 678, 657, 'neuro', 'java', 'shubham', '345']"
      ]
     },
     "execution_count": 31,
     "metadata": {},
     "output_type": "execute_result"
    }
   ],
   "source": [
    "p"
   ]
  },
  {
   "cell_type": "code",
   "execution_count": 32,
   "id": "e4fedd2d",
   "metadata": {},
   "outputs": [
    {
     "data": {
      "text/plain": [
       "list"
      ]
     },
     "execution_count": 32,
     "metadata": {},
     "output_type": "execute_result"
    }
   ],
   "source": [
    "type(p)"
   ]
  },
  {
   "cell_type": "code",
   "execution_count": 33,
   "id": "e2726adf",
   "metadata": {},
   "outputs": [],
   "source": [
    "p.insert(0,600)"
   ]
  },
  {
   "cell_type": "code",
   "execution_count": 34,
   "id": "bc66d4e0",
   "metadata": {},
   "outputs": [
    {
     "data": {
      "text/plain": [
       "[600, 2, 678, 654, 678, 657, 'neuro', 'java', 'shubham', '345']"
      ]
     },
     "execution_count": 34,
     "metadata": {},
     "output_type": "execute_result"
    }
   ],
   "source": [
    "p"
   ]
  },
  {
   "cell_type": "code",
   "execution_count": 35,
   "id": "5e776b84",
   "metadata": {},
   "outputs": [],
   "source": [
    "py=[1,3,554,667,443,66,45,89]"
   ]
  },
  {
   "cell_type": "code",
   "execution_count": 36,
   "id": "5f6fffc6",
   "metadata": {},
   "outputs": [
    {
     "data": {
      "text/plain": [
       "[1, 3, 554, 667, 443, 66, 45, 89]"
      ]
     },
     "execution_count": 36,
     "metadata": {},
     "output_type": "execute_result"
    }
   ],
   "source": [
    "py"
   ]
  },
  {
   "cell_type": "code",
   "execution_count": 37,
   "id": "524609d0",
   "metadata": {},
   "outputs": [
    {
     "data": {
      "text/plain": [
       "list"
      ]
     },
     "execution_count": 37,
     "metadata": {},
     "output_type": "execute_result"
    }
   ],
   "source": [
    "type(py)"
   ]
  },
  {
   "cell_type": "code",
   "execution_count": 38,
   "id": "be63ffad",
   "metadata": {},
   "outputs": [],
   "source": [
    "py.insert(3,600)"
   ]
  },
  {
   "cell_type": "code",
   "execution_count": 39,
   "id": "4bff568e",
   "metadata": {},
   "outputs": [
    {
     "data": {
      "text/plain": [
       "[1, 3, 554, 600, 667, 443, 66, 45, 89]"
      ]
     },
     "execution_count": 39,
     "metadata": {},
     "output_type": "execute_result"
    }
   ],
   "source": [
    "py"
   ]
  },
  {
   "cell_type": "code",
   "execution_count": 40,
   "id": "d95e88b9",
   "metadata": {},
   "outputs": [],
   "source": [
    "py.insert(7,[3,5,7])"
   ]
  },
  {
   "cell_type": "code",
   "execution_count": 41,
   "id": "20dce650",
   "metadata": {},
   "outputs": [
    {
     "data": {
      "text/plain": [
       "[1, 3, 554, 600, 667, 443, 66, [3, 5, 7], 45, 89]"
      ]
     },
     "execution_count": 41,
     "metadata": {},
     "output_type": "execute_result"
    }
   ],
   "source": [
    "py"
   ]
  },
  {
   "cell_type": "code",
   "execution_count": 42,
   "id": "820823d9",
   "metadata": {},
   "outputs": [],
   "source": [
    "l = [1,2,3,4]"
   ]
  },
  {
   "cell_type": "code",
   "execution_count": 43,
   "id": "8ccab07c",
   "metadata": {},
   "outputs": [
    {
     "data": {
      "text/plain": [
       "[1, 2, 3, 4]"
      ]
     },
     "execution_count": 43,
     "metadata": {},
     "output_type": "execute_result"
    }
   ],
   "source": [
    "l"
   ]
  },
  {
   "cell_type": "code",
   "execution_count": 44,
   "id": "c0ee1e8e",
   "metadata": {},
   "outputs": [],
   "source": [
    "l.insert(2,300)"
   ]
  },
  {
   "cell_type": "code",
   "execution_count": 45,
   "id": "4e32aca9",
   "metadata": {},
   "outputs": [
    {
     "data": {
      "text/plain": [
       "[1, 2, 300, 3, 4]"
      ]
     },
     "execution_count": 45,
     "metadata": {},
     "output_type": "execute_result"
    }
   ],
   "source": [
    "l"
   ]
  },
  {
   "cell_type": "code",
   "execution_count": 46,
   "id": "71706aab",
   "metadata": {},
   "outputs": [],
   "source": [
    "l1=[1,2,3,4]"
   ]
  },
  {
   "cell_type": "code",
   "execution_count": 47,
   "id": "4333924f",
   "metadata": {},
   "outputs": [
    {
     "data": {
      "text/plain": [
       "[1, 2, 3, 4]"
      ]
     },
     "execution_count": 47,
     "metadata": {},
     "output_type": "execute_result"
    }
   ],
   "source": [
    "l1"
   ]
  },
  {
   "cell_type": "code",
   "execution_count": 48,
   "id": "7dcfeda8",
   "metadata": {},
   "outputs": [],
   "source": [
    "l1.insert(2,[1,2,3])"
   ]
  },
  {
   "cell_type": "code",
   "execution_count": 49,
   "id": "65e2311e",
   "metadata": {},
   "outputs": [
    {
     "data": {
      "text/plain": [
       "[1, 2, [1, 2, 3], 3, 4]"
      ]
     },
     "execution_count": 49,
     "metadata": {},
     "output_type": "execute_result"
    }
   ],
   "source": [
    "l1"
   ]
  },
  {
   "cell_type": "code",
   "execution_count": 50,
   "id": "c2d2be35",
   "metadata": {},
   "outputs": [],
   "source": [
    "l1.insert(-2,4)"
   ]
  },
  {
   "cell_type": "code",
   "execution_count": 51,
   "id": "dba0dde0",
   "metadata": {},
   "outputs": [
    {
     "data": {
      "text/plain": [
       "[1, 2, [1, 2, 3], 4, 3, 4]"
      ]
     },
     "execution_count": 51,
     "metadata": {},
     "output_type": "execute_result"
    }
   ],
   "source": [
    "l1"
   ]
  },
  {
   "cell_type": "code",
   "execution_count": 53,
   "id": "3f9f2b84",
   "metadata": {},
   "outputs": [],
   "source": [
    "l1[2].insert(2,[70,80,90])"
   ]
  },
  {
   "cell_type": "code",
   "execution_count": 54,
   "id": "069ac1bb",
   "metadata": {},
   "outputs": [
    {
     "data": {
      "text/plain": [
       "[1, 2, [1, 2, [70, 80, 90], 3], 4, 3, 4]"
      ]
     },
     "execution_count": 54,
     "metadata": {},
     "output_type": "execute_result"
    }
   ],
   "source": [
    "l1"
   ]
  },
  {
   "cell_type": "code",
   "execution_count": 55,
   "id": "266f9eb6",
   "metadata": {},
   "outputs": [],
   "source": [
    "m=[1,2,3,4,5,6,7]"
   ]
  },
  {
   "cell_type": "code",
   "execution_count": 56,
   "id": "1eb87580",
   "metadata": {},
   "outputs": [
    {
     "data": {
      "text/plain": [
       "[1, 2, 3, 4, 5, 6, 7]"
      ]
     },
     "execution_count": 56,
     "metadata": {},
     "output_type": "execute_result"
    }
   ],
   "source": [
    "m"
   ]
  },
  {
   "cell_type": "code",
   "execution_count": 57,
   "id": "0096614a",
   "metadata": {},
   "outputs": [],
   "source": [
    "m.append(8)"
   ]
  },
  {
   "cell_type": "code",
   "execution_count": 58,
   "id": "35fcbf90",
   "metadata": {},
   "outputs": [
    {
     "data": {
      "text/plain": [
       "[1, 2, 3, 4, 5, 6, 7, 8]"
      ]
     },
     "execution_count": 58,
     "metadata": {},
     "output_type": "execute_result"
    }
   ],
   "source": [
    "m"
   ]
  },
  {
   "cell_type": "code",
   "execution_count": 59,
   "id": "d707a009",
   "metadata": {},
   "outputs": [],
   "source": [
    "m.append(9)"
   ]
  },
  {
   "cell_type": "code",
   "execution_count": 60,
   "id": "16e3025d",
   "metadata": {},
   "outputs": [
    {
     "data": {
      "text/plain": [
       "[1, 2, 3, 4, 5, 6, 7, 8, 9]"
      ]
     },
     "execution_count": 60,
     "metadata": {},
     "output_type": "execute_result"
    }
   ],
   "source": [
    "m"
   ]
  },
  {
   "cell_type": "code",
   "execution_count": 5,
   "id": "09561dba",
   "metadata": {},
   "outputs": [],
   "source": [
    "p = [1,[2,40,[60,[100]]]]"
   ]
  },
  {
   "cell_type": "code",
   "execution_count": 6,
   "id": "2f2f9c9a",
   "metadata": {},
   "outputs": [
    {
     "data": {
      "text/plain": [
       "[1, [2, 40, [60, [100]]]]"
      ]
     },
     "execution_count": 6,
     "metadata": {},
     "output_type": "execute_result"
    }
   ],
   "source": [
    "p"
   ]
  },
  {
   "cell_type": "code",
   "execution_count": 7,
   "id": "7077e13a",
   "metadata": {},
   "outputs": [
    {
     "data": {
      "text/plain": [
       "60"
      ]
     },
     "execution_count": 7,
     "metadata": {},
     "output_type": "execute_result"
    }
   ],
   "source": [
    "p[1][2][0]"
   ]
  },
  {
   "cell_type": "code",
   "execution_count": 14,
   "id": "96820013",
   "metadata": {},
   "outputs": [
    {
     "data": {
      "text/plain": [
       "1"
      ]
     },
     "execution_count": 14,
     "metadata": {},
     "output_type": "execute_result"
    }
   ],
   "source": [
    "p[0]"
   ]
  },
  {
   "cell_type": "code",
   "execution_count": 15,
   "id": "7a9809a3",
   "metadata": {},
   "outputs": [
    {
     "data": {
      "text/plain": [
       "[2, 40, [60, [100]]]"
      ]
     },
     "execution_count": 15,
     "metadata": {},
     "output_type": "execute_result"
    }
   ],
   "source": [
    "p[1]\n"
   ]
  },
  {
   "cell_type": "code",
   "execution_count": 18,
   "id": "33fafa3d",
   "metadata": {},
   "outputs": [
    {
     "data": {
      "text/plain": [
       "[100]"
      ]
     },
     "execution_count": 18,
     "metadata": {},
     "output_type": "execute_result"
    }
   ],
   "source": [
    "p[1][2][1]"
   ]
  },
  {
   "cell_type": "code",
   "execution_count": 19,
   "id": "95e0dfda",
   "metadata": {},
   "outputs": [],
   "source": [
    "q=[1,2,3,[4,5,6],8,7,[9,10]]"
   ]
  },
  {
   "cell_type": "code",
   "execution_count": 20,
   "id": "0c7c81a6",
   "metadata": {},
   "outputs": [
    {
     "data": {
      "text/plain": [
       "[1, 2, 3, [4, 5, 6], 8, 7, [9, 10]]"
      ]
     },
     "execution_count": 20,
     "metadata": {},
     "output_type": "execute_result"
    }
   ],
   "source": [
    "q"
   ]
  },
  {
   "cell_type": "code",
   "execution_count": 26,
   "id": "10c217cc",
   "metadata": {},
   "outputs": [
    {
     "data": {
      "text/plain": [
       "6"
      ]
     },
     "execution_count": 26,
     "metadata": {},
     "output_type": "execute_result"
    }
   ],
   "source": [
    "q[3][2]"
   ]
  },
  {
   "cell_type": "code",
   "execution_count": 27,
   "id": "65f7e37d",
   "metadata": {},
   "outputs": [],
   "source": [
    "m=[1,[2,[3,4,[5,6,7,[8,9,10,11]]]]]"
   ]
  },
  {
   "cell_type": "code",
   "execution_count": 28,
   "id": "4deff52a",
   "metadata": {},
   "outputs": [
    {
     "data": {
      "text/plain": [
       "[1, [2, [3, 4, [5, 6, 7, [8, 9, 10, 11]]]]]"
      ]
     },
     "execution_count": 28,
     "metadata": {},
     "output_type": "execute_result"
    }
   ],
   "source": [
    "m"
   ]
  },
  {
   "cell_type": "code",
   "execution_count": 33,
   "id": "f1f8e949",
   "metadata": {},
   "outputs": [
    {
     "data": {
      "text/plain": [
       "11"
      ]
     },
     "execution_count": 33,
     "metadata": {},
     "output_type": "execute_result"
    }
   ],
   "source": [
    "m[1][1][2][3][3]"
   ]
  },
  {
   "cell_type": "code",
   "execution_count": 34,
   "id": "465e8254",
   "metadata": {},
   "outputs": [],
   "source": [
    "s=[2,4,89,'java','oracle',678,56]"
   ]
  },
  {
   "cell_type": "code",
   "execution_count": 35,
   "id": "d441fd5d",
   "metadata": {},
   "outputs": [
    {
     "data": {
      "text/plain": [
       "[2, 4, 89, 'java', 'oracle', 678, 56]"
      ]
     },
     "execution_count": 35,
     "metadata": {},
     "output_type": "execute_result"
    }
   ],
   "source": [
    "s"
   ]
  },
  {
   "cell_type": "code",
   "execution_count": 38,
   "id": "b8fb8e43",
   "metadata": {},
   "outputs": [],
   "source": [
    "s[3]=86768"
   ]
  },
  {
   "cell_type": "code",
   "execution_count": 39,
   "id": "8797264e",
   "metadata": {},
   "outputs": [
    {
     "data": {
      "text/plain": [
       "[2, 4, 89, 86768, 'oracle', 678, 56]"
      ]
     },
     "execution_count": 39,
     "metadata": {},
     "output_type": "execute_result"
    }
   ],
   "source": [
    "s"
   ]
  },
  {
   "cell_type": "code",
   "execution_count": 69,
   "id": "6b2f4d37",
   "metadata": {},
   "outputs": [],
   "source": [
    "shubham=['s','h','u','b','h','a','m']"
   ]
  },
  {
   "cell_type": "code",
   "execution_count": 70,
   "id": "50b34457",
   "metadata": {},
   "outputs": [
    {
     "data": {
      "text/plain": [
       "['s', 'h', 'u', 'b', 'h', 'a', 'm']"
      ]
     },
     "execution_count": 70,
     "metadata": {},
     "output_type": "execute_result"
    }
   ],
   "source": [
    "shubham"
   ]
  },
  {
   "cell_type": "code",
   "execution_count": 71,
   "id": "a57bcf9a",
   "metadata": {},
   "outputs": [],
   "source": [
    "shubham[6]='n'"
   ]
  },
  {
   "cell_type": "code",
   "execution_count": 72,
   "id": "645bff9c",
   "metadata": {},
   "outputs": [
    {
     "data": {
      "text/plain": [
       "['s', 'h', 'u', 'b', 'h', 'a', 'n']"
      ]
     },
     "execution_count": 72,
     "metadata": {},
     "output_type": "execute_result"
    }
   ],
   "source": [
    "shubham"
   ]
  },
  {
   "cell_type": "code",
   "execution_count": 73,
   "id": "c0a02707",
   "metadata": {},
   "outputs": [],
   "source": [
    "shubham.append('g')"
   ]
  },
  {
   "cell_type": "code",
   "execution_count": 74,
   "id": "db763a08",
   "metadata": {},
   "outputs": [
    {
     "data": {
      "text/plain": [
       "['s', 'h', 'u', 'b', 'h', 'a', 'n', 'g']"
      ]
     },
     "execution_count": 74,
     "metadata": {},
     "output_type": "execute_result"
    }
   ],
   "source": [
    "shubham"
   ]
  },
  {
   "cell_type": "code",
   "execution_count": 75,
   "id": "e5465283",
   "metadata": {},
   "outputs": [],
   "source": [
    "shubham.append(['g','i'])"
   ]
  },
  {
   "cell_type": "code",
   "execution_count": 76,
   "id": "b3c9a13e",
   "metadata": {},
   "outputs": [
    {
     "data": {
      "text/plain": [
       "['s', 'h', 'u', 'b', 'h', 'a', 'n', 'g', ['g', 'i']]"
      ]
     },
     "execution_count": 76,
     "metadata": {},
     "output_type": "execute_result"
    }
   ],
   "source": [
    "shubham"
   ]
  },
  {
   "cell_type": "raw",
   "id": "6dd90f01",
   "metadata": {},
   "source": []
  },
  {
   "cell_type": "code",
   "execution_count": 77,
   "id": "500f7fbf",
   "metadata": {},
   "outputs": [],
   "source": [
    "y=[1,3,5,7]"
   ]
  },
  {
   "cell_type": "code",
   "execution_count": 78,
   "id": "80a91e34",
   "metadata": {},
   "outputs": [
    {
     "data": {
      "text/plain": [
       "[1, 3, 5, 7]"
      ]
     },
     "execution_count": 78,
     "metadata": {},
     "output_type": "execute_result"
    }
   ],
   "source": [
    "y"
   ]
  },
  {
   "cell_type": "code",
   "execution_count": 79,
   "id": "770e9454",
   "metadata": {},
   "outputs": [],
   "source": [
    "y.append(7)"
   ]
  },
  {
   "cell_type": "code",
   "execution_count": 80,
   "id": "907d923b",
   "metadata": {},
   "outputs": [
    {
     "data": {
      "text/plain": [
       "[1, 3, 5, 7, 7]"
      ]
     },
     "execution_count": 80,
     "metadata": {},
     "output_type": "execute_result"
    }
   ],
   "source": [
    "y\n"
   ]
  },
  {
   "cell_type": "code",
   "execution_count": 82,
   "id": "920cab35",
   "metadata": {},
   "outputs": [],
   "source": [
    "y.append([7,8,9])"
   ]
  },
  {
   "cell_type": "code",
   "execution_count": 83,
   "id": "951393f3",
   "metadata": {},
   "outputs": [
    {
     "data": {
      "text/plain": [
       "[1, 3, 5, 7, 7, [7, 8, 9]]"
      ]
     },
     "execution_count": 83,
     "metadata": {},
     "output_type": "execute_result"
    }
   ],
   "source": [
    "y"
   ]
  },
  {
   "cell_type": "code",
   "execution_count": 86,
   "id": "511273f9",
   "metadata": {},
   "outputs": [
    {
     "data": {
      "text/plain": [
       "9"
      ]
     },
     "execution_count": 86,
     "metadata": {},
     "output_type": "execute_result"
    }
   ],
   "source": [
    "y[5][2]"
   ]
  },
  {
   "cell_type": "code",
   "execution_count": 94,
   "id": "1c127033",
   "metadata": {},
   "outputs": [],
   "source": [
    "p1=['omkar','prasad','sagar']"
   ]
  },
  {
   "cell_type": "code",
   "execution_count": 95,
   "id": "2b0d0f48",
   "metadata": {},
   "outputs": [
    {
     "data": {
      "text/plain": [
       "['omkar', 'prasad', 'sagar']"
      ]
     },
     "execution_count": 95,
     "metadata": {},
     "output_type": "execute_result"
    }
   ],
   "source": [
    "p1"
   ]
  },
  {
   "cell_type": "code",
   "execution_count": 96,
   "id": "a0eb2b1c",
   "metadata": {},
   "outputs": [],
   "source": [
    "p2=['pranjal','nilam','priya']"
   ]
  },
  {
   "cell_type": "code",
   "execution_count": 97,
   "id": "b95953ea",
   "metadata": {},
   "outputs": [
    {
     "data": {
      "text/plain": [
       "['pranjal', 'nilam', 'priya']"
      ]
     },
     "execution_count": 97,
     "metadata": {},
     "output_type": "execute_result"
    }
   ],
   "source": [
    "p2"
   ]
  },
  {
   "cell_type": "code",
   "execution_count": 92,
   "id": "d68e2f5c",
   "metadata": {},
   "outputs": [],
   "source": [
    "p1.extend(p2)"
   ]
  },
  {
   "cell_type": "code",
   "execution_count": 93,
   "id": "7e49935f",
   "metadata": {},
   "outputs": [
    {
     "data": {
      "text/plain": [
       "['omkar', 'prasad', 'sagar', 'pranjal', 'nilam', 'priya']"
      ]
     },
     "execution_count": 93,
     "metadata": {},
     "output_type": "execute_result"
    }
   ],
   "source": [
    "p1"
   ]
  },
  {
   "cell_type": "code",
   "execution_count": 98,
   "id": "79f9a9bb",
   "metadata": {},
   "outputs": [],
   "source": [
    "p2.extend(p1)"
   ]
  },
  {
   "cell_type": "code",
   "execution_count": 99,
   "id": "14a1ef99",
   "metadata": {},
   "outputs": [
    {
     "data": {
      "text/plain": [
       "['pranjal', 'nilam', 'priya', 'omkar', 'prasad', 'sagar']"
      ]
     },
     "execution_count": 99,
     "metadata": {},
     "output_type": "execute_result"
    }
   ],
   "source": [
    "p2"
   ]
  },
  {
   "cell_type": "code",
   "execution_count": null,
   "id": "498c31ed",
   "metadata": {},
   "outputs": [],
   "source": []
  },
  {
   "cell_type": "code",
   "execution_count": 100,
   "id": "b45f0747",
   "metadata": {},
   "outputs": [],
   "source": [
    "#  ....>how to delete element from list...."
   ]
  },
  {
   "cell_type": "code",
   "execution_count": 101,
   "id": "708108b2",
   "metadata": {},
   "outputs": [
    {
     "data": {
      "text/plain": [
       "['pranjal', 'nilam', 'priya', 'omkar', 'prasad', 'sagar']"
      ]
     },
     "execution_count": 101,
     "metadata": {},
     "output_type": "execute_result"
    }
   ],
   "source": [
    "p2"
   ]
  },
  {
   "cell_type": "code",
   "execution_count": 102,
   "id": "60c8d9e6",
   "metadata": {},
   "outputs": [],
   "source": [
    "p2.remove('priya')"
   ]
  },
  {
   "cell_type": "code",
   "execution_count": 103,
   "id": "ab45313d",
   "metadata": {},
   "outputs": [
    {
     "data": {
      "text/plain": [
       "['pranjal', 'nilam', 'omkar', 'prasad', 'sagar']"
      ]
     },
     "execution_count": 103,
     "metadata": {},
     "output_type": "execute_result"
    }
   ],
   "source": [
    "p2"
   ]
  },
  {
   "cell_type": "code",
   "execution_count": 104,
   "id": "7db89466",
   "metadata": {},
   "outputs": [],
   "source": [
    "p2.remove('pranjal')"
   ]
  },
  {
   "cell_type": "code",
   "execution_count": 105,
   "id": "a40ad219",
   "metadata": {},
   "outputs": [
    {
     "data": {
      "text/plain": [
       "['nilam', 'omkar', 'prasad', 'sagar']"
      ]
     },
     "execution_count": 105,
     "metadata": {},
     "output_type": "execute_result"
    }
   ],
   "source": [
    "p2"
   ]
  },
  {
   "cell_type": "code",
   "execution_count": 107,
   "id": "220e4770",
   "metadata": {},
   "outputs": [
    {
     "data": {
      "text/plain": [
       "'omkar'"
      ]
     },
     "execution_count": 107,
     "metadata": {},
     "output_type": "execute_result"
    }
   ],
   "source": [
    "p2.pop(1)"
   ]
  },
  {
   "cell_type": "code",
   "execution_count": 108,
   "id": "b42aa9f7",
   "metadata": {},
   "outputs": [
    {
     "data": {
      "text/plain": [
       "['nilam', 'prasad', 'sagar']"
      ]
     },
     "execution_count": 108,
     "metadata": {},
     "output_type": "execute_result"
    }
   ],
   "source": [
    "p2"
   ]
  },
  {
   "cell_type": "code",
   "execution_count": 110,
   "id": "5afde71a",
   "metadata": {},
   "outputs": [],
   "source": [
    "p2.insert(3,'anjali')"
   ]
  },
  {
   "cell_type": "code",
   "execution_count": 111,
   "id": "80f75916",
   "metadata": {},
   "outputs": [
    {
     "data": {
      "text/plain": [
       "['nilam', 'prasad', 'sagar', 'anjali']"
      ]
     },
     "execution_count": 111,
     "metadata": {},
     "output_type": "execute_result"
    }
   ],
   "source": [
    "p2"
   ]
  },
  {
   "cell_type": "code",
   "execution_count": 118,
   "id": "ac44a46f",
   "metadata": {},
   "outputs": [],
   "source": [
    "p2.insert(3,['anushka','vishal'])"
   ]
  },
  {
   "cell_type": "code",
   "execution_count": 119,
   "id": "e1d55af2",
   "metadata": {},
   "outputs": [
    {
     "data": {
      "text/plain": [
       "['nilam', 'prasad', 'sagar', ['anushka', 'vishal'], 'anjali']"
      ]
     },
     "execution_count": 119,
     "metadata": {},
     "output_type": "execute_result"
    }
   ],
   "source": [
    "p2"
   ]
  },
  {
   "cell_type": "code",
   "execution_count": 124,
   "id": "3e95a2c8",
   "metadata": {},
   "outputs": [],
   "source": [
    "p2.insert(1,'aakash')"
   ]
  },
  {
   "cell_type": "code",
   "execution_count": 125,
   "id": "5746ed7d",
   "metadata": {},
   "outputs": [
    {
     "data": {
      "text/plain": [
       "['nilam', 'aakash', 'prasad', 'sagar', ['anushka', 'vishal'], 'anjali']"
      ]
     },
     "execution_count": 125,
     "metadata": {},
     "output_type": "execute_result"
    }
   ],
   "source": [
    "p2"
   ]
  },
  {
   "cell_type": "code",
   "execution_count": 137,
   "id": "2561e7e8",
   "metadata": {},
   "outputs": [],
   "source": [
    "p2[4].insert(1,['ajay','rakesh'])"
   ]
  },
  {
   "cell_type": "code",
   "execution_count": 138,
   "id": "66bbefc1",
   "metadata": {},
   "outputs": [
    {
     "data": {
      "text/plain": [
       "['nilam',\n",
       " 'aakash',\n",
       " 'prasad',\n",
       " 'sagar',\n",
       " ['anushka',\n",
       "  ['ajay', 'rakesh'],\n",
       "  ['ajay', 'rakesh'],\n",
       "  ['ajay', 'rakesh'],\n",
       "  ['ajay', 'rakesh'],\n",
       "  'vishal'],\n",
       " 'anjali']"
      ]
     },
     "execution_count": 138,
     "metadata": {},
     "output_type": "execute_result"
    }
   ],
   "source": [
    "p2"
   ]
  },
  {
   "cell_type": "code",
   "execution_count": 139,
   "id": "9f8399c6",
   "metadata": {},
   "outputs": [],
   "source": [
    "d=['nilam', 'aakash', 'prasad', 'sagar', ['anushka', 'vishal'], 'anjali']\n"
   ]
  },
  {
   "cell_type": "code",
   "execution_count": 140,
   "id": "5692e54d",
   "metadata": {},
   "outputs": [
    {
     "data": {
      "text/plain": [
       "['nilam', 'aakash', 'prasad', 'sagar', ['anushka', 'vishal'], 'anjali']"
      ]
     },
     "execution_count": 140,
     "metadata": {},
     "output_type": "execute_result"
    }
   ],
   "source": [
    "d"
   ]
  },
  {
   "cell_type": "code",
   "execution_count": 141,
   "id": "a33c6e09",
   "metadata": {},
   "outputs": [],
   "source": [
    "d[4].insert(1,['xyz','eee'])"
   ]
  },
  {
   "cell_type": "code",
   "execution_count": 142,
   "id": "bf9ffbca",
   "metadata": {},
   "outputs": [
    {
     "data": {
      "text/plain": [
       "['nilam',\n",
       " 'aakash',\n",
       " 'prasad',\n",
       " 'sagar',\n",
       " ['anushka', ['xyz', 'eee'], 'vishal'],\n",
       " 'anjali']"
      ]
     },
     "execution_count": 142,
     "metadata": {},
     "output_type": "execute_result"
    }
   ],
   "source": [
    "d"
   ]
  },
  {
   "cell_type": "code",
   "execution_count": 18,
   "id": "671c7a70",
   "metadata": {},
   "outputs": [],
   "source": [
    "a=[1,2,3,4,5,6,7]"
   ]
  },
  {
   "cell_type": "code",
   "execution_count": 19,
   "id": "f9cc7f8b",
   "metadata": {},
   "outputs": [
    {
     "data": {
      "text/plain": [
       "[1, 2, 3, 4, 5, 6, 7]"
      ]
     },
     "execution_count": 19,
     "metadata": {},
     "output_type": "execute_result"
    }
   ],
   "source": [
    "a"
   ]
  },
  {
   "cell_type": "code",
   "execution_count": 20,
   "id": "084ac2f8",
   "metadata": {},
   "outputs": [
    {
     "data": {
      "text/plain": [
       "list"
      ]
     },
     "execution_count": 20,
     "metadata": {},
     "output_type": "execute_result"
    }
   ],
   "source": [
    "type(a)"
   ]
  },
  {
   "cell_type": "code",
   "execution_count": 21,
   "id": "d72efa4c",
   "metadata": {},
   "outputs": [],
   "source": [
    "a.insert(2,600)"
   ]
  },
  {
   "cell_type": "code",
   "execution_count": 22,
   "id": "ad200171",
   "metadata": {},
   "outputs": [
    {
     "data": {
      "text/plain": [
       "[1, 2, 600, 3, 4, 5, 6, 7]"
      ]
     },
     "execution_count": 22,
     "metadata": {},
     "output_type": "execute_result"
    }
   ],
   "source": [
    "a"
   ]
  },
  {
   "cell_type": "code",
   "execution_count": 23,
   "id": "f3328bdf",
   "metadata": {},
   "outputs": [],
   "source": [
    "a.insert(2,[300,500,600])"
   ]
  },
  {
   "cell_type": "code",
   "execution_count": 24,
   "id": "c973cf80",
   "metadata": {},
   "outputs": [
    {
     "data": {
      "text/plain": [
       "[1, 2, [300, 500, 600], 600, 3, 4, 5, 6, 7]"
      ]
     },
     "execution_count": 24,
     "metadata": {},
     "output_type": "execute_result"
    }
   ],
   "source": [
    "a"
   ]
  },
  {
   "cell_type": "code",
   "execution_count": 25,
   "id": "b17591fe",
   "metadata": {},
   "outputs": [],
   "source": [
    "a[2].insert(1,[400,700])"
   ]
  },
  {
   "cell_type": "code",
   "execution_count": 26,
   "id": "cb6e3356",
   "metadata": {},
   "outputs": [
    {
     "data": {
      "text/plain": [
       "[1, 2, [300, [400, 700], 500, 600], 600, 3, 4, 5, 6, 7]"
      ]
     },
     "execution_count": 26,
     "metadata": {},
     "output_type": "execute_result"
    }
   ],
   "source": [
    "a"
   ]
  },
  {
   "cell_type": "code",
   "execution_count": 27,
   "id": "c3b5196f",
   "metadata": {},
   "outputs": [],
   "source": [
    "a.append(800)"
   ]
  },
  {
   "cell_type": "code",
   "execution_count": 28,
   "id": "d6d5e810",
   "metadata": {},
   "outputs": [
    {
     "data": {
      "text/plain": [
       "[1, 2, [300, [400, 700], 500, 600], 600, 3, 4, 5, 6, 7, 800]"
      ]
     },
     "execution_count": 28,
     "metadata": {},
     "output_type": "execute_result"
    }
   ],
   "source": [
    "a"
   ]
  },
  {
   "cell_type": "code",
   "execution_count": 29,
   "id": "427f568d",
   "metadata": {},
   "outputs": [],
   "source": [
    "a[2].append(900)"
   ]
  },
  {
   "cell_type": "code",
   "execution_count": 15,
   "id": "fd455718",
   "metadata": {},
   "outputs": [
    {
     "data": {
      "text/plain": [
       "[1, 2, [300, [400, 700], 500, 600, 900], 600, 3, 4, 5, 6, 7, 800]"
      ]
     },
     "execution_count": 15,
     "metadata": {},
     "output_type": "execute_result"
    }
   ],
   "source": [
    "a"
   ]
  },
  {
   "cell_type": "code",
   "execution_count": 30,
   "id": "a17029d0",
   "metadata": {},
   "outputs": [],
   "source": [
    "a[2][1].append(600)"
   ]
  },
  {
   "cell_type": "code",
   "execution_count": 31,
   "id": "6cbd47ab",
   "metadata": {},
   "outputs": [
    {
     "data": {
      "text/plain": [
       "[1, 2, [300, [400, 700, 600], 500, 600, 900], 600, 3, 4, 5, 6, 7, 800]"
      ]
     },
     "execution_count": 31,
     "metadata": {},
     "output_type": "execute_result"
    }
   ],
   "source": [
    "a"
   ]
  },
  {
   "cell_type": "code",
   "execution_count": 16,
   "id": "892433bd",
   "metadata": {},
   "outputs": [],
   "source": [
    "a[2][1].insert(1,[200,400])"
   ]
  },
  {
   "cell_type": "code",
   "execution_count": 17,
   "id": "7b82a859",
   "metadata": {},
   "outputs": [
    {
     "data": {
      "text/plain": [
       "[1, 2, [300, [400, [200, 400], 700], 500, 600, 900], 600, 3, 4, 5, 6, 7, 800]"
      ]
     },
     "execution_count": 17,
     "metadata": {},
     "output_type": "execute_result"
    }
   ],
   "source": [
    "a"
   ]
  },
  {
   "cell_type": "code",
   "execution_count": 161,
   "id": "7849f428",
   "metadata": {},
   "outputs": [],
   "source": [
    "a1=[1,2,3,4]"
   ]
  },
  {
   "cell_type": "code",
   "execution_count": 162,
   "id": "5df83db5",
   "metadata": {},
   "outputs": [],
   "source": [
    "a2=[5,6,7,8]"
   ]
  },
  {
   "cell_type": "markdown",
   "id": "1200e12f",
   "metadata": {},
   "source": [
    "# "
   ]
  },
  {
   "cell_type": "code",
   "execution_count": 159,
   "id": "63f37403",
   "metadata": {},
   "outputs": [],
   "source": [
    "a1.extend(a2)"
   ]
  },
  {
   "cell_type": "code",
   "execution_count": 160,
   "id": "b05db11f",
   "metadata": {},
   "outputs": [
    {
     "data": {
      "text/plain": [
       "[1, 2, 3, 4, 5, 6, 7, 8]"
      ]
     },
     "execution_count": 160,
     "metadata": {},
     "output_type": "execute_result"
    }
   ],
   "source": [
    "a1"
   ]
  },
  {
   "cell_type": "code",
   "execution_count": 163,
   "id": "5d882eaf",
   "metadata": {},
   "outputs": [],
   "source": [
    "a2.extend(a1)"
   ]
  },
  {
   "cell_type": "code",
   "execution_count": 164,
   "id": "ee88593f",
   "metadata": {},
   "outputs": [
    {
     "data": {
      "text/plain": [
       "[5, 6, 7, 8, 1, 2, 3, 4]"
      ]
     },
     "execution_count": 164,
     "metadata": {},
     "output_type": "execute_result"
    }
   ],
   "source": [
    "a2"
   ]
  },
  {
   "cell_type": "code",
   "execution_count": 166,
   "id": "79155712",
   "metadata": {},
   "outputs": [],
   "source": [
    "a1=['s','h','u','b']"
   ]
  },
  {
   "cell_type": "code",
   "execution_count": 167,
   "id": "b34e4e3c",
   "metadata": {},
   "outputs": [],
   "source": [
    "a2=['h','a','m','.']"
   ]
  },
  {
   "cell_type": "code",
   "execution_count": 168,
   "id": "703f16e6",
   "metadata": {},
   "outputs": [],
   "source": [
    "a1.extend(a2)"
   ]
  },
  {
   "cell_type": "code",
   "execution_count": 169,
   "id": "6855060f",
   "metadata": {},
   "outputs": [
    {
     "data": {
      "text/plain": [
       "['s', 'h', 'u', 'b', 'h', 'a', 'm', '.']"
      ]
     },
     "execution_count": 169,
     "metadata": {},
     "output_type": "execute_result"
    }
   ],
   "source": [
    "a1"
   ]
  },
  {
   "cell_type": "code",
   "execution_count": 178,
   "id": "a0b1fc10",
   "metadata": {},
   "outputs": [
    {
     "data": {
      "text/plain": [
       "[1, 2, [300, [400, 700], 500, 900], 3, 4, 5, 6, 7, 800]"
      ]
     },
     "execution_count": 178,
     "metadata": {},
     "output_type": "execute_result"
    }
   ],
   "source": [
    "a"
   ]
  },
  {
   "cell_type": "code",
   "execution_count": 173,
   "id": "a94804b2",
   "metadata": {},
   "outputs": [],
   "source": [
    "a.remove(600)"
   ]
  },
  {
   "cell_type": "code",
   "execution_count": 174,
   "id": "d8e0e3af",
   "metadata": {},
   "outputs": [
    {
     "data": {
      "text/plain": [
       "[1, 2, [300, [400, 700], 500, 600, 900], 3, 4, 5, 6, 7, 800]"
      ]
     },
     "execution_count": 174,
     "metadata": {},
     "output_type": "execute_result"
    }
   ],
   "source": [
    "a"
   ]
  },
  {
   "cell_type": "code",
   "execution_count": 176,
   "id": "1d9104a3",
   "metadata": {},
   "outputs": [],
   "source": [
    "a[2].remove(600)"
   ]
  },
  {
   "cell_type": "code",
   "execution_count": 179,
   "id": "67cdf57a",
   "metadata": {},
   "outputs": [
    {
     "data": {
      "text/plain": [
       "[1, 2, [300, [400, 700], 500, 900], 3, 4, 5, 6, 7, 800]"
      ]
     },
     "execution_count": 179,
     "metadata": {},
     "output_type": "execute_result"
    }
   ],
   "source": [
    "a"
   ]
  },
  {
   "cell_type": "code",
   "execution_count": 180,
   "id": "a20cfefb",
   "metadata": {},
   "outputs": [],
   "source": [
    "a[2].remove([400,700])"
   ]
  },
  {
   "cell_type": "code",
   "execution_count": 181,
   "id": "3ae28ffe",
   "metadata": {},
   "outputs": [
    {
     "data": {
      "text/plain": [
       "[1, 2, [300, 500, 900], 3, 4, 5, 6, 7, 800]"
      ]
     },
     "execution_count": 181,
     "metadata": {},
     "output_type": "execute_result"
    }
   ],
   "source": [
    "a"
   ]
  },
  {
   "cell_type": "code",
   "execution_count": 184,
   "id": "bb7314a2",
   "metadata": {},
   "outputs": [],
   "source": [
    "a.remove(4)"
   ]
  },
  {
   "cell_type": "code",
   "execution_count": 185,
   "id": "b5e26c19",
   "metadata": {},
   "outputs": [
    {
     "data": {
      "text/plain": [
       "[1, 2, [300, 500, 900], 3, 5, 6, 7, 800]"
      ]
     },
     "execution_count": 185,
     "metadata": {},
     "output_type": "execute_result"
    }
   ],
   "source": [
    "a\n"
   ]
  },
  {
   "cell_type": "code",
   "execution_count": 192,
   "id": "ee3b7005",
   "metadata": {},
   "outputs": [],
   "source": [
    "a.remove(1)"
   ]
  },
  {
   "cell_type": "code",
   "execution_count": 197,
   "id": "c84f03b2",
   "metadata": {},
   "outputs": [
    {
     "data": {
      "text/plain": [
       "[2, [300, 500, 900], 3, 5, 6, 7, 800]"
      ]
     },
     "execution_count": 197,
     "metadata": {},
     "output_type": "execute_result"
    }
   ],
   "source": [
    "a"
   ]
  },
  {
   "cell_type": "code",
   "execution_count": 202,
   "id": "834db3e0",
   "metadata": {},
   "outputs": [],
   "source": [
    "a.remove([300,500,900])"
   ]
  },
  {
   "cell_type": "code",
   "execution_count": 203,
   "id": "c5d93fb8",
   "metadata": {},
   "outputs": [
    {
     "data": {
      "text/plain": [
       "[2, 3, 5, 6, 7, 800]"
      ]
     },
     "execution_count": 203,
     "metadata": {},
     "output_type": "execute_result"
    }
   ],
   "source": [
    "a"
   ]
  },
  {
   "cell_type": "code",
   "execution_count": 221,
   "id": "f7160928",
   "metadata": {},
   "outputs": [],
   "source": [
    "r=[4,5,6,[34,[566,43,556],455],433,9889]"
   ]
  },
  {
   "cell_type": "code",
   "execution_count": 215,
   "id": "e8fbdee4",
   "metadata": {},
   "outputs": [
    {
     "data": {
      "text/plain": [
       "[4, 5, 6, [34, [566, 43, 556], 455], 433, 9889]"
      ]
     },
     "execution_count": 215,
     "metadata": {},
     "output_type": "execute_result"
    }
   ],
   "source": [
    "r"
   ]
  },
  {
   "cell_type": "code",
   "execution_count": 210,
   "id": "f239b90f",
   "metadata": {},
   "outputs": [
    {
     "data": {
      "text/plain": [
       "[4, 5, 6, [34, [566, 43, 556], 455], 433, 9889]"
      ]
     },
     "execution_count": 210,
     "metadata": {},
     "output_type": "execute_result"
    }
   ],
   "source": [
    "r"
   ]
  },
  {
   "cell_type": "code",
   "execution_count": 211,
   "id": "6eccbbe7",
   "metadata": {},
   "outputs": [
    {
     "data": {
      "text/plain": [
       "list"
      ]
     },
     "execution_count": 211,
     "metadata": {},
     "output_type": "execute_result"
    }
   ],
   "source": [
    "type(r)"
   ]
  },
  {
   "cell_type": "code",
   "execution_count": 212,
   "id": "6748623c",
   "metadata": {},
   "outputs": [],
   "source": [
    "r.remove([34,[566,43,556],455])"
   ]
  },
  {
   "cell_type": "code",
   "execution_count": 213,
   "id": "2ca770e2",
   "metadata": {},
   "outputs": [
    {
     "data": {
      "text/plain": [
       "[4, 5, 6, 433, 9889]"
      ]
     },
     "execution_count": 213,
     "metadata": {},
     "output_type": "execute_result"
    }
   ],
   "source": [
    "r"
   ]
  },
  {
   "cell_type": "code",
   "execution_count": 219,
   "id": "d0f804fd",
   "metadata": {},
   "outputs": [
    {
     "data": {
      "text/plain": [
       "[4, 5, 6, [[566, 43, 556], 455], 433, 9889]"
      ]
     },
     "execution_count": 219,
     "metadata": {},
     "output_type": "execute_result"
    }
   ],
   "source": [
    "r"
   ]
  },
  {
   "cell_type": "code",
   "execution_count": 217,
   "id": "4ef07df5",
   "metadata": {},
   "outputs": [],
   "source": [
    "r[3].remove(34)"
   ]
  },
  {
   "cell_type": "code",
   "execution_count": 218,
   "id": "1e482f94",
   "metadata": {},
   "outputs": [
    {
     "data": {
      "text/plain": [
       "[4, 5, 6, [[566, 43, 556], 455], 433, 9889]"
      ]
     },
     "execution_count": 218,
     "metadata": {},
     "output_type": "execute_result"
    }
   ],
   "source": [
    "r"
   ]
  },
  {
   "cell_type": "code",
   "execution_count": 220,
   "id": "50e2cbf2",
   "metadata": {},
   "outputs": [
    {
     "data": {
      "text/plain": [
       "[4, 5, 6, [[566, 43, 556], 455], 433, 9889]"
      ]
     },
     "execution_count": 220,
     "metadata": {},
     "output_type": "execute_result"
    }
   ],
   "source": [
    "r"
   ]
  },
  {
   "cell_type": "code",
   "execution_count": 225,
   "id": "c62995d5",
   "metadata": {},
   "outputs": [
    {
     "data": {
      "text/plain": [
       "[4, 5, 6, [34, [566, 43, 556], 455], 433, 9889]"
      ]
     },
     "execution_count": 225,
     "metadata": {},
     "output_type": "execute_result"
    }
   ],
   "source": [
    "r"
   ]
  },
  {
   "cell_type": "code",
   "execution_count": 232,
   "id": "632dc3c5",
   "metadata": {},
   "outputs": [
    {
     "ename": "ValueError",
     "evalue": "list.remove(x): x not in list",
     "output_type": "error",
     "traceback": [
      "\u001b[1;31m---------------------------------------------------------------------------\u001b[0m",
      "\u001b[1;31mValueError\u001b[0m                                Traceback (most recent call last)",
      "\u001b[1;32m~\\AppData\\Local\\Temp/ipykernel_18240/3686699672.py\u001b[0m in \u001b[0;36m<module>\u001b[1;34m\u001b[0m\n\u001b[1;32m----> 1\u001b[1;33m \u001b[0mr\u001b[0m\u001b[1;33m[\u001b[0m\u001b[1;36m3\u001b[0m\u001b[1;33m]\u001b[0m\u001b[1;33m.\u001b[0m\u001b[0mremove\u001b[0m\u001b[1;33m(\u001b[0m\u001b[1;36m34\u001b[0m\u001b[1;33m)\u001b[0m\u001b[1;33m\u001b[0m\u001b[1;33m\u001b[0m\u001b[0m\n\u001b[0m",
      "\u001b[1;31mValueError\u001b[0m: list.remove(x): x not in list"
     ]
    }
   ],
   "source": [
    "r[3].remove(34)"
   ]
  },
  {
   "cell_type": "code",
   "execution_count": 233,
   "id": "09ce62cb",
   "metadata": {},
   "outputs": [
    {
     "data": {
      "text/plain": [
       "[4, 5, 6, [[566, 43, 556], 455], 433, 9889]"
      ]
     },
     "execution_count": 233,
     "metadata": {},
     "output_type": "execute_result"
    }
   ],
   "source": [
    "r"
   ]
  },
  {
   "cell_type": "code",
   "execution_count": 235,
   "id": "6070d9ac",
   "metadata": {},
   "outputs": [],
   "source": [
    "r[3].remove(455)"
   ]
  },
  {
   "cell_type": "code",
   "execution_count": 236,
   "id": "ff3a45fc",
   "metadata": {},
   "outputs": [
    {
     "data": {
      "text/plain": [
       "[4, 5, 6, [[566, 43, 556]], 433, 9889]"
      ]
     },
     "execution_count": 236,
     "metadata": {},
     "output_type": "execute_result"
    }
   ],
   "source": [
    "r"
   ]
  },
  {
   "cell_type": "code",
   "execution_count": 243,
   "id": "0bc66c5b",
   "metadata": {},
   "outputs": [
    {
     "ename": "ValueError",
     "evalue": "list.remove(x): x not in list",
     "output_type": "error",
     "traceback": [
      "\u001b[1;31m---------------------------------------------------------------------------\u001b[0m",
      "\u001b[1;31mValueError\u001b[0m                                Traceback (most recent call last)",
      "\u001b[1;32m~\\AppData\\Local\\Temp/ipykernel_18240/4272331839.py\u001b[0m in \u001b[0;36m<module>\u001b[1;34m\u001b[0m\n\u001b[1;32m----> 1\u001b[1;33m \u001b[0mr\u001b[0m\u001b[1;33m[\u001b[0m\u001b[1;36m3\u001b[0m\u001b[1;33m]\u001b[0m\u001b[1;33m.\u001b[0m\u001b[0mremove\u001b[0m\u001b[1;33m(\u001b[0m\u001b[1;36m566\u001b[0m\u001b[1;33m)\u001b[0m\u001b[1;33m\u001b[0m\u001b[1;33m\u001b[0m\u001b[0m\n\u001b[0m",
      "\u001b[1;31mValueError\u001b[0m: list.remove(x): x not in list"
     ]
    }
   ],
   "source": [
    "r[3].remove(566)"
   ]
  },
  {
   "cell_type": "code",
   "execution_count": 244,
   "id": "d6408a0d",
   "metadata": {},
   "outputs": [
    {
     "data": {
      "text/plain": [
       "[4, 5, 6, [[566, 43, 556]], 433, 9889]"
      ]
     },
     "execution_count": 244,
     "metadata": {},
     "output_type": "execute_result"
    }
   ],
   "source": [
    "r"
   ]
  },
  {
   "cell_type": "code",
   "execution_count": 249,
   "id": "94521ab1",
   "metadata": {},
   "outputs": [],
   "source": [
    "r[3].remove([566,43,556])"
   ]
  },
  {
   "cell_type": "code",
   "execution_count": 250,
   "id": "f1fffd11",
   "metadata": {},
   "outputs": [
    {
     "data": {
      "text/plain": [
       "[4, 5, 6, [], 433, 9889]"
      ]
     },
     "execution_count": 250,
     "metadata": {},
     "output_type": "execute_result"
    }
   ],
   "source": [
    "r"
   ]
  },
  {
   "cell_type": "code",
   "execution_count": 251,
   "id": "5ac7736d",
   "metadata": {},
   "outputs": [],
   "source": [
    "r.remove([])"
   ]
  },
  {
   "cell_type": "code",
   "execution_count": 308,
   "id": "de5b3777",
   "metadata": {},
   "outputs": [
    {
     "data": {
      "text/plain": [
       "[4, 5, 6, 433, 9889]"
      ]
     },
     "execution_count": 308,
     "metadata": {},
     "output_type": "execute_result"
    }
   ],
   "source": [
    "r"
   ]
  },
  {
   "cell_type": "code",
   "execution_count": 309,
   "id": "b95e84fb",
   "metadata": {},
   "outputs": [],
   "source": [
    "q=[2,4,[6,8,6,[5,435,4543,9878,],8909,4,],5,7]"
   ]
  },
  {
   "cell_type": "code",
   "execution_count": 310,
   "id": "b2d283d2",
   "metadata": {},
   "outputs": [
    {
     "data": {
      "text/plain": [
       "[2, 4, [6, 8, 6, [5, 435, 4543, 9878], 8909, 4], 5, 7]"
      ]
     },
     "execution_count": 310,
     "metadata": {},
     "output_type": "execute_result"
    }
   ],
   "source": [
    "q"
   ]
  },
  {
   "cell_type": "code",
   "execution_count": 311,
   "id": "04eff5c2",
   "metadata": {},
   "outputs": [],
   "source": [
    "q.remove(2)"
   ]
  },
  {
   "cell_type": "code",
   "execution_count": 312,
   "id": "0d0504a3",
   "metadata": {},
   "outputs": [
    {
     "data": {
      "text/plain": [
       "[4, [6, 8, 6, [5, 435, 4543, 9878], 8909, 4], 5, 7]"
      ]
     },
     "execution_count": 312,
     "metadata": {},
     "output_type": "execute_result"
    }
   ],
   "source": [
    "q"
   ]
  },
  {
   "cell_type": "code",
   "execution_count": 313,
   "id": "247993f8",
   "metadata": {},
   "outputs": [
    {
     "ename": "AttributeError",
     "evalue": "'int' object has no attribute 'remove'",
     "output_type": "error",
     "traceback": [
      "\u001b[1;31m---------------------------------------------------------------------------\u001b[0m",
      "\u001b[1;31mAttributeError\u001b[0m                            Traceback (most recent call last)",
      "\u001b[1;32m~\\AppData\\Local\\Temp/ipykernel_18240/893026569.py\u001b[0m in \u001b[0;36m<module>\u001b[1;34m\u001b[0m\n\u001b[1;32m----> 1\u001b[1;33m \u001b[0mq\u001b[0m\u001b[1;33m[\u001b[0m\u001b[1;36m2\u001b[0m\u001b[1;33m]\u001b[0m\u001b[1;33m.\u001b[0m\u001b[0mremove\u001b[0m\u001b[1;33m(\u001b[0m\u001b[1;33m[\u001b[0m\u001b[1;36m5\u001b[0m\u001b[1;33m,\u001b[0m\u001b[1;36m435\u001b[0m\u001b[1;33m,\u001b[0m\u001b[1;36m4543\u001b[0m\u001b[1;33m,\u001b[0m\u001b[1;36m9878\u001b[0m\u001b[1;33m]\u001b[0m\u001b[1;33m)\u001b[0m\u001b[1;33m\u001b[0m\u001b[1;33m\u001b[0m\u001b[0m\n\u001b[0m",
      "\u001b[1;31mAttributeError\u001b[0m: 'int' object has no attribute 'remove'"
     ]
    }
   ],
   "source": [
    "q[2].remove([5,435,4543,9878])"
   ]
  },
  {
   "cell_type": "code",
   "execution_count": 314,
   "id": "e3229fd8",
   "metadata": {},
   "outputs": [
    {
     "data": {
      "text/plain": [
       "[4, [6, 8, 6, [5, 435, 4543, 9878], 8909, 4], 5, 7]"
      ]
     },
     "execution_count": 314,
     "metadata": {},
     "output_type": "execute_result"
    }
   ],
   "source": [
    "q"
   ]
  },
  {
   "cell_type": "code",
   "execution_count": 315,
   "id": "0fbf5a00",
   "metadata": {},
   "outputs": [
    {
     "data": {
      "text/plain": [
       "4"
      ]
     },
     "execution_count": 315,
     "metadata": {},
     "output_type": "execute_result"
    }
   ],
   "source": [
    "q[0]"
   ]
  },
  {
   "cell_type": "code",
   "execution_count": 316,
   "id": "13a7c57e",
   "metadata": {},
   "outputs": [
    {
     "data": {
      "text/plain": [
       "[6, 8, 6, [5, 435, 4543, 9878], 8909, 4]"
      ]
     },
     "execution_count": 316,
     "metadata": {},
     "output_type": "execute_result"
    }
   ],
   "source": [
    "q[1]"
   ]
  },
  {
   "cell_type": "code",
   "execution_count": 317,
   "id": "73a1d39c",
   "metadata": {},
   "outputs": [
    {
     "data": {
      "text/plain": [
       "5"
      ]
     },
     "execution_count": 317,
     "metadata": {},
     "output_type": "execute_result"
    }
   ],
   "source": [
    "q[2]"
   ]
  },
  {
   "cell_type": "code",
   "execution_count": 318,
   "id": "c739d9be",
   "metadata": {},
   "outputs": [
    {
     "data": {
      "text/plain": [
       "[4, [6, 8, 6, [5, 435, 4543, 9878], 8909, 4], 5, 7]"
      ]
     },
     "execution_count": 318,
     "metadata": {},
     "output_type": "execute_result"
    }
   ],
   "source": [
    "q\n"
   ]
  },
  {
   "cell_type": "code",
   "execution_count": 319,
   "id": "d8b4fbfe",
   "metadata": {},
   "outputs": [],
   "source": [
    "q[1].remove([5,435,4543,9878])"
   ]
  },
  {
   "cell_type": "code",
   "execution_count": 320,
   "id": "02a85fc3",
   "metadata": {},
   "outputs": [
    {
     "data": {
      "text/plain": [
       "[4, [6, 8, 6, 8909, 4], 5, 7]"
      ]
     },
     "execution_count": 320,
     "metadata": {},
     "output_type": "execute_result"
    }
   ],
   "source": [
    "q"
   ]
  },
  {
   "cell_type": "code",
   "execution_count": 321,
   "id": "d6c85d5c",
   "metadata": {},
   "outputs": [
    {
     "data": {
      "text/plain": [
       "[4, [6, 8, 6, 8909, 4], 5, 7]"
      ]
     },
     "execution_count": 321,
     "metadata": {},
     "output_type": "execute_result"
    }
   ],
   "source": [
    "q"
   ]
  },
  {
   "cell_type": "code",
   "execution_count": 322,
   "id": "d90fb60f",
   "metadata": {},
   "outputs": [
    {
     "ename": "AttributeError",
     "evalue": "'int' object has no attribute 'remove'",
     "output_type": "error",
     "traceback": [
      "\u001b[1;31m---------------------------------------------------------------------------\u001b[0m",
      "\u001b[1;31mAttributeError\u001b[0m                            Traceback (most recent call last)",
      "\u001b[1;32m~\\AppData\\Local\\Temp/ipykernel_18240/282672352.py\u001b[0m in \u001b[0;36m<module>\u001b[1;34m\u001b[0m\n\u001b[1;32m----> 1\u001b[1;33m \u001b[0mq\u001b[0m\u001b[1;33m[\u001b[0m\u001b[1;36m2\u001b[0m\u001b[1;33m]\u001b[0m\u001b[1;33m.\u001b[0m\u001b[0mremove\u001b[0m\u001b[1;33m(\u001b[0m\u001b[1;33m[\u001b[0m\u001b[1;36m6\u001b[0m\u001b[1;33m,\u001b[0m \u001b[1;36m8\u001b[0m\u001b[1;33m,\u001b[0m \u001b[1;36m6\u001b[0m\u001b[1;33m,\u001b[0m \u001b[1;33m[\u001b[0m\u001b[1;36m5\u001b[0m\u001b[1;33m,\u001b[0m \u001b[1;36m435\u001b[0m\u001b[1;33m,\u001b[0m \u001b[1;36m4543\u001b[0m\u001b[1;33m,\u001b[0m \u001b[1;36m9878\u001b[0m\u001b[1;33m]\u001b[0m\u001b[1;33m,\u001b[0m \u001b[1;36m8909\u001b[0m\u001b[1;33m,\u001b[0m \u001b[1;36m4\u001b[0m\u001b[1;33m]\u001b[0m\u001b[1;33m)\u001b[0m\u001b[1;33m\u001b[0m\u001b[1;33m\u001b[0m\u001b[0m\n\u001b[0m",
      "\u001b[1;31mAttributeError\u001b[0m: 'int' object has no attribute 'remove'"
     ]
    }
   ],
   "source": [
    "q[2].remove([6, 8, 6, [5, 435, 4543, 9878], 8909, 4]) "
   ]
  },
  {
   "cell_type": "code",
   "execution_count": 323,
   "id": "b73929e2",
   "metadata": {},
   "outputs": [
    {
     "data": {
      "text/plain": [
       "[4, [6, 8, 6, 8909, 4], 5, 7]"
      ]
     },
     "execution_count": 323,
     "metadata": {},
     "output_type": "execute_result"
    }
   ],
   "source": [
    "q"
   ]
  },
  {
   "cell_type": "code",
   "execution_count": 324,
   "id": "1d4b1f05",
   "metadata": {},
   "outputs": [
    {
     "name": "stderr",
     "output_type": "stream",
     "text": [
      "<>:1: SyntaxWarning: 'int' object is not subscriptable; perhaps you missed a comma?\n",
      "<>:1: SyntaxWarning: 'int' object is not subscriptable; perhaps you missed a comma?\n",
      "C:\\Users\\Dell\\AppData\\Local\\Temp/ipykernel_18240/4078914830.py:1: SyntaxWarning: 'int' object is not subscriptable; perhaps you missed a comma?\n",
      "  q[2].remove([6,8,6[5,435,4543,9878],8909,4])\n"
     ]
    },
    {
     "ename": "AttributeError",
     "evalue": "'int' object has no attribute 'remove'",
     "output_type": "error",
     "traceback": [
      "\u001b[1;31m---------------------------------------------------------------------------\u001b[0m",
      "\u001b[1;31mAttributeError\u001b[0m                            Traceback (most recent call last)",
      "\u001b[1;32m~\\AppData\\Local\\Temp/ipykernel_18240/4078914830.py\u001b[0m in \u001b[0;36m<module>\u001b[1;34m\u001b[0m\n\u001b[1;32m----> 1\u001b[1;33m \u001b[0mq\u001b[0m\u001b[1;33m[\u001b[0m\u001b[1;36m2\u001b[0m\u001b[1;33m]\u001b[0m\u001b[1;33m.\u001b[0m\u001b[0mremove\u001b[0m\u001b[1;33m(\u001b[0m\u001b[1;33m[\u001b[0m\u001b[1;36m6\u001b[0m\u001b[1;33m,\u001b[0m\u001b[1;36m8\u001b[0m\u001b[1;33m,\u001b[0m\u001b[1;36m6\u001b[0m\u001b[1;33m[\u001b[0m\u001b[1;36m5\u001b[0m\u001b[1;33m,\u001b[0m\u001b[1;36m435\u001b[0m\u001b[1;33m,\u001b[0m\u001b[1;36m4543\u001b[0m\u001b[1;33m,\u001b[0m\u001b[1;36m9878\u001b[0m\u001b[1;33m]\u001b[0m\u001b[1;33m,\u001b[0m\u001b[1;36m8909\u001b[0m\u001b[1;33m,\u001b[0m\u001b[1;36m4\u001b[0m\u001b[1;33m]\u001b[0m\u001b[1;33m)\u001b[0m\u001b[1;33m\u001b[0m\u001b[1;33m\u001b[0m\u001b[0m\n\u001b[0m",
      "\u001b[1;31mAttributeError\u001b[0m: 'int' object has no attribute 'remove'"
     ]
    }
   ],
   "source": [
    "q[2].remove([6,8,6[5,435,4543,9878],8909,4])"
   ]
  },
  {
   "cell_type": "code",
   "execution_count": 325,
   "id": "0b961cbe",
   "metadata": {},
   "outputs": [
    {
     "data": {
      "text/plain": [
       "[4, [6, 8, 6, 8909, 4], 5, 7]"
      ]
     },
     "execution_count": 325,
     "metadata": {},
     "output_type": "execute_result"
    }
   ],
   "source": [
    "q"
   ]
  },
  {
   "cell_type": "code",
   "execution_count": 326,
   "id": "e0a8253e",
   "metadata": {},
   "outputs": [],
   "source": [
    "q.remove(4)"
   ]
  },
  {
   "cell_type": "code",
   "execution_count": 327,
   "id": "0bdc315a",
   "metadata": {},
   "outputs": [
    {
     "data": {
      "text/plain": [
       "[[6, 8, 6, 8909, 4], 5, 7]"
      ]
     },
     "execution_count": 327,
     "metadata": {},
     "output_type": "execute_result"
    }
   ],
   "source": [
    "q"
   ]
  },
  {
   "cell_type": "code",
   "execution_count": 32,
   "id": "d3398843",
   "metadata": {},
   "outputs": [
    {
     "ename": "NameError",
     "evalue": "name 'q' is not defined",
     "output_type": "error",
     "traceback": [
      "\u001b[1;31m---------------------------------------------------------------------------\u001b[0m",
      "\u001b[1;31mNameError\u001b[0m                                 Traceback (most recent call last)",
      "\u001b[1;32m~\\AppData\\Local\\Temp/ipykernel_9132/3941000428.py\u001b[0m in \u001b[0;36m<module>\u001b[1;34m\u001b[0m\n\u001b[1;32m----> 1\u001b[1;33m \u001b[0mq\u001b[0m\u001b[1;33m[\u001b[0m\u001b[1;36m0\u001b[0m\u001b[1;33m]\u001b[0m\u001b[1;33m\u001b[0m\u001b[1;33m\u001b[0m\u001b[0m\n\u001b[0m",
      "\u001b[1;31mNameError\u001b[0m: name 'q' is not defined"
     ]
    }
   ],
   "source": [
    "q[0]"
   ]
  },
  {
   "cell_type": "code",
   "execution_count": 329,
   "id": "83c1d5e9",
   "metadata": {},
   "outputs": [],
   "source": [
    "q.remove([6,8,6,8909,4])"
   ]
  },
  {
   "cell_type": "code",
   "execution_count": null,
   "id": "d52c3e8e",
   "metadata": {},
   "outputs": [],
   "source": [
    "q"
   ]
  },
  {
   "cell_type": "code",
   "execution_count": null,
   "id": "8e60f4b7",
   "metadata": {},
   "outputs": [],
   "source": []
  },
  {
   "cell_type": "code",
   "execution_count": 330,
   "id": "4f708c00",
   "metadata": {},
   "outputs": [
    {
     "data": {
      "text/plain": [
       "[5, 7]"
      ]
     },
     "execution_count": 330,
     "metadata": {},
     "output_type": "execute_result"
    }
   ],
   "source": [
    "q"
   ]
  },
  {
   "cell_type": "code",
   "execution_count": 335,
   "id": "00286971",
   "metadata": {},
   "outputs": [],
   "source": [
    "s=[1,2,3,4,[456,678,675,45,35,[434,5656,567868,674646,357465],7896,5684,56458,456],6979,6675,6765,]"
   ]
  },
  {
   "cell_type": "code",
   "execution_count": 337,
   "id": "36919b4a",
   "metadata": {},
   "outputs": [
    {
     "data": {
      "text/plain": [
       "1"
      ]
     },
     "execution_count": 337,
     "metadata": {},
     "output_type": "execute_result"
    }
   ],
   "source": [
    "s[0]"
   ]
  },
  {
   "cell_type": "code",
   "execution_count": 339,
   "id": "d5dc40d2",
   "metadata": {},
   "outputs": [
    {
     "data": {
      "text/plain": [
       "2"
      ]
     },
     "execution_count": 339,
     "metadata": {},
     "output_type": "execute_result"
    }
   ],
   "source": [
    "s[1]"
   ]
  },
  {
   "cell_type": "code",
   "execution_count": 340,
   "id": "ae1e232e",
   "metadata": {},
   "outputs": [
    {
     "data": {
      "text/plain": [
       "6979"
      ]
     },
     "execution_count": 340,
     "metadata": {},
     "output_type": "execute_result"
    }
   ],
   "source": [
    "s[5]"
   ]
  },
  {
   "cell_type": "code",
   "execution_count": 341,
   "id": "9838ae36",
   "metadata": {},
   "outputs": [
    {
     "data": {
      "text/plain": [
       "[456,\n",
       " 678,\n",
       " 675,\n",
       " 45,\n",
       " 35,\n",
       " [434, 5656, 567868, 674646, 357465],\n",
       " 7896,\n",
       " 5684,\n",
       " 56458,\n",
       " 456]"
      ]
     },
     "execution_count": 341,
     "metadata": {},
     "output_type": "execute_result"
    }
   ],
   "source": [
    "s[4]"
   ]
  },
  {
   "cell_type": "code",
   "execution_count": 342,
   "id": "4df35a51",
   "metadata": {},
   "outputs": [
    {
     "data": {
      "text/plain": [
       "[434, 5656, 567868, 674646, 357465]"
      ]
     },
     "execution_count": 342,
     "metadata": {},
     "output_type": "execute_result"
    }
   ],
   "source": [
    "s[4][5]"
   ]
  },
  {
   "cell_type": "code",
   "execution_count": 345,
   "id": "8026348d",
   "metadata": {},
   "outputs": [
    {
     "ename": "AttributeError",
     "evalue": "'int' object has no attribute 'pop'",
     "output_type": "error",
     "traceback": [
      "\u001b[1;31m---------------------------------------------------------------------------\u001b[0m",
      "\u001b[1;31mAttributeError\u001b[0m                            Traceback (most recent call last)",
      "\u001b[1;32m~\\AppData\\Local\\Temp/ipykernel_18240/3885279345.py\u001b[0m in \u001b[0;36m<module>\u001b[1;34m\u001b[0m\n\u001b[1;32m----> 1\u001b[1;33m \u001b[0ms\u001b[0m\u001b[1;33m[\u001b[0m\u001b[1;36m4\u001b[0m\u001b[1;33m]\u001b[0m\u001b[1;33m.\u001b[0m\u001b[0mpop\u001b[0m\u001b[1;33m(\u001b[0m\u001b[1;36m5\u001b[0m\u001b[1;33m)\u001b[0m\u001b[1;33m\u001b[0m\u001b[1;33m\u001b[0m\u001b[0m\n\u001b[0m",
      "\u001b[1;31mAttributeError\u001b[0m: 'int' object has no attribute 'pop'"
     ]
    }
   ],
   "source": []
  },
  {
   "cell_type": "code",
   "execution_count": 344,
   "id": "e26c9e65",
   "metadata": {},
   "outputs": [
    {
     "data": {
      "text/plain": [
       "[1, 2, 3, 4, 6979, 6675, 6765]"
      ]
     },
     "execution_count": 344,
     "metadata": {},
     "output_type": "execute_result"
    }
   ],
   "source": [
    "s"
   ]
  },
  {
   "cell_type": "code",
   "execution_count": 346,
   "id": "47bd3d7e",
   "metadata": {},
   "outputs": [
    {
     "data": {
      "text/plain": [
       "[1, [2, [3, 4, [5, 6, 7, [8, 9, 10, 11]]]]]"
      ]
     },
     "execution_count": 346,
     "metadata": {},
     "output_type": "execute_result"
    }
   ],
   "source": [
    "m"
   ]
  },
  {
   "cell_type": "code",
   "execution_count": 351,
   "id": "3c43cdad",
   "metadata": {},
   "outputs": [
    {
     "data": {
      "text/plain": [
       "1"
      ]
     },
     "execution_count": 351,
     "metadata": {},
     "output_type": "execute_result"
    }
   ],
   "source": [
    "m[0]"
   ]
  },
  {
   "cell_type": "code",
   "execution_count": 352,
   "id": "fbee8fb4",
   "metadata": {},
   "outputs": [
    {
     "data": {
      "text/plain": [
       "[2, [3, 4, [5, 6, 7, [8, 9, 10, 11]]]]"
      ]
     },
     "execution_count": 352,
     "metadata": {},
     "output_type": "execute_result"
    }
   ],
   "source": [
    "m[1]"
   ]
  },
  {
   "cell_type": "code",
   "execution_count": 362,
   "id": "070c10cf",
   "metadata": {},
   "outputs": [
    {
     "data": {
      "text/plain": [
       "10"
      ]
     },
     "execution_count": 362,
     "metadata": {},
     "output_type": "execute_result"
    }
   ],
   "source": [
    "m[1][1][2][3][2]"
   ]
  },
  {
   "cell_type": "code",
   "execution_count": 359,
   "id": "ea885f02",
   "metadata": {},
   "outputs": [
    {
     "data": {
      "text/plain": [
       "[2, [3, 4, [5, 6, 7, [8, 9, 10, 11]]]]"
      ]
     },
     "execution_count": 359,
     "metadata": {},
     "output_type": "execute_result"
    }
   ],
   "source": [
    "m[]"
   ]
  },
  {
   "cell_type": "code",
   "execution_count": 388,
   "id": "76cfd2e3",
   "metadata": {},
   "outputs": [
    {
     "data": {
      "text/plain": [
       "[]"
      ]
     },
     "execution_count": 388,
     "metadata": {},
     "output_type": "execute_result"
    }
   ],
   "source": [
    "m"
   ]
  },
  {
   "cell_type": "code",
   "execution_count": 387,
   "id": "db6103d7",
   "metadata": {},
   "outputs": [
    {
     "ename": "IndexError",
     "evalue": "list index out of range",
     "output_type": "error",
     "traceback": [
      "\u001b[1;31m---------------------------------------------------------------------------\u001b[0m",
      "\u001b[1;31mIndexError\u001b[0m                                Traceback (most recent call last)",
      "\u001b[1;32m~\\AppData\\Local\\Temp/ipykernel_18240/3599690986.py\u001b[0m in \u001b[0;36m<module>\u001b[1;34m\u001b[0m\n\u001b[1;32m----> 1\u001b[1;33m \u001b[0mm\u001b[0m\u001b[1;33m[\u001b[0m\u001b[1;36m0\u001b[0m\u001b[1;33m]\u001b[0m\u001b[1;33m\u001b[0m\u001b[1;33m\u001b[0m\u001b[0m\n\u001b[0m",
      "\u001b[1;31mIndexError\u001b[0m: list index out of range"
     ]
    }
   ],
   "source": [
    "m[0]"
   ]
  },
  {
   "cell_type": "code",
   "execution_count": 40,
   "id": "d9bc0eb0",
   "metadata": {},
   "outputs": [],
   "source": [
    "o=[[6,7,[5,6,7,8],8,9],656,787,77]"
   ]
  },
  {
   "cell_type": "code",
   "execution_count": 44,
   "id": "9860fd0e",
   "metadata": {},
   "outputs": [
    {
     "data": {
      "text/plain": [
       "[5, 6, 7, 8]"
      ]
     },
     "execution_count": 44,
     "metadata": {},
     "output_type": "execute_result"
    }
   ],
   "source": [
    "o[0][2]"
   ]
  },
  {
   "cell_type": "code",
   "execution_count": 42,
   "id": "8320b94c",
   "metadata": {},
   "outputs": [
    {
     "data": {
      "text/plain": [
       "656"
      ]
     },
     "execution_count": 42,
     "metadata": {},
     "output_type": "execute_result"
    }
   ],
   "source": [
    "o[1]"
   ]
  },
  {
   "cell_type": "code",
   "execution_count": 21,
   "id": "e1305fa5",
   "metadata": {},
   "outputs": [],
   "source": [
    "g=['mum','pune','kashmir','hydr','satara']"
   ]
  },
  {
   "cell_type": "code",
   "execution_count": 22,
   "id": "ac91b724",
   "metadata": {},
   "outputs": [
    {
     "data": {
      "text/plain": [
       "['mum', 'pune', 'kashmir', 'hydr', 'satara']"
      ]
     },
     "execution_count": 22,
     "metadata": {},
     "output_type": "execute_result"
    }
   ],
   "source": [
    "g"
   ]
  },
  {
   "cell_type": "code",
   "execution_count": 23,
   "id": "6b7d6555",
   "metadata": {},
   "outputs": [
    {
     "data": {
      "text/plain": [
       "list"
      ]
     },
     "execution_count": 23,
     "metadata": {},
     "output_type": "execute_result"
    }
   ],
   "source": [
    "type(g)"
   ]
  },
  {
   "cell_type": "code",
   "execution_count": 24,
   "id": "088dfd60",
   "metadata": {},
   "outputs": [],
   "source": [
    "dlt_list=[]"
   ]
  },
  {
   "cell_type": "code",
   "execution_count": 25,
   "id": "ce49d360",
   "metadata": {},
   "outputs": [],
   "source": [
    "d=g.pop(2)"
   ]
  },
  {
   "cell_type": "code",
   "execution_count": 26,
   "id": "68ba1f3d",
   "metadata": {},
   "outputs": [
    {
     "data": {
      "text/plain": [
       "'kashmir'"
      ]
     },
     "execution_count": 26,
     "metadata": {},
     "output_type": "execute_result"
    }
   ],
   "source": [
    "d"
   ]
  },
  {
   "cell_type": "code",
   "execution_count": 27,
   "id": "d055f4b7",
   "metadata": {},
   "outputs": [],
   "source": [
    "dlt_list.append(d)"
   ]
  },
  {
   "cell_type": "code",
   "execution_count": 28,
   "id": "27db3b14",
   "metadata": {},
   "outputs": [
    {
     "data": {
      "text/plain": [
       "['kashmir']"
      ]
     },
     "execution_count": 28,
     "metadata": {},
     "output_type": "execute_result"
    }
   ],
   "source": [
    "dlt_list"
   ]
  },
  {
   "cell_type": "code",
   "execution_count": 29,
   "id": "03c85d71",
   "metadata": {},
   "outputs": [
    {
     "data": {
      "text/plain": [
       "['mum', 'pune', 'hydr', 'satara']"
      ]
     },
     "execution_count": 29,
     "metadata": {},
     "output_type": "execute_result"
    }
   ],
   "source": [
    "g"
   ]
  },
  {
   "cell_type": "code",
   "execution_count": 30,
   "id": "f1c60025",
   "metadata": {},
   "outputs": [],
   "source": [
    "dlt_list.append(g.pop(-2))"
   ]
  },
  {
   "cell_type": "code",
   "execution_count": 31,
   "id": "7b78c573",
   "metadata": {},
   "outputs": [
    {
     "data": {
      "text/plain": [
       "['kashmir', 'hydr']"
      ]
     },
     "execution_count": 31,
     "metadata": {},
     "output_type": "execute_result"
    }
   ],
   "source": [
    "dlt_list"
   ]
  },
  {
   "cell_type": "code",
   "execution_count": 3,
   "id": "a856fdf3",
   "metadata": {},
   "outputs": [],
   "source": [
    "j=[1,2,[3,5,6,[7,8,9,4,5],6,7,4,5],6,7]"
   ]
  },
  {
   "cell_type": "code",
   "execution_count": 4,
   "id": "d7c20a48",
   "metadata": {},
   "outputs": [
    {
     "data": {
      "text/plain": [
       "[1, 2, [3, 5, 6, [7, 8, 9, 4, 5], 6, 7, 4, 5], 6, 7]"
      ]
     },
     "execution_count": 4,
     "metadata": {},
     "output_type": "execute_result"
    }
   ],
   "source": [
    "j"
   ]
  },
  {
   "cell_type": "code",
   "execution_count": 6,
   "id": "3c4cfe2c",
   "metadata": {},
   "outputs": [
    {
     "data": {
      "text/plain": [
       "6"
      ]
     },
     "execution_count": 6,
     "metadata": {},
     "output_type": "execute_result"
    }
   ],
   "source": [
    "j.pop(2)"
   ]
  },
  {
   "cell_type": "code",
   "execution_count": 7,
   "id": "13491c59",
   "metadata": {},
   "outputs": [
    {
     "data": {
      "text/plain": [
       "[1, 2, 7]"
      ]
     },
     "execution_count": 7,
     "metadata": {},
     "output_type": "execute_result"
    }
   ],
   "source": [
    "j"
   ]
  },
  {
   "cell_type": "code",
   "execution_count": null,
   "id": "f50aab2b",
   "metadata": {},
   "outputs": [],
   "source": []
  },
  {
   "cell_type": "code",
   "execution_count": 1,
   "id": "26486df7",
   "metadata": {},
   "outputs": [],
   "source": [
    "p = [22,33,44,3545,56,5,65,6656,5]"
   ]
  },
  {
   "cell_type": "code",
   "execution_count": 2,
   "id": "78af7e29",
   "metadata": {},
   "outputs": [
    {
     "data": {
      "text/plain": [
       "44"
      ]
     },
     "execution_count": 2,
     "metadata": {},
     "output_type": "execute_result"
    }
   ],
   "source": [
    "p.pop(2)"
   ]
  },
  {
   "cell_type": "code",
   "execution_count": 3,
   "id": "39bfa0ff",
   "metadata": {},
   "outputs": [
    {
     "data": {
      "text/plain": [
       "[22, 33, 3545, 56, 5, 65, 6656, 5]"
      ]
     },
     "execution_count": 3,
     "metadata": {},
     "output_type": "execute_result"
    }
   ],
   "source": [
    "p"
   ]
  },
  {
   "cell_type": "code",
   "execution_count": 4,
   "id": "cfb0553c",
   "metadata": {},
   "outputs": [],
   "source": [
    "a = [1,3,4,34,[34,3456,[3334,5554,5455,4,],5666,565,55]]"
   ]
  },
  {
   "cell_type": "code",
   "execution_count": 5,
   "id": "d863efe2",
   "metadata": {},
   "outputs": [
    {
     "data": {
      "text/plain": [
       "[1, 3, 4, 34, [34, 3456, [3334, 5554, 5455, 4], 5666, 565, 55]]"
      ]
     },
     "execution_count": 5,
     "metadata": {},
     "output_type": "execute_result"
    }
   ],
   "source": [
    "a"
   ]
  },
  {
   "cell_type": "code",
   "execution_count": 6,
   "id": "92c49496",
   "metadata": {},
   "outputs": [
    {
     "data": {
      "text/plain": [
       "[34, 3456, [3334, 5554, 5455, 4], 5666, 565, 55]"
      ]
     },
     "execution_count": 6,
     "metadata": {},
     "output_type": "execute_result"
    }
   ],
   "source": [
    "a.pop(4)"
   ]
  },
  {
   "cell_type": "code",
   "execution_count": 7,
   "id": "3198510d",
   "metadata": {},
   "outputs": [
    {
     "data": {
      "text/plain": [
       "[1, 3, 4, 34]"
      ]
     },
     "execution_count": 7,
     "metadata": {},
     "output_type": "execute_result"
    }
   ],
   "source": [
    "a\n"
   ]
  },
  {
   "cell_type": "code",
   "execution_count": 10,
   "id": "8ddcd807",
   "metadata": {},
   "outputs": [],
   "source": [
    "a = [44,5,6565,4544,55,[344,322,[23,33,221,21,2,3,3],234,445,4,45],44,3,34,33,22,23,2,3,2,3,2]"
   ]
  },
  {
   "cell_type": "code",
   "execution_count": 11,
   "id": "6cae120e",
   "metadata": {},
   "outputs": [
    {
     "data": {
      "text/plain": [
       "[44,\n",
       " 5,\n",
       " 6565,\n",
       " 4544,\n",
       " 55,\n",
       " [344, 322, [23, 33, 221, 21, 2, 3, 3], 234, 445, 4, 45],\n",
       " 44,\n",
       " 3,\n",
       " 34,\n",
       " 33,\n",
       " 22,\n",
       " 23,\n",
       " 2,\n",
       " 3,\n",
       " 2,\n",
       " 3,\n",
       " 2]"
      ]
     },
     "execution_count": 11,
     "metadata": {},
     "output_type": "execute_result"
    }
   ],
   "source": [
    "a"
   ]
  },
  {
   "cell_type": "code",
   "execution_count": 13,
   "id": "8c01a822",
   "metadata": {},
   "outputs": [
    {
     "data": {
      "text/plain": [
       "[344, 322, [23, 33, 221, 21, 2, 3, 3], 234, 445, 4, 45]"
      ]
     },
     "execution_count": 13,
     "metadata": {},
     "output_type": "execute_result"
    }
   ],
   "source": [
    "a.pop(5)"
   ]
  },
  {
   "cell_type": "code",
   "execution_count": 14,
   "id": "a3f01657",
   "metadata": {},
   "outputs": [
    {
     "data": {
      "text/plain": [
       "[44, 5, 6565, 4544, 55, 44, 3, 34, 33, 22, 23, 2, 3, 2, 3, 2]"
      ]
     },
     "execution_count": 14,
     "metadata": {},
     "output_type": "execute_result"
    }
   ],
   "source": [
    "a"
   ]
  },
  {
   "cell_type": "code",
   "execution_count": null,
   "id": "ef449d7c",
   "metadata": {},
   "outputs": [],
   "source": []
  }
 ],
 "metadata": {
  "kernelspec": {
   "display_name": "Python 3 (ipykernel)",
   "language": "python",
   "name": "python3"
  },
  "language_info": {
   "codemirror_mode": {
    "name": "ipython",
    "version": 3
   },
   "file_extension": ".py",
   "mimetype": "text/x-python",
   "name": "python",
   "nbconvert_exporter": "python",
   "pygments_lexer": "ipython3",
   "version": "3.9.7"
  }
 },
 "nbformat": 4,
 "nbformat_minor": 5
}
