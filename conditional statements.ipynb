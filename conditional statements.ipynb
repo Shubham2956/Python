{
 "cells": [
  {
   "cell_type": "code",
   "execution_count": null,
   "id": "34405202",
   "metadata": {},
   "outputs": [],
   "source": [
    "# conditional statements........conditional statements are statements which used to change the flow of the program....\n",
    "                    #...........conditional statements are also known as flow control statements cause they controls the\n",
    "                    #..............flow of program\n",
    "        \n",
    "        \n",
    "        #...........conditional statements are as follows \n",
    "        #..........1. simple if \n",
    "        #..........2. if else \n",
    "        #..........3. if - else ladder \n",
    "        #..........4. nested if - else "
   ]
  },
  {
   "cell_type": "code",
   "execution_count": null,
   "id": "1b32faa2",
   "metadata": {},
   "outputs": [],
   "source": [
    "# simple if statremenrts "
   ]
  },
  {
   "cell_type": "code",
   "execution_count": 4,
   "id": "f8fc421a",
   "metadata": {},
   "outputs": [
    {
     "name": "stdin",
     "output_type": "stream",
     "text": [
      "enter the number : 33\n"
     ]
    },
    {
     "name": "stdout",
     "output_type": "stream",
     "text": [
      "hiiii python\n",
      "bye byeeee \n"
     ]
    }
   ],
   "source": [
    "x = int(input(\"enter the number :\"))\n",
    "if x> 20:\n",
    "    print(\"hiiii python\")\n",
    "print(\"bye byeeee \")"
   ]
  },
  {
   "cell_type": "code",
   "execution_count": null,
   "id": "842f39c7",
   "metadata": {},
   "outputs": [],
   "source": []
  },
  {
   "cell_type": "code",
   "execution_count": 6,
   "id": "6f8de7d5",
   "metadata": {},
   "outputs": [],
   "source": [
    "import datetime"
   ]
  },
  {
   "cell_type": "code",
   "execution_count": 8,
   "id": "bc3c30bd",
   "metadata": {},
   "outputs": [],
   "source": [
    "t = datetime.datetime.now()"
   ]
  },
  {
   "cell_type": "code",
   "execution_count": 10,
   "id": "0958d639",
   "metadata": {},
   "outputs": [
    {
     "name": "stdout",
     "output_type": "stream",
     "text": [
      "2024-11-09\n"
     ]
    }
   ],
   "source": [
    "m = print(t.date())"
   ]
  },
  {
   "cell_type": "code",
   "execution_count": 12,
   "id": "3c671985",
   "metadata": {},
   "outputs": [
    {
     "name": "stdin",
     "output_type": "stream",
     "text": [
      "enter the date you want to check:  2024-11-09\n"
     ]
    },
    {
     "name": "stdout",
     "output_type": "stream",
     "text": [
      "thank you for using service\n"
     ]
    }
   ],
   "source": [
    "a = input('enter the date you want to check: ')\n",
    "if a == m:\n",
    "    print('this is the todays date')\n",
    "\n",
    "print('thank you for using service')"
   ]
  },
  {
   "cell_type": "code",
   "execution_count": 6,
   "id": "e0821f2b",
   "metadata": {},
   "outputs": [
    {
     "data": {
      "text/plain": [
       "NoneType"
      ]
     },
     "execution_count": 6,
     "metadata": {},
     "output_type": "execute_result"
    }
   ],
   "source": [
    "type(m)"
   ]
  },
  {
   "cell_type": "code",
   "execution_count": null,
   "id": "a872d73d",
   "metadata": {},
   "outputs": [],
   "source": []
  },
  {
   "cell_type": "code",
   "execution_count": null,
   "id": "65d6c20b",
   "metadata": {},
   "outputs": [],
   "source": []
  },
  {
   "cell_type": "code",
   "execution_count": null,
   "id": "76691f49",
   "metadata": {},
   "outputs": [],
   "source": [
    "# if-else "
   ]
  },
  {
   "cell_type": "code",
   "execution_count": null,
   "id": "c450b202",
   "metadata": {},
   "outputs": [],
   "source": []
  },
  {
   "cell_type": "code",
   "execution_count": null,
   "id": "5f1c2689",
   "metadata": {},
   "outputs": [],
   "source": [
    "# to check t=number is even or odd "
   ]
  },
  {
   "cell_type": "code",
   "execution_count": 9,
   "id": "048223a6",
   "metadata": {},
   "outputs": [
    {
     "name": "stdout",
     "output_type": "stream",
     "text": [
      "enter the number to check even or odd :3\n",
      "given number is not fully divisible by 2 , hence it is odd\n",
      "thanks for using our service\n",
      "thank you\n"
     ]
    }
   ],
   "source": [
    "number  = int(input('enter the number to check even or odd :'))\n",
    "if number%2==0 :\n",
    "    print(\"given number is even\")\n",
    "    print(\"thanks for using our service\")\n",
    "else:\n",
    "    print(\"given number is not fully divisible by 2 , hence it is odd\")\n",
    "    print('thanks for using our service')\n",
    "print(\"thank you\")"
   ]
  },
  {
   "cell_type": "code",
   "execution_count": null,
   "id": "2dfdfb31",
   "metadata": {},
   "outputs": [],
   "source": []
  },
  {
   "cell_type": "code",
   "execution_count": null,
   "id": "dca025ad",
   "metadata": {},
   "outputs": [],
   "source": [
    "# to check the file is .pdf or not"
   ]
  },
  {
   "cell_type": "code",
   "execution_count": 17,
   "id": "3aca814e",
   "metadata": {},
   "outputs": [
    {
     "name": "stdin",
     "output_type": "stream",
     "text": [
      "please enter the file name to check it is pdf file or not : ghghfhf.pdf\n"
     ]
    },
    {
     "name": "stdout",
     "output_type": "stream",
     "text": [
      "ghghfhf.pdf is pdf\n",
      "thanks for using our service\n",
      "thank you\n"
     ]
    }
   ],
   "source": [
    "file_name = str(input(\"please enter the file name to check it is pdf file or not :\"))\n",
    "if file_name.endswith('.pdf'):\n",
    "    print(f\"{file_name} is pdf\")\n",
    "    print(\"thanks for using our service\")\n",
    "else:\n",
    "    print(\"given file name is not ended with the extension of .pdf , hence it is not in pdf format\")\n",
    "    print('thanks for using our service')\n",
    "print(\"thank you\")\n",
    "    "
   ]
  },
  {
   "cell_type": "code",
   "execution_count": null,
   "id": "fd9fcc72",
   "metadata": {},
   "outputs": [],
   "source": [
    "# to check email id is valid or not "
   ]
  },
  {
   "cell_type": "code",
   "execution_count": 19,
   "id": "d3cc34a2",
   "metadata": {},
   "outputs": [
    {
     "name": "stdin",
     "output_type": "stream",
     "text": [
      "please enter the email id to check it is right format or not : shubhan123@gmail.com\n"
     ]
    },
    {
     "name": "stdout",
     "output_type": "stream",
     "text": [
      "the given mail id is valid\n",
      "thanks for using our service\n",
      "thank you\n"
     ]
    }
   ],
   "source": [
    "email= str(input(\"please enter the email id to check it is right format or not :\"))\n",
    "if email.split('@')[1] in ['yahoo.com','gmail.com','rediff.com']:\n",
    "    print(\"the given mail id is valid\")\n",
    "    print(\"thanks for using our service\")\n",
    "else:\n",
    "    print(\"given mail id is not ended with the right extension , pls enter valid mail id\")\n",
    "    print('thanks for using our service')\n",
    "print(\"thank you\")"
   ]
  },
  {
   "cell_type": "code",
   "execution_count": null,
   "id": "f26e298b",
   "metadata": {},
   "outputs": [],
   "source": []
  },
  {
   "cell_type": "code",
   "execution_count": 36,
   "id": "f8ddff77",
   "metadata": {},
   "outputs": [
    {
     "name": "stdout",
     "output_type": "stream",
     "text": [
      "please enter the email id to check it is right format or not :shubham@rediff.com\n",
      "the given mail id is valid\n",
      "thanks for using our service\n",
      "thank you\n"
     ]
    }
   ],
   "source": [
    "email= str(input(\"please enter the email id to check it is right format or not :\"))\n",
    "if '@gmail.com'or'@yahoo.com'or'@rediff,com' in email:\n",
    "    print(\"the given mail id is valid\")\n",
    "    print(\"thanks for using our service\")\n",
    "else:\n",
    "    print(\"given mail id is not ended with the right extension , pls enter valid mail id\")\n",
    "    print('thanks for using our service')\n",
    "print(\"thank you\")"
   ]
  },
  {
   "cell_type": "code",
   "execution_count": null,
   "id": "9c39962b",
   "metadata": {},
   "outputs": [],
   "source": []
  },
  {
   "cell_type": "code",
   "execution_count": null,
   "id": "b21d97bc",
   "metadata": {},
   "outputs": [],
   "source": [
    "# if - else ladder --- more than two conditions \n",
    "# syntax \n",
    "\n",
    "\"\"\"\n",
    "if condition:\n",
    "    sttmnt\n",
    "elif condition 2:\n",
    "    sttmnt\n",
    "elif condition 3:\n",
    "    sttmnt\n",
    "elif condition 4:\n",
    "    sttmnt\n",
    "else:\n",
    "    default sttmnt\n",
    "    \n",
    "\"\"\""
   ]
  },
  {
   "cell_type": "code",
   "execution_count": null,
   "id": "34660c83",
   "metadata": {},
   "outputs": [],
   "source": []
  },
  {
   "cell_type": "code",
   "execution_count": 47,
   "id": "71901576",
   "metadata": {},
   "outputs": [
    {
     "name": "stdout",
     "output_type": "stream",
     "text": [
      "enter the marks to check your result: 45\n",
      "you passed with poor result\n"
     ]
    }
   ],
   "source": [
    "marks = int(input('enter the marks to check your result: '))\n",
    "if marks < 100 and marks >=75:\n",
    "    print(\"\"\"\"congratulations .....you passed with distinction....'A++''\"\"\")\n",
    "elif marks < 75 and marks >=60:\n",
    "    print(\"you passed with B grade\")\n",
    "elif marks < 60 and marks >=55:\n",
    "    print(\"you passed with c grade\")\n",
    "elif marks < 55 and marks>=35:\n",
    "      print(\"you passed with poor result\")\n",
    "elif marks < 35 and marks>=0:\n",
    "          print(\"failed\")\n",
    "elif marks <100:\n",
    "    print(\"enter correct marks\")\n",
    "\n",
    "\n",
    "else:\n",
    "    print(\"thanks\")\n",
    "    \n",
    "\n",
    "\n",
    "        "
   ]
  },
  {
   "cell_type": "code",
   "execution_count": null,
   "id": "6d62e915",
   "metadata": {},
   "outputs": [],
   "source": []
  },
  {
   "cell_type": "code",
   "execution_count": null,
   "id": "845c20e1",
   "metadata": {},
   "outputs": [],
   "source": [
    "# nested if \n",
    "# "
   ]
  },
  {
   "cell_type": "code",
   "execution_count": null,
   "id": "52e1749c",
   "metadata": {},
   "outputs": [],
   "source": []
  },
  {
   "cell_type": "code",
   "execution_count": 13,
   "id": "cc0eba5a",
   "metadata": {},
   "outputs": [
    {
     "name": "stdout",
     "output_type": "stream",
     "text": [
      "enter the file name which you want to processing :silver.txt\n",
      "processing the silver text file \n"
     ]
    }
   ],
   "source": [
    "filename = input('enter the file name which you want to processing :')\n",
    "x = filename.split('.')[0]\n",
    "if filename.endswith('.pdf'):\n",
    "    if x =='silver':\n",
    "        print('processing the silver ')\n",
    "    elif x =='gold':\n",
    "        print('processing gold')\n",
    "        \n",
    "elif filename.endswith('.txt'):\n",
    "    if x =='silver':\n",
    "            print('processing the silver text file ')\n",
    "    elif x =='gold':\n",
    "        print('processing gold text file')\n",
    "        \n",
    "else:\n",
    "    print('enter the correct file')"
   ]
  },
  {
   "cell_type": "code",
   "execution_count": null,
   "id": "00682047",
   "metadata": {},
   "outputs": [],
   "source": []
  },
  {
   "cell_type": "code",
   "execution_count": null,
   "id": "4e53329b",
   "metadata": {},
   "outputs": [],
   "source": []
  },
  {
   "cell_type": "code",
   "execution_count": null,
   "id": "9cbc902c",
   "metadata": {},
   "outputs": [],
   "source": []
  },
  {
   "cell_type": "code",
   "execution_count": null,
   "id": "37718cb7",
   "metadata": {},
   "outputs": [],
   "source": []
  },
  {
   "cell_type": "code",
   "execution_count": null,
   "id": "a76f0ce9",
   "metadata": {},
   "outputs": [],
   "source": []
  },
  {
   "cell_type": "code",
   "execution_count": null,
   "id": "fe9b21dd",
   "metadata": {},
   "outputs": [],
   "source": []
  }
 ],
 "metadata": {
  "kernelspec": {
   "display_name": "Python 3 (ipykernel)",
   "language": "python",
   "name": "python3"
  },
  "language_info": {
   "codemirror_mode": {
    "name": "ipython",
    "version": 3
   },
   "file_extension": ".py",
   "mimetype": "text/x-python",
   "name": "python",
   "nbconvert_exporter": "python",
   "pygments_lexer": "ipython3",
   "version": "3.9.19"
  }
 },
 "nbformat": 4,
 "nbformat_minor": 5
}
