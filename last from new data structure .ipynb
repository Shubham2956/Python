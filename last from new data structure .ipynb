{
 "cells": [
  {
   "cell_type": "code",
   "execution_count": 1,
   "id": "b081f447",
   "metadata": {},
   "outputs": [],
   "source": [
    "#__________________DATA STRUCTURE_____________________"
   ]
  },
  {
   "cell_type": "code",
   "execution_count": null,
   "id": "0e4ba24a",
   "metadata": {},
   "outputs": [],
   "source": [
    "#1.LIST\n",
    "#2.TUPLE\n",
    "#3.SET\n",
    "#4.DICTIONARY\n",
    "#5.FROZENSET\n",
    "#6.STRING"
   ]
  },
  {
   "cell_type": "code",
   "execution_count": null,
   "id": "6f7d8aa9",
   "metadata": {},
   "outputs": [],
   "source": [
    "list is mutable type of DS\n",
    "\n",
    "list can be homogenous / heterogenous \n",
    "\n",
    "list is order type ds\n",
    "\n",
    "list can be denote in []\n",
    "\n",
    "list is zero index based DS.\n",
    "\n",
    "list is collection of elements.\n",
    "\n",
    "list can have duplicate elements."
   ]
  },
  {
   "cell_type": "code",
   "execution_count": 2,
   "id": "a18c2aea",
   "metadata": {},
   "outputs": [],
   "source": [
    "a = [2,4,3,2,5,4,23,44,344,4434,423,5]"
   ]
  },
  {
   "cell_type": "code",
   "execution_count": 3,
   "id": "2c27e86f",
   "metadata": {},
   "outputs": [
    {
     "data": {
      "text/plain": [
       "list"
      ]
     },
     "execution_count": 3,
     "metadata": {},
     "output_type": "execute_result"
    }
   ],
   "source": [
    "type(a)"
   ]
  },
  {
   "cell_type": "code",
   "execution_count": 4,
   "id": "802d0a73",
   "metadata": {},
   "outputs": [],
   "source": [
    "b = [2,4,555,4455,4443,34,3433,334343,'hiiii','shubham','hiii']"
   ]
  },
  {
   "cell_type": "code",
   "execution_count": 5,
   "id": "8a2679bc",
   "metadata": {},
   "outputs": [
    {
     "data": {
      "text/plain": [
       "list"
      ]
     },
     "execution_count": 5,
     "metadata": {},
     "output_type": "execute_result"
    }
   ],
   "source": [
    "type(b)"
   ]
  },
  {
   "cell_type": "code",
   "execution_count": 6,
   "id": "aa9c3888",
   "metadata": {},
   "outputs": [
    {
     "data": {
      "text/plain": [
       "34"
      ]
     },
     "execution_count": 6,
     "metadata": {},
     "output_type": "execute_result"
    }
   ],
   "source": [
    "b[5]"
   ]
  },
  {
   "cell_type": "code",
   "execution_count": 8,
   "id": "ebfbb9b3",
   "metadata": {},
   "outputs": [],
   "source": [
    "c = [2,334,34,'shubham','pawar',343,53,4334,'kumar']"
   ]
  },
  {
   "cell_type": "code",
   "execution_count": 9,
   "id": "99d239ee",
   "metadata": {},
   "outputs": [],
   "source": [
    "c.insert(1,444)"
   ]
  },
  {
   "cell_type": "code",
   "execution_count": 10,
   "id": "8f9b65d5",
   "metadata": {},
   "outputs": [
    {
     "data": {
      "text/plain": [
       "[2, 444, 334, 34, 'shubham', 'pawar', 343, 53, 4334, 'kumar']"
      ]
     },
     "execution_count": 10,
     "metadata": {},
     "output_type": "execute_result"
    }
   ],
   "source": [
    "c"
   ]
  },
  {
   "cell_type": "code",
   "execution_count": 13,
   "id": "593f71f8",
   "metadata": {},
   "outputs": [],
   "source": [
    "c.insert(4,'mohan')"
   ]
  },
  {
   "cell_type": "code",
   "execution_count": 14,
   "id": "bd83b593",
   "metadata": {},
   "outputs": [
    {
     "data": {
      "text/plain": [
       "[2, 444, 334, 34, 'mohan', 'shubham', 'pawar', 343, 53, 4334, 'kumar']"
      ]
     },
     "execution_count": 14,
     "metadata": {},
     "output_type": "execute_result"
    }
   ],
   "source": [
    "c"
   ]
  },
  {
   "cell_type": "code",
   "execution_count": 15,
   "id": "8555244f",
   "metadata": {},
   "outputs": [],
   "source": [
    "c.append('nitin')"
   ]
  },
  {
   "cell_type": "code",
   "execution_count": 16,
   "id": "6fe58022",
   "metadata": {},
   "outputs": [
    {
     "data": {
      "text/plain": [
       "[2, 444, 334, 34, 'mohan', 'shubham', 'pawar', 343, 53, 4334, 'kumar', 'nitin']"
      ]
     },
     "execution_count": 16,
     "metadata": {},
     "output_type": "execute_result"
    }
   ],
   "source": [
    "c"
   ]
  },
  {
   "cell_type": "code",
   "execution_count": 18,
   "id": "b5453134",
   "metadata": {},
   "outputs": [],
   "source": [
    "d = [2,55,7]"
   ]
  },
  {
   "cell_type": "code",
   "execution_count": 19,
   "id": "837b86c7",
   "metadata": {},
   "outputs": [],
   "source": [
    "c.extend(d)"
   ]
  },
  {
   "cell_type": "code",
   "execution_count": 20,
   "id": "6a04ee75",
   "metadata": {},
   "outputs": [
    {
     "data": {
      "text/plain": [
       "[2,\n",
       " 444,\n",
       " 334,\n",
       " 34,\n",
       " 'mohan',\n",
       " 'shubham',\n",
       " 'pawar',\n",
       " 343,\n",
       " 53,\n",
       " 4334,\n",
       " 'kumar',\n",
       " 'nitin',\n",
       " 2,\n",
       " 55,\n",
       " 7]"
      ]
     },
     "execution_count": 20,
     "metadata": {},
     "output_type": "execute_result"
    }
   ],
   "source": [
    "c"
   ]
  },
  {
   "cell_type": "code",
   "execution_count": 21,
   "id": "15a8f4e1",
   "metadata": {},
   "outputs": [],
   "source": [
    "c[5] = 44444444444444444"
   ]
  },
  {
   "cell_type": "code",
   "execution_count": 22,
   "id": "8203e325",
   "metadata": {},
   "outputs": [
    {
     "data": {
      "text/plain": [
       "[2,\n",
       " 444,\n",
       " 334,\n",
       " 34,\n",
       " 'mohan',\n",
       " 44444444444444444,\n",
       " 'pawar',\n",
       " 343,\n",
       " 53,\n",
       " 4334,\n",
       " 'kumar',\n",
       " 'nitin',\n",
       " 2,\n",
       " 55,\n",
       " 7]"
      ]
     },
     "execution_count": 22,
     "metadata": {},
     "output_type": "execute_result"
    }
   ],
   "source": [
    "c"
   ]
  },
  {
   "cell_type": "code",
   "execution_count": 24,
   "id": "14644f98",
   "metadata": {},
   "outputs": [
    {
     "data": {
      "text/plain": [
       "6"
      ]
     },
     "execution_count": 24,
     "metadata": {},
     "output_type": "execute_result"
    }
   ],
   "source": [
    "c.index('pawar')"
   ]
  },
  {
   "cell_type": "code",
   "execution_count": 25,
   "id": "583c56ab",
   "metadata": {},
   "outputs": [],
   "source": [
    "c.extend([3,4,5,6])"
   ]
  },
  {
   "cell_type": "code",
   "execution_count": 26,
   "id": "8020877f",
   "metadata": {},
   "outputs": [
    {
     "data": {
      "text/plain": [
       "[2,\n",
       " 444,\n",
       " 334,\n",
       " 34,\n",
       " 'mohan',\n",
       " 44444444444444444,\n",
       " 'pawar',\n",
       " 343,\n",
       " 53,\n",
       " 4334,\n",
       " 'kumar',\n",
       " 'nitin',\n",
       " 2,\n",
       " 55,\n",
       " 7,\n",
       " 3,\n",
       " 4,\n",
       " 5,\n",
       " 6]"
      ]
     },
     "execution_count": 26,
     "metadata": {},
     "output_type": "execute_result"
    }
   ],
   "source": [
    "c"
   ]
  },
  {
   "cell_type": "code",
   "execution_count": 27,
   "id": "b07c5d62",
   "metadata": {},
   "outputs": [],
   "source": [
    "c.remove(6)"
   ]
  },
  {
   "cell_type": "code",
   "execution_count": 28,
   "id": "aac51ef9",
   "metadata": {},
   "outputs": [
    {
     "data": {
      "text/plain": [
       "[2,\n",
       " 444,\n",
       " 334,\n",
       " 34,\n",
       " 'mohan',\n",
       " 44444444444444444,\n",
       " 'pawar',\n",
       " 343,\n",
       " 53,\n",
       " 4334,\n",
       " 'kumar',\n",
       " 'nitin',\n",
       " 2,\n",
       " 55,\n",
       " 7,\n",
       " 3,\n",
       " 4,\n",
       " 5]"
      ]
     },
     "execution_count": 28,
     "metadata": {},
     "output_type": "execute_result"
    }
   ],
   "source": [
    "c"
   ]
  },
  {
   "cell_type": "code",
   "execution_count": 30,
   "id": "9aef04b6",
   "metadata": {},
   "outputs": [],
   "source": [
    "c.remove(2)"
   ]
  },
  {
   "cell_type": "code",
   "execution_count": 31,
   "id": "bd6dde1c",
   "metadata": {},
   "outputs": [
    {
     "data": {
      "text/plain": [
       "[444,\n",
       " 334,\n",
       " 34,\n",
       " 'mohan',\n",
       " 44444444444444444,\n",
       " 'pawar',\n",
       " 343,\n",
       " 53,\n",
       " 4334,\n",
       " 'kumar',\n",
       " 'nitin',\n",
       " 2,\n",
       " 55,\n",
       " 7,\n",
       " 3,\n",
       " 4,\n",
       " 5]"
      ]
     },
     "execution_count": 31,
     "metadata": {},
     "output_type": "execute_result"
    }
   ],
   "source": [
    "c"
   ]
  },
  {
   "cell_type": "code",
   "execution_count": 32,
   "id": "1e4719e2",
   "metadata": {},
   "outputs": [
    {
     "data": {
      "text/plain": [
       "5"
      ]
     },
     "execution_count": 32,
     "metadata": {},
     "output_type": "execute_result"
    }
   ],
   "source": [
    "c.pop()"
   ]
  },
  {
   "cell_type": "code",
   "execution_count": 33,
   "id": "323b0501",
   "metadata": {},
   "outputs": [
    {
     "data": {
      "text/plain": [
       "4"
      ]
     },
     "execution_count": 33,
     "metadata": {},
     "output_type": "execute_result"
    }
   ],
   "source": [
    "c.pop()"
   ]
  },
  {
   "cell_type": "code",
   "execution_count": 34,
   "id": "2726fcf5",
   "metadata": {},
   "outputs": [
    {
     "data": {
      "text/plain": [
       "[444,\n",
       " 334,\n",
       " 34,\n",
       " 'mohan',\n",
       " 44444444444444444,\n",
       " 'pawar',\n",
       " 343,\n",
       " 53,\n",
       " 4334,\n",
       " 'kumar',\n",
       " 'nitin',\n",
       " 2,\n",
       " 55,\n",
       " 7,\n",
       " 3]"
      ]
     },
     "execution_count": 34,
     "metadata": {},
     "output_type": "execute_result"
    }
   ],
   "source": [
    "c"
   ]
  },
  {
   "cell_type": "code",
   "execution_count": 36,
   "id": "19c5935f",
   "metadata": {},
   "outputs": [
    {
     "data": {
      "text/plain": [
       "44444444444444444"
      ]
     },
     "execution_count": 36,
     "metadata": {},
     "output_type": "execute_result"
    }
   ],
   "source": [
    "c.pop(4)"
   ]
  },
  {
   "cell_type": "code",
   "execution_count": 37,
   "id": "5856909b",
   "metadata": {},
   "outputs": [
    {
     "data": {
      "text/plain": [
       "[444, 334, 34, 'mohan', 'pawar', 343, 53, 4334, 'kumar', 'nitin', 2, 55, 7, 3]"
      ]
     },
     "execution_count": 37,
     "metadata": {},
     "output_type": "execute_result"
    }
   ],
   "source": [
    "c"
   ]
  },
  {
   "cell_type": "code",
   "execution_count": null,
   "id": "cc220947",
   "metadata": {},
   "outputs": [],
   "source": []
  },
  {
   "cell_type": "code",
   "execution_count": 1,
   "id": "3f84bf26",
   "metadata": {},
   "outputs": [],
   "source": [
    "a = [12,456,7554,3,55,46,67,76,6,6,63,'shbuham']"
   ]
  },
  {
   "cell_type": "code",
   "execution_count": 2,
   "id": "f3b17f6d",
   "metadata": {},
   "outputs": [
    {
     "data": {
      "text/plain": [
       "[12, 456, 7554, 3, 55, 46, 67, 76, 6, 6, 63, 'shbuham']"
      ]
     },
     "execution_count": 2,
     "metadata": {},
     "output_type": "execute_result"
    }
   ],
   "source": [
    "a"
   ]
  },
  {
   "cell_type": "code",
   "execution_count": 7,
   "id": "6281c4fc",
   "metadata": {},
   "outputs": [
    {
     "data": {
      "text/plain": [
       "<function list.sort(*, key=None, reverse=False)>"
      ]
     },
     "execution_count": 7,
     "metadata": {},
     "output_type": "execute_result"
    }
   ],
   "source": [
    "a.sort"
   ]
  },
  {
   "cell_type": "code",
   "execution_count": 8,
   "id": "ac7a5ed4",
   "metadata": {},
   "outputs": [
    {
     "data": {
      "text/plain": [
       "[3, 6, 6, 12, 46, 55, 63, 67, 76, 456, 7554, 'shbuham']"
      ]
     },
     "execution_count": 8,
     "metadata": {},
     "output_type": "execute_result"
    }
   ],
   "source": [
    "a"
   ]
  },
  {
   "cell_type": "code",
   "execution_count": 10,
   "id": "109e2ff5",
   "metadata": {},
   "outputs": [
    {
     "data": {
      "text/plain": [
       "51"
      ]
     },
     "execution_count": 10,
     "metadata": {},
     "output_type": "execute_result"
    }
   ],
   "source": [
    "ord('3')"
   ]
  },
  {
   "cell_type": "code",
   "execution_count": 12,
   "id": "12fbc7c4",
   "metadata": {},
   "outputs": [
    {
     "ename": "TypeError",
     "evalue": "'<' not supported between instances of 'int' and 'str'",
     "output_type": "error",
     "traceback": [
      "\u001b[1;31m---------------------------------------------------------------------------\u001b[0m",
      "\u001b[1;31mTypeError\u001b[0m                                 Traceback (most recent call last)",
      "\u001b[1;32m~\\AppData\\Local\\Temp/ipykernel_852/4192627343.py\u001b[0m in \u001b[0;36m<module>\u001b[1;34m\u001b[0m\n\u001b[1;32m----> 1\u001b[1;33m \u001b[0msorted\u001b[0m\u001b[1;33m(\u001b[0m\u001b[0ma\u001b[0m\u001b[1;33m,\u001b[0m\u001b[0mreverse\u001b[0m\u001b[1;33m=\u001b[0m\u001b[1;32mTrue\u001b[0m\u001b[1;33m)\u001b[0m\u001b[1;33m\u001b[0m\u001b[1;33m\u001b[0m\u001b[0m\n\u001b[0m",
      "\u001b[1;31mTypeError\u001b[0m: '<' not supported between instances of 'int' and 'str'"
     ]
    }
   ],
   "source": [
    "sorted(a,reverse=True)"
   ]
  },
  {
   "cell_type": "code",
   "execution_count": 13,
   "id": "f17d3738",
   "metadata": {},
   "outputs": [
    {
     "data": {
      "text/plain": [
       "[3, 6, 6, 12, 46, 55, 63, 67, 76, 456, 7554, 'shbuham']"
      ]
     },
     "execution_count": 13,
     "metadata": {},
     "output_type": "execute_result"
    }
   ],
   "source": [
    "a"
   ]
  },
  {
   "cell_type": "code",
   "execution_count": null,
   "id": "1b8c629e",
   "metadata": {},
   "outputs": [],
   "source": []
  },
  {
   "cell_type": "code",
   "execution_count": null,
   "id": "741cff04",
   "metadata": {},
   "outputs": [],
   "source": [
    "#__________________set_______________________"
   ]
  },
  {
   "cell_type": "code",
   "execution_count": null,
   "id": "8f55ef98",
   "metadata": {},
   "outputs": [],
   "source": []
  },
  {
   "cell_type": "code",
   "execution_count": null,
   "id": "35d60a8e",
   "metadata": {},
   "outputs": [],
   "source": [
    "1.set is collection of unordered unique elements.\n",
    "2.set is mutable type.\n",
    "3.set is having atleast one element.\n",
    "4.indexing is not possible in set.\n",
    "5.set is defines in bet {atleast one element}"
   ]
  },
  {
   "cell_type": "code",
   "execution_count": null,
   "id": "cd88089e",
   "metadata": {},
   "outputs": [],
   "source": []
  },
  {
   "cell_type": "code",
   "execution_count": 14,
   "id": "a17cc165",
   "metadata": {},
   "outputs": [],
   "source": [
    "s = {12,23,34,34,4333,4333,433,2423,42,33,1}"
   ]
  },
  {
   "cell_type": "code",
   "execution_count": 15,
   "id": "23ebc25b",
   "metadata": {},
   "outputs": [
    {
     "data": {
      "text/plain": [
       "{1, 12, 23, 33, 34, 42, 433, 2423, 4333}"
      ]
     },
     "execution_count": 15,
     "metadata": {},
     "output_type": "execute_result"
    }
   ],
   "source": [
    "s"
   ]
  },
  {
   "cell_type": "code",
   "execution_count": 16,
   "id": "576cf7ab",
   "metadata": {},
   "outputs": [
    {
     "data": {
      "text/plain": [
       "set"
      ]
     },
     "execution_count": 16,
     "metadata": {},
     "output_type": "execute_result"
    }
   ],
   "source": [
    "type(s)"
   ]
  },
  {
   "cell_type": "code",
   "execution_count": 17,
   "id": "47fd974d",
   "metadata": {},
   "outputs": [],
   "source": [
    "p = {}"
   ]
  },
  {
   "cell_type": "code",
   "execution_count": 18,
   "id": "b76bed6f",
   "metadata": {},
   "outputs": [
    {
     "data": {
      "text/plain": [
       "dict"
      ]
     },
     "execution_count": 18,
     "metadata": {},
     "output_type": "execute_result"
    }
   ],
   "source": [
    "type(p)"
   ]
  },
  {
   "cell_type": "code",
   "execution_count": 19,
   "id": "38956b1d",
   "metadata": {},
   "outputs": [],
   "source": [
    "m = {222,343,'hfjjd',44,44334,'fdjfdf',242,'shubham','mhhgf','fjhgejv'}"
   ]
  },
  {
   "cell_type": "code",
   "execution_count": 20,
   "id": "c68c5b08",
   "metadata": {},
   "outputs": [
    {
     "data": {
      "text/plain": [
       "{222, 242, 343, 44, 44334, 'fdjfdf', 'fjhgejv', 'hfjjd', 'mhhgf', 'shubham'}"
      ]
     },
     "execution_count": 20,
     "metadata": {},
     "output_type": "execute_result"
    }
   ],
   "source": [
    "m"
   ]
  },
  {
   "cell_type": "code",
   "execution_count": 21,
   "id": "25bf4cb3",
   "metadata": {},
   "outputs": [
    {
     "data": {
      "text/plain": [
       "set"
      ]
     },
     "execution_count": 21,
     "metadata": {},
     "output_type": "execute_result"
    }
   ],
   "source": [
    "type(m)"
   ]
  },
  {
   "cell_type": "code",
   "execution_count": 22,
   "id": "837cd4e0",
   "metadata": {},
   "outputs": [],
   "source": [
    "m.add(3)"
   ]
  },
  {
   "cell_type": "code",
   "execution_count": 23,
   "id": "7e15ce67",
   "metadata": {},
   "outputs": [
    {
     "data": {
      "text/plain": [
       "{222, 242, 3, 343, 44, 44334, 'fdjfdf', 'fjhgejv', 'hfjjd', 'mhhgf', 'shubham'}"
      ]
     },
     "execution_count": 23,
     "metadata": {},
     "output_type": "execute_result"
    }
   ],
   "source": [
    "m"
   ]
  },
  {
   "cell_type": "code",
   "execution_count": 24,
   "id": "96df7ec5",
   "metadata": {},
   "outputs": [],
   "source": [
    "m.update({2,5,6,4})"
   ]
  },
  {
   "cell_type": "code",
   "execution_count": 25,
   "id": "141dbe65",
   "metadata": {},
   "outputs": [
    {
     "data": {
      "text/plain": [
       "{2,\n",
       " 222,\n",
       " 242,\n",
       " 3,\n",
       " 343,\n",
       " 4,\n",
       " 44,\n",
       " 44334,\n",
       " 5,\n",
       " 6,\n",
       " 'fdjfdf',\n",
       " 'fjhgejv',\n",
       " 'hfjjd',\n",
       " 'mhhgf',\n",
       " 'shubham'}"
      ]
     },
     "execution_count": 25,
     "metadata": {},
     "output_type": "execute_result"
    }
   ],
   "source": [
    "m"
   ]
  },
  {
   "cell_type": "code",
   "execution_count": 26,
   "id": "82295212",
   "metadata": {},
   "outputs": [
    {
     "ename": "KeyError",
     "evalue": "333",
     "output_type": "error",
     "traceback": [
      "\u001b[1;31m---------------------------------------------------------------------------\u001b[0m",
      "\u001b[1;31mKeyError\u001b[0m                                  Traceback (most recent call last)",
      "\u001b[1;32m~\\AppData\\Local\\Temp/ipykernel_852/1410427193.py\u001b[0m in \u001b[0;36m<module>\u001b[1;34m\u001b[0m\n\u001b[1;32m----> 1\u001b[1;33m \u001b[0mm\u001b[0m\u001b[1;33m.\u001b[0m\u001b[0mremove\u001b[0m\u001b[1;33m(\u001b[0m\u001b[1;36m333\u001b[0m\u001b[1;33m)\u001b[0m\u001b[1;33m\u001b[0m\u001b[1;33m\u001b[0m\u001b[0m\n\u001b[0m",
      "\u001b[1;31mKeyError\u001b[0m: 333"
     ]
    }
   ],
   "source": [
    "m.remove(333)"
   ]
  },
  {
   "cell_type": "code",
   "execution_count": 27,
   "id": "90ad04ab",
   "metadata": {},
   "outputs": [],
   "source": [
    "m.discard(300)"
   ]
  },
  {
   "cell_type": "code",
   "execution_count": 28,
   "id": "ef8d9f1d",
   "metadata": {},
   "outputs": [],
   "source": [
    "m.discard(222)"
   ]
  },
  {
   "cell_type": "code",
   "execution_count": 29,
   "id": "bd07d1eb",
   "metadata": {},
   "outputs": [
    {
     "data": {
      "text/plain": [
       "{2,\n",
       " 242,\n",
       " 3,\n",
       " 343,\n",
       " 4,\n",
       " 44,\n",
       " 44334,\n",
       " 5,\n",
       " 6,\n",
       " 'fdjfdf',\n",
       " 'fjhgejv',\n",
       " 'hfjjd',\n",
       " 'mhhgf',\n",
       " 'shubham'}"
      ]
     },
     "execution_count": 29,
     "metadata": {},
     "output_type": "execute_result"
    }
   ],
   "source": [
    "m"
   ]
  },
  {
   "cell_type": "code",
   "execution_count": 32,
   "id": "47a57a6b",
   "metadata": {},
   "outputs": [],
   "source": [
    "l = {222,33,344,54555,555,545443,343,444,566,76,66,1}"
   ]
  },
  {
   "cell_type": "code",
   "execution_count": 33,
   "id": "df1c9695",
   "metadata": {},
   "outputs": [
    {
     "data": {
      "text/plain": [
       "{1, 33, 66, 76, 222, 343, 344, 444, 555, 566, 54555, 545443}"
      ]
     },
     "execution_count": 33,
     "metadata": {},
     "output_type": "execute_result"
    }
   ],
   "source": [
    "l"
   ]
  },
  {
   "cell_type": "code",
   "execution_count": null,
   "id": "43f449ff",
   "metadata": {},
   "outputs": [],
   "source": []
  },
  {
   "cell_type": "code",
   "execution_count": null,
   "id": "16719d91",
   "metadata": {},
   "outputs": [],
   "source": []
  },
  {
   "cell_type": "code",
   "execution_count": null,
   "id": "0b8e7782",
   "metadata": {},
   "outputs": [],
   "source": []
  },
  {
   "cell_type": "code",
   "execution_count": null,
   "id": "95e2cef1",
   "metadata": {},
   "outputs": [],
   "source": []
  },
  {
   "cell_type": "code",
   "execution_count": null,
   "id": "39f08d2b",
   "metadata": {},
   "outputs": [],
   "source": []
  },
  {
   "cell_type": "code",
   "execution_count": null,
   "id": "d56cbfff",
   "metadata": {},
   "outputs": [],
   "source": []
  },
  {
   "cell_type": "code",
   "execution_count": null,
   "id": "9ebadc32",
   "metadata": {},
   "outputs": [],
   "source": []
  },
  {
   "cell_type": "code",
   "execution_count": null,
   "id": "54ec6bf7",
   "metadata": {},
   "outputs": [],
   "source": []
  },
  {
   "cell_type": "code",
   "execution_count": null,
   "id": "c856ac7c",
   "metadata": {},
   "outputs": [],
   "source": []
  },
  {
   "cell_type": "code",
   "execution_count": null,
   "id": "0dd2dfa8",
   "metadata": {},
   "outputs": [],
   "source": []
  },
  {
   "cell_type": "code",
   "execution_count": null,
   "id": "8cf70627",
   "metadata": {},
   "outputs": [],
   "source": []
  },
  {
   "cell_type": "code",
   "execution_count": null,
   "id": "85226302",
   "metadata": {},
   "outputs": [],
   "source": []
  },
  {
   "cell_type": "code",
   "execution_count": null,
   "id": "eedf7ebe",
   "metadata": {},
   "outputs": [],
   "source": []
  },
  {
   "cell_type": "code",
   "execution_count": null,
   "id": "6d6d5d6f",
   "metadata": {},
   "outputs": [],
   "source": []
  },
  {
   "cell_type": "code",
   "execution_count": null,
   "id": "613f8a35",
   "metadata": {},
   "outputs": [],
   "source": []
  },
  {
   "cell_type": "code",
   "execution_count": null,
   "id": "3f4bbd90",
   "metadata": {},
   "outputs": [],
   "source": []
  },
  {
   "cell_type": "code",
   "execution_count": null,
   "id": "c66c35a9",
   "metadata": {},
   "outputs": [],
   "source": []
  },
  {
   "cell_type": "code",
   "execution_count": null,
   "id": "8be51bc9",
   "metadata": {},
   "outputs": [],
   "source": []
  },
  {
   "cell_type": "code",
   "execution_count": null,
   "id": "98e7186c",
   "metadata": {},
   "outputs": [],
   "source": []
  },
  {
   "cell_type": "code",
   "execution_count": null,
   "id": "65a394e8",
   "metadata": {},
   "outputs": [],
   "source": []
  },
  {
   "cell_type": "code",
   "execution_count": null,
   "id": "f3196894",
   "metadata": {},
   "outputs": [],
   "source": []
  },
  {
   "cell_type": "code",
   "execution_count": null,
   "id": "ae21bdf1",
   "metadata": {},
   "outputs": [],
   "source": []
  }
 ],
 "metadata": {
  "kernelspec": {
   "display_name": "Python 3 (ipykernel)",
   "language": "python",
   "name": "python3"
  },
  "language_info": {
   "codemirror_mode": {
    "name": "ipython",
    "version": 3
   },
   "file_extension": ".py",
   "mimetype": "text/x-python",
   "name": "python",
   "nbconvert_exporter": "python",
   "pygments_lexer": "ipython3",
   "version": "3.9.19"
  }
 },
 "nbformat": 4,
 "nbformat_minor": 5
}
