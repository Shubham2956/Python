{
 "cells": [
  {
   "cell_type": "code",
   "execution_count": null,
   "id": "4b0119c2",
   "metadata": {},
   "outputs": [],
   "source": [
    "def functionname(arguments/parameters):\n",
    "    block of sttmnt\n",
    "    return values"
   ]
  },
  {
   "cell_type": "code",
   "execution_count": null,
   "id": "ff74716c",
   "metadata": {},
   "outputs": [],
   "source": []
  },
  {
   "cell_type": "code",
   "execution_count": 1,
   "id": "1b298440",
   "metadata": {},
   "outputs": [],
   "source": [
    "def add():\n",
    "    x = 15\n",
    "    y = 25\n",
    "    z = x+y\n",
    "    print(z)"
   ]
  },
  {
   "cell_type": "code",
   "execution_count": 2,
   "id": "381ac005",
   "metadata": {},
   "outputs": [
    {
     "name": "stdout",
     "output_type": "stream",
     "text": [
      "40\n"
     ]
    }
   ],
   "source": [
    "add()"
   ]
  },
  {
   "cell_type": "code",
   "execution_count": 8,
   "id": "6a29e836",
   "metadata": {},
   "outputs": [],
   "source": [
    "def add():\n",
    "    x = int(input('enter value of x:'))\n",
    "    y = int(input('enter value of y:'))\n",
    "    z = x+y\n",
    "    print('z','=',z)"
   ]
  },
  {
   "cell_type": "code",
   "execution_count": 9,
   "id": "89d149df",
   "metadata": {},
   "outputs": [
    {
     "name": "stdout",
     "output_type": "stream",
     "text": [
      "enter value of x:30\n",
      "enter value of y:60\n",
      "z = 90\n"
     ]
    }
   ],
   "source": [
    "add()"
   ]
  },
  {
   "cell_type": "code",
   "execution_count": 10,
   "id": "83408441",
   "metadata": {},
   "outputs": [],
   "source": [
    "def add(x,y):    #(x,y)are formal arguments cause we just pass it without values just for run the program\n",
    "    z = x+y\n",
    "    print(z)"
   ]
  },
  {
   "cell_type": "code",
   "execution_count": 11,
   "id": "e1b03400",
   "metadata": {},
   "outputs": [
    {
     "name": "stdout",
     "output_type": "stream",
     "text": [
      "90\n"
     ]
    }
   ],
   "source": [
    "add(50,40)    #(50,40) are actual arguments cause its having real values which gives effect in result ."
   ]
  },
  {
   "cell_type": "code",
   "execution_count": null,
   "id": "14e26dc6",
   "metadata": {},
   "outputs": [],
   "source": [
    "#print - will print output in the function so that u cannot access the result outside the function .\n",
    "\n",
    "#return - if we write return instead of print then we can access the value of output outside the function whenever we call ."
   ]
  },
  {
   "cell_type": "code",
   "execution_count": null,
   "id": "517e54df",
   "metadata": {},
   "outputs": [],
   "source": []
  },
  {
   "cell_type": "code",
   "execution_count": 28,
   "id": "d7df990b",
   "metadata": {},
   "outputs": [],
   "source": [
    "def add(x,y,z):\n",
    "    p =x+y+z\n",
    "    return(p)"
   ]
  },
  {
   "cell_type": "code",
   "execution_count": 29,
   "id": "6b8e136d",
   "metadata": {},
   "outputs": [
    {
     "data": {
      "text/plain": [
       "123"
      ]
     },
     "execution_count": 29,
     "metadata": {},
     "output_type": "execute_result"
    }
   ],
   "source": [
    "add(45,45,33)"
   ]
  },
  {
   "cell_type": "code",
   "execution_count": 30,
   "id": "5543b6b6",
   "metadata": {},
   "outputs": [
    {
     "name": "stdout",
     "output_type": "stream",
     "text": [
      "welcome\n",
      "hii\n"
     ]
    }
   ],
   "source": [
    "print('welcome')\n",
    "result= add(33,45,34)\n",
    "if result> 100:\n",
    "    print('hii')\n",
    "else:\n",
    "    print('byee')"
   ]
  },
  {
   "cell_type": "code",
   "execution_count": 27,
   "id": "5cb9f383",
   "metadata": {},
   "outputs": [],
   "source": [
    "def add():\n",
    "    x = 20\n",
    "    y = 45\n",
    "    z =x+y\n",
    "    return(z,'byeeee')"
   ]
  },
  {
   "cell_type": "code",
   "execution_count": 24,
   "id": "57f5a9da",
   "metadata": {},
   "outputs": [
    {
     "data": {
      "text/plain": [
       "(65, 'byeeee')"
      ]
     },
     "execution_count": 24,
     "metadata": {},
     "output_type": "execute_result"
    }
   ],
   "source": [
    "add()"
   ]
  },
  {
   "cell_type": "code",
   "execution_count": null,
   "id": "5ac67b64",
   "metadata": {},
   "outputs": [],
   "source": []
  },
  {
   "cell_type": "code",
   "execution_count": 60,
   "id": "321ab875",
   "metadata": {},
   "outputs": [
    {
     "name": "stdout",
     "output_type": "stream",
     "text": [
      "welcome to the function\n"
     ]
    }
   ],
   "source": [
    "print('welcome to the function')\n",
    "def add(x,y):\n",
    "    x = int(input('enter the value of x:'))\n",
    "    y = int(input('enter the value of y:'))\n",
    "    result = add()\n",
    "    if result<=100:\n",
    "        z=add()\n",
    "        if z>=100:\n",
    "            print('big numbers')"
   ]
  },
  {
   "cell_type": "code",
   "execution_count": 62,
   "id": "fe07da32",
   "metadata": {},
   "outputs": [
    {
     "ename": "TypeError",
     "evalue": "add() missing 2 required positional arguments: 'x' and 'y'",
     "output_type": "error",
     "traceback": [
      "\u001b[1;31m---------------------------------------------------------------------------\u001b[0m",
      "\u001b[1;31mTypeError\u001b[0m                                 Traceback (most recent call last)",
      "\u001b[1;32m~\\AppData\\Local\\Temp/ipykernel_12160/3064714114.py\u001b[0m in \u001b[0;36m<module>\u001b[1;34m\u001b[0m\n\u001b[1;32m----> 1\u001b[1;33m \u001b[0madd\u001b[0m\u001b[1;33m(\u001b[0m\u001b[1;33m)\u001b[0m\u001b[1;33m\u001b[0m\u001b[1;33m\u001b[0m\u001b[0m\n\u001b[0m",
      "\u001b[1;31mTypeError\u001b[0m: add() missing 2 required positional arguments: 'x' and 'y'"
     ]
    }
   ],
   "source": [
    "add()"
   ]
  },
  {
   "cell_type": "code",
   "execution_count": null,
   "id": "6153fa38",
   "metadata": {},
   "outputs": [],
   "source": [
    "#types of arguments"
   ]
  },
  {
   "cell_type": "code",
   "execution_count": null,
   "id": "346eefb6",
   "metadata": {},
   "outputs": [],
   "source": [
    "1......>#no arguments no return type\n",
    "def add():\n",
    "    x = 12\n",
    "    y = 11\n",
    "    z = x+y"
   ]
  },
  {
   "cell_type": "code",
   "execution_count": null,
   "id": "7c1cbd38",
   "metadata": {},
   "outputs": [],
   "source": [
    "2.....>#no arguments with return type \n",
    "def add():\n",
    "    x = 12\n",
    "    y = 11\n",
    "    return(x+y)"
   ]
  },
  {
   "cell_type": "code",
   "execution_count": 63,
   "id": "1245e723",
   "metadata": {},
   "outputs": [
    {
     "ename": "SyntaxError",
     "evalue": "invalid syntax (Temp/ipykernel_12160/3697788952.py, line 1)",
     "output_type": "error",
     "traceback": [
      "\u001b[1;36m  File \u001b[1;32m\"C:\\Users\\Dell\\AppData\\Local\\Temp/ipykernel_12160/3697788952.py\"\u001b[1;36m, line \u001b[1;32m1\u001b[0m\n\u001b[1;33m    3.....>arg with no return type\u001b[0m\n\u001b[1;37m      ^\u001b[0m\n\u001b[1;31mSyntaxError\u001b[0m\u001b[1;31m:\u001b[0m invalid syntax\n"
     ]
    }
   ],
   "source": [
    "3.....>arg with no return type \n",
    "def add(x,y):\n",
    "    x = 11\n",
    "    y = 12\n",
    "    z = x+y\n",
    "    print(z)\n",
    "    "
   ]
  },
  {
   "cell_type": "code",
   "execution_count": null,
   "id": "acf768ff",
   "metadata": {},
   "outputs": [],
   "source": [
    "4.....>arg with return type\n",
    "def add(x,y):\n",
    "    x = 11\n",
    "    y = 11\n",
    "    z = x+y\n",
    "    return z"
   ]
  },
  {
   "cell_type": "code",
   "execution_count": null,
   "id": "0d3839ab",
   "metadata": {},
   "outputs": [],
   "source": []
  },
  {
   "cell_type": "code",
   "execution_count": null,
   "id": "68dc83d3",
   "metadata": {},
   "outputs": [],
   "source": [
    "#type of arguments\n",
    "\n",
    "1.positional arguments\n",
    "2.default arguments\n",
    "3.variable length arguments \n",
    "4.keyword arguments\n",
    "5.variable length keyword arguments"
   ]
  },
  {
   "cell_type": "code",
   "execution_count": null,
   "id": "cb02e5c5",
   "metadata": {},
   "outputs": [],
   "source": []
  },
  {
   "cell_type": "code",
   "execution_count": null,
   "id": "e3dd4c1e",
   "metadata": {},
   "outputs": [],
   "source": [
    "1...>positional arguments......#it fetches the input as we give it in the output sequence wise ."
   ]
  },
  {
   "cell_type": "code",
   "execution_count": 64,
   "id": "a26f6f33",
   "metadata": {},
   "outputs": [],
   "source": [
    "def car_details(car_name,car_price,car_color):\n",
    "    print('car name:',car_name)\n",
    "    print('car price:',car_price)\n",
    "    print('car color:',car_color)"
   ]
  },
  {
   "cell_type": "code",
   "execution_count": 66,
   "id": "1ae8d20c",
   "metadata": {},
   "outputs": [
    {
     "name": "stdout",
     "output_type": "stream",
     "text": [
      "car name: maruti suzuki\n",
      "car price: 890000\n",
      "car color: white\n"
     ]
    }
   ],
   "source": [
    "car_details('maruti suzuki',890000,'white')"
   ]
  },
  {
   "cell_type": "code",
   "execution_count": 67,
   "id": "57c227af",
   "metadata": {},
   "outputs": [
    {
     "name": "stdout",
     "output_type": "stream",
     "text": [
      "car name: 890000\n",
      "car price: maruti suzuki\n",
      "car color: white\n"
     ]
    }
   ],
   "source": [
    "car_details(890000,'maruti suzuki','white')    #here we changes the postion of the output so that it effects in the output.b"
   ]
  },
  {
   "cell_type": "code",
   "execution_count": null,
   "id": "91ed6040",
   "metadata": {},
   "outputs": [],
   "source": []
  },
  {
   "cell_type": "code",
   "execution_count": null,
   "id": "7d00fe0d",
   "metadata": {},
   "outputs": [],
   "source": [
    "#default arguments............at the time of declaration we pass the value to variable so that if we dont give the value \n",
    "#to that perticular variable so that it will print the value that we assign to it at the time of declaration."
   ]
  },
  {
   "cell_type": "code",
   "execution_count": 68,
   "id": "ac337806",
   "metadata": {},
   "outputs": [],
   "source": [
    "def car_details(car_name,car_price,car_color,no_of_wheels=4):\n",
    "    print('car name:',car_name)\n",
    "    print('car price:',car_price)\n",
    "    print('car color:',car_color)\n",
    "    print('no of wheels:',no_of_wheels)"
   ]
  },
  {
   "cell_type": "code",
   "execution_count": 69,
   "id": "c4cbba47",
   "metadata": {},
   "outputs": [
    {
     "name": "stdout",
     "output_type": "stream",
     "text": [
      "car name: 890000\n",
      "car price: maruti suzuki\n",
      "car color: white\n",
      "no of wheels: 4\n"
     ]
    }
   ],
   "source": [
    "car_details(890000,'maruti suzuki','white') #here we dont assign any value for no of wheels but it takes from the declaration "
   ]
  },
  {
   "cell_type": "code",
   "execution_count": null,
   "id": "aa8454c1",
   "metadata": {},
   "outputs": [],
   "source": []
  },
  {
   "cell_type": "code",
   "execution_count": 70,
   "id": "d1d896a3",
   "metadata": {},
   "outputs": [],
   "source": [
    "def personal_det(id,name,city,adhar_card='no data available'):\n",
    "    print(id)\n",
    "    print(name)\n",
    "    print(city)\n",
    "    print(adhar_card)  #we give default argu for adhar at the time of declaration"
   ]
  },
  {
   "cell_type": "code",
   "execution_count": 73,
   "id": "70d51c6f",
   "metadata": {},
   "outputs": [
    {
     "name": "stdout",
     "output_type": "stream",
     "text": [
      "101\n",
      "shubham\n",
      "pune\n",
      "no data available\n"
     ]
    }
   ],
   "source": [
    "personal_det(101,'shubham','pune')"
   ]
  },
  {
   "cell_type": "code",
   "execution_count": null,
   "id": "efce4291",
   "metadata": {},
   "outputs": [],
   "source": []
  },
  {
   "cell_type": "code",
   "execution_count": null,
   "id": "12f48054",
   "metadata": {},
   "outputs": [],
   "source": [
    "#variable length arguments....it stores the value of ani size"
   ]
  },
  {
   "cell_type": "code",
   "execution_count": 74,
   "id": "df6a43ff",
   "metadata": {},
   "outputs": [],
   "source": [
    "def add(*temp):\n",
    "    print(temp)"
   ]
  },
  {
   "cell_type": "code",
   "execution_count": 75,
   "id": "faecef26",
   "metadata": {},
   "outputs": [
    {
     "name": "stdout",
     "output_type": "stream",
     "text": [
      "(1, 33, 3232, 3)\n"
     ]
    }
   ],
   "source": [
    "add(1,33,3232,3)"
   ]
  },
  {
   "cell_type": "code",
   "execution_count": null,
   "id": "9325b85b",
   "metadata": {},
   "outputs": [],
   "source": []
  },
  {
   "cell_type": "code",
   "execution_count": 17,
   "id": "366d2399",
   "metadata": {},
   "outputs": [],
   "source": [
    "def add(*temp):\n",
    "    t=0\n",
    "    for i in temp:\n",
    "        t = t+i\n",
    "    print(f\"addition of given number is :{t}\")"
   ]
  },
  {
   "cell_type": "code",
   "execution_count": 18,
   "id": "96634a14",
   "metadata": {},
   "outputs": [
    {
     "name": "stdout",
     "output_type": "stream",
     "text": [
      "addition of given number is :112\n"
     ]
    }
   ],
   "source": [
    "add(56,56)"
   ]
  },
  {
   "cell_type": "code",
   "execution_count": null,
   "id": "decc3ce2",
   "metadata": {},
   "outputs": [],
   "source": []
  },
  {
   "cell_type": "code",
   "execution_count": 21,
   "id": "915162c5",
   "metadata": {},
   "outputs": [],
   "source": [
    "def new(*temp):\n",
    "    a = 0\n",
    "    for i in temp:\n",
    "        t = t+i\n",
    "    print(f\"addition of number is:{t}\")"
   ]
  },
  {
   "cell_type": "code",
   "execution_count": 22,
   "id": "fb48d638",
   "metadata": {},
   "outputs": [
    {
     "name": "stdout",
     "output_type": "stream",
     "text": [
      "addition of given number is :344335\n"
     ]
    }
   ],
   "source": [
    "add(444,343344,5,4,534,4)"
   ]
  },
  {
   "cell_type": "code",
   "execution_count": null,
   "id": "62ed78f5",
   "metadata": {},
   "outputs": [],
   "source": [
    "#keyword arguments....we can directly use the keywords from the fuction and assing values it will display in the output."
   ]
  },
  {
   "cell_type": "code",
   "execution_count": 23,
   "id": "32f31d10",
   "metadata": {},
   "outputs": [],
   "source": [
    "def car_details(car_name,car_price,car_color,no_of_wheels=4):\n",
    "    print('car name:',car_name)\n",
    "    print('car price:',car_price)\n",
    "    print('car color:',car_color)\n",
    "    print('no of wheels:',no_of_wheels)"
   ]
  },
  {
   "cell_type": "code",
   "execution_count": 24,
   "id": "c46921d7",
   "metadata": {},
   "outputs": [
    {
     "name": "stdout",
     "output_type": "stream",
     "text": [
      "car name: bmw\n",
      "car price: 3423343\n",
      "car color: red\n",
      "no of wheels: 6\n"
     ]
    }
   ],
   "source": [
    "car_details(car_name='bmw',car_color='red',car_price=3423343,no_of_wheels=6)"
   ]
  },
  {
   "cell_type": "code",
   "execution_count": null,
   "id": "0668dfcb",
   "metadata": {},
   "outputs": [],
   "source": [
    "#variable length keyword arguments....(**)"
   ]
  },
  {
   "cell_type": "code",
   "execution_count": 25,
   "id": "8539a5db",
   "metadata": {},
   "outputs": [],
   "source": [
    "def per_det(**kwargs):\n",
    "    print(kwargs)"
   ]
  },
  {
   "cell_type": "code",
   "execution_count": 26,
   "id": "34da2590",
   "metadata": {},
   "outputs": [
    {
     "name": "stdout",
     "output_type": "stream",
     "text": [
      "{'name': 'shubham', 'roll': 43, 'city': 'pune'}\n"
     ]
    }
   ],
   "source": [
    "per_det(name = 'shubham', roll = 43,city = 'pune')"
   ]
  },
  {
   "cell_type": "code",
   "execution_count": null,
   "id": "4d228e9b",
   "metadata": {},
   "outputs": [],
   "source": []
  },
  {
   "cell_type": "code",
   "execution_count": null,
   "id": "a809c514",
   "metadata": {},
   "outputs": [],
   "source": [
    "#type of variable \n",
    "\n",
    "\n",
    "#1.....>local variable \n",
    "#2.....>global variable"
   ]
  },
  {
   "cell_type": "code",
   "execution_count": null,
   "id": "b04b460e",
   "metadata": {},
   "outputs": [],
   "source": []
  },
  {
   "cell_type": "code",
   "execution_count": 30,
   "id": "06e1af2a",
   "metadata": {},
   "outputs": [],
   "source": [
    "x = 500\n",
    "def add():\n",
    "    x = 100   #here x is local variable so we do not call it outside the function \n",
    "    print(x)"
   ]
  },
  {
   "cell_type": "code",
   "execution_count": 31,
   "id": "a26d85ba",
   "metadata": {},
   "outputs": [
    {
     "name": "stdout",
     "output_type": "stream",
     "text": [
      "100\n"
     ]
    }
   ],
   "source": [
    "add()"
   ]
  },
  {
   "cell_type": "code",
   "execution_count": 32,
   "id": "e2cd3a29",
   "metadata": {},
   "outputs": [
    {
     "data": {
      "text/plain": [
       "500"
      ]
     },
     "execution_count": 32,
     "metadata": {},
     "output_type": "execute_result"
    }
   ],
   "source": [
    "x     #this x is from outside the function"
   ]
  },
  {
   "cell_type": "code",
   "execution_count": 54,
   "id": "27302f9a",
   "metadata": {},
   "outputs": [],
   "source": [
    "x = 345\n",
    "def add():\n",
    "    global x    #global variable is used to change global variable by using function\n",
    "    x = 100"
   ]
  },
  {
   "cell_type": "code",
   "execution_count": 55,
   "id": "7057da8a",
   "metadata": {},
   "outputs": [
    {
     "data": {
      "text/plain": [
       "345"
      ]
     },
     "execution_count": 55,
     "metadata": {},
     "output_type": "execute_result"
    }
   ],
   "source": [
    "x\n"
   ]
  },
  {
   "cell_type": "code",
   "execution_count": 56,
   "id": "22314835",
   "metadata": {},
   "outputs": [
    {
     "data": {
      "text/plain": [
       "345"
      ]
     },
     "execution_count": 56,
     "metadata": {},
     "output_type": "execute_result"
    }
   ],
   "source": [
    "x"
   ]
  },
  {
   "cell_type": "code",
   "execution_count": 57,
   "id": "eb28d5ed",
   "metadata": {},
   "outputs": [],
   "source": [
    "add()"
   ]
  },
  {
   "cell_type": "code",
   "execution_count": 58,
   "id": "15bcc468",
   "metadata": {},
   "outputs": [
    {
     "data": {
      "text/plain": [
       "100"
      ]
     },
     "execution_count": 58,
     "metadata": {},
     "output_type": "execute_result"
    }
   ],
   "source": [
    "x"
   ]
  },
  {
   "cell_type": "code",
   "execution_count": null,
   "id": "37fd0d61",
   "metadata": {},
   "outputs": [],
   "source": []
  },
  {
   "cell_type": "code",
   "execution_count": null,
   "id": "ee90581b",
   "metadata": {},
   "outputs": [],
   "source": []
  },
  {
   "cell_type": "code",
   "execution_count": 4,
   "id": "5ac77f09",
   "metadata": {},
   "outputs": [],
   "source": [
    "def add(x,y):...................formal arguments\n",
    "    z = x-y\n",
    "    print(z)"
   ]
  },
  {
   "cell_type": "code",
   "execution_count": 5,
   "id": "d08fcc10",
   "metadata": {},
   "outputs": [
    {
     "name": "stdout",
     "output_type": "stream",
     "text": [
      "-2\n"
     ]
    }
   ],
   "source": [
    "add(4,6)...................actual arguments"
   ]
  },
  {
   "cell_type": "code",
   "execution_count": null,
   "id": "b623518c",
   "metadata": {},
   "outputs": [],
   "source": []
  },
  {
   "cell_type": "code",
   "execution_count": 16,
   "id": "ad06cb52",
   "metadata": {},
   "outputs": [],
   "source": [
    "def add(x,y):\n",
    "    z = x+y\n",
    "    return(z)"
   ]
  },
  {
   "cell_type": "code",
   "execution_count": 17,
   "id": "9765fefc",
   "metadata": {},
   "outputs": [
    {
     "name": "stdout",
     "output_type": "stream",
     "text": [
      "welcome to the addition program\n",
      "hii\n"
     ]
    }
   ],
   "source": [
    "print(\"welcome to the addition program\")\n",
    "\n",
    "result = add(33,66)\n",
    "if result > 80:\n",
    "    print('hii')\n",
    "else:\n",
    "    print('bye')"
   ]
  },
  {
   "cell_type": "code",
   "execution_count": null,
   "id": "496bbcc2",
   "metadata": {},
   "outputs": [],
   "source": []
  },
  {
   "cell_type": "code",
   "execution_count": 1,
   "id": "049ded67",
   "metadata": {},
   "outputs": [],
   "source": [
    "def car_details(car_name,car_price,car_color):\n",
    "    print(\"car name:\",car_name)\n",
    "    print(\"car price:\",car_price)\n",
    "    print(\"car color:\",car_color)\n",
    "    "
   ]
  },
  {
   "cell_type": "code",
   "execution_count": 3,
   "id": "2bf1d72b",
   "metadata": {},
   "outputs": [
    {
     "name": "stdout",
     "output_type": "stream",
     "text": [
      "car name: audi\n",
      "car price: 4500000\n",
      "car color: red\n"
     ]
    }
   ],
   "source": [
    "car_details('audi',4500000,'red')"
   ]
  },
  {
   "cell_type": "code",
   "execution_count": 8,
   "id": "2d9e04d8",
   "metadata": {},
   "outputs": [],
   "source": [
    "def add(x=0,y=0,z=0):\n",
    "    p=x+y+z\n",
    "    print(x)\n",
    "    print(y)\n",
    "    print(z)\n",
    "    print(p)\n",
    "    "
   ]
  },
  {
   "cell_type": "code",
   "execution_count": 11,
   "id": "2a1a5f7c",
   "metadata": {},
   "outputs": [
    {
     "name": "stdout",
     "output_type": "stream",
     "text": [
      "10\n",
      "0\n",
      "0\n",
      "10\n"
     ]
    }
   ],
   "source": [
    "add(10)"
   ]
  },
  {
   "cell_type": "code",
   "execution_count": 21,
   "id": "40333ee6",
   "metadata": {},
   "outputs": [],
   "source": [
    "def addition(*arg):\n",
    "    t = 0\n",
    "    for i in arg:\n",
    "        t= t+i\n",
    "    print(f\" addition of numbers is: {t}\" )"
   ]
  },
  {
   "cell_type": "code",
   "execution_count": 22,
   "id": "bbbdf967",
   "metadata": {},
   "outputs": [
    {
     "name": "stdout",
     "output_type": "stream",
     "text": [
      " addition of numbers is: 183\n"
     ]
    }
   ],
   "source": [
    "addition(10,22,15,48,88)"
   ]
  },
  {
   "cell_type": "code",
   "execution_count": null,
   "id": "6e12b551",
   "metadata": {},
   "outputs": [],
   "source": []
  },
  {
   "cell_type": "code",
   "execution_count": null,
   "id": "885ec21f",
   "metadata": {},
   "outputs": [],
   "source": [
    "# local variable\n",
    "# global variable "
   ]
  },
  {
   "cell_type": "code",
   "execution_count": null,
   "id": "a89172fe",
   "metadata": {},
   "outputs": [],
   "source": []
  },
  {
   "cell_type": "code",
   "execution_count": 23,
   "id": "6dcc406d",
   "metadata": {},
   "outputs": [],
   "source": [
    "def add():\n",
    "    x = 10 #local variable cope just within the function \n",
    "    y = 20 #local variable scope just within the function\n",
    "    z = x+y\n",
    "    print(z)"
   ]
  },
  {
   "cell_type": "code",
   "execution_count": 25,
   "id": "73e5e7ca",
   "metadata": {},
   "outputs": [
    {
     "name": "stdout",
     "output_type": "stream",
     "text": [
      "30\n"
     ]
    }
   ],
   "source": [
    "add()"
   ]
  },
  {
   "cell_type": "code",
   "execution_count": 26,
   "id": "1f619a9f",
   "metadata": {},
   "outputs": [
    {
     "ename": "NameError",
     "evalue": "name 'x' is not defined",
     "output_type": "error",
     "traceback": [
      "\u001b[1;31m---------------------------------------------------------------------------\u001b[0m",
      "\u001b[1;31mNameError\u001b[0m                                 Traceback (most recent call last)",
      "\u001b[1;32m~\\AppData\\Local\\Temp/ipykernel_2144/32546335.py\u001b[0m in \u001b[0;36m<module>\u001b[1;34m\u001b[0m\n\u001b[1;32m----> 1\u001b[1;33m \u001b[0mx\u001b[0m\u001b[1;33m\u001b[0m\u001b[1;33m\u001b[0m\u001b[0m\n\u001b[0m",
      "\u001b[1;31mNameError\u001b[0m: name 'x' is not defined"
     ]
    }
   ],
   "source": [
    "x"
   ]
  },
  {
   "cell_type": "code",
   "execution_count": null,
   "id": "39bbb38d",
   "metadata": {},
   "outputs": [],
   "source": []
  },
  {
   "cell_type": "code",
   "execution_count": null,
   "id": "15f01072",
   "metadata": {},
   "outputs": [],
   "source": [
    "#global variable "
   ]
  },
  {
   "cell_type": "code",
   "execution_count": 28,
   "id": "1d54b74f",
   "metadata": {},
   "outputs": [],
   "source": [
    "x = 20 # global variable ..........scope and use also outside of function \n",
    "y = 30 # global variable ..........scope and use also outside of function \n",
    "def add():\n",
    "    z = x+y\n",
    "    print(z)"
   ]
  },
  {
   "cell_type": "code",
   "execution_count": 29,
   "id": "8577b36d",
   "metadata": {},
   "outputs": [
    {
     "name": "stdout",
     "output_type": "stream",
     "text": [
      "50\n"
     ]
    }
   ],
   "source": [
    "add()"
   ]
  },
  {
   "cell_type": "code",
   "execution_count": 30,
   "id": "a0c972ab",
   "metadata": {},
   "outputs": [
    {
     "data": {
      "text/plain": [
       "20"
      ]
     },
     "execution_count": 30,
     "metadata": {},
     "output_type": "execute_result"
    }
   ],
   "source": [
    "x"
   ]
  },
  {
   "cell_type": "code",
   "execution_count": null,
   "id": "3b5ae93b",
   "metadata": {},
   "outputs": [],
   "source": []
  },
  {
   "cell_type": "code",
   "execution_count": 31,
   "id": "48aaf013",
   "metadata": {},
   "outputs": [],
   "source": [
    "def temp(*arg):\n",
    "    t = 0\n",
    "    for i in arg:\n",
    "        t = t+i\n",
    "    print(f\"addition of numbers is : {t}\")"
   ]
  },
  {
   "cell_type": "code",
   "execution_count": 32,
   "id": "cc697fea",
   "metadata": {},
   "outputs": [
    {
     "name": "stdout",
     "output_type": "stream",
     "text": [
      "addition of numbers is : 685\n"
     ]
    }
   ],
   "source": [
    "temp(1,23,55,589,12,5)"
   ]
  },
  {
   "cell_type": "code",
   "execution_count": null,
   "id": "bcb6f057",
   "metadata": {},
   "outputs": [],
   "source": []
  },
  {
   "cell_type": "code",
   "execution_count": 34,
   "id": "837f60ee",
   "metadata": {},
   "outputs": [],
   "source": [
    "def temp(**kwargs):\n",
    "    print(kwargs)"
   ]
  },
  {
   "cell_type": "code",
   "execution_count": 39,
   "id": "f4bc49b9",
   "metadata": {},
   "outputs": [
    {
     "name": "stdout",
     "output_type": "stream",
     "text": [
      "{'name': 'shubham', 'age': 16, 'salary': 300000}\n"
     ]
    }
   ],
   "source": [
    "temp(name = \"shubham\", age = 16 , salary = 300000)"
   ]
  },
  {
   "cell_type": "code",
   "execution_count": null,
   "id": "3ea06027",
   "metadata": {},
   "outputs": [],
   "source": []
  },
  {
   "cell_type": "code",
   "execution_count": null,
   "id": "9937d686",
   "metadata": {},
   "outputs": [],
   "source": [
    "# lambda  is used as just in time function also known as anonymous function one time use no name function "
   ]
  },
  {
   "cell_type": "code",
   "execution_count": null,
   "id": "4b6ec3e4",
   "metadata": {},
   "outputs": [],
   "source": []
  },
  {
   "cell_type": "code",
   "execution_count": 40,
   "id": "00b88cc3",
   "metadata": {},
   "outputs": [],
   "source": [
    "p = [2,34,344,454,55554,4343,233,232,4]"
   ]
  },
  {
   "cell_type": "code",
   "execution_count": 47,
   "id": "8ba0fecb",
   "metadata": {},
   "outputs": [
    {
     "data": {
      "text/plain": [
       "[8,\n",
       " 39304,\n",
       " 40707584,\n",
       " 93576664,\n",
       " 171453361171464,\n",
       " 81916141607,\n",
       " 12649337,\n",
       " 12487168,\n",
       " 64]"
      ]
     },
     "execution_count": 47,
     "metadata": {},
     "output_type": "execute_result"
    }
   ],
   "source": [
    "list(map(lambda x:x*x*x,p))"
   ]
  },
  {
   "cell_type": "code",
   "execution_count": null,
   "id": "46913bc7",
   "metadata": {},
   "outputs": [],
   "source": []
  },
  {
   "cell_type": "code",
   "execution_count": 2,
   "id": "59584353",
   "metadata": {},
   "outputs": [],
   "source": [
    "def add(x,y):\n",
    "    z = x+y\n",
    "    print(z)"
   ]
  },
  {
   "cell_type": "code",
   "execution_count": 3,
   "id": "66665be0",
   "metadata": {},
   "outputs": [
    {
     "name": "stdout",
     "output_type": "stream",
     "text": [
      "33\n"
     ]
    }
   ],
   "source": [
    "add(10,23)"
   ]
  },
  {
   "cell_type": "code",
   "execution_count": null,
   "id": "6524e54e",
   "metadata": {},
   "outputs": [],
   "source": []
  },
  {
   "cell_type": "code",
   "execution_count": 4,
   "id": "e41022f6",
   "metadata": {},
   "outputs": [
    {
     "data": {
      "text/plain": [
       "33"
      ]
     },
     "execution_count": 4,
     "metadata": {},
     "output_type": "execute_result"
    }
   ],
   "source": [
    "(lambda x,y : x+y)(10,23)"
   ]
  },
  {
   "cell_type": "code",
   "execution_count": 5,
   "id": "762772d9",
   "metadata": {},
   "outputs": [],
   "source": [
    "p = [1,2,3,23,223,232,32,3]"
   ]
  },
  {
   "cell_type": "code",
   "execution_count": 6,
   "id": "32855058",
   "metadata": {},
   "outputs": [],
   "source": [
    "m = []\n",
    "for i in p:\n",
    "    m.append(i*i*i)"
   ]
  },
  {
   "cell_type": "code",
   "execution_count": 7,
   "id": "b9fd4a8c",
   "metadata": {},
   "outputs": [
    {
     "data": {
      "text/plain": [
       "[1, 8, 27, 12167, 11089567, 12487168, 32768, 27]"
      ]
     },
     "execution_count": 7,
     "metadata": {},
     "output_type": "execute_result"
    }
   ],
   "source": [
    "m"
   ]
  },
  {
   "cell_type": "code",
   "execution_count": 10,
   "id": "8fc224d3",
   "metadata": {},
   "outputs": [],
   "source": [
    "def cube(x):\n",
    "    return x*x*x"
   ]
  },
  {
   "cell_type": "code",
   "execution_count": 11,
   "id": "672123a9",
   "metadata": {},
   "outputs": [
    {
     "data": {
      "text/plain": [
       "[1,\n",
       " 512,\n",
       " 19683,\n",
       " 1801152661463,\n",
       " 1363778273695777847263,\n",
       " 1947116172645480005632,\n",
       " 35184372088832,\n",
       " 19683]"
      ]
     },
     "execution_count": 11,
     "metadata": {},
     "output_type": "execute_result"
    }
   ],
   "source": [
    "list(map(cube,m))"
   ]
  },
  {
   "cell_type": "code",
   "execution_count": 12,
   "id": "f729451e",
   "metadata": {},
   "outputs": [],
   "source": [
    "p = [1,222,11,2,1]"
   ]
  },
  {
   "cell_type": "code",
   "execution_count": 13,
   "id": "d823b3e0",
   "metadata": {},
   "outputs": [
    {
     "data": {
      "text/plain": [
       "[1, 10941048, 1331, 8, 1]"
      ]
     },
     "execution_count": 13,
     "metadata": {},
     "output_type": "execute_result"
    }
   ],
   "source": [
    "list(map(lambda x:x*x*x , p))"
   ]
  },
  {
   "cell_type": "code",
   "execution_count": null,
   "id": "c9fefb1f",
   "metadata": {},
   "outputs": [],
   "source": []
  },
  {
   "cell_type": "code",
   "execution_count": null,
   "id": "65a6dfdd",
   "metadata": {},
   "outputs": [],
   "source": []
  },
  {
   "cell_type": "code",
   "execution_count": null,
   "id": "090148b1",
   "metadata": {},
   "outputs": [],
   "source": []
  },
  {
   "cell_type": "code",
   "execution_count": 5,
   "id": "7645dbed",
   "metadata": {},
   "outputs": [],
   "source": [
    "p = [1,3,5,6]"
   ]
  },
  {
   "cell_type": "code",
   "execution_count": 4,
   "id": "3e2e0af2",
   "metadata": {},
   "outputs": [],
   "source": [
    "a = 3"
   ]
  },
  {
   "cell_type": "code",
   "execution_count": 8,
   "id": "26700e8d",
   "metadata": {},
   "outputs": [
    {
     "data": {
      "text/plain": [
       "[1, 9, 25, 36]"
      ]
     },
     "execution_count": 8,
     "metadata": {},
     "output_type": "execute_result"
    }
   ],
   "source": [
    "list (map(lambda x:x*x,p))"
   ]
  },
  {
   "cell_type": "code",
   "execution_count": null,
   "id": "5febaa11",
   "metadata": {},
   "outputs": [],
   "source": []
  },
  {
   "cell_type": "code",
   "execution_count": 9,
   "id": "6c32acc5",
   "metadata": {},
   "outputs": [],
   "source": [
    "plist = ['shubham','sagar','sameer','prashant','omkar']"
   ]
  },
  {
   "cell_type": "code",
   "execution_count": 10,
   "id": "abceaffa",
   "metadata": {},
   "outputs": [],
   "source": [
    "def length(x):\n",
    "    return len(x)"
   ]
  },
  {
   "cell_type": "code",
   "execution_count": 11,
   "id": "b6537569",
   "metadata": {},
   "outputs": [
    {
     "data": {
      "text/plain": [
       "[7, 5, 6, 8, 5]"
      ]
     },
     "execution_count": 11,
     "metadata": {},
     "output_type": "execute_result"
    }
   ],
   "source": [
    "list(map(length,plist))"
   ]
  },
  {
   "cell_type": "code",
   "execution_count": 12,
   "id": "3f9e62ec",
   "metadata": {},
   "outputs": [
    {
     "data": {
      "text/plain": [
       "[7, 5, 6, 8, 5]"
      ]
     },
     "execution_count": 12,
     "metadata": {},
     "output_type": "execute_result"
    }
   ],
   "source": [
    "list(map(lambda x:len(x),plist))"
   ]
  },
  {
   "cell_type": "code",
   "execution_count": 13,
   "id": "f4bae725",
   "metadata": {},
   "outputs": [
    {
     "data": {
      "text/plain": [
       "['sagar', 'sameer', 'omkar']"
      ]
     },
     "execution_count": 13,
     "metadata": {},
     "output_type": "execute_result"
    }
   ],
   "source": [
    "list(filter(lambda x : x.endswith('r') , plist))"
   ]
  },
  {
   "cell_type": "code",
   "execution_count": 16,
   "id": "2d95187d",
   "metadata": {},
   "outputs": [
    {
     "data": {
      "text/plain": [
       "['shubham', 'sameer', 'prashant']"
      ]
     },
     "execution_count": 16,
     "metadata": {},
     "output_type": "execute_result"
    }
   ],
   "source": [
    "list(filter(lambda x : len(x)>5 , plist))"
   ]
  },
  {
   "cell_type": "code",
   "execution_count": null,
   "id": "1d47e5a0",
   "metadata": {},
   "outputs": [],
   "source": []
  },
  {
   "cell_type": "code",
   "execution_count": 17,
   "id": "5793ce3f",
   "metadata": {},
   "outputs": [],
   "source": [
    "p = ['male', 'female','male','female']"
   ]
  },
  {
   "cell_type": "code",
   "execution_count": 21,
   "id": "15a6377f",
   "metadata": {},
   "outputs": [
    {
     "name": "stdout",
     "output_type": "stream",
     "text": [
      "1\n",
      "2\n",
      "1\n",
      "2\n"
     ]
    }
   ],
   "source": [
    "for i in p:\n",
    "    if i=='male':\n",
    "        print(\"1\")\n",
    "    else:\n",
    "        print('2')"
   ]
  },
  {
   "cell_type": "code",
   "execution_count": 22,
   "id": "99787108",
   "metadata": {},
   "outputs": [
    {
     "data": {
      "text/plain": [
       "[True, False, True, False]"
      ]
     },
     "execution_count": 22,
     "metadata": {},
     "output_type": "execute_result"
    }
   ],
   "source": [
    "list(map(lambda x : x=='male',p))"
   ]
  },
  {
   "cell_type": "code",
   "execution_count": 32,
   "id": "7308b44f",
   "metadata": {},
   "outputs": [],
   "source": [
    "def encode(x):\n",
    "    if x=='male':\n",
    "        return('1')\n",
    "    else:\n",
    "        return('2')"
   ]
  },
  {
   "cell_type": "code",
   "execution_count": 33,
   "id": "88fb6998",
   "metadata": {},
   "outputs": [
    {
     "data": {
      "text/plain": [
       "['1', '2', '1', '2']"
      ]
     },
     "execution_count": 33,
     "metadata": {},
     "output_type": "execute_result"
    }
   ],
   "source": [
    "list(map(encode,p))"
   ]
  },
  {
   "cell_type": "code",
   "execution_count": null,
   "id": "bccd3334",
   "metadata": {},
   "outputs": [],
   "source": []
  },
  {
   "cell_type": "code",
   "execution_count": 5,
   "id": "755e8263",
   "metadata": {},
   "outputs": [],
   "source": [
    "def add(*args):\n",
    "    print(args)"
   ]
  },
  {
   "cell_type": "code",
   "execution_count": 6,
   "id": "7cf1f373",
   "metadata": {},
   "outputs": [
    {
     "name": "stdout",
     "output_type": "stream",
     "text": [
      "(10, 20, 30, 50)\n"
     ]
    }
   ],
   "source": [
    "a = add(10,20,30,50)"
   ]
  },
  {
   "cell_type": "code",
   "execution_count": 4,
   "id": "f512f3df",
   "metadata": {},
   "outputs": [],
   "source": []
  },
  {
   "cell_type": "code",
   "execution_count": 7,
   "id": "fdef4208",
   "metadata": {},
   "outputs": [],
   "source": [
    "def add1(**kwargs):\n",
    "    print(kwargs)"
   ]
  },
  {
   "cell_type": "code",
   "execution_count": 11,
   "id": "0d4a118b",
   "metadata": {},
   "outputs": [
    {
     "name": "stdout",
     "output_type": "stream",
     "text": [
      "{'name': 'shubham', 'salary': 100000, 'addr': 'pune'}\n"
     ]
    }
   ],
   "source": [
    "add1(name = 'shubham', salary = 100000 , addr = 'pune')"
   ]
  },
  {
   "cell_type": "code",
   "execution_count": null,
   "id": "fd553c81",
   "metadata": {},
   "outputs": [],
   "source": []
  },
  {
   "cell_type": "code",
   "execution_count": 12,
   "id": "31c6be5e",
   "metadata": {},
   "outputs": [],
   "source": [
    "p = [33,22,3344,334,2333,23,22,3]"
   ]
  },
  {
   "cell_type": "code",
   "execution_count": 13,
   "id": "1e98dffb",
   "metadata": {},
   "outputs": [
    {
     "ename": "SyntaxError",
     "evalue": "invalid syntax (Temp/ipykernel_18532/734471975.py, line 1)",
     "output_type": "error",
     "traceback": [
      "\u001b[1;36m  File \u001b[1;32m\"C:\\Users\\Dell\\AppData\\Local\\Temp/ipykernel_18532/734471975.py\"\u001b[1;36m, line \u001b[1;32m1\u001b[0m\n\u001b[1;33m    lambda(x:x*x*x,p)\u001b[0m\n\u001b[1;37m          ^\u001b[0m\n\u001b[1;31mSyntaxError\u001b[0m\u001b[1;31m:\u001b[0m invalid syntax\n"
     ]
    }
   ],
   "source": [
    "lambda()"
   ]
  },
  {
   "cell_type": "code",
   "execution_count": null,
   "id": "350c3198",
   "metadata": {},
   "outputs": [],
   "source": []
  },
  {
   "cell_type": "code",
   "execution_count": 16,
   "id": "8bfc1bff",
   "metadata": {},
   "outputs": [
    {
     "data": {
      "text/plain": [
       "2830"
      ]
     },
     "execution_count": 16,
     "metadata": {},
     "output_type": "execute_result"
    }
   ],
   "source": [
    "(lambda x,y:x+y+x*x+y*y)(40,34)"
   ]
  },
  {
   "cell_type": "code",
   "execution_count": null,
   "id": "ee9a3804",
   "metadata": {},
   "outputs": [],
   "source": []
  },
  {
   "cell_type": "code",
   "execution_count": 18,
   "id": "797b081f",
   "metadata": {},
   "outputs": [
    {
     "data": {
      "text/plain": [
       "[35937, 10648, 37393731584, 37259704, 12698260037, 12167, 10648, 27]"
      ]
     },
     "execution_count": 18,
     "metadata": {},
     "output_type": "execute_result"
    }
   ],
   "source": [
    "list(map(lambda x:x*x*x,p))"
   ]
  },
  {
   "cell_type": "code",
   "execution_count": null,
   "id": "1251ede9",
   "metadata": {},
   "outputs": [],
   "source": []
  },
  {
   "cell_type": "code",
   "execution_count": 19,
   "id": "6beb7359",
   "metadata": {},
   "outputs": [],
   "source": [
    "name = ['python','shubham0','shemaroo','saurabh','sangram','omkar','aaditya']"
   ]
  },
  {
   "cell_type": "code",
   "execution_count": 36,
   "id": "7e20c739",
   "metadata": {},
   "outputs": [
    {
     "data": {
      "text/plain": [
       "['omkar']"
      ]
     },
     "execution_count": 36,
     "metadata": {},
     "output_type": "execute_result"
    }
   ],
   "source": [
    "list(filter(lambda x:len(x)<6,name))"
   ]
  },
  {
   "cell_type": "code",
   "execution_count": 39,
   "id": "113c8faa",
   "metadata": {},
   "outputs": [
    {
     "data": {
      "text/plain": [
       "['python', 'shubham0', 'shemaroo', 'saurabh', 'sangram', 'omkar', 'aaditya']"
      ]
     },
     "execution_count": 39,
     "metadata": {},
     "output_type": "execute_result"
    }
   ],
   "source": [
    "list(filter(lambda x:len(x)>=5,name))"
   ]
  },
  {
   "cell_type": "code",
   "execution_count": null,
   "id": "ebdeb0da",
   "metadata": {},
   "outputs": [],
   "source": []
  },
  {
   "cell_type": "code",
   "execution_count": null,
   "id": "42ef37c3",
   "metadata": {},
   "outputs": [],
   "source": []
  },
  {
   "cell_type": "code",
   "execution_count": 79,
   "id": "5d6563a0",
   "metadata": {},
   "outputs": [],
   "source": [
    "list1 = ['sagar','ashok','nandkishor','tamanna']"
   ]
  },
  {
   "cell_type": "code",
   "execution_count": 87,
   "id": "f0859ef2",
   "metadata": {},
   "outputs": [],
   "source": [
    "def new(x):\n",
    "    if x[0]=='sagar':\n",
    "        return 0\n",
    "    else:\n",
    "        return 1"
   ]
  },
  {
   "cell_type": "code",
   "execution_count": 89,
   "id": "8a3c5848",
   "metadata": {},
   "outputs": [
    {
     "ename": "TypeError",
     "evalue": "'list' object is not callable",
     "output_type": "error",
     "traceback": [
      "\u001b[1;31m---------------------------------------------------------------------------\u001b[0m",
      "\u001b[1;31mTypeError\u001b[0m                                 Traceback (most recent call last)",
      "\u001b[1;32m~\\AppData\\Local\\Temp/ipykernel_18532/2688493322.py\u001b[0m in \u001b[0;36m<module>\u001b[1;34m\u001b[0m\n\u001b[1;32m----> 1\u001b[1;33m \u001b[0mp\u001b[0m \u001b[1;33m=\u001b[0m \u001b[0mlist\u001b[0m\u001b[1;33m(\u001b[0m\u001b[0mmap\u001b[0m\u001b[1;33m(\u001b[0m\u001b[0mnew\u001b[0m\u001b[1;33m,\u001b[0m\u001b[0mlist1\u001b[0m\u001b[1;33m)\u001b[0m\u001b[1;33m)\u001b[0m\u001b[1;33m\u001b[0m\u001b[1;33m\u001b[0m\u001b[0m\n\u001b[0m",
      "\u001b[1;31mTypeError\u001b[0m: 'list' object is not callable"
     ]
    }
   ],
   "source": [
    "p = list(map(new,list1))"
   ]
  },
  {
   "cell_type": "code",
   "execution_count": 90,
   "id": "d1f31329",
   "metadata": {},
   "outputs": [
    {
     "data": {
      "text/plain": [
       "[33, 22, 3344, 334, 2333, 23, 22, 3]"
      ]
     },
     "execution_count": 90,
     "metadata": {},
     "output_type": "execute_result"
    }
   ],
   "source": [
    "p"
   ]
  },
  {
   "cell_type": "code",
   "execution_count": null,
   "id": "fbfb8f52",
   "metadata": {},
   "outputs": [],
   "source": []
  },
  {
   "cell_type": "code",
   "execution_count": 103,
   "id": "f087bf8c",
   "metadata": {},
   "outputs": [],
   "source": [
    "li = ['sass@gmail.com','sddj@yahoo.com','sdhf@fd.com','fgffg@rediffmail.com','fd@v.com']"
   ]
  },
  {
   "cell_type": "code",
   "execution_count": 104,
   "id": "9e486507",
   "metadata": {},
   "outputs": [
    {
     "data": {
      "text/plain": [
       "['sass@gmail.com', 'sddj@yahoo.com', 'fgffg@rediffmail.com']"
      ]
     },
     "execution_count": 104,
     "metadata": {},
     "output_type": "execute_result"
    }
   ],
   "source": [
    "[x for x in li if x.split('@')[1] in 'gmail.com''yahoo.com''rediffmail.com']"
   ]
  },
  {
   "cell_type": "code",
   "execution_count": 107,
   "id": "c9b4c1ef",
   "metadata": {},
   "outputs": [
    {
     "data": {
      "text/plain": [
       "['sass@gmail.com']"
      ]
     },
     "execution_count": 107,
     "metadata": {},
     "output_type": "execute_result"
    }
   ],
   "source": [
    "[x for x in li if x.endswith('@gmail.com'or'@rediffmail.com'or'yahoo.com')]"
   ]
  },
  {
   "cell_type": "code",
   "execution_count": null,
   "id": "885847a7",
   "metadata": {},
   "outputs": [],
   "source": []
  },
  {
   "cell_type": "code",
   "execution_count": 6,
   "id": "32a6c383",
   "metadata": {},
   "outputs": [
    {
     "name": "stdout",
     "output_type": "stream",
     "text": [
      "enter the number:4\n",
      "*  \n",
      "* *  \n",
      "* * *  \n",
      "* * * *  \n"
     ]
    }
   ],
   "source": [
    "x = int(input(\"enter the number:\"))\n",
    "for i in range(x):\n",
    "    for j in range(i+1):\n",
    "        print(\"*\" , end = \" \")\n",
    "    print(\" \")\n",
    "        "
   ]
  },
  {
   "cell_type": "code",
   "execution_count": null,
   "id": "96febe26",
   "metadata": {},
   "outputs": [],
   "source": [
    "m = int(input('enter the number for pattern :'))\n",
    "for i in range (m):\n",
    "    for j in range(i+1):\n",
    "        print('*' , end = ' ')\n",
    "    print( )"
   ]
  },
  {
   "cell_type": "code",
   "execution_count": null,
   "id": "04ca6e8e",
   "metadata": {},
   "outputs": [],
   "source": []
  },
  {
   "cell_type": "code",
   "execution_count": null,
   "id": "2d2da5fa",
   "metadata": {},
   "outputs": [],
   "source": []
  },
  {
   "cell_type": "code",
   "execution_count": null,
   "id": "dbf02547",
   "metadata": {},
   "outputs": [],
   "source": []
  }
 ],
 "metadata": {
  "kernelspec": {
   "display_name": "Python 3 (ipykernel)",
   "language": "python",
   "name": "python3"
  },
  "language_info": {
   "codemirror_mode": {
    "name": "ipython",
    "version": 3
   },
   "file_extension": ".py",
   "mimetype": "text/x-python",
   "name": "python",
   "nbconvert_exporter": "python",
   "pygments_lexer": "ipython3",
   "version": "3.9.7"
  }
 },
 "nbformat": 4,
 "nbformat_minor": 5
}
