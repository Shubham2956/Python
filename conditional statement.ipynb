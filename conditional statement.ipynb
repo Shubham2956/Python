{
 "cells": [
  {
   "cell_type": "code",
   "execution_count": 2,
   "id": "e0fd6c06",
   "metadata": {},
   "outputs": [
    {
     "name": "stdout",
     "output_type": "stream",
     "text": [
      "Enter the number:10\n",
      "thanks for using our service\n"
     ]
    }
   ],
   "source": [
    "x = int(input(\"Enter the number:\"))\n",
    "if x>15:\n",
    "    print(\"Hi\")\n",
    "print(\"thanks for using our service\")"
   ]
  },
  {
   "cell_type": "code",
   "execution_count": 3,
   "id": "a8e8787e",
   "metadata": {},
   "outputs": [
    {
     "name": "stdout",
     "output_type": "stream",
     "text": [
      "Enter the age:45\n",
      "pls take booster dose\n",
      "thanks for using our service\n"
     ]
    }
   ],
   "source": [
    "age = int(input(\"Enter the age:\"))\n",
    "if age>35:\n",
    "    print(\"pls take booster dose\")\n",
    "print(\"thanks for using our service\")\n",
    "print(\"sfsdf\")"
   ]
  },
  {
   "cell_type": "code",
   "execution_count": 4,
   "id": "55323fb3",
   "metadata": {},
   "outputs": [],
   "source": [
    "#if-else    two condition --> opposite"
   ]
  },
  {
   "cell_type": "code",
   "execution_count": 11,
   "id": "2b344356",
   "metadata": {},
   "outputs": [
    {
     "name": "stdout",
     "output_type": "stream",
     "text": [
      "Enter the age:34\n",
      "Pls take at least one dose\n",
      "thanks\n"
     ]
    }
   ],
   "source": [
    "age = int(input(\"Enter the age:\"))\n",
    "if age>=35:\n",
    "    print(\"pls take booster dose\")\n",
    "else :\n",
    "    print(\"Pls take at least one dose\")\n",
    "print(\"thanks\")"
   ]
  },
  {
   "cell_type": "code",
   "execution_count": null,
   "id": "0b74f5e8",
   "metadata": {},
   "outputs": [],
   "source": [
    "Note: else never have condition"
   ]
  },
  {
   "cell_type": "code",
   "execution_count": null,
   "id": "af3abf9f",
   "metadata": {},
   "outputs": [],
   "source": [
    "1.pls take one = even or odd\n",
    "2.pls take filename check weather its pdf or not\n",
    "3.take email as input check its valid or not"
   ]
  },
  {
   "cell_type": "code",
   "execution_count": 14,
   "id": "f8c853a3",
   "metadata": {},
   "outputs": [
    {
     "name": "stdout",
     "output_type": "stream",
     "text": [
      "Enter the filename:sample.txt\n",
      "sample.txt is other that pdf\n"
     ]
    }
   ],
   "source": [
    "filename = input(\"Enter the filename:\")\n",
    "if filename.endswith('.pdf'):\n",
    "    print(f\"{filename} is pdf\")\n",
    "else:\n",
    "    print(f\"{filename} is other that pdf\")\n",
    "          "
   ]
  },
  {
   "cell_type": "code",
   "execution_count": 15,
   "id": "000806be",
   "metadata": {},
   "outputs": [
    {
     "name": "stdout",
     "output_type": "stream",
     "text": [
      "Enter the num:45\n"
     ]
    }
   ],
   "source": [
    "x = input(\"Enter the num:\")"
   ]
  },
  {
   "cell_type": "code",
   "execution_count": 16,
   "id": "577a9d5a",
   "metadata": {},
   "outputs": [
    {
     "data": {
      "text/plain": [
       "str"
      ]
     },
     "execution_count": 16,
     "metadata": {},
     "output_type": "execute_result"
    }
   ],
   "source": [
    "type(x)"
   ]
  },
  {
   "cell_type": "code",
   "execution_count": 19,
   "id": "b429fe3b",
   "metadata": {},
   "outputs": [],
   "source": [
    "a = 50"
   ]
  },
  {
   "cell_type": "code",
   "execution_count": 20,
   "id": "4f7eec03",
   "metadata": {},
   "outputs": [
    {
     "name": "stdout",
     "output_type": "stream",
     "text": [
      "hi\n"
     ]
    }
   ],
   "source": [
    "if a>15:\n",
    "    print(\"hi\")\n",
    "else:\n",
    "    print(\"bye\")"
   ]
  },
  {
   "cell_type": "code",
   "execution_count": 25,
   "id": "3b96e850",
   "metadata": {},
   "outputs": [],
   "source": [
    "filename = 'test.pdf'"
   ]
  },
  {
   "cell_type": "code",
   "execution_count": 26,
   "id": "d9418e0d",
   "metadata": {},
   "outputs": [
    {
     "name": "stdout",
     "output_type": "stream",
     "text": [
      "other file\n"
     ]
    }
   ],
   "source": [
    "if filename.endswith('.txt'):\n",
    "    print(\"text file\")\n",
    "else:\n",
    "    print(\"other file\")"
   ]
  },
  {
   "cell_type": "code",
   "execution_count": 30,
   "id": "f454bcd6",
   "metadata": {},
   "outputs": [
    {
     "name": "stdout",
     "output_type": "stream",
     "text": [
      "Enter the email:klasfnsdjkafb@yahoo.com\n",
      "Valid\n"
     ]
    }
   ],
   "source": [
    "email = input(\"Enter the email:\")\n",
    "if email.split('@')[1] in ['gmail.com','yahoo.com']:\n",
    "    print(\"Valid\")\n",
    "else:\n",
    "    print(\"invalid\")"
   ]
  },
  {
   "cell_type": "code",
   "execution_count": 31,
   "id": "bdcd0b95",
   "metadata": {},
   "outputs": [
    {
     "name": "stdout",
     "output_type": "stream",
     "text": [
      "Enter the email:askldfsnfklsndf@gmail.com\n"
     ]
    }
   ],
   "source": [
    "email = input(\"Enter the email:\")"
   ]
  },
  {
   "cell_type": "code",
   "execution_count": 32,
   "id": "177b8592",
   "metadata": {
    "scrolled": true
   },
   "outputs": [
    {
     "data": {
      "text/plain": [
       "'askldfsnfklsndf@gmail.com'"
      ]
     },
     "execution_count": 32,
     "metadata": {},
     "output_type": "execute_result"
    }
   ],
   "source": [
    "email\n"
   ]
  },
  {
   "cell_type": "code",
   "execution_count": 35,
   "id": "71200e66",
   "metadata": {},
   "outputs": [
    {
     "data": {
      "text/plain": [
       "True"
      ]
     },
     "execution_count": 35,
     "metadata": {},
     "output_type": "execute_result"
    }
   ],
   "source": [
    "email.split('@')[1] in ['gmail.com']"
   ]
  },
  {
   "cell_type": "code",
   "execution_count": null,
   "id": "9323f222",
   "metadata": {},
   "outputs": [],
   "source": [
    "#simple if ---- only single condition\n",
    "#if-else ---- two apposite\n",
    "#more that two condtion if else ladder"
   ]
  },
  {
   "cell_type": "code",
   "execution_count": null,
   "id": "5b361f3f",
   "metadata": {},
   "outputs": [],
   "source": [
    "if condtion:\n",
    "    block\n",
    "elif condition2:\n",
    "    block\n",
    "elif condition3:\n",
    "    block\n",
    "elif condtion n:\n",
    "    block\n",
    "else:\n",
    "    default"
   ]
  },
  {
   "cell_type": "code",
   "execution_count": 51,
   "id": "7e16e960",
   "metadata": {},
   "outputs": [
    {
     "name": "stdout",
     "output_type": "stream",
     "text": [
      "Enter the marks:95\n",
      "Outstanding\n",
      "thanks for using services\n"
     ]
    }
   ],
   "source": [
    "marks = float(input(\"Enter the marks:\"))\n",
    "if marks >=95 and marks <=100:\n",
    "    print(\"Outstanding\")\n",
    "elif marks>=75 and marks <=95:\n",
    "    print(\"Distinction\")\n",
    "elif marks>=66 and marks<=74:\n",
    "    print(\"first class\")\n",
    "elif marks>=55 and marks<=65:\n",
    "    print(\"Second class\")\n",
    "elif marks < 55:\n",
    "    print(\"Bhia padhai kar\")\n",
    "    \n",
    "else:\n",
    "    print(\"Invalid marks\")\n",
    "print(\"thanks for using services\")"
   ]
  },
  {
   "cell_type": "code",
   "execution_count": 52,
   "id": "f439a1d0",
   "metadata": {},
   "outputs": [],
   "source": [
    "#nested"
   ]
  },
  {
   "cell_type": "code",
   "execution_count": null,
   "id": "ce5e76e0",
   "metadata": {},
   "outputs": [],
   "source": [
    "one\n",
    "two\n",
    "more than two \n",
    "\n",
    "\n",
    "one<----- second"
   ]
  },
  {
   "cell_type": "code",
   "execution_count": null,
   "id": "4dc22f9b",
   "metadata": {},
   "outputs": [],
   "source": []
  },
  {
   "cell_type": "code",
   "execution_count": null,
   "id": "3a4c21bf",
   "metadata": {},
   "outputs": [],
   "source": [
    "state\n",
    "\n",
    "   city \n",
    "    \n",
    "    \n",
    "      village"
   ]
  },
  {
   "cell_type": "code",
   "execution_count": null,
   "id": "bf7a86bc",
   "metadata": {},
   "outputs": [],
   "source": [
    "if condition:\n",
    "     if condtion:\n",
    "        block\n",
    "            \n",
    "    else:\n",
    "        block\n",
    "\n",
    "else:\n",
    "    if conditon:\n",
    "        block\n",
    "    else:\n",
    "        block\n",
    "        "
   ]
  },
  {
   "cell_type": "code",
   "execution_count": 62,
   "id": "1a244d91",
   "metadata": {},
   "outputs": [
    {
     "name": "stdout",
     "output_type": "stream",
     "text": [
      "Enter the filename:silver.txt\n",
      "silver txt \n"
     ]
    }
   ],
   "source": [
    "filename = input(\"Enter the filename:\")\n",
    "ext = filename.split('.')[0]\n",
    "if filename.endswith('.pdf'):\n",
    "  \n",
    "    if ext=='copper':\n",
    "        print(\"Processing copper pdf file\")\n",
    "    elif ext =='silver':\n",
    "        print(\"silver pdf \")\n",
    "    else:\n",
    "        print(\"invalid file\")\n",
    "\n",
    "elif filename.endswith('.txt'):\n",
    "    \n",
    "    if ext=='copper':\n",
    "        print(\"Processing copper txt file\")\n",
    "    elif ext =='silver':\n",
    "        print(\"silver txt \")\n",
    "    else:\n",
    "        print(\"invalid file\")\n",
    "else:\n",
    "    print(\"invalid file extension\")"
   ]
  },
  {
   "cell_type": "code",
   "execution_count": null,
   "id": "c4644f33",
   "metadata": {},
   "outputs": [],
   "source": []
  },
  {
   "cell_type": "code",
   "execution_count": 8,
   "id": "f02b44c5",
   "metadata": {},
   "outputs": [
    {
     "name": "stdout",
     "output_type": "stream",
     "text": [
      "enter the file name for the processing :silver.txt\n",
      "processing the silver txt file \n"
     ]
    }
   ],
   "source": [
    "filename = str(input(\"enter the file name for the processing :\"))\n",
    "process = filename.split('.')[0]\n",
    "if filename.endswith('.pdf'):\n",
    "    \n",
    "    if process=='copper':\n",
    "        print(\"processing the copper pdf file\")\n",
    "    elif process=='silver':\n",
    "        print(\"processing the silver pdf file \")\n",
    "    elif process=='gold':\n",
    "        print('processing the gold pdf file')\n",
    "elif filename.endswith('.txt'):\n",
    "    \n",
    "    if process=='copper':\n",
    "        print(\"processing the copper txt file\")\n",
    "    elif process=='silver':\n",
    "        print(\"processing the silver txt file \")\n",
    "    elif process=='gold':\n",
    "        print('p;rocessing the gold txt file')"
   ]
  },
  {
   "cell_type": "code",
   "execution_count": 9,
   "id": "28d69fec",
   "metadata": {},
   "outputs": [
    {
     "name": "stdout",
     "output_type": "stream",
     "text": [
      "enter the number for the pattern series: 4\n",
      "* \n",
      "* * \n",
      "* * * \n",
      "* * * * \n"
     ]
    }
   ],
   "source": [
    "rows = int(input(\"enter the number for the pattern series: \"))\n",
    "for i in range (rows):\n",
    "    for j in range(i+1):\n",
    "        print('*', end = ' ')\n",
    "    print()"
   ]
  },
  {
   "cell_type": "code",
   "execution_count": 14,
   "id": "b2ff91fa",
   "metadata": {},
   "outputs": [
    {
     "name": "stdout",
     "output_type": "stream",
     "text": [
      "enter the number of rows for pattern: 5\n",
      "* \n",
      "* * \n",
      "* * * \n",
      "* * * * \n",
      "* * * * * \n"
     ]
    }
   ],
   "source": [
    "rows = int(input(\"enter the number of rows for pattern: \"))\n",
    "for i in range(rows):\n",
    "    for j in range(i+1):\n",
    "        print('*',end = ' ')\n",
    "    print()"
   ]
  },
  {
   "cell_type": "code",
   "execution_count": 15,
   "id": "16d33e37",
   "metadata": {},
   "outputs": [
    {
     "name": "stdout",
     "output_type": "stream",
     "text": [
      "enter the number for the pattern :5\n",
      "*****\n",
      "****\n",
      "***\n",
      "**\n",
      "*\n"
     ]
    }
   ],
   "source": [
    "rows = int(input(\"enter the number for the pattern :\"))\n",
    "for i in range(rows,0,-1):\n",
    "    for j in range(i):\n",
    "        print('*', end= '')\n",
    "    print()"
   ]
  },
  {
   "cell_type": "code",
   "execution_count": 17,
   "id": "997e5cca",
   "metadata": {},
   "outputs": [
    {
     "name": "stdout",
     "output_type": "stream",
     "text": [
      "enter the table number :4\n",
      "4\n",
      "8\n",
      "12\n",
      "16\n",
      "20\n",
      "24\n",
      "28\n",
      "32\n",
      "36\n",
      "40\n"
     ]
    }
   ],
   "source": [
    "table = int(input(\"enter the table number :\"))\n",
    "for i in range(1,11,1):\n",
    "    print(table*i)"
   ]
  },
  {
   "cell_type": "code",
   "execution_count": 2,
   "id": "7ef19a1a",
   "metadata": {},
   "outputs": [
    {
     "name": "stdout",
     "output_type": "stream",
     "text": [
      "1 x 1 = 1      1 x 2 = 2      1 x 3 = 3      1 x 4 = 4      1 x 5 = 5      1 x 6 = 6      1 x 7 = 7      1 x 8 = 8      1 x 9 = 9      1 x 10 = 10      \n",
      "2 x 1 = 2      2 x 2 = 4      2 x 3 = 6      2 x 4 = 8      2 x 5 = 10      2 x 6 = 12      2 x 7 = 14      2 x 8 = 16      2 x 9 = 18      2 x 10 = 20      \n",
      "3 x 1 = 3      3 x 2 = 6      3 x 3 = 9      3 x 4 = 12      3 x 5 = 15      3 x 6 = 18      3 x 7 = 21      3 x 8 = 24      3 x 9 = 27      3 x 10 = 30      \n",
      "4 x 1 = 4      4 x 2 = 8      4 x 3 = 12      4 x 4 = 16      4 x 5 = 20      4 x 6 = 24      4 x 7 = 28      4 x 8 = 32      4 x 9 = 36      4 x 10 = 40      \n",
      "5 x 1 = 5      5 x 2 = 10      5 x 3 = 15      5 x 4 = 20      5 x 5 = 25      5 x 6 = 30      5 x 7 = 35      5 x 8 = 40      5 x 9 = 45      5 x 10 = 50      \n",
      "6 x 1 = 6      6 x 2 = 12      6 x 3 = 18      6 x 4 = 24      6 x 5 = 30      6 x 6 = 36      6 x 7 = 42      6 x 8 = 48      6 x 9 = 54      6 x 10 = 60      \n",
      "7 x 1 = 7      7 x 2 = 14      7 x 3 = 21      7 x 4 = 28      7 x 5 = 35      7 x 6 = 42      7 x 7 = 49      7 x 8 = 56      7 x 9 = 63      7 x 10 = 70      \n",
      "8 x 1 = 8      8 x 2 = 16      8 x 3 = 24      8 x 4 = 32      8 x 5 = 40      8 x 6 = 48      8 x 7 = 56      8 x 8 = 64      8 x 9 = 72      8 x 10 = 80      \n",
      "9 x 1 = 9      9 x 2 = 18      9 x 3 = 27      9 x 4 = 36      9 x 5 = 45      9 x 6 = 54      9 x 7 = 63      9 x 8 = 72      9 x 9 = 81      9 x 10 = 90      \n",
      "10 x 1 = 10      10 x 2 = 20      10 x 3 = 30      10 x 4 = 40      10 x 5 = 50      10 x 6 = 60      10 x 7 = 70      10 x 8 = 80      10 x 9 = 90      10 x 10 = 100      \n"
     ]
    }
   ],
   "source": [
    "for i in range (1,11,1):\n",
    "    for j in range(1,11,1):\n",
    "        print(i,'x',j,'=',i*j,end ='      ')\n",
    "        \n",
    "    print(       )"
   ]
  },
  {
   "cell_type": "code",
   "execution_count": null,
   "id": "dcf9df5a",
   "metadata": {},
   "outputs": [],
   "source": []
  },
  {
   "cell_type": "code",
   "execution_count": null,
   "id": "3d60493f",
   "metadata": {},
   "outputs": [],
   "source": [
    "*\n",
    "**\n",
    "***\n",
    "****"
   ]
  },
  {
   "cell_type": "code",
   "execution_count": 56,
   "id": "c3a7fec8",
   "metadata": {},
   "outputs": [
    {
     "name": "stdout",
     "output_type": "stream",
     "text": [
      "enter the rows for the pattern :5\n",
      "* \n",
      "* * \n",
      "* * * \n",
      "* * * * \n",
      "* * * * * \n"
     ]
    }
   ],
   "source": [
    "rows = int(input('enter the rows for the pattern :'))\n",
    "for i in range(rows):\n",
    "    for j in range(i+1):\n",
    "        print('*',end = ' ')\n",
    "    print()"
   ]
  },
  {
   "cell_type": "code",
   "execution_count": null,
   "id": "bd922308",
   "metadata": {},
   "outputs": [],
   "source": [
    "*****\n",
    "****\n",
    "***\n",
    "**\n",
    "*"
   ]
  },
  {
   "cell_type": "code",
   "execution_count": 1,
   "id": "9e7a61df",
   "metadata": {},
   "outputs": [
    {
     "name": "stdout",
     "output_type": "stream",
     "text": [
      "enter the rows for the pattern: 4\n",
      "****\n",
      "***\n",
      "**\n",
      "*\n"
     ]
    }
   ],
   "source": [
    "rows = int(input('enter the rows for the pattern: '))\n",
    "for i in range(rows,0,-1):\n",
    "    for j in range(i):\n",
    "        print('*',end = '')\n",
    "    print( )"
   ]
  },
  {
   "cell_type": "code",
   "execution_count": null,
   "id": "6b936d8d",
   "metadata": {},
   "outputs": [],
   "source": []
  },
  {
   "cell_type": "code",
   "execution_count": null,
   "id": "e2eea480",
   "metadata": {},
   "outputs": [],
   "source": [
    "1\n",
    "12\n",
    "123"
   ]
  },
  {
   "cell_type": "code",
   "execution_count": 79,
   "id": "e101c7bf",
   "metadata": {},
   "outputs": [
    {
     "name": "stdout",
     "output_type": "stream",
     "text": [
      "enter the rows :3\n",
      "1 \n",
      "1 2 \n",
      "1 2 3 \n"
     ]
    }
   ],
   "source": [
    "rows = int(input('enter the rows :'))\n",
    "for i in range(0,rows,1):\n",
    "    for j in range(i+1):\n",
    "        print(j+1,end=' ')\n",
    "    print()"
   ]
  },
  {
   "cell_type": "code",
   "execution_count": 80,
   "id": "55891cdf",
   "metadata": {},
   "outputs": [
    {
     "name": "stdout",
     "output_type": "stream",
     "text": [
      "enter the rows pattern:4\n",
      "* \n",
      "* * \n",
      "* * * \n",
      "* * * * \n"
     ]
    }
   ],
   "source": [
    "rows = int(input('enter the rows pattern:'))\n",
    "for i in range(rows):\n",
    "    for j in range(i+1):\n",
    "        print('*',end=\" \")\n",
    "    print()"
   ]
  },
  {
   "cell_type": "code",
   "execution_count": 83,
   "id": "f7486c9e",
   "metadata": {},
   "outputs": [
    {
     "name": "stdout",
     "output_type": "stream",
     "text": [
      "enter the rows pattern:4\n",
      "* * * * \n",
      "* * * \n",
      "* * \n",
      "* \n"
     ]
    }
   ],
   "source": [
    "rows = int(input('enter the rows pattern:'))\n",
    "for i in range(rows,0,-1):\n",
    "    for j in range(i):\n",
    "        print('*',end=\" \")\n",
    "    print()"
   ]
  },
  {
   "cell_type": "code",
   "execution_count": 86,
   "id": "44c6aa2f",
   "metadata": {},
   "outputs": [
    {
     "name": "stdout",
     "output_type": "stream",
     "text": [
      "enter the number :4\n",
      "1 \n",
      "1 2 \n",
      "1 2 3 \n",
      "1 2 3 4 \n"
     ]
    }
   ],
   "source": [
    "rows = int(input('enter the number :'))\n",
    "for i in range(0,rows,1):\n",
    "    for j in range(i+1):\n",
    "        print(j+1,end = ' ')\n",
    "    print()"
   ]
  },
  {
   "cell_type": "code",
   "execution_count": null,
   "id": "66b173c2",
   "metadata": {},
   "outputs": [],
   "source": [
    "321\n",
    "21\n",
    "1"
   ]
  },
  {
   "cell_type": "code",
   "execution_count": 108,
   "id": "cb2822d1",
   "metadata": {},
   "outputs": [
    {
     "name": "stdout",
     "output_type": "stream",
     "text": [
      "enter the number :4\n",
      "\n",
      "\n",
      "\n",
      "\n"
     ]
    }
   ],
   "source": [
    "rows = int(input('enter the number :'))\n",
    "for i in range(rows,0,-1):\n",
    "    for j in range(j):\n",
    "        print(j,end=' ')\n",
    "    print()"
   ]
  },
  {
   "cell_type": "code",
   "execution_count": null,
   "id": "5d56419b",
   "metadata": {},
   "outputs": [],
   "source": []
  },
  {
   "cell_type": "code",
   "execution_count": 1,
   "id": "1855fad6",
   "metadata": {},
   "outputs": [
    {
     "name": "stdout",
     "output_type": "stream",
     "text": [
      "please enter your age : 39\n",
      "please take care of yourself and please take booster dose \n"
     ]
    }
   ],
   "source": [
    "a = int(input(\"please enter your age : \"))\n",
    "if a <=37:\n",
    "    print (\"you are absolutely fine and no need to take booster dose.\")\n",
    "    \n",
    "else:\n",
    "    print(\"please take care of yourself and please take booster dose \")"
   ]
  },
  {
   "cell_type": "code",
   "execution_count": null,
   "id": "b7bc04ab",
   "metadata": {},
   "outputs": [],
   "source": []
  },
  {
   "cell_type": "code",
   "execution_count": 3,
   "id": "d902761f",
   "metadata": {},
   "outputs": [
    {
     "name": "stdout",
     "output_type": "stream",
     "text": [
      "please enter your email id :shubham@fdfgb.com\n",
      "please enter the valid email id .\n",
      "thank you for using service \n"
     ]
    }
   ],
   "source": [
    "b = input(\"please enter your email id :\")\n",
    "if b.split(\"@\")[1] in ['gmail.com','yahoo.com']:\n",
    "    print(\"your email id is varified and it is valid.\")\n",
    "else:\n",
    "    print(\"please enter the valid email id .\")\n",
    "print(\"thank you for using service \")"
   ]
  },
  {
   "cell_type": "code",
   "execution_count": null,
   "id": "92737776",
   "metadata": {},
   "outputs": [],
   "source": []
  },
  {
   "cell_type": "code",
   "execution_count": 7,
   "id": "101c2b2f",
   "metadata": {},
   "outputs": [
    {
     "name": "stdout",
     "output_type": "stream",
     "text": [
      "enter the number for printing pattern :4\n",
      "* \n",
      "* * \n",
      "* * * \n",
      "* * * * \n"
     ]
    }
   ],
   "source": [
    "rows = int(input(\"enter the number for printing pattern :\"))\n",
    "for i in range(rows):\n",
    "    for j in range(i+1):\n",
    "        print(\"*\", end = ' ')\n",
    "    print( )"
   ]
  },
  {
   "cell_type": "code",
   "execution_count": null,
   "id": "3192b383",
   "metadata": {},
   "outputs": [],
   "source": []
  },
  {
   "cell_type": "code",
   "execution_count": null,
   "id": "0bb05e25",
   "metadata": {},
   "outputs": [],
   "source": []
  },
  {
   "cell_type": "code",
   "execution_count": 13,
   "id": "0dfac63f",
   "metadata": {},
   "outputs": [
    {
     "name": "stdout",
     "output_type": "stream",
     "text": [
      "enter the file name you want to check:copper.txt\n",
      "loading\n",
      "you have correct file \n"
     ]
    }
   ],
   "source": [
    "filename = input(\"enter the file name you want to check:\")\n",
    "material = filename.split('.')[0] \n",
    "if filename.split(\".\")[1] in ['txt','pdf']:\n",
    "    print(\"loading\")\n",
    "    if material == 'copper':\n",
    "        print(\"you have correct file \")\n",
    "else:\n",
    "    print(\"please give appropriate file format having extension .pdf, .txt\")"
   ]
  },
  {
   "cell_type": "code",
   "execution_count": null,
   "id": "17bf77ea",
   "metadata": {},
   "outputs": [],
   "source": []
  },
  {
   "cell_type": "code",
   "execution_count": 4,
   "id": "a14dbdd6",
   "metadata": {},
   "outputs": [
    {
     "name": "stdout",
     "output_type": "stream",
     "text": [
      "enter the number :4\n",
      "0 1 2 \n",
      "0 1 \n",
      "0 \n",
      "\n"
     ]
    }
   ],
   "source": [
    "rows = int(input('enter the number :'))\n",
    "for i in range(rows,0,-1):\n",
    "    for j in range(i-1):\n",
    "        print(j,end=' ')\n",
    "    print()"
   ]
  },
  {
   "cell_type": "code",
   "execution_count": null,
   "id": "c6bcc7c8",
   "metadata": {},
   "outputs": [],
   "source": []
  },
  {
   "cell_type": "code",
   "execution_count": null,
   "id": "63790830",
   "metadata": {},
   "outputs": [],
   "source": []
  },
  {
   "cell_type": "code",
   "execution_count": null,
   "id": "d08a7b72",
   "metadata": {},
   "outputs": [],
   "source": []
  },
  {
   "cell_type": "code",
   "execution_count": null,
   "id": "a9c0930c",
   "metadata": {},
   "outputs": [],
   "source": []
  },
  {
   "cell_type": "code",
   "execution_count": null,
   "id": "f814b845",
   "metadata": {},
   "outputs": [],
   "source": []
  }
 ],
 "metadata": {
  "kernelspec": {
   "display_name": "Python 3 (ipykernel)",
   "language": "python",
   "name": "python3"
  },
  "language_info": {
   "codemirror_mode": {
    "name": "ipython",
    "version": 3
   },
   "file_extension": ".py",
   "mimetype": "text/x-python",
   "name": "python",
   "nbconvert_exporter": "python",
   "pygments_lexer": "ipython3",
   "version": "3.9.19"
  }
 },
 "nbformat": 4,
 "nbformat_minor": 5
}
