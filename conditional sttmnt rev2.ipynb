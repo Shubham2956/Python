{
 "cells": [
  {
   "cell_type": "code",
   "execution_count": null,
   "id": "c2fec0ef",
   "metadata": {},
   "outputs": [],
   "source": []
  },
  {
   "cell_type": "code",
   "execution_count": 4,
   "id": "b0b67276",
   "metadata": {},
   "outputs": [
    {
     "name": "stdout",
     "output_type": "stream",
     "text": [
      "enter your age:34\n",
      "you have to take booster dose\n",
      "stay home ,stay safe\n"
     ]
    }
   ],
   "source": [
    "a = int(input('enter your age:'))\n",
    "if a<=25:\n",
    "    print('you have to take atleast two dose')\n",
    "else:\n",
    "    print('you have to take booster dose')\n",
    "print('stay home ,stay safe')"
   ]
  },
  {
   "cell_type": "code",
   "execution_count": null,
   "id": "11d2e3cb",
   "metadata": {},
   "outputs": [],
   "source": []
  },
  {
   "cell_type": "code",
   "execution_count": null,
   "id": "4ceecbec",
   "metadata": {},
   "outputs": [],
   "source": [
    "even or odd"
   ]
  },
  {
   "cell_type": "code",
   "execution_count": 6,
   "id": "4cb1af38",
   "metadata": {},
   "outputs": [
    {
     "name": "stdout",
     "output_type": "stream",
     "text": [
      "enter the number that you want to check:22\n",
      "the given number is even\n",
      "thnku\n"
     ]
    }
   ],
   "source": [
    "a = int(input('enter the number that you want to check:'))\n",
    "if a%2==0:\n",
    "    print('the given number is even')\n",
    "else:\n",
    "    print('the given number is odd')\n",
    "print('thnku')"
   ]
  },
  {
   "cell_type": "code",
   "execution_count": null,
   "id": "6ecfd622",
   "metadata": {},
   "outputs": [],
   "source": [
    "#given fikle is pdf or not"
   ]
  },
  {
   "cell_type": "code",
   "execution_count": 9,
   "id": "1753336d",
   "metadata": {},
   "outputs": [
    {
     "name": "stdout",
     "output_type": "stream",
     "text": [
      "enter the file name:shubham.pdf\n",
      "shubham.pdf is pdf format\n"
     ]
    }
   ],
   "source": [
    "filename = input('enter the file name:' )\n",
    "if filename.endswith('.pdf'):\n",
    "    print(f\"{filename} is pdf format\")\n",
    "else:\n",
    "          print(f\"{filename} is not pdf file\")"
   ]
  },
  {
   "cell_type": "code",
   "execution_count": null,
   "id": "f43f5461",
   "metadata": {},
   "outputs": [],
   "source": []
  },
  {
   "cell_type": "code",
   "execution_count": null,
   "id": "6f2f67b1",
   "metadata": {},
   "outputs": [],
   "source": [
    "#email valid or not"
   ]
  },
  {
   "cell_type": "code",
   "execution_count": null,
   "id": "f7a5222c",
   "metadata": {},
   "outputs": [],
   "source": []
  },
  {
   "cell_type": "code",
   "execution_count": 13,
   "id": "18fee93b",
   "metadata": {},
   "outputs": [
    {
     "name": "stdout",
     "output_type": "stream",
     "text": [
      "enter the email id:ghdf@yahoo.com\n",
      "ghdf@yahoo.com is not valid\n"
     ]
    }
   ],
   "source": [
    "emailcheck =input('enter the email id:')\n",
    "if emailcheck.endswith('@gmail.com'):\n",
    "                       print(f\"{emailcheck} is valid\")\n",
    "else:\n",
    "                       print(f\"{emailcheck} is not valid\")"
   ]
  },
  {
   "cell_type": "code",
   "execution_count": null,
   "id": "8dc68ad7",
   "metadata": {},
   "outputs": [],
   "source": []
  },
  {
   "cell_type": "code",
   "execution_count": null,
   "id": "436c9865",
   "metadata": {},
   "outputs": [],
   "source": [
    "#email id valid or not\n"
   ]
  },
  {
   "cell_type": "code",
   "execution_count": 18,
   "id": "591d2c01",
   "metadata": {},
   "outputs": [
    {
     "name": "stdout",
     "output_type": "stream",
     "text": [
      "enter the emailid:dscedc@gmail.com\n",
      "valid email\n"
     ]
    }
   ],
   "source": [
    "a = (input('enter the emailid:'))\n",
    "if a.split('@')[1] in ('gmail.com','yahoo.com','rediffmail.com'):\n",
    "    print('valid email')\n",
    "else:\n",
    "    print('invalid email')"
   ]
  },
  {
   "cell_type": "code",
   "execution_count": null,
   "id": "97618032",
   "metadata": {},
   "outputs": [],
   "source": []
  },
  {
   "cell_type": "code",
   "execution_count": null,
   "id": "7673f159",
   "metadata": {},
   "outputs": [],
   "source": [
    "if else ladder"
   ]
  },
  {
   "cell_type": "code",
   "execution_count": 25,
   "id": "9f5ae31d",
   "metadata": {},
   "outputs": [
    {
     "name": "stdout",
     "output_type": "stream",
     "text": [
      "enter your marks out of 100 %: 56\n",
      "second class\n"
     ]
    }
   ],
   "source": [
    "marks = int(input('enter your marks out of 100 %: '))\n",
    "if marks <= 100 and marks >= 80:\n",
    "    print('first class with distinction')\n",
    "elif marks <=79 and marks >= 65:\n",
    "    print('first class')\n",
    "elif marks <=64 and marks >=50:\n",
    "    print('second class')\n",
    "elif marks <=49 and marks >=35:\n",
    "    print('pass')\n",
    "elif marks <=34 and marks >=0:\n",
    "    print('fail')\n",
    "else:\n",
    "    print('invalid marks')"
   ]
  },
  {
   "cell_type": "code",
   "execution_count": null,
   "id": "2f2338e4",
   "metadata": {},
   "outputs": [],
   "source": []
  },
  {
   "cell_type": "code",
   "execution_count": null,
   "id": "42867135",
   "metadata": {},
   "outputs": [],
   "source": [
    "nested if "
   ]
  },
  {
   "cell_type": "code",
   "execution_count": null,
   "id": "815417c5",
   "metadata": {},
   "outputs": [],
   "source": []
  },
  {
   "cell_type": "code",
   "execution_count": 29,
   "id": "5744d717",
   "metadata": {},
   "outputs": [
    {
     "name": "stdout",
     "output_type": "stream",
     "text": [
      "enter the file name:dkfkd.pdf\n",
      "invalid file\n"
     ]
    }
   ],
   "source": [
    "file = (input('enter the file name:'))\n",
    "ext =file.split('.')[0]\n",
    "if file.endswith('.pdf'):\n",
    "    if ext == 'copper':\n",
    "        print('processing on copper pdf file')\n",
    "    elif ext == 'bronze':\n",
    "        print('processing on bronze pdf file')\n",
    "    elif ext == 'silver':\n",
    "        print('processing on silver pdf file')\n",
    "    else:\n",
    "        print('invalid file')\n",
    "elif file.endswith('.txt'):\n",
    "    if ext == 'copper':\n",
    "        print('processing on copper txt file')\n",
    "    elif ext == 'bronze':\n",
    "        print('processing on bronze txt file')\n",
    "    elif ext == 'silver':\n",
    "        print('processing on silver txt file')\n",
    "    else:\n",
    "        print('invalid file')\n",
    "    \n",
    "    \n",
    "    "
   ]
  },
  {
   "cell_type": "code",
   "execution_count": null,
   "id": "c8ccb417",
   "metadata": {},
   "outputs": [],
   "source": []
  },
  {
   "cell_type": "code",
   "execution_count": null,
   "id": "35746e04",
   "metadata": {},
   "outputs": [],
   "source": []
  },
  {
   "cell_type": "code",
   "execution_count": null,
   "id": "dd2b292b",
   "metadata": {},
   "outputs": [],
   "source": []
  },
  {
   "cell_type": "code",
   "execution_count": null,
   "id": "e6aad287",
   "metadata": {},
   "outputs": [],
   "source": []
  },
  {
   "cell_type": "code",
   "execution_count": null,
   "id": "3d3e4359",
   "metadata": {},
   "outputs": [],
   "source": []
  },
  {
   "cell_type": "code",
   "execution_count": null,
   "id": "1ede58cf",
   "metadata": {},
   "outputs": [],
   "source": []
  },
  {
   "cell_type": "code",
   "execution_count": null,
   "id": "719e0817",
   "metadata": {},
   "outputs": [],
   "source": []
  },
  {
   "cell_type": "code",
   "execution_count": null,
   "id": "e225f672",
   "metadata": {},
   "outputs": [],
   "source": []
  },
  {
   "cell_type": "code",
   "execution_count": null,
   "id": "83c3ce9f",
   "metadata": {},
   "outputs": [],
   "source": []
  },
  {
   "cell_type": "code",
   "execution_count": null,
   "id": "4ef679d7",
   "metadata": {},
   "outputs": [],
   "source": []
  },
  {
   "cell_type": "code",
   "execution_count": null,
   "id": "fc1d92d5",
   "metadata": {},
   "outputs": [],
   "source": []
  },
  {
   "cell_type": "code",
   "execution_count": null,
   "id": "abf73feb",
   "metadata": {},
   "outputs": [],
   "source": []
  },
  {
   "cell_type": "code",
   "execution_count": null,
   "id": "6062b337",
   "metadata": {},
   "outputs": [],
   "source": []
  },
  {
   "cell_type": "code",
   "execution_count": null,
   "id": "996ab673",
   "metadata": {},
   "outputs": [],
   "source": []
  },
  {
   "cell_type": "code",
   "execution_count": null,
   "id": "ed02de44",
   "metadata": {},
   "outputs": [],
   "source": []
  }
 ],
 "metadata": {
  "kernelspec": {
   "display_name": "Python 3 (ipykernel)",
   "language": "python",
   "name": "python3"
  },
  "language_info": {
   "codemirror_mode": {
    "name": "ipython",
    "version": 3
   },
   "file_extension": ".py",
   "mimetype": "text/x-python",
   "name": "python",
   "nbconvert_exporter": "python",
   "pygments_lexer": "ipython3",
   "version": "3.9.19"
  }
 },
 "nbformat": 4,
 "nbformat_minor": 5
}
