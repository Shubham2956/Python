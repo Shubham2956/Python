{
 "cells": [
  {
   "cell_type": "code",
   "execution_count": 1,
   "id": "497d8eb8",
   "metadata": {},
   "outputs": [],
   "source": [
    "def new():\n",
    "    def new1():\n",
    "        print('from new1')\n",
    "    return new1"
   ]
  },
  {
   "cell_type": "code",
   "execution_count": 3,
   "id": "ca96a1c4",
   "metadata": {},
   "outputs": [],
   "source": [
    "p=new()"
   ]
  },
  {
   "cell_type": "code",
   "execution_count": 11,
   "id": "a4b3991f",
   "metadata": {},
   "outputs": [
    {
     "name": "stdout",
     "output_type": "stream",
     "text": [
      "from new1\n"
     ]
    }
   ],
   "source": [
    "p()"
   ]
  },
  {
   "cell_type": "code",
   "execution_count": 12,
   "id": "c69f73d2",
   "metadata": {},
   "outputs": [],
   "source": [
    "r = p"
   ]
  },
  {
   "cell_type": "code",
   "execution_count": 13,
   "id": "bca5d6c3",
   "metadata": {},
   "outputs": [
    {
     "name": "stdout",
     "output_type": "stream",
     "text": [
      "from new1\n"
     ]
    }
   ],
   "source": [
    "r()"
   ]
  },
  {
   "cell_type": "code",
   "execution_count": null,
   "id": "bcd2b0f7",
   "metadata": {},
   "outputs": [],
   "source": []
  },
  {
   "cell_type": "code",
   "execution_count": 14,
   "id": "9e696c1f",
   "metadata": {},
   "outputs": [],
   "source": [
    "def hii():\n",
    "    def bye():\n",
    "        print('from byeeee')\n",
    "    return bye"
   ]
  },
  {
   "cell_type": "code",
   "execution_count": 15,
   "id": "eb0ab943",
   "metadata": {},
   "outputs": [
    {
     "data": {
      "text/plain": [
       "<function __main__.hii.<locals>.bye()>"
      ]
     },
     "execution_count": 15,
     "metadata": {},
     "output_type": "execute_result"
    }
   ],
   "source": [
    "hii()"
   ]
  },
  {
   "cell_type": "code",
   "execution_count": 16,
   "id": "7c32ac3e",
   "metadata": {},
   "outputs": [],
   "source": [
    "h1 = hii()"
   ]
  },
  {
   "cell_type": "code",
   "execution_count": 18,
   "id": "17a18fcd",
   "metadata": {},
   "outputs": [
    {
     "name": "stdout",
     "output_type": "stream",
     "text": [
      "from byeeee\n"
     ]
    }
   ],
   "source": [
    "h1()"
   ]
  },
  {
   "cell_type": "code",
   "execution_count": 19,
   "id": "a8aae43a",
   "metadata": {},
   "outputs": [],
   "source": [
    "g1 = h1"
   ]
  },
  {
   "cell_type": "code",
   "execution_count": 20,
   "id": "edad105f",
   "metadata": {},
   "outputs": [
    {
     "name": "stdout",
     "output_type": "stream",
     "text": [
      "from byeeee\n"
     ]
    }
   ],
   "source": [
    "g1()"
   ]
  },
  {
   "cell_type": "code",
   "execution_count": null,
   "id": "d49976fe",
   "metadata": {},
   "outputs": [],
   "source": []
  },
  {
   "cell_type": "code",
   "execution_count": 49,
   "id": "bd56e7a7",
   "metadata": {},
   "outputs": [],
   "source": [
    "def n1(func):\n",
    "    def m1():\n",
    "        print('*'*20)\n",
    "        func()\n",
    "        print('*'*20)\n",
    "    return m1\n",
    "@n1\n",
    "def new():\n",
    "    print('hi')"
   ]
  },
  {
   "cell_type": "code",
   "execution_count": 46,
   "id": "433c7f9c",
   "metadata": {},
   "outputs": [],
   "source": [
    "g1=n1(new)"
   ]
  },
  {
   "cell_type": "code",
   "execution_count": 47,
   "id": "67f876fc",
   "metadata": {},
   "outputs": [
    {
     "name": "stdout",
     "output_type": "stream",
     "text": [
      "********************\n",
      "hi\n",
      "********************\n"
     ]
    }
   ],
   "source": [
    "g1()"
   ]
  },
  {
   "cell_type": "code",
   "execution_count": 48,
   "id": "f2970a95",
   "metadata": {},
   "outputs": [
    {
     "name": "stdout",
     "output_type": "stream",
     "text": [
      "hi\n"
     ]
    }
   ],
   "source": [
    "new()"
   ]
  },
  {
   "cell_type": "code",
   "execution_count": 50,
   "id": "093c82d4",
   "metadata": {},
   "outputs": [
    {
     "name": "stdout",
     "output_type": "stream",
     "text": [
      "********************\n",
      "hi\n",
      "********************\n"
     ]
    }
   ],
   "source": [
    "new()"
   ]
  },
  {
   "cell_type": "code",
   "execution_count": null,
   "id": "7b18dc18",
   "metadata": {},
   "outputs": [],
   "source": [
    "\n"
   ]
  },
  {
   "cell_type": "code",
   "execution_count": 56,
   "id": "d9734787",
   "metadata": {},
   "outputs": [],
   "source": [
    "def n1(func):\n",
    "    def m1():\n",
    "        print('*'*1)\n",
    "        func()\n",
    "        print('*'*2)\n",
    "        func()\n",
    "        print('*'*3)\n",
    "        func()\n",
    "        print('*'*4)\n",
    "    return m1\n",
    "\n",
    "@n1\n",
    "def new():\n",
    "    print('hiiii')"
   ]
  },
  {
   "cell_type": "code",
   "execution_count": 57,
   "id": "a6458723",
   "metadata": {},
   "outputs": [
    {
     "name": "stdout",
     "output_type": "stream",
     "text": [
      "*\n",
      "hiiii\n",
      "**\n",
      "hiiii\n",
      "***\n",
      "hiiii\n",
      "****\n"
     ]
    }
   ],
   "source": [
    "new()"
   ]
  },
  {
   "cell_type": "code",
   "execution_count": 54,
   "id": "001aa3db",
   "metadata": {},
   "outputs": [],
   "source": [
    "a1 = n1(new)"
   ]
  },
  {
   "cell_type": "code",
   "execution_count": 55,
   "id": "bcbe9e12",
   "metadata": {},
   "outputs": [
    {
     "name": "stdout",
     "output_type": "stream",
     "text": [
      "*\n",
      "hiiii\n",
      "**\n",
      "hiiii\n",
      "***\n",
      "hiiii\n",
      "****\n"
     ]
    }
   ],
   "source": [
    "a1()"
   ]
  },
  {
   "cell_type": "code",
   "execution_count": null,
   "id": "8745b4e1",
   "metadata": {},
   "outputs": [],
   "source": []
  },
  {
   "cell_type": "code",
   "execution_count": 24,
   "id": "990a4cbd",
   "metadata": {},
   "outputs": [],
   "source": [
    "def n1(func):\n",
    "    def m1():\n",
    "        print('!@#$'*10)\n",
    "        \n",
    "        func()\n",
    "        \n",
    "        print('!@#$'*10)\n",
    "    return m1\n",
    "\n",
    "@n1\n",
    "@n1\n",
    "@n1\n",
    "def new():\n",
    "    print('hello....welcome to python')"
   ]
  },
  {
   "cell_type": "code",
   "execution_count": 27,
   "id": "f987def9",
   "metadata": {},
   "outputs": [
    {
     "name": "stdout",
     "output_type": "stream",
     "text": [
      "!@#$!@#$!@#$!@#$!@#$!@#$!@#$!@#$!@#$!@#$\n",
      "!@#$!@#$!@#$!@#$!@#$!@#$!@#$!@#$!@#$!@#$\n",
      "!@#$!@#$!@#$!@#$!@#$!@#$!@#$!@#$!@#$!@#$\n",
      "hello....welcome to python\n",
      "!@#$!@#$!@#$!@#$!@#$!@#$!@#$!@#$!@#$!@#$\n",
      "!@#$!@#$!@#$!@#$!@#$!@#$!@#$!@#$!@#$!@#$\n",
      "!@#$!@#$!@#$!@#$!@#$!@#$!@#$!@#$!@#$!@#$\n"
     ]
    }
   ],
   "source": [
    "new()"
   ]
  },
  {
   "cell_type": "code",
   "execution_count": 28,
   "id": "bf00039c",
   "metadata": {},
   "outputs": [],
   "source": [
    "g1=n1(new)"
   ]
  },
  {
   "cell_type": "code",
   "execution_count": 29,
   "id": "a3d38ba2",
   "metadata": {},
   "outputs": [
    {
     "name": "stdout",
     "output_type": "stream",
     "text": [
      "!@#$!@#$!@#$!@#$!@#$!@#$!@#$!@#$!@#$!@#$\n",
      "!@#$!@#$!@#$!@#$!@#$!@#$!@#$!@#$!@#$!@#$\n",
      "!@#$!@#$!@#$!@#$!@#$!@#$!@#$!@#$!@#$!@#$\n",
      "!@#$!@#$!@#$!@#$!@#$!@#$!@#$!@#$!@#$!@#$\n",
      "hello....welcome to python\n",
      "!@#$!@#$!@#$!@#$!@#$!@#$!@#$!@#$!@#$!@#$\n",
      "!@#$!@#$!@#$!@#$!@#$!@#$!@#$!@#$!@#$!@#$\n",
      "!@#$!@#$!@#$!@#$!@#$!@#$!@#$!@#$!@#$!@#$\n",
      "!@#$!@#$!@#$!@#$!@#$!@#$!@#$!@#$!@#$!@#$\n"
     ]
    }
   ],
   "source": [
    "g1()"
   ]
  },
  {
   "cell_type": "code",
   "execution_count": null,
   "id": "7adcc3fb",
   "metadata": {},
   "outputs": [],
   "source": []
  },
  {
   "cell_type": "code",
   "execution_count": null,
   "id": "413439ab",
   "metadata": {},
   "outputs": [],
   "source": [
    "@n1\n",
    "def addition():\n",
    "    def a = int(input('enter the first number:'))\n",
    "    b = int(input('enter the second number:'))\n",
    "    print(a+b)"
   ]
  },
  {
   "cell_type": "code",
   "execution_count": 34,
   "id": "cd707810",
   "metadata": {},
   "outputs": [
    {
     "name": "stdout",
     "output_type": "stream",
     "text": [
      "!@#$!@#$!@#$!@#$!@#$!@#$!@#$!@#$!@#$!@#$\n",
      "enter the first number:23\n",
      "enter the second number:344\n",
      "367\n",
      "!@#$!@#$!@#$!@#$!@#$!@#$!@#$!@#$!@#$!@#$\n"
     ]
    }
   ],
   "source": [
    "addition()"
   ]
  },
  {
   "cell_type": "code",
   "execution_count": null,
   "id": "5988d333",
   "metadata": {},
   "outputs": [],
   "source": []
  },
  {
   "cell_type": "code",
   "execution_count": 36,
   "id": "7b71248e",
   "metadata": {},
   "outputs": [],
   "source": [
    "def n1(func):\n",
    "    def m1():\n",
    "        print('*x'*10)\n",
    "        func()\n",
    "        print('*x'*10)\n",
    "    return m1\n",
    "\n",
    "def add():\n",
    "    print(' welcome to pytyhon')\n",
    "        "
   ]
  },
  {
   "cell_type": "code",
   "execution_count": 37,
   "id": "f7a19954",
   "metadata": {},
   "outputs": [],
   "source": [
    "g1 = n1(add)"
   ]
  },
  {
   "cell_type": "code",
   "execution_count": 38,
   "id": "15bd6911",
   "metadata": {},
   "outputs": [
    {
     "name": "stdout",
     "output_type": "stream",
     "text": [
      "*x*x*x*x*x*x*x*x*x*x\n",
      " welcome to pytyhon\n",
      "*x*x*x*x*x*x*x*x*x*x\n"
     ]
    }
   ],
   "source": [
    "g1()"
   ]
  },
  {
   "cell_type": "code",
   "execution_count": null,
   "id": "6bdb5151",
   "metadata": {},
   "outputs": [],
   "source": []
  },
  {
   "cell_type": "code",
   "execution_count": 39,
   "id": "28c39a25",
   "metadata": {},
   "outputs": [],
   "source": [
    "def decor(f):\n",
    "    def inner(x,y):\n",
    "        if y==0:\n",
    "            print('chack y')\n",
    "        else:\n",
    "            return f(x,y)\n",
    "    return inner\n",
    "\n",
    "@decor\n",
    "def div (x,y):\n",
    "    print(x/y)"
   ]
  },
  {
   "cell_type": "code",
   "execution_count": 41,
   "id": "f3ce6785",
   "metadata": {},
   "outputs": [
    {
     "name": "stdout",
     "output_type": "stream",
     "text": [
      "chack y\n"
     ]
    }
   ],
   "source": [
    "r = div(23,0)"
   ]
  },
  {
   "cell_type": "code",
   "execution_count": 44,
   "id": "b694f3b0",
   "metadata": {},
   "outputs": [
    {
     "name": "stdout",
     "output_type": "stream",
     "text": [
      "2.0\n"
     ]
    }
   ],
   "source": [
    "r = div(30,15)"
   ]
  },
  {
   "cell_type": "code",
   "execution_count": null,
   "id": "3d61d76b",
   "metadata": {},
   "outputs": [],
   "source": []
  },
  {
   "cell_type": "code",
   "execution_count": null,
   "id": "5f77385f",
   "metadata": {},
   "outputs": [],
   "source": []
  },
  {
   "cell_type": "code",
   "execution_count": null,
   "id": "e4a3958e",
   "metadata": {},
   "outputs": [],
   "source": []
  },
  {
   "cell_type": "code",
   "execution_count": null,
   "id": "0a8a6283",
   "metadata": {},
   "outputs": [],
   "source": []
  },
  {
   "cell_type": "code",
   "execution_count": null,
   "id": "bdc9d3d8",
   "metadata": {},
   "outputs": [],
   "source": []
  },
  {
   "cell_type": "code",
   "execution_count": null,
   "id": "db9ea1b2",
   "metadata": {},
   "outputs": [],
   "source": []
  },
  {
   "cell_type": "code",
   "execution_count": null,
   "id": "8325d1ed",
   "metadata": {},
   "outputs": [],
   "source": []
  },
  {
   "cell_type": "code",
   "execution_count": null,
   "id": "6c277107",
   "metadata": {},
   "outputs": [],
   "source": []
  },
  {
   "cell_type": "code",
   "execution_count": null,
   "id": "fed35cdd",
   "metadata": {},
   "outputs": [],
   "source": []
  },
  {
   "cell_type": "code",
   "execution_count": null,
   "id": "e1936045",
   "metadata": {},
   "outputs": [],
   "source": []
  },
  {
   "cell_type": "code",
   "execution_count": null,
   "id": "dfc97b07",
   "metadata": {},
   "outputs": [],
   "source": []
  },
  {
   "cell_type": "code",
   "execution_count": null,
   "id": "d9476eae",
   "metadata": {},
   "outputs": [],
   "source": []
  },
  {
   "cell_type": "code",
   "execution_count": null,
   "id": "4d5ca580",
   "metadata": {},
   "outputs": [],
   "source": []
  },
  {
   "cell_type": "code",
   "execution_count": null,
   "id": "cd1e9e66",
   "metadata": {},
   "outputs": [],
   "source": []
  },
  {
   "cell_type": "code",
   "execution_count": null,
   "id": "6e6ba6f2",
   "metadata": {},
   "outputs": [],
   "source": []
  },
  {
   "cell_type": "code",
   "execution_count": null,
   "id": "fb3c964d",
   "metadata": {},
   "outputs": [],
   "source": []
  },
  {
   "cell_type": "code",
   "execution_count": 1,
   "id": "f922f9d1",
   "metadata": {},
   "outputs": [],
   "source": [
    "a = 10"
   ]
  },
  {
   "cell_type": "code",
   "execution_count": 2,
   "id": "1569d464",
   "metadata": {},
   "outputs": [],
   "source": [
    "b = a "
   ]
  },
  {
   "cell_type": "code",
   "execution_count": 3,
   "id": "969dddf0",
   "metadata": {},
   "outputs": [
    {
     "data": {
      "text/plain": [
       "10"
      ]
     },
     "execution_count": 3,
     "metadata": {},
     "output_type": "execute_result"
    }
   ],
   "source": [
    "b"
   ]
  },
  {
   "cell_type": "code",
   "execution_count": null,
   "id": "7f27d5f7",
   "metadata": {},
   "outputs": [],
   "source": []
  },
  {
   "cell_type": "code",
   "execution_count": 21,
   "id": "211299f3",
   "metadata": {},
   "outputs": [],
   "source": [
    "x = 10\n",
    "def add():\n",
    "    def mult():\n",
    "        print('from the multiplication')\n",
    "    return mult\n",
    "    "
   ]
  },
  {
   "cell_type": "code",
   "execution_count": 22,
   "id": "bde88c87",
   "metadata": {},
   "outputs": [
    {
     "data": {
      "text/plain": [
       "10"
      ]
     },
     "execution_count": 22,
     "metadata": {},
     "output_type": "execute_result"
    }
   ],
   "source": [
    "x"
   ]
  },
  {
   "cell_type": "code",
   "execution_count": 23,
   "id": "ae25ca69",
   "metadata": {},
   "outputs": [
    {
     "data": {
      "text/plain": [
       "<function __main__.add.<locals>.mult()>"
      ]
     },
     "execution_count": 23,
     "metadata": {},
     "output_type": "execute_result"
    }
   ],
   "source": [
    "add()"
   ]
  },
  {
   "cell_type": "code",
   "execution_count": 24,
   "id": "2ad8ed55",
   "metadata": {},
   "outputs": [],
   "source": [
    "a = add()"
   ]
  },
  {
   "cell_type": "code",
   "execution_count": 25,
   "id": "adf5719a",
   "metadata": {},
   "outputs": [
    {
     "name": "stdout",
     "output_type": "stream",
     "text": [
      "from the multiplication\n"
     ]
    }
   ],
   "source": [
    "a()"
   ]
  },
  {
   "cell_type": "code",
   "execution_count": 26,
   "id": "d3317f8f",
   "metadata": {},
   "outputs": [
    {
     "data": {
      "text/plain": [
       "10"
      ]
     },
     "execution_count": 26,
     "metadata": {},
     "output_type": "execute_result"
    }
   ],
   "source": [
    "x"
   ]
  },
  {
   "cell_type": "code",
   "execution_count": 31,
   "id": "06fdfa24",
   "metadata": {},
   "outputs": [],
   "source": [
    "b = add()"
   ]
  },
  {
   "cell_type": "code",
   "execution_count": 32,
   "id": "7bb7aba5",
   "metadata": {},
   "outputs": [
    {
     "name": "stdout",
     "output_type": "stream",
     "text": [
      "from the multiplication\n"
     ]
    }
   ],
   "source": [
    "b()"
   ]
  },
  {
   "cell_type": "code",
   "execution_count": null,
   "id": "326ee8d9",
   "metadata": {},
   "outputs": [],
   "source": []
  },
  {
   "cell_type": "code",
   "execution_count": 33,
   "id": "03eedb53",
   "metadata": {},
   "outputs": [],
   "source": [
    "p = [1,2,3]"
   ]
  },
  {
   "cell_type": "code",
   "execution_count": 34,
   "id": "29acc05c",
   "metadata": {},
   "outputs": [
    {
     "data": {
      "text/plain": [
       "[1, 4, 9]"
      ]
     },
     "execution_count": 34,
     "metadata": {},
     "output_type": "execute_result"
    }
   ],
   "source": [
    "list(map(lambda x :x*x , p))"
   ]
  },
  {
   "cell_type": "code",
   "execution_count": 36,
   "id": "943a93bc",
   "metadata": {},
   "outputs": [
    {
     "data": {
      "text/plain": [
       "[1, 3]"
      ]
     },
     "execution_count": 36,
     "metadata": {},
     "output_type": "execute_result"
    }
   ],
   "source": [
    "list(filter(lambda x:x%2!=0 , p))"
   ]
  },
  {
   "cell_type": "code",
   "execution_count": null,
   "id": "4cb7bf58",
   "metadata": {},
   "outputs": [],
   "source": []
  },
  {
   "cell_type": "code",
   "execution_count": 37,
   "id": "b0c39fad",
   "metadata": {},
   "outputs": [],
   "source": [
    "p = [1,2,3,4,5,6,5,4,3,44,33,33,33]"
   ]
  },
  {
   "cell_type": "code",
   "execution_count": 38,
   "id": "099f13a8",
   "metadata": {},
   "outputs": [
    {
     "data": {
      "text/plain": [
       "[2, 4, 6, 4, 44]"
      ]
     },
     "execution_count": 38,
     "metadata": {},
     "output_type": "execute_result"
    }
   ],
   "source": [
    "[x for x in p if x%2==0]"
   ]
  },
  {
   "cell_type": "code",
   "execution_count": null,
   "id": "15323827",
   "metadata": {},
   "outputs": [],
   "source": [
    "# list compression"
   ]
  },
  {
   "cell_type": "code",
   "execution_count": null,
   "id": "5e284437",
   "metadata": {},
   "outputs": [],
   "source": [
    "# tuple compression is not used due to default methods present in the python itself  "
   ]
  },
  {
   "cell_type": "code",
   "execution_count": null,
   "id": "ee0abd95",
   "metadata": {},
   "outputs": [],
   "source": [
    "# dictionary compression "
   ]
  },
  {
   "cell_type": "code",
   "execution_count": 40,
   "id": "f7137c48",
   "metadata": {},
   "outputs": [
    {
     "data": {
      "text/plain": [
       "{0: 0, 1: 1, 2: 2, 3: 3, 4: 4, 5: 5, 6: 6, 7: 7, 8: 8, 9: 9, 10: 10}"
      ]
     },
     "execution_count": 40,
     "metadata": {},
     "output_type": "execute_result"
    }
   ],
   "source": [
    "{x:x for x in range(11)}"
   ]
  },
  {
   "cell_type": "code",
   "execution_count": null,
   "id": "3c4ea89c",
   "metadata": {},
   "outputs": [],
   "source": []
  },
  {
   "cell_type": "code",
   "execution_count": null,
   "id": "99e41d18",
   "metadata": {},
   "outputs": [],
   "source": [
    "#decorators it is used to add the additional features into present funtion without changing functions original structure\n",
    "                # @decornamef"
   ]
  },
  {
   "cell_type": "code",
   "execution_count": null,
   "id": "11cda988",
   "metadata": {},
   "outputs": [],
   "source": []
  },
  {
   "cell_type": "code",
   "execution_count": 39,
   "id": "a3c878a6",
   "metadata": {},
   "outputs": [],
   "source": [
    "def decor(func):\n",
    "    def inner():\n",
    "        print('*'*20)\n",
    "        func()\n",
    "        print('*'*20)\n",
    "    return inner\n",
    "    \n",
    "@decor\n",
    "def show():\n",
    "    print('hii')\n",
    "    \n"
   ]
  },
  {
   "cell_type": "code",
   "execution_count": 40,
   "id": "b8918fbc",
   "metadata": {},
   "outputs": [],
   "source": [
    "@decor\n",
    "def show():\n",
    "    a = int(input(\"enter the number:\"))\n",
    "    b = int(input('enter the number:'))\n",
    "    c = a+b\n",
    "    print(c)"
   ]
  },
  {
   "cell_type": "code",
   "execution_count": 41,
   "id": "ef725b6d",
   "metadata": {},
   "outputs": [
    {
     "name": "stdout",
     "output_type": "stream",
     "text": [
      "********************\n",
      "enter the number:33\n",
      "enter the number:33\n",
      "66\n",
      "********************\n"
     ]
    }
   ],
   "source": [
    "show()"
   ]
  },
  {
   "cell_type": "code",
   "execution_count": 30,
   "id": "5d536aa6",
   "metadata": {},
   "outputs": [],
   "source": [
    "a = 2\n",
    "b = 3\n",
    "c = a+b"
   ]
  },
  {
   "cell_type": "code",
   "execution_count": 31,
   "id": "e4912cef",
   "metadata": {},
   "outputs": [
    {
     "data": {
      "text/plain": [
       "5"
      ]
     },
     "execution_count": 31,
     "metadata": {},
     "output_type": "execute_result"
    }
   ],
   "source": [
    "c\n",
    "\n"
   ]
  },
  {
   "cell_type": "code",
   "execution_count": 55,
   "id": "32ebba0b",
   "metadata": {},
   "outputs": [],
   "source": [
    "def decor(func):\n",
    "    def inner():\n",
    "        print('*'*20)\n",
    "        func()\n",
    "        print('*'*20)\n",
    "    return inner"
   ]
  },
  {
   "cell_type": "code",
   "execution_count": 57,
   "id": "8c5e3aa6",
   "metadata": {},
   "outputs": [],
   "source": [
    "hii = decor(show)"
   ]
  },
  {
   "cell_type": "code",
   "execution_count": 58,
   "id": "06bc29c8",
   "metadata": {},
   "outputs": [
    {
     "name": "stdout",
     "output_type": "stream",
     "text": [
      "********************\n",
      "********************\n",
      "enter the number:4\n",
      "enter the number:4\n",
      "8\n",
      "********************\n",
      "********************\n"
     ]
    }
   ],
   "source": [
    "\n",
    "hii()"
   ]
  },
  {
   "cell_type": "code",
   "execution_count": 59,
   "id": "6685d00d",
   "metadata": {},
   "outputs": [],
   "source": [
    "@decor\n",
    "def xyz():\n",
    "    print(\"hiii\")"
   ]
  },
  {
   "cell_type": "code",
   "execution_count": 60,
   "id": "0f528e29",
   "metadata": {},
   "outputs": [
    {
     "name": "stdout",
     "output_type": "stream",
     "text": [
      "********************\n",
      "hiii\n",
      "********************\n"
     ]
    }
   ],
   "source": [
    "xyz()"
   ]
  },
  {
   "cell_type": "code",
   "execution_count": null,
   "id": "878244b2",
   "metadata": {},
   "outputs": [],
   "source": []
  },
  {
   "cell_type": "code",
   "execution_count": null,
   "id": "8be854f0",
   "metadata": {},
   "outputs": [],
   "source": []
  },
  {
   "cell_type": "code",
   "execution_count": 1,
   "id": "ec9c5110",
   "metadata": {},
   "outputs": [],
   "source": [
    "def add(func):\n",
    "    def inner():\n",
    "        print(\"*\"*20)\n",
    "        func()\n",
    "        print('*'*20)\n",
    "    return inner"
   ]
  },
  {
   "cell_type": "code",
   "execution_count": 7,
   "id": "c97d887e",
   "metadata": {},
   "outputs": [],
   "source": [
    "@add\n",
    "def sum():\n",
    "    x = int(input(\"enter the 1st number:\"))\n",
    "    y = int(input(\"enter the 2nd number:\"))\n",
    "    z = x+y\n",
    "    print(z)"
   ]
  },
  {
   "cell_type": "code",
   "execution_count": 8,
   "id": "3e4a0f1b",
   "metadata": {},
   "outputs": [
    {
     "name": "stdout",
     "output_type": "stream",
     "text": [
      "********************\n",
      "enter the 1st number:33\n",
      "enter the 2nd number:33\n",
      "66\n",
      "********************\n"
     ]
    }
   ],
   "source": [
    "sum()"
   ]
  },
  {
   "cell_type": "code",
   "execution_count": null,
   "id": "4168ebaa",
   "metadata": {},
   "outputs": [],
   "source": []
  },
  {
   "cell_type": "code",
   "execution_count": 4,
   "id": "5e26c30d",
   "metadata": {},
   "outputs": [],
   "source": [
    "@decor\n",
    "def div(x,y):\n",
    "    return x/y"
   ]
  },
  {
   "cell_type": "code",
   "execution_count": 5,
   "id": "d55ee41a",
   "metadata": {},
   "outputs": [
    {
     "name": "stdout",
     "output_type": "stream",
     "text": [
      "please check the denominator it should greater than 0\n"
     ]
    }
   ],
   "source": [
    "div(4,0)"
   ]
  },
  {
   "cell_type": "code",
   "execution_count": 3,
   "id": "838fb016",
   "metadata": {},
   "outputs": [],
   "source": [
    "def decor(f):\n",
    "    def xxx(x,y):\n",
    "        if y==0 :\n",
    "            print(\"please check the denominator it should greater than 0\")\n",
    "        else:\n",
    "            return f(x,y)\n",
    "    return xxx"
   ]
  },
  {
   "cell_type": "code",
   "execution_count": null,
   "id": "cc57a74f",
   "metadata": {},
   "outputs": [],
   "source": []
  },
  {
   "cell_type": "code",
   "execution_count": 24,
   "id": "d0020cc7",
   "metadata": {},
   "outputs": [],
   "source": [
    "def decor(func):\n",
    "    def inner():\n",
    "        print(\"..M..W\"*15)\n",
    "        func()\n",
    "        print('MW'*15)\n",
    "    return inner"
   ]
  },
  {
   "cell_type": "code",
   "execution_count": 26,
   "id": "4fad1792",
   "metadata": {},
   "outputs": [],
   "source": [
    "@decor\n",
    "def add():\n",
    "    a = int(input(\"enter the number of a :\"))\n",
    "    b = int(input(\"enter the number of b :\"))\n",
    "    c = a+b\n",
    "    print(f\"the addition of a & b is {c}\")"
   ]
  },
  {
   "cell_type": "code",
   "execution_count": 27,
   "id": "2531ae99",
   "metadata": {},
   "outputs": [
    {
     "name": "stdout",
     "output_type": "stream",
     "text": [
      "..M..W..M..W..M..W..M..W..M..W..M..W..M..W..M..W..M..W..M..W..M..W..M..W..M..W..M..W..M..W\n",
      "enter the number of a :33\n",
      "enter the number of b :33\n",
      "the addition of a & b is 66\n",
      "MWMWMWMWMWMWMWMWMWMWMWMWMWMWMW\n"
     ]
    }
   ],
   "source": [
    "add()"
   ]
  },
  {
   "cell_type": "code",
   "execution_count": 37,
   "id": "075d2f9a",
   "metadata": {},
   "outputs": [],
   "source": [
    "def divdecor(i):\n",
    "    def inner(x,y):\n",
    "        if y==0:\n",
    "            print(\"please check value of y\")\n",
    "        else:\n",
    "            return x/y\n",
    "    return inner"
   ]
  },
  {
   "cell_type": "code",
   "execution_count": 38,
   "id": "30b59ee6",
   "metadata": {},
   "outputs": [],
   "source": [
    "@divdecor\n",
    "def div(x,y):\n",
    "    return x/y"
   ]
  },
  {
   "cell_type": "code",
   "execution_count": 40,
   "id": "dd94c997",
   "metadata": {},
   "outputs": [
    {
     "name": "stdout",
     "output_type": "stream",
     "text": [
      "please check value of y\n"
     ]
    }
   ],
   "source": [
    "div(20,0)"
   ]
  },
  {
   "cell_type": "code",
   "execution_count": null,
   "id": "39a60c09",
   "metadata": {},
   "outputs": [],
   "source": []
  },
  {
   "cell_type": "code",
   "execution_count": 41,
   "id": "671362e0",
   "metadata": {},
   "outputs": [],
   "source": [
    "p = [2,3,443,432,332,3,4,6,77,67,66,767,56,43,45,345]"
   ]
  },
  {
   "cell_type": "code",
   "execution_count": 42,
   "id": "06f110e3",
   "metadata": {},
   "outputs": [
    {
     "data": {
      "text/plain": [
       "[2, 3, 3, 4, 6, 77, 67, 66, 56, 43, 45]"
      ]
     },
     "execution_count": 42,
     "metadata": {},
     "output_type": "execute_result"
    }
   ],
   "source": [
    "[i for i in p if i<=100]"
   ]
  },
  {
   "cell_type": "code",
   "execution_count": null,
   "id": "6cd694b0",
   "metadata": {},
   "outputs": [],
   "source": []
  },
  {
   "cell_type": "code",
   "execution_count": 54,
   "id": "db77b794",
   "metadata": {},
   "outputs": [],
   "source": [
    "def gen(n):\n",
    "    i = 1\n",
    "    while i<n:\n",
    "        yield i\n",
    "        i = i+1"
   ]
  },
  {
   "cell_type": "code",
   "execution_count": 57,
   "id": "89119b52",
   "metadata": {},
   "outputs": [
    {
     "name": "stdout",
     "output_type": "stream",
     "text": [
      "1\n",
      "2\n",
      "3\n",
      "4\n",
      "5\n",
      "6\n",
      "7\n",
      "8\n",
      "9\n",
      "10\n",
      "11\n",
      "12\n",
      "13\n",
      "14\n",
      "15\n",
      "16\n",
      "17\n",
      "18\n",
      "19\n",
      "20\n",
      "21\n",
      "22\n",
      "23\n",
      "24\n",
      "25\n",
      "26\n",
      "27\n",
      "28\n",
      "29\n",
      "30\n",
      "31\n",
      "32\n",
      "33\n",
      "34\n",
      "35\n",
      "36\n",
      "37\n",
      "38\n",
      "39\n",
      "40\n",
      "41\n",
      "42\n",
      "43\n",
      "44\n",
      "45\n",
      "46\n",
      "47\n",
      "48\n",
      "49\n"
     ]
    }
   ],
   "source": [
    "for i in (g):\n",
    "    print(i)"
   ]
  },
  {
   "cell_type": "code",
   "execution_count": 55,
   "id": "302d64d9",
   "metadata": {},
   "outputs": [],
   "source": [
    "g = gen(50)"
   ]
  },
  {
   "cell_type": "code",
   "execution_count": null,
   "id": "29546ac6",
   "metadata": {},
   "outputs": [],
   "source": []
  },
  {
   "cell_type": "code",
   "execution_count": 59,
   "id": "ed109d23",
   "metadata": {},
   "outputs": [],
   "source": [
    "def fibo():\n",
    "    x,y = 0,1\n",
    "    while True:\n",
    "        yield x\n",
    "        x,y = y,x+y\n",
    "    "
   ]
  },
  {
   "cell_type": "code",
   "execution_count": 78,
   "id": "b411b094",
   "metadata": {},
   "outputs": [
    {
     "name": "stdout",
     "output_type": "stream",
     "text": [
      "0\n",
      "1\n",
      "1\n",
      "2\n",
      "3\n",
      "5\n",
      "8\n",
      "13\n",
      "21\n",
      "34\n",
      "55\n",
      "89\n",
      "144\n"
     ]
    },
    {
     "ename": "KeyboardInterrupt",
     "evalue": "",
     "output_type": "error",
     "traceback": [
      "\u001b[1;31m---------------------------------------------------------------------------\u001b[0m",
      "\u001b[1;31mKeyboardInterrupt\u001b[0m                         Traceback (most recent call last)",
      "\u001b[1;32m~\\AppData\\Local\\Temp/ipykernel_15580/1764413408.py\u001b[0m in \u001b[0;36m<module>\u001b[1;34m\u001b[0m\n\u001b[1;32m----> 1\u001b[1;33m \u001b[1;32mfor\u001b[0m \u001b[0mi\u001b[0m \u001b[1;32min\u001b[0m \u001b[0mfibo\u001b[0m\u001b[1;33m(\u001b[0m\u001b[1;33m)\u001b[0m\u001b[1;33m:\u001b[0m\u001b[1;33m\u001b[0m\u001b[1;33m\u001b[0m\u001b[0m\n\u001b[0m\u001b[0;32m      2\u001b[0m     \u001b[1;32mif\u001b[0m \u001b[0mi\u001b[0m \u001b[1;33m<\u001b[0m\u001b[1;36m200\u001b[0m\u001b[1;33m:\u001b[0m\u001b[1;33m\u001b[0m\u001b[1;33m\u001b[0m\u001b[0m\n\u001b[0;32m      3\u001b[0m         \u001b[0mprint\u001b[0m\u001b[1;33m(\u001b[0m\u001b[0mi\u001b[0m\u001b[1;33m)\u001b[0m\u001b[1;33m\u001b[0m\u001b[1;33m\u001b[0m\u001b[0m\n",
      "\u001b[1;32m~\\AppData\\Local\\Temp/ipykernel_15580/1141930175.py\u001b[0m in \u001b[0;36mfibo\u001b[1;34m()\u001b[0m\n\u001b[0;32m      3\u001b[0m     \u001b[1;32mwhile\u001b[0m \u001b[1;32mTrue\u001b[0m\u001b[1;33m:\u001b[0m\u001b[1;33m\u001b[0m\u001b[1;33m\u001b[0m\u001b[0m\n\u001b[0;32m      4\u001b[0m         \u001b[1;32myield\u001b[0m \u001b[0mx\u001b[0m\u001b[1;33m\u001b[0m\u001b[1;33m\u001b[0m\u001b[0m\n\u001b[1;32m----> 5\u001b[1;33m         \u001b[0mx\u001b[0m\u001b[1;33m,\u001b[0m\u001b[0my\u001b[0m \u001b[1;33m=\u001b[0m \u001b[0my\u001b[0m\u001b[1;33m,\u001b[0m\u001b[0mx\u001b[0m\u001b[1;33m+\u001b[0m\u001b[0my\u001b[0m\u001b[1;33m\u001b[0m\u001b[1;33m\u001b[0m\u001b[0m\n\u001b[0m\u001b[0;32m      6\u001b[0m \u001b[1;33m\u001b[0m\u001b[0m\n",
      "\u001b[1;31mKeyboardInterrupt\u001b[0m: "
     ]
    }
   ],
   "source": [
    "for i in fibo():\n",
    "    if i <200:\n",
    "        print(i)"
   ]
  },
  {
   "cell_type": "code",
   "execution_count": 72,
   "id": "820ebef0",
   "metadata": {},
   "outputs": [],
   "source": [
    "obj = fibo()"
   ]
  },
  {
   "cell_type": "code",
   "execution_count": 77,
   "id": "8e1efe01",
   "metadata": {},
   "outputs": [
    {
     "data": {
      "text/plain": [
       "3"
      ]
     },
     "execution_count": 77,
     "metadata": {},
     "output_type": "execute_result"
    }
   ],
   "source": [
    "next(obj)"
   ]
  },
  {
   "cell_type": "code",
   "execution_count": null,
   "id": "afb32ed4",
   "metadata": {},
   "outputs": [],
   "source": []
  },
  {
   "cell_type": "code",
   "execution_count": 79,
   "id": "5788a713",
   "metadata": {},
   "outputs": [],
   "source": [
    "p = [1,223,243,44,5,565,5,54]"
   ]
  },
  {
   "cell_type": "code",
   "execution_count": 80,
   "id": "e54907fb",
   "metadata": {},
   "outputs": [],
   "source": [
    "pi = iter(p)"
   ]
  },
  {
   "cell_type": "code",
   "execution_count": 81,
   "id": "c1bf4c72",
   "metadata": {},
   "outputs": [
    {
     "data": {
      "text/plain": [
       "list_iterator"
      ]
     },
     "execution_count": 81,
     "metadata": {},
     "output_type": "execute_result"
    }
   ],
   "source": [
    "type(pi)"
   ]
  },
  {
   "cell_type": "code",
   "execution_count": 84,
   "id": "134ad67b",
   "metadata": {},
   "outputs": [
    {
     "data": {
      "text/plain": [
       "243"
      ]
     },
     "execution_count": 84,
     "metadata": {},
     "output_type": "execute_result"
    }
   ],
   "source": [
    "next(pi)"
   ]
  },
  {
   "cell_type": "code",
   "execution_count": null,
   "id": "1b71eb41",
   "metadata": {},
   "outputs": [],
   "source": []
  },
  {
   "cell_type": "code",
   "execution_count": 3,
   "id": "cf532364",
   "metadata": {},
   "outputs": [],
   "source": [
    "def outer():\n",
    "    def inner():\n",
    "        print(\"from inner\")\n",
    "    return inner"
   ]
  },
  {
   "cell_type": "code",
   "execution_count": 4,
   "id": "fb0b02bc",
   "metadata": {},
   "outputs": [
    {
     "ename": "NameError",
     "evalue": "name 'inner' is not defined",
     "output_type": "error",
     "traceback": [
      "\u001b[1;31m---------------------------------------------------------------------------\u001b[0m",
      "\u001b[1;31mNameError\u001b[0m                                 Traceback (most recent call last)",
      "\u001b[1;32m~\\AppData\\Local\\Temp/ipykernel_4432/2697967970.py\u001b[0m in \u001b[0;36m<module>\u001b[1;34m\u001b[0m\n\u001b[1;32m----> 1\u001b[1;33m \u001b[0minner\u001b[0m\u001b[1;33m(\u001b[0m\u001b[1;33m)\u001b[0m\u001b[1;33m\u001b[0m\u001b[1;33m\u001b[0m\u001b[0m\n\u001b[0m",
      "\u001b[1;31mNameError\u001b[0m: name 'inner' is not defined"
     ]
    }
   ],
   "source": [
    "inner()"
   ]
  },
  {
   "cell_type": "code",
   "execution_count": 7,
   "id": "3d94dbc9",
   "metadata": {},
   "outputs": [],
   "source": [
    "result = outer()"
   ]
  },
  {
   "cell_type": "code",
   "execution_count": 8,
   "id": "e5e03a63",
   "metadata": {},
   "outputs": [
    {
     "name": "stdout",
     "output_type": "stream",
     "text": [
      "from inner\n"
     ]
    }
   ],
   "source": [
    "result()"
   ]
  },
  {
   "cell_type": "code",
   "execution_count": null,
   "id": "09c5fb51",
   "metadata": {},
   "outputs": [],
   "source": []
  },
  {
   "cell_type": "code",
   "execution_count": 33,
   "id": "cca632c0",
   "metadata": {},
   "outputs": [],
   "source": [
    "def decor(func):\n",
    "    def inner(x,y):\n",
    "        print(\"*\"*20)\n",
    "        func(x,y)\n",
    "        print(\"*\"*20)\n",
    "    return inner"
   ]
  },
  {
   "cell_type": "code",
   "execution_count": 14,
   "id": "318dc884",
   "metadata": {},
   "outputs": [],
   "source": [
    "@decor\n",
    "def add():\n",
    "    print(\"hiii\")\n",
    "    "
   ]
  },
  {
   "cell_type": "code",
   "execution_count": 15,
   "id": "e4d4a8c7",
   "metadata": {},
   "outputs": [
    {
     "name": "stdout",
     "output_type": "stream",
     "text": [
      "********************\n",
      "hiii\n",
      "********************\n"
     ]
    }
   ],
   "source": [
    "add()"
   ]
  },
  {
   "cell_type": "code",
   "execution_count": 34,
   "id": "6084a719",
   "metadata": {},
   "outputs": [],
   "source": [
    "@decor\n",
    "def add1(x, y):\n",
    "    print(x)\n",
    "    print(y)\n",
    "    z = x+y\n",
    "    print(z)\n",
    "    "
   ]
  },
  {
   "cell_type": "code",
   "execution_count": 36,
   "id": "359fbd24",
   "metadata": {},
   "outputs": [
    {
     "name": "stdout",
     "output_type": "stream",
     "text": [
      "********************\n",
      "40\n",
      "69\n",
      "109\n",
      "********************\n"
     ]
    }
   ],
   "source": [
    "add1(40,69)\n"
   ]
  },
  {
   "cell_type": "code",
   "execution_count": 44,
   "id": "ca9b3a3e",
   "metadata": {},
   "outputs": [],
   "source": [
    "def decordiv(f):\n",
    "    def inner(x,y):\n",
    "        if y == 0:\n",
    "            return \"please check value of y\"\n",
    "        else:\n",
    "            return f(x,y)\n",
    "    return inner"
   ]
  },
  {
   "cell_type": "code",
   "execution_count": 45,
   "id": "07444543",
   "metadata": {},
   "outputs": [],
   "source": [
    "@decordiv\n",
    "def div(x,y):\n",
    "    z = x/y\n",
    "    print(z)"
   ]
  },
  {
   "cell_type": "code",
   "execution_count": 46,
   "id": "78f7710d",
   "metadata": {},
   "outputs": [
    {
     "name": "stdout",
     "output_type": "stream",
     "text": [
      "2.5\n"
     ]
    }
   ],
   "source": [
    "div(15,6)"
   ]
  },
  {
   "cell_type": "code",
   "execution_count": 47,
   "id": "64de53d5",
   "metadata": {},
   "outputs": [
    {
     "data": {
      "text/plain": [
       "'please check value of y'"
      ]
     },
     "execution_count": 47,
     "metadata": {},
     "output_type": "execute_result"
    }
   ],
   "source": [
    "div(30,0)"
   ]
  },
  {
   "cell_type": "code",
   "execution_count": null,
   "id": "dbc647ec",
   "metadata": {},
   "outputs": [],
   "source": []
  },
  {
   "cell_type": "code",
   "execution_count": 48,
   "id": "f477a730",
   "metadata": {},
   "outputs": [],
   "source": [
    "def gen():\n",
    "    x,y = 0,1\n",
    "    while True:\n",
    "        yield x\n",
    "        x,y = y,x+y"
   ]
  },
  {
   "cell_type": "code",
   "execution_count": null,
   "id": "737f47b9",
   "metadata": {},
   "outputs": [
    {
     "name": "stdout",
     "output_type": "stream",
     "text": [
      "0\n",
      "1\n",
      "1\n",
      "2\n",
      "3\n",
      "5\n",
      "8\n",
      "13\n",
      "21\n",
      "34\n",
      "55\n",
      "89\n",
      "144\n",
      "233\n"
     ]
    }
   ],
   "source": [
    "for i in gen():\n",
    "    if i<=250:\n",
    "        print(i)"
   ]
  },
  {
   "cell_type": "code",
   "execution_count": null,
   "id": "9585c3a4",
   "metadata": {},
   "outputs": [],
   "source": []
  },
  {
   "cell_type": "code",
   "execution_count": 5,
   "id": "7c960a59",
   "metadata": {},
   "outputs": [],
   "source": [
    "def outer():\n",
    "    def inner():\n",
    "        print(\"from inner\")\n",
    "    return inner"
   ]
  },
  {
   "cell_type": "code",
   "execution_count": 11,
   "id": "0d5b6e19",
   "metadata": {},
   "outputs": [],
   "source": [
    "t = outer()"
   ]
  },
  {
   "cell_type": "code",
   "execution_count": 13,
   "id": "61eaf9be",
   "metadata": {},
   "outputs": [
    {
     "name": "stdout",
     "output_type": "stream",
     "text": [
      "from inner\n"
     ]
    }
   ],
   "source": [
    "t()"
   ]
  },
  {
   "cell_type": "code",
   "execution_count": null,
   "id": "a52f7df9",
   "metadata": {},
   "outputs": [],
   "source": []
  },
  {
   "cell_type": "code",
   "execution_count": null,
   "id": "8dadc256",
   "metadata": {},
   "outputs": [],
   "source": []
  },
  {
   "cell_type": "code",
   "execution_count": null,
   "id": "8edca38c",
   "metadata": {},
   "outputs": [],
   "source": []
  },
  {
   "cell_type": "code",
   "execution_count": null,
   "id": "787d08ea",
   "metadata": {},
   "outputs": [],
   "source": []
  },
  {
   "cell_type": "code",
   "execution_count": null,
   "id": "52a555e5",
   "metadata": {},
   "outputs": [],
   "source": []
  },
  {
   "cell_type": "code",
   "execution_count": null,
   "id": "46d61e85",
   "metadata": {},
   "outputs": [],
   "source": []
  }
 ],
 "metadata": {
  "kernelspec": {
   "display_name": "Python 3 (ipykernel)",
   "language": "python",
   "name": "python3"
  },
  "language_info": {
   "codemirror_mode": {
    "name": "ipython",
    "version": 3
   },
   "file_extension": ".py",
   "mimetype": "text/x-python",
   "name": "python",
   "nbconvert_exporter": "python",
   "pygments_lexer": "ipython3",
   "version": "3.9.19"
  }
 },
 "nbformat": 4,
 "nbformat_minor": 5
}
