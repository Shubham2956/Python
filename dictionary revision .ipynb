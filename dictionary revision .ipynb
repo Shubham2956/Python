{
 "cells": [
  {
   "cell_type": "code",
   "execution_count": null,
   "id": "1442355e",
   "metadata": {},
   "outputs": [],
   "source": [
    "1....>dict"
   ]
  },
  {
   "cell_type": "code",
   "execution_count": null,
   "id": "e0b37d35",
   "metadata": {},
   "outputs": [],
   "source": [
    "dict is always in key:value pair\n",
    "it is collection of items\n",
    "it is mmutable type ds\n",
    "it is unordered"
   ]
  },
  {
   "cell_type": "code",
   "execution_count": null,
   "id": "6cecaaed",
   "metadata": {},
   "outputs": [],
   "source": []
  },
  {
   "cell_type": "code",
   "execution_count": 1,
   "id": "67aa621a",
   "metadata": {},
   "outputs": [],
   "source": [
    "my_dict = {1:'hii',2:'hello',3:'namaskaar'}"
   ]
  },
  {
   "cell_type": "code",
   "execution_count": 2,
   "id": "07c24785",
   "metadata": {},
   "outputs": [
    {
     "data": {
      "text/plain": [
       "{1: 'hii', 2: 'hello', 3: 'namaskaar'}"
      ]
     },
     "execution_count": 2,
     "metadata": {},
     "output_type": "execute_result"
    }
   ],
   "source": [
    "my_dict"
   ]
  },
  {
   "cell_type": "code",
   "execution_count": 3,
   "id": "ec379551",
   "metadata": {},
   "outputs": [
    {
     "data": {
      "text/plain": [
       "dict"
      ]
     },
     "execution_count": 3,
     "metadata": {},
     "output_type": "execute_result"
    }
   ],
   "source": [
    "type(my_dict)"
   ]
  },
  {
   "cell_type": "code",
   "execution_count": 7,
   "id": "7b4e046f",
   "metadata": {},
   "outputs": [],
   "source": [
    "hii_dict = {1:'you',2:'are',3:'mad',1:'are',2:'you'}"
   ]
  },
  {
   "cell_type": "code",
   "execution_count": 8,
   "id": "11de4b3f",
   "metadata": {},
   "outputs": [
    {
     "data": {
      "text/plain": [
       "{1: 'are', 2: 'you', 3: 'mad'}"
      ]
     },
     "execution_count": 8,
     "metadata": {},
     "output_type": "execute_result"
    }
   ],
   "source": [
    "hii_dict"
   ]
  },
  {
   "cell_type": "code",
   "execution_count": 10,
   "id": "0fdc43e1",
   "metadata": {},
   "outputs": [
    {
     "data": {
      "text/plain": [
       "dict"
      ]
     },
     "execution_count": 10,
     "metadata": {},
     "output_type": "execute_result"
    }
   ],
   "source": [
    "type(hii_dict)"
   ]
  },
  {
   "cell_type": "code",
   "execution_count": 18,
   "id": "bea006e7",
   "metadata": {},
   "outputs": [],
   "source": [
    "car_dict = { 'car name':'honda',\n",
    "             'car price': 800000,\n",
    "             'colour':'red'\n",
    "    \n",
    "}"
   ]
  },
  {
   "cell_type": "code",
   "execution_count": 19,
   "id": "e651bdb8",
   "metadata": {},
   "outputs": [
    {
     "data": {
      "text/plain": [
       "{'car name': 'honda', 'car price': 800000, 'colour': 'red'}"
      ]
     },
     "execution_count": 19,
     "metadata": {},
     "output_type": "execute_result"
    }
   ],
   "source": [
    "car_dict"
   ]
  },
  {
   "cell_type": "code",
   "execution_count": 20,
   "id": "6b42833f",
   "metadata": {},
   "outputs": [
    {
     "data": {
      "text/plain": [
       "'honda'"
      ]
     },
     "execution_count": 20,
     "metadata": {},
     "output_type": "execute_result"
    }
   ],
   "source": [
    "car_dict['car name']"
   ]
  },
  {
   "cell_type": "code",
   "execution_count": 21,
   "id": "56897dc2",
   "metadata": {},
   "outputs": [
    {
     "data": {
      "text/plain": [
       "800000"
      ]
     },
     "execution_count": 21,
     "metadata": {},
     "output_type": "execute_result"
    }
   ],
   "source": [
    "car_dict['car price']"
   ]
  },
  {
   "cell_type": "code",
   "execution_count": 22,
   "id": "89578748",
   "metadata": {},
   "outputs": [
    {
     "ename": "KeyError",
     "evalue": "'rrtvr'",
     "output_type": "error",
     "traceback": [
      "\u001b[1;31m---------------------------------------------------------------------------\u001b[0m",
      "\u001b[1;31mKeyError\u001b[0m                                  Traceback (most recent call last)",
      "\u001b[1;32m~\\AppData\\Local\\Temp/ipykernel_21272/2285272782.py\u001b[0m in \u001b[0;36m<module>\u001b[1;34m\u001b[0m\n\u001b[1;32m----> 1\u001b[1;33m \u001b[0mcar_dict\u001b[0m\u001b[1;33m[\u001b[0m\u001b[1;34m'rrtvr'\u001b[0m\u001b[1;33m]\u001b[0m\u001b[1;33m\u001b[0m\u001b[1;33m\u001b[0m\u001b[0m\n\u001b[0m",
      "\u001b[1;31mKeyError\u001b[0m: 'rrtvr'"
     ]
    }
   ],
   "source": [
    "car_dict['rrtvr']"
   ]
  },
  {
   "cell_type": "code",
   "execution_count": 24,
   "id": "c06615f2",
   "metadata": {},
   "outputs": [
    {
     "data": {
      "text/plain": [
       "'red'"
      ]
     },
     "execution_count": 24,
     "metadata": {},
     "output_type": "execute_result"
    }
   ],
   "source": [
    "car_dict.get('colour','no found')"
   ]
  },
  {
   "cell_type": "code",
   "execution_count": 25,
   "id": "94582f4f",
   "metadata": {},
   "outputs": [
    {
     "data": {
      "text/plain": [
       "'no found'"
      ]
     },
     "execution_count": 25,
     "metadata": {},
     "output_type": "execute_result"
    }
   ],
   "source": [
    "car_dict.get('dfvefv','no found')"
   ]
  },
  {
   "cell_type": "code",
   "execution_count": 28,
   "id": "6bdb28b9",
   "metadata": {},
   "outputs": [
    {
     "data": {
      "text/plain": [
       "dict_keys(['car name', 'car price', 'colour'])"
      ]
     },
     "execution_count": 28,
     "metadata": {},
     "output_type": "execute_result"
    }
   ],
   "source": [
    "car_dict.keys()"
   ]
  },
  {
   "cell_type": "code",
   "execution_count": 30,
   "id": "aa2c463a",
   "metadata": {},
   "outputs": [
    {
     "data": {
      "text/plain": [
       "dict_values(['honda', 800000, 'red'])"
      ]
     },
     "execution_count": 30,
     "metadata": {},
     "output_type": "execute_result"
    }
   ],
   "source": [
    "car_dict.values()"
   ]
  },
  {
   "cell_type": "code",
   "execution_count": 31,
   "id": "d9246ef2",
   "metadata": {},
   "outputs": [
    {
     "data": {
      "text/plain": [
       "dict_items([('car name', 'honda'), ('car price', 800000), ('colour', 'red')])"
      ]
     },
     "execution_count": 31,
     "metadata": {},
     "output_type": "execute_result"
    }
   ],
   "source": [
    "car_dict.items()"
   ]
  },
  {
   "cell_type": "code",
   "execution_count": null,
   "id": "64b7c04d",
   "metadata": {},
   "outputs": [],
   "source": []
  },
  {
   "cell_type": "code",
   "execution_count": 32,
   "id": "8fef30b1",
   "metadata": {},
   "outputs": [],
   "source": [
    "new_dict = {'name':'shubham','age':'25','place':'maharashtra'}"
   ]
  },
  {
   "cell_type": "code",
   "execution_count": 33,
   "id": "f7279cc7",
   "metadata": {},
   "outputs": [
    {
     "data": {
      "text/plain": [
       "{'name': 'shubham', 'age': '25', 'place': 'maharashtra'}"
      ]
     },
     "execution_count": 33,
     "metadata": {},
     "output_type": "execute_result"
    }
   ],
   "source": [
    "new_dict"
   ]
  },
  {
   "cell_type": "code",
   "execution_count": 34,
   "id": "1a3849e5",
   "metadata": {},
   "outputs": [],
   "source": [
    "new_dict['education'] = 'graduate'"
   ]
  },
  {
   "cell_type": "code",
   "execution_count": 35,
   "id": "14c52561",
   "metadata": {},
   "outputs": [
    {
     "data": {
      "text/plain": [
       "{'name': 'shubham',\n",
       " 'age': '25',\n",
       " 'place': 'maharashtra',\n",
       " 'education': 'graduate'}"
      ]
     },
     "execution_count": 35,
     "metadata": {},
     "output_type": "execute_result"
    }
   ],
   "source": [
    "new_dict"
   ]
  },
  {
   "cell_type": "code",
   "execution_count": 40,
   "id": "dc9aea86",
   "metadata": {},
   "outputs": [],
   "source": [
    "na_o = {'fdfvL':'reer'}"
   ]
  },
  {
   "cell_type": "code",
   "execution_count": 41,
   "id": "9c250da5",
   "metadata": {},
   "outputs": [
    {
     "data": {
      "text/plain": [
       "{'fdfvL': 'reer'}"
      ]
     },
     "execution_count": 41,
     "metadata": {},
     "output_type": "execute_result"
    }
   ],
   "source": [
    "na_o\n"
   ]
  },
  {
   "cell_type": "code",
   "execution_count": 43,
   "id": "06540a29",
   "metadata": {},
   "outputs": [
    {
     "data": {
      "text/plain": [
       "dict_keys(['fdfvL'])"
      ]
     },
     "execution_count": 43,
     "metadata": {},
     "output_type": "execute_result"
    }
   ],
   "source": [
    "na_o.keys()"
   ]
  },
  {
   "cell_type": "code",
   "execution_count": 45,
   "id": "5ee250cb",
   "metadata": {},
   "outputs": [
    {
     "data": {
      "text/plain": [
       "dict_values(['reer'])"
      ]
     },
     "execution_count": 45,
     "metadata": {},
     "output_type": "execute_result"
    }
   ],
   "source": [
    "na_o.values()"
   ]
  },
  {
   "cell_type": "code",
   "execution_count": 46,
   "id": "e3dffb98",
   "metadata": {},
   "outputs": [
    {
     "data": {
      "text/plain": [
       "dict_items([('fdfvL', 'reer')])"
      ]
     },
     "execution_count": 46,
     "metadata": {},
     "output_type": "execute_result"
    }
   ],
   "source": [
    "na_o.items()"
   ]
  },
  {
   "cell_type": "code",
   "execution_count": 48,
   "id": "fd893c51",
   "metadata": {},
   "outputs": [],
   "source": [
    "na_o['slldd'] = 'dcsdc'\n"
   ]
  },
  {
   "cell_type": "code",
   "execution_count": 50,
   "id": "5138915b",
   "metadata": {},
   "outputs": [
    {
     "data": {
      "text/plain": [
       "{'fdfvL': 'reer', 'slldd': 'dcsdc'}"
      ]
     },
     "execution_count": 50,
     "metadata": {},
     "output_type": "execute_result"
    }
   ],
   "source": [
    "na_o"
   ]
  },
  {
   "cell_type": "code",
   "execution_count": 51,
   "id": "fc888d57",
   "metadata": {},
   "outputs": [],
   "source": [
    "na_o['csck'] = 'dckwf'"
   ]
  },
  {
   "cell_type": "code",
   "execution_count": 52,
   "id": "2fdcbee2",
   "metadata": {},
   "outputs": [],
   "source": [
    "na_o.update({'fver':'ejqer','eerk':'egej'})"
   ]
  },
  {
   "cell_type": "code",
   "execution_count": 53,
   "id": "2a7dd79f",
   "metadata": {},
   "outputs": [
    {
     "data": {
      "text/plain": [
       "{'fdfvL': 'reer',\n",
       " 'slldd': 'dcsdc',\n",
       " 'csck': 'dckwf',\n",
       " 'fver': 'ejqer',\n",
       " 'eerk': 'egej'}"
      ]
     },
     "execution_count": 53,
     "metadata": {},
     "output_type": "execute_result"
    }
   ],
   "source": [
    "na_o"
   ]
  },
  {
   "cell_type": "code",
   "execution_count": null,
   "id": "7bae9fc5",
   "metadata": {},
   "outputs": [],
   "source": []
  },
  {
   "cell_type": "code",
   "execution_count": 73,
   "id": "1882a096",
   "metadata": {},
   "outputs": [],
   "source": [
    "my_new_dict = {'errfef':'erverf','ergweg':'erfearg','ergqe':'erev'}"
   ]
  },
  {
   "cell_type": "code",
   "execution_count": 74,
   "id": "97d3cca2",
   "metadata": {},
   "outputs": [
    {
     "data": {
      "text/plain": [
       "{'errfef': 'erverf', 'ergweg': 'erfearg', 'ergqe': 'erev'}"
      ]
     },
     "execution_count": 74,
     "metadata": {},
     "output_type": "execute_result"
    }
   ],
   "source": [
    "my_new_dict"
   ]
  },
  {
   "cell_type": "code",
   "execution_count": 75,
   "id": "52a5af7a",
   "metadata": {},
   "outputs": [
    {
     "data": {
      "text/plain": [
       "dict_keys(['errfef', 'ergweg', 'ergqe'])"
      ]
     },
     "execution_count": 75,
     "metadata": {},
     "output_type": "execute_result"
    }
   ],
   "source": [
    "my_new_dict.keys()"
   ]
  },
  {
   "cell_type": "code",
   "execution_count": 76,
   "id": "138bcb60",
   "metadata": {},
   "outputs": [
    {
     "data": {
      "text/plain": [
       "dict_values(['erverf', 'erfearg', 'erev'])"
      ]
     },
     "execution_count": 76,
     "metadata": {},
     "output_type": "execute_result"
    }
   ],
   "source": [
    "my_new_dict.values()"
   ]
  },
  {
   "cell_type": "code",
   "execution_count": 87,
   "id": "71fc4929",
   "metadata": {},
   "outputs": [
    {
     "data": {
      "text/plain": [
       "dict_items([('errfef', 'erverf'), ('ergweg', 'erfearg'), ('ergqe', 'erev')])"
      ]
     },
     "execution_count": 87,
     "metadata": {},
     "output_type": "execute_result"
    }
   ],
   "source": [
    "my_new_dict.items()"
   ]
  },
  {
   "cell_type": "code",
   "execution_count": null,
   "id": "4868e09b",
   "metadata": {},
   "outputs": [],
   "source": []
  },
  {
   "cell_type": "code",
   "execution_count": 81,
   "id": "a6940ec8",
   "metadata": {},
   "outputs": [
    {
     "data": {
      "text/plain": [
       "'erverf'"
      ]
     },
     "execution_count": 81,
     "metadata": {},
     "output_type": "execute_result"
    }
   ],
   "source": [
    "my_new_dict['errfef']"
   ]
  },
  {
   "cell_type": "code",
   "execution_count": 89,
   "id": "d0e73fc8",
   "metadata": {},
   "outputs": [
    {
     "ename": "TypeError",
     "evalue": "unhashable type: 'set'",
     "output_type": "error",
     "traceback": [
      "\u001b[1;31m---------------------------------------------------------------------------\u001b[0m",
      "\u001b[1;31mTypeError\u001b[0m                                 Traceback (most recent call last)",
      "\u001b[1;32m~\\AppData\\Local\\Temp/ipykernel_21272/3098465874.py\u001b[0m in \u001b[0;36m<module>\u001b[1;34m\u001b[0m\n\u001b[1;32m----> 1\u001b[1;33m \u001b[0mmy_new_dict\u001b[0m\u001b[1;33m.\u001b[0m\u001b[0mget\u001b[0m\u001b[1;33m(\u001b[0m\u001b[1;33m{\u001b[0m\u001b[1;34m'errfef'\u001b[0m\u001b[1;33m,\u001b[0m\u001b[1;34m'eve'\u001b[0m\u001b[1;33m}\u001b[0m\u001b[1;33m)\u001b[0m\u001b[1;33m\u001b[0m\u001b[1;33m\u001b[0m\u001b[0m\n\u001b[0m",
      "\u001b[1;31mTypeError\u001b[0m: unhashable type: 'set'"
     ]
    }
   ],
   "source": [
    "my_new_dict.get({'errfef','eve'})"
   ]
  },
  {
   "cell_type": "code",
   "execution_count": null,
   "id": "e5cbea96",
   "metadata": {},
   "outputs": [],
   "source": []
  },
  {
   "cell_type": "code",
   "execution_count": 90,
   "id": "f4683bfe",
   "metadata": {},
   "outputs": [],
   "source": [
    "my_n = {'name':'shubh','age':22,'nation':'india'}"
   ]
  },
  {
   "cell_type": "code",
   "execution_count": 91,
   "id": "0c54b206",
   "metadata": {},
   "outputs": [
    {
     "data": {
      "text/plain": [
       "{'name': 'shubh', 'age': 22, 'nation': 'india'}"
      ]
     },
     "execution_count": 91,
     "metadata": {},
     "output_type": "execute_result"
    }
   ],
   "source": [
    "my_n"
   ]
  },
  {
   "cell_type": "code",
   "execution_count": 93,
   "id": "0e6a4acf",
   "metadata": {},
   "outputs": [
    {
     "data": {
      "text/plain": [
       "dict"
      ]
     },
     "execution_count": 93,
     "metadata": {},
     "output_type": "execute_result"
    }
   ],
   "source": [
    "type(my_n)"
   ]
  },
  {
   "cell_type": "code",
   "execution_count": 94,
   "id": "617eba80",
   "metadata": {},
   "outputs": [
    {
     "data": {
      "text/plain": [
       "'shubh'"
      ]
     },
     "execution_count": 94,
     "metadata": {},
     "output_type": "execute_result"
    }
   ],
   "source": [
    "my_n['name']"
   ]
  },
  {
   "cell_type": "code",
   "execution_count": 95,
   "id": "724c685b",
   "metadata": {},
   "outputs": [
    {
     "data": {
      "text/plain": [
       "22"
      ]
     },
     "execution_count": 95,
     "metadata": {},
     "output_type": "execute_result"
    }
   ],
   "source": [
    "my_n['age']"
   ]
  },
  {
   "cell_type": "code",
   "execution_count": 96,
   "id": "b231b014",
   "metadata": {},
   "outputs": [
    {
     "data": {
      "text/plain": [
       "'india'"
      ]
     },
     "execution_count": 96,
     "metadata": {},
     "output_type": "execute_result"
    }
   ],
   "source": [
    "my_n['nation']"
   ]
  },
  {
   "cell_type": "code",
   "execution_count": 98,
   "id": "2b79f371",
   "metadata": {},
   "outputs": [
    {
     "data": {
      "text/plain": [
       "dict_keys(['name', 'age', 'nation'])"
      ]
     },
     "execution_count": 98,
     "metadata": {},
     "output_type": "execute_result"
    }
   ],
   "source": [
    "my_n.keys()"
   ]
  },
  {
   "cell_type": "code",
   "execution_count": 99,
   "id": "4f4a238f",
   "metadata": {},
   "outputs": [
    {
     "data": {
      "text/plain": [
       "dict_values(['shubh', 22, 'india'])"
      ]
     },
     "execution_count": 99,
     "metadata": {},
     "output_type": "execute_result"
    }
   ],
   "source": [
    "my_n.values()"
   ]
  },
  {
   "cell_type": "code",
   "execution_count": 100,
   "id": "e9d6463b",
   "metadata": {},
   "outputs": [
    {
     "data": {
      "text/plain": [
       "dict_items([('name', 'shubh'), ('age', 22), ('nation', 'india')])"
      ]
     },
     "execution_count": 100,
     "metadata": {},
     "output_type": "execute_result"
    }
   ],
   "source": [
    "my_n.items()"
   ]
  },
  {
   "cell_type": "code",
   "execution_count": 102,
   "id": "0f9161f9",
   "metadata": {},
   "outputs": [
    {
     "data": {
      "text/plain": [
       "'shubh'"
      ]
     },
     "execution_count": 102,
     "metadata": {},
     "output_type": "execute_result"
    }
   ],
   "source": [
    "my_n.get('name','no' )"
   ]
  },
  {
   "cell_type": "code",
   "execution_count": 104,
   "id": "a89621a7",
   "metadata": {},
   "outputs": [
    {
     "data": {
      "text/plain": [
       "'no'"
      ]
     },
     "execution_count": 104,
     "metadata": {},
     "output_type": "execute_result"
    }
   ],
   "source": [
    "my_n.get('gfgfg','no')"
   ]
  },
  {
   "cell_type": "code",
   "execution_count": null,
   "id": "93fb9770",
   "metadata": {},
   "outputs": [],
   "source": []
  },
  {
   "cell_type": "code",
   "execution_count": null,
   "id": "0442fab9",
   "metadata": {},
   "outputs": [],
   "source": [
    "#insertion .....>"
   ]
  },
  {
   "cell_type": "code",
   "execution_count": 105,
   "id": "0d5a360b",
   "metadata": {},
   "outputs": [],
   "source": [
    "my_dear = {'city':'shirwal','village':'wing','tel':7744042956}"
   ]
  },
  {
   "cell_type": "code",
   "execution_count": 106,
   "id": "bec28909",
   "metadata": {},
   "outputs": [
    {
     "data": {
      "text/plain": [
       "{'city': 'shirwal', 'village': 'wing', 'tel': 7744042956}"
      ]
     },
     "execution_count": 106,
     "metadata": {},
     "output_type": "execute_result"
    }
   ],
   "source": [
    "my_dear"
   ]
  },
  {
   "cell_type": "code",
   "execution_count": 107,
   "id": "184d86b4",
   "metadata": {},
   "outputs": [],
   "source": [
    "my_dear['mailID'] = 'shirwal@gmail.com'"
   ]
  },
  {
   "cell_type": "code",
   "execution_count": 108,
   "id": "781b1af8",
   "metadata": {},
   "outputs": [
    {
     "data": {
      "text/plain": [
       "{'city': 'shirwal',\n",
       " 'village': 'wing',\n",
       " 'tel': 7744042956,\n",
       " 'mailID': 'shirwal@gmail.com'}"
      ]
     },
     "execution_count": 108,
     "metadata": {},
     "output_type": "execute_result"
    }
   ],
   "source": [
    "my_dear"
   ]
  },
  {
   "cell_type": "code",
   "execution_count": 111,
   "id": "aab8d60e",
   "metadata": {},
   "outputs": [],
   "source": [
    "my_dear['height'] = '5.5'"
   ]
  },
  {
   "cell_type": "code",
   "execution_count": 112,
   "id": "da60ba2d",
   "metadata": {},
   "outputs": [
    {
     "data": {
      "text/plain": [
       "{'city': 'shirwal',\n",
       " 'village': 'wing',\n",
       " 'tel': 7744042956,\n",
       " 'mailID': 'shirwal@gmail.com',\n",
       " 'height': '5.5'}"
      ]
     },
     "execution_count": 112,
     "metadata": {},
     "output_type": "execute_result"
    }
   ],
   "source": [
    "my_dear"
   ]
  },
  {
   "cell_type": "code",
   "execution_count": 113,
   "id": "44ff4bff",
   "metadata": {},
   "outputs": [],
   "source": [
    "my_dear.update({'water':'yes','dinner':'no/yes'})"
   ]
  },
  {
   "cell_type": "code",
   "execution_count": 114,
   "id": "e27c8fb2",
   "metadata": {},
   "outputs": [
    {
     "data": {
      "text/plain": [
       "{'city': 'shirwal',\n",
       " 'village': 'wing',\n",
       " 'tel': 7744042956,\n",
       " 'mailID': 'shirwal@gmail.com',\n",
       " 'height': '5.5',\n",
       " 'water': 'yes',\n",
       " 'dinner': 'no/yes'}"
      ]
     },
     "execution_count": 114,
     "metadata": {},
     "output_type": "execute_result"
    }
   ],
   "source": [
    "my_dear"
   ]
  },
  {
   "cell_type": "code",
   "execution_count": null,
   "id": "2fac737b",
   "metadata": {},
   "outputs": [],
   "source": []
  },
  {
   "cell_type": "code",
   "execution_count": 119,
   "id": "29e79413",
   "metadata": {},
   "outputs": [],
   "source": [
    "import numpy as np\n",
    "my_dict = {'id':[101,102,103],\n",
    "           'name':['sai','prasad',np.nan],\n",
    "           'city':['kolkata','mumbai','satara']\n",
    "    \n",
    "}"
   ]
  },
  {
   "cell_type": "code",
   "execution_count": 120,
   "id": "e5f94035",
   "metadata": {},
   "outputs": [
    {
     "data": {
      "text/plain": [
       "{'id': [101, 102, 103],\n",
       " 'name': ['sai', 'prasad', nan],\n",
       " 'city': ['kolkata', 'mumbai', 'satara']}"
      ]
     },
     "execution_count": 120,
     "metadata": {},
     "output_type": "execute_result"
    }
   ],
   "source": [
    "my_dict"
   ]
  },
  {
   "cell_type": "code",
   "execution_count": 121,
   "id": "940d2c61",
   "metadata": {},
   "outputs": [],
   "source": [
    "import pandas as pd"
   ]
  },
  {
   "cell_type": "code",
   "execution_count": 122,
   "id": "34854233",
   "metadata": {},
   "outputs": [
    {
     "data": {
      "text/html": [
       "<div>\n",
       "<style scoped>\n",
       "    .dataframe tbody tr th:only-of-type {\n",
       "        vertical-align: middle;\n",
       "    }\n",
       "\n",
       "    .dataframe tbody tr th {\n",
       "        vertical-align: top;\n",
       "    }\n",
       "\n",
       "    .dataframe thead th {\n",
       "        text-align: right;\n",
       "    }\n",
       "</style>\n",
       "<table border=\"1\" class=\"dataframe\">\n",
       "  <thead>\n",
       "    <tr style=\"text-align: right;\">\n",
       "      <th></th>\n",
       "      <th>id</th>\n",
       "      <th>name</th>\n",
       "      <th>city</th>\n",
       "    </tr>\n",
       "  </thead>\n",
       "  <tbody>\n",
       "    <tr>\n",
       "      <th>0</th>\n",
       "      <td>101</td>\n",
       "      <td>sai</td>\n",
       "      <td>kolkata</td>\n",
       "    </tr>\n",
       "    <tr>\n",
       "      <th>1</th>\n",
       "      <td>102</td>\n",
       "      <td>prasad</td>\n",
       "      <td>mumbai</td>\n",
       "    </tr>\n",
       "    <tr>\n",
       "      <th>2</th>\n",
       "      <td>103</td>\n",
       "      <td>NaN</td>\n",
       "      <td>satara</td>\n",
       "    </tr>\n",
       "  </tbody>\n",
       "</table>\n",
       "</div>"
      ],
      "text/plain": [
       "    id    name     city\n",
       "0  101     sai  kolkata\n",
       "1  102  prasad   mumbai\n",
       "2  103     NaN   satara"
      ]
     },
     "execution_count": 122,
     "metadata": {},
     "output_type": "execute_result"
    }
   ],
   "source": [
    "pd.DataFrame(my_dict)"
   ]
  },
  {
   "cell_type": "code",
   "execution_count": null,
   "id": "314639d3",
   "metadata": {},
   "outputs": [],
   "source": []
  },
  {
   "cell_type": "code",
   "execution_count": 1,
   "id": "93a69442",
   "metadata": {},
   "outputs": [],
   "source": [
    "k = {'name','id','sal'}"
   ]
  },
  {
   "cell_type": "code",
   "execution_count": 3,
   "id": "4dbf9b45",
   "metadata": {},
   "outputs": [
    {
     "data": {
      "text/plain": [
       "{'id': 0, 'name': 0, 'sal': 0}"
      ]
     },
     "execution_count": 3,
     "metadata": {},
     "output_type": "execute_result"
    }
   ],
   "source": [
    "dict.fromkeys(k,0)"
   ]
  },
  {
   "cell_type": "code",
   "execution_count": null,
   "id": "bbc6c07c",
   "metadata": {},
   "outputs": [],
   "source": [
    "#when we want empty or blank dict without value then we use fromkeys."
   ]
  },
  {
   "cell_type": "code",
   "execution_count": null,
   "id": "cf7aee32",
   "metadata": {},
   "outputs": [],
   "source": []
  },
  {
   "cell_type": "code",
   "execution_count": 4,
   "id": "4dcadb8c",
   "metadata": {},
   "outputs": [],
   "source": [
    "p = {'red','blue','yellow'}"
   ]
  },
  {
   "cell_type": "code",
   "execution_count": 6,
   "id": "ec196d18",
   "metadata": {},
   "outputs": [
    {
     "data": {
      "text/plain": [
       "{'blue': None, 'yellow': None, 'red': None}"
      ]
     },
     "execution_count": 6,
     "metadata": {},
     "output_type": "execute_result"
    }
   ],
   "source": [
    "dict.fromkeys(p)"
   ]
  },
  {
   "cell_type": "code",
   "execution_count": null,
   "id": "32e403ca",
   "metadata": {},
   "outputs": [],
   "source": []
  },
  {
   "cell_type": "code",
   "execution_count": 11,
   "id": "1af0e929",
   "metadata": {},
   "outputs": [],
   "source": [
    "m = {'red':'RED',\n",
    "     'blue':'BLUE',\n",
    "     'yellow':'YELLOW',\n",
    "     'pink':'PINK',\n",
    "     'white':'WHITE'\n",
    "    }"
   ]
  },
  {
   "cell_type": "code",
   "execution_count": 12,
   "id": "e01dbbb3",
   "metadata": {},
   "outputs": [
    {
     "data": {
      "text/plain": [
       "{'red': 'RED',\n",
       " 'blue': 'BLUE',\n",
       " 'yellow': 'YELLOW',\n",
       " 'pink': 'PINK',\n",
       " 'white': 'WHITE'}"
      ]
     },
     "execution_count": 12,
     "metadata": {},
     "output_type": "execute_result"
    }
   ],
   "source": [
    "m"
   ]
  },
  {
   "cell_type": "code",
   "execution_count": 13,
   "id": "f517a68d",
   "metadata": {},
   "outputs": [],
   "source": [
    "m.update({'red':'laal','blue':'nila'})"
   ]
  },
  {
   "cell_type": "code",
   "execution_count": 14,
   "id": "654be046",
   "metadata": {},
   "outputs": [
    {
     "data": {
      "text/plain": [
       "{'red': 'laal',\n",
       " 'blue': 'nila',\n",
       " 'yellow': 'YELLOW',\n",
       " 'pink': 'PINK',\n",
       " 'white': 'WHITE'}"
      ]
     },
     "execution_count": 14,
     "metadata": {},
     "output_type": "execute_result"
    }
   ],
   "source": [
    "m"
   ]
  },
  {
   "cell_type": "code",
   "execution_count": 15,
   "id": "f61a467b",
   "metadata": {},
   "outputs": [],
   "source": [
    "m.update({'black':'BLACK'})"
   ]
  },
  {
   "cell_type": "code",
   "execution_count": 16,
   "id": "7c900057",
   "metadata": {},
   "outputs": [
    {
     "data": {
      "text/plain": [
       "{'red': 'laal',\n",
       " 'blue': 'nila',\n",
       " 'yellow': 'YELLOW',\n",
       " 'pink': 'PINK',\n",
       " 'white': 'WHITE',\n",
       " 'black': 'BLACK'}"
      ]
     },
     "execution_count": 16,
     "metadata": {},
     "output_type": "execute_result"
    }
   ],
   "source": [
    "m"
   ]
  },
  {
   "cell_type": "code",
   "execution_count": null,
   "id": "009f6e3f",
   "metadata": {},
   "outputs": [],
   "source": [
    "#if key already present then it returns its new value otherwise added new key value ."
   ]
  },
  {
   "cell_type": "code",
   "execution_count": 18,
   "id": "32c0cc0d",
   "metadata": {},
   "outputs": [
    {
     "data": {
      "text/plain": [
       "{'red': 'laal',\n",
       " 'blue': 'nila',\n",
       " 'yellow': 'YELLOW',\n",
       " 'pink': 'PINK',\n",
       " 'white': 'WHITE',\n",
       " 'black': 'BLACK'}"
      ]
     },
     "execution_count": 18,
     "metadata": {},
     "output_type": "execute_result"
    }
   ],
   "source": [
    "m"
   ]
  },
  {
   "cell_type": "code",
   "execution_count": 19,
   "id": "209b4a33",
   "metadata": {},
   "outputs": [
    {
     "data": {
      "text/plain": [
       "400"
      ]
     },
     "execution_count": 19,
     "metadata": {},
     "output_type": "execute_result"
    }
   ],
   "source": [
    "m.setdefault('n',400)"
   ]
  },
  {
   "cell_type": "code",
   "execution_count": 20,
   "id": "2b17bf5f",
   "metadata": {},
   "outputs": [
    {
     "data": {
      "text/plain": [
       "{'red': 'laal',\n",
       " 'blue': 'nila',\n",
       " 'yellow': 'YELLOW',\n",
       " 'pink': 'PINK',\n",
       " 'white': 'WHITE',\n",
       " 'black': 'BLACK',\n",
       " 'n': 400}"
      ]
     },
     "execution_count": 20,
     "metadata": {},
     "output_type": "execute_result"
    }
   ],
   "source": [
    "m"
   ]
  },
  {
   "cell_type": "code",
   "execution_count": 21,
   "id": "e606592b",
   "metadata": {},
   "outputs": [],
   "source": [
    "m['n'] = 500"
   ]
  },
  {
   "cell_type": "code",
   "execution_count": 22,
   "id": "aa8ae9cf",
   "metadata": {},
   "outputs": [
    {
     "data": {
      "text/plain": [
       "{'red': 'laal',\n",
       " 'blue': 'nila',\n",
       " 'yellow': 'YELLOW',\n",
       " 'pink': 'PINK',\n",
       " 'white': 'WHITE',\n",
       " 'black': 'BLACK',\n",
       " 'n': 500}"
      ]
     },
     "execution_count": 22,
     "metadata": {},
     "output_type": "execute_result"
    }
   ],
   "source": [
    "m"
   ]
  },
  {
   "cell_type": "code",
   "execution_count": 23,
   "id": "9c16ade9",
   "metadata": {},
   "outputs": [
    {
     "data": {
      "text/plain": [
       "'laal'"
      ]
     },
     "execution_count": 23,
     "metadata": {},
     "output_type": "execute_result"
    }
   ],
   "source": [
    "m.setdefault('red','LAL')"
   ]
  },
  {
   "cell_type": "code",
   "execution_count": 25,
   "id": "b6fcb444",
   "metadata": {},
   "outputs": [
    {
     "data": {
      "text/plain": [
       "{'red': 'laal',\n",
       " 'blue': 'nila',\n",
       " 'yellow': 'YELLOW',\n",
       " 'pink': 'PINK',\n",
       " 'white': 'WHITE',\n",
       " 'black': 'BLACK',\n",
       " 'n': 500}"
      ]
     },
     "execution_count": 25,
     "metadata": {},
     "output_type": "execute_result"
    }
   ],
   "source": [
    "m"
   ]
  },
  {
   "cell_type": "code",
   "execution_count": 26,
   "id": "cfabe758",
   "metadata": {},
   "outputs": [
    {
     "data": {
      "text/plain": [
       "'jambhala'"
      ]
     },
     "execution_count": 26,
     "metadata": {},
     "output_type": "execute_result"
    }
   ],
   "source": [
    "m.setdefault('voilet','jambhala')"
   ]
  },
  {
   "cell_type": "code",
   "execution_count": 27,
   "id": "52f04e90",
   "metadata": {},
   "outputs": [
    {
     "data": {
      "text/plain": [
       "{'red': 'laal',\n",
       " 'blue': 'nila',\n",
       " 'yellow': 'YELLOW',\n",
       " 'pink': 'PINK',\n",
       " 'white': 'WHITE',\n",
       " 'black': 'BLACK',\n",
       " 'n': 500,\n",
       " 'voilet': 'jambhala'}"
      ]
     },
     "execution_count": 27,
     "metadata": {},
     "output_type": "execute_result"
    }
   ],
   "source": [
    "m"
   ]
  },
  {
   "cell_type": "code",
   "execution_count": null,
   "id": "9718a69c",
   "metadata": {},
   "outputs": [],
   "source": []
  },
  {
   "cell_type": "code",
   "execution_count": null,
   "id": "f1b1ac78",
   "metadata": {},
   "outputs": [],
   "source": []
  },
  {
   "cell_type": "code",
   "execution_count": 28,
   "id": "b96ba65a",
   "metadata": {},
   "outputs": [],
   "source": [
    "b_dict = {'name':'sarthak','age':23,'place':'satara'}"
   ]
  },
  {
   "cell_type": "code",
   "execution_count": 29,
   "id": "26a147f1",
   "metadata": {},
   "outputs": [
    {
     "data": {
      "text/plain": [
       "{'name': 'sarthak', 'age': 23, 'place': 'satara'}"
      ]
     },
     "execution_count": 29,
     "metadata": {},
     "output_type": "execute_result"
    }
   ],
   "source": [
    "b_dict"
   ]
  },
  {
   "cell_type": "code",
   "execution_count": 31,
   "id": "116f0207",
   "metadata": {},
   "outputs": [
    {
     "data": {
      "text/plain": [
       "'sarthak'"
      ]
     },
     "execution_count": 31,
     "metadata": {},
     "output_type": "execute_result"
    }
   ],
   "source": [
    "b_dict['name']"
   ]
  },
  {
   "cell_type": "code",
   "execution_count": 32,
   "id": "98b5268a",
   "metadata": {},
   "outputs": [
    {
     "data": {
      "text/plain": [
       "23"
      ]
     },
     "execution_count": 32,
     "metadata": {},
     "output_type": "execute_result"
    }
   ],
   "source": [
    "b_dict['age']"
   ]
  },
  {
   "cell_type": "code",
   "execution_count": 33,
   "id": "2ba4b36d",
   "metadata": {},
   "outputs": [
    {
     "data": {
      "text/plain": [
       "'satara'"
      ]
     },
     "execution_count": 33,
     "metadata": {},
     "output_type": "execute_result"
    }
   ],
   "source": [
    "b_dict['place']"
   ]
  },
  {
   "cell_type": "code",
   "execution_count": 35,
   "id": "4abb1fad",
   "metadata": {},
   "outputs": [
    {
     "data": {
      "text/plain": [
       "dict_keys(['name', 'age', 'place'])"
      ]
     },
     "execution_count": 35,
     "metadata": {},
     "output_type": "execute_result"
    }
   ],
   "source": [
    "b_dict.keys()"
   ]
  },
  {
   "cell_type": "code",
   "execution_count": 36,
   "id": "188d71c7",
   "metadata": {},
   "outputs": [
    {
     "data": {
      "text/plain": [
       "dict_values(['sarthak', 23, 'satara'])"
      ]
     },
     "execution_count": 36,
     "metadata": {},
     "output_type": "execute_result"
    }
   ],
   "source": [
    "b_dict.values()"
   ]
  },
  {
   "cell_type": "code",
   "execution_count": 37,
   "id": "a9af4486",
   "metadata": {},
   "outputs": [
    {
     "data": {
      "text/plain": [
       "dict_items([('name', 'sarthak'), ('age', 23), ('place', 'satara')])"
      ]
     },
     "execution_count": 37,
     "metadata": {},
     "output_type": "execute_result"
    }
   ],
   "source": [
    "b_dict.items()"
   ]
  },
  {
   "cell_type": "code",
   "execution_count": 44,
   "id": "ca77ed91",
   "metadata": {},
   "outputs": [],
   "source": [
    "b_dict['name'] = 'sam' #override"
   ]
  },
  {
   "cell_type": "code",
   "execution_count": 45,
   "id": "84f4ecd0",
   "metadata": {},
   "outputs": [
    {
     "data": {
      "text/plain": [
       "{'name': 'sam', 'age': 23, 'place': 'satara'}"
      ]
     },
     "execution_count": 45,
     "metadata": {},
     "output_type": "execute_result"
    }
   ],
   "source": [
    "b_dict"
   ]
  },
  {
   "cell_type": "code",
   "execution_count": 48,
   "id": "b5d73448",
   "metadata": {},
   "outputs": [],
   "source": [
    "b_dict['B-grp'] = 'a+'     #insert key velue pair only one at a time"
   ]
  },
  {
   "cell_type": "code",
   "execution_count": 49,
   "id": "be222a94",
   "metadata": {},
   "outputs": [
    {
     "data": {
      "text/plain": [
       "{'name': 'sam', 'age': 23, 'place': 'satara', 'B-grp': 'a+'}"
      ]
     },
     "execution_count": 49,
     "metadata": {},
     "output_type": "execute_result"
    }
   ],
   "source": [
    "b_dict"
   ]
  },
  {
   "cell_type": "code",
   "execution_count": 52,
   "id": "c683128a",
   "metadata": {},
   "outputs": [],
   "source": [
    "b_dict.update({'height':5.4 ,'colour':'fair'})    #add multiple key values at a time.   ......update"
   ]
  },
  {
   "cell_type": "code",
   "execution_count": 53,
   "id": "1c1d82bd",
   "metadata": {},
   "outputs": [
    {
     "data": {
      "text/plain": [
       "{'name': 'sam',\n",
       " 'age': 23,\n",
       " 'place': 'satara',\n",
       " 'B-grp': 'a+',\n",
       " 'height': 5.4,\n",
       " 'colour': 'fair'}"
      ]
     },
     "execution_count": 53,
     "metadata": {},
     "output_type": "execute_result"
    }
   ],
   "source": [
    "b_dict"
   ]
  },
  {
   "cell_type": "code",
   "execution_count": 54,
   "id": "f25b1200",
   "metadata": {},
   "outputs": [],
   "source": [
    "k = {'hiii','hello','namaskaar'}"
   ]
  },
  {
   "cell_type": "code",
   "execution_count": 57,
   "id": "43aae638",
   "metadata": {},
   "outputs": [
    {
     "data": {
      "text/plain": [
       "{'namaskaar': None, 'hello': None, 'hiii': None}"
      ]
     },
     "execution_count": 57,
     "metadata": {},
     "output_type": "execute_result"
    }
   ],
   "source": [
    "dict.fromkeys(k)     #use to make null or empty dictionary having zero value to its key ."
   ]
  },
  {
   "cell_type": "code",
   "execution_count": 58,
   "id": "76eb1501",
   "metadata": {},
   "outputs": [
    {
     "data": {
      "text/plain": [
       "{'name': 'sam',\n",
       " 'age': 23,\n",
       " 'place': 'satara',\n",
       " 'B-grp': 'a+',\n",
       " 'height': 5.4,\n",
       " 'colour': 'fair'}"
      ]
     },
     "execution_count": 58,
     "metadata": {},
     "output_type": "execute_result"
    }
   ],
   "source": [
    "b_dict"
   ]
  },
  {
   "cell_type": "code",
   "execution_count": 59,
   "id": "eb9a8bee",
   "metadata": {},
   "outputs": [
    {
     "data": {
      "text/plain": [
       "'fair'"
      ]
     },
     "execution_count": 59,
     "metadata": {},
     "output_type": "execute_result"
    }
   ],
   "source": [
    "b_dict.setdefault('colour','pink')"
   ]
  },
  {
   "cell_type": "code",
   "execution_count": 60,
   "id": "5a7a620b",
   "metadata": {},
   "outputs": [
    {
     "data": {
      "text/plain": [
       "'graduate'"
      ]
     },
     "execution_count": 60,
     "metadata": {},
     "output_type": "execute_result"
    }
   ],
   "source": [
    "b_dict.setdefault('education','graduate')"
   ]
  },
  {
   "cell_type": "code",
   "execution_count": 61,
   "id": "53688397",
   "metadata": {},
   "outputs": [
    {
     "data": {
      "text/plain": [
       "{'name': 'sam',\n",
       " 'age': 23,\n",
       " 'place': 'satara',\n",
       " 'B-grp': 'a+',\n",
       " 'height': 5.4,\n",
       " 'colour': 'fair',\n",
       " 'education': 'graduate'}"
      ]
     },
     "execution_count": 61,
     "metadata": {},
     "output_type": "execute_result"
    }
   ],
   "source": [
    "b_dict"
   ]
  },
  {
   "cell_type": "code",
   "execution_count": 62,
   "id": "75dfc1a8",
   "metadata": {},
   "outputs": [
    {
     "data": {
      "text/plain": [
       "'sam'"
      ]
     },
     "execution_count": 62,
     "metadata": {},
     "output_type": "execute_result"
    }
   ],
   "source": [
    "b_dict.get('name')"
   ]
  },
  {
   "cell_type": "code",
   "execution_count": 63,
   "id": "409c0422",
   "metadata": {},
   "outputs": [
    {
     "data": {
      "text/plain": [
       "'none'"
      ]
     },
     "execution_count": 63,
     "metadata": {},
     "output_type": "execute_result"
    }
   ],
   "source": [
    "b_dict.get('fgrv','none')"
   ]
  },
  {
   "cell_type": "code",
   "execution_count": null,
   "id": "281dfc06",
   "metadata": {},
   "outputs": [],
   "source": [
    "#how to remove elements from dict."
   ]
  },
  {
   "cell_type": "code",
   "execution_count": 65,
   "id": "e33184a0",
   "metadata": {},
   "outputs": [
    {
     "data": {
      "text/plain": [
       "'fair'"
      ]
     },
     "execution_count": 65,
     "metadata": {},
     "output_type": "execute_result"
    }
   ],
   "source": [
    "b_dict.pop('colour')"
   ]
  },
  {
   "cell_type": "code",
   "execution_count": 66,
   "id": "0f4e8612",
   "metadata": {},
   "outputs": [
    {
     "data": {
      "text/plain": [
       "{'name': 'sam',\n",
       " 'age': 23,\n",
       " 'place': 'satara',\n",
       " 'B-grp': 'a+',\n",
       " 'height': 5.4,\n",
       " 'education': 'graduate'}"
      ]
     },
     "execution_count": 66,
     "metadata": {},
     "output_type": "execute_result"
    }
   ],
   "source": [
    "b_dict"
   ]
  },
  {
   "cell_type": "code",
   "execution_count": 69,
   "id": "0c6a3799",
   "metadata": {},
   "outputs": [
    {
     "data": {
      "text/plain": [
       "'a+'"
      ]
     },
     "execution_count": 69,
     "metadata": {},
     "output_type": "execute_result"
    }
   ],
   "source": [
    "b_dict.pop('B-grp')"
   ]
  },
  {
   "cell_type": "code",
   "execution_count": 70,
   "id": "fa216a16",
   "metadata": {},
   "outputs": [
    {
     "data": {
      "text/plain": [
       "{'name': 'sam',\n",
       " 'age': 23,\n",
       " 'place': 'satara',\n",
       " 'height': 5.4,\n",
       " 'education': 'graduate'}"
      ]
     },
     "execution_count": 70,
     "metadata": {},
     "output_type": "execute_result"
    }
   ],
   "source": [
    "b_dict"
   ]
  },
  {
   "cell_type": "code",
   "execution_count": 93,
   "id": "24ed58b4",
   "metadata": {},
   "outputs": [],
   "source": [
    "main_dict = {'name':['prashant','omkar','aaditya'],\n",
    "             'id no':[101,102,103],\n",
    "             'class':[10,11,12]\n",
    "            }"
   ]
  },
  {
   "cell_type": "code",
   "execution_count": 94,
   "id": "b33385c5",
   "metadata": {},
   "outputs": [
    {
     "data": {
      "text/plain": [
       "{'name': ['prashant', 'omkar', 'aaditya'],\n",
       " 'id no': [101, 102, 103],\n",
       " 'class': [10, 11, 12]}"
      ]
     },
     "execution_count": 94,
     "metadata": {},
     "output_type": "execute_result"
    }
   ],
   "source": [
    "main_dict"
   ]
  },
  {
   "cell_type": "code",
   "execution_count": 95,
   "id": "2988f977",
   "metadata": {},
   "outputs": [],
   "source": [
    "main_dict['name'].insert(2,'sahil')"
   ]
  },
  {
   "cell_type": "code",
   "execution_count": 96,
   "id": "cc320f81",
   "metadata": {},
   "outputs": [
    {
     "data": {
      "text/plain": [
       "{'name': ['prashant', 'omkar', 'sahil', 'aaditya'],\n",
       " 'id no': [101, 102, 103],\n",
       " 'class': [10, 11, 12]}"
      ]
     },
     "execution_count": 96,
     "metadata": {},
     "output_type": "execute_result"
    }
   ],
   "source": [
    "main_dict"
   ]
  },
  {
   "cell_type": "code",
   "execution_count": 97,
   "id": "3231f427",
   "metadata": {},
   "outputs": [],
   "source": [
    "main_dict['id no'].insert(2,104)"
   ]
  },
  {
   "cell_type": "code",
   "execution_count": 98,
   "id": "5655e849",
   "metadata": {},
   "outputs": [
    {
     "data": {
      "text/plain": [
       "{'name': ['prashant', 'omkar', 'sahil', 'aaditya'],\n",
       " 'id no': [101, 102, 104, 103],\n",
       " 'class': [10, 11, 12]}"
      ]
     },
     "execution_count": 98,
     "metadata": {},
     "output_type": "execute_result"
    }
   ],
   "source": [
    "main_dict"
   ]
  },
  {
   "cell_type": "code",
   "execution_count": 99,
   "id": "3e9618f2",
   "metadata": {},
   "outputs": [],
   "source": [
    "main_dict['class'].append(9)"
   ]
  },
  {
   "cell_type": "code",
   "execution_count": 100,
   "id": "ec19ae47",
   "metadata": {},
   "outputs": [
    {
     "data": {
      "text/plain": [
       "{'name': ['prashant', 'omkar', 'sahil', 'aaditya'],\n",
       " 'id no': [101, 102, 104, 103],\n",
       " 'class': [10, 11, 12, 9]}"
      ]
     },
     "execution_count": 100,
     "metadata": {},
     "output_type": "execute_result"
    }
   ],
   "source": [
    "main_dict"
   ]
  },
  {
   "cell_type": "code",
   "execution_count": 101,
   "id": "bca1c3f0",
   "metadata": {},
   "outputs": [
    {
     "data": {
      "text/plain": [
       "[10, 11, 12, 9]"
      ]
     },
     "execution_count": 101,
     "metadata": {},
     "output_type": "execute_result"
    }
   ],
   "source": [
    "main_dict.pop('class')"
   ]
  },
  {
   "cell_type": "code",
   "execution_count": 102,
   "id": "23d77c48",
   "metadata": {},
   "outputs": [
    {
     "data": {
      "text/plain": [
       "{'name': ['prashant', 'omkar', 'sahil', 'aaditya'],\n",
       " 'id no': [101, 102, 104, 103]}"
      ]
     },
     "execution_count": 102,
     "metadata": {},
     "output_type": "execute_result"
    }
   ],
   "source": [
    "main_dict"
   ]
  },
  {
   "cell_type": "code",
   "execution_count": null,
   "id": "018dad76",
   "metadata": {},
   "outputs": [],
   "source": []
  },
  {
   "cell_type": "code",
   "execution_count": 1,
   "id": "14bdeced",
   "metadata": {},
   "outputs": [],
   "source": [
    "SD = {'name':'shubham',\n",
    "       'class': 'MCA',\n",
    "       'hobby': 'study'}"
   ]
  },
  {
   "cell_type": "code",
   "execution_count": 3,
   "id": "241af452",
   "metadata": {},
   "outputs": [
    {
     "data": {
      "text/plain": [
       "{'name': 'shubham', 'class': 'MCA', 'hobby': 'study'}"
      ]
     },
     "execution_count": 3,
     "metadata": {},
     "output_type": "execute_result"
    }
   ],
   "source": [
    "SD"
   ]
  },
  {
   "cell_type": "code",
   "execution_count": 5,
   "id": "f8331aa7",
   "metadata": {},
   "outputs": [
    {
     "data": {
      "text/plain": [
       "dict"
      ]
     },
     "execution_count": 5,
     "metadata": {},
     "output_type": "execute_result"
    }
   ],
   "source": [
    "type(SD)"
   ]
  },
  {
   "cell_type": "code",
   "execution_count": 7,
   "id": "ee6d6d17",
   "metadata": {},
   "outputs": [
    {
     "data": {
      "text/plain": [
       "dict_items([('name', 'shubham'), ('class', 'MCA'), ('hobby', 'study')])"
      ]
     },
     "execution_count": 7,
     "metadata": {},
     "output_type": "execute_result"
    }
   ],
   "source": [
    "SD.items()"
   ]
  },
  {
   "cell_type": "code",
   "execution_count": 8,
   "id": "c60f1810",
   "metadata": {},
   "outputs": [
    {
     "data": {
      "text/plain": [
       "dict_keys(['name', 'class', 'hobby'])"
      ]
     },
     "execution_count": 8,
     "metadata": {},
     "output_type": "execute_result"
    }
   ],
   "source": [
    "SD.keys()"
   ]
  },
  {
   "cell_type": "code",
   "execution_count": 9,
   "id": "72fd9f7b",
   "metadata": {},
   "outputs": [
    {
     "data": {
      "text/plain": [
       "dict_values(['shubham', 'MCA', 'study'])"
      ]
     },
     "execution_count": 9,
     "metadata": {},
     "output_type": "execute_result"
    }
   ],
   "source": [
    "SD.values()"
   ]
  },
  {
   "cell_type": "code",
   "execution_count": 10,
   "id": "8be00a1a",
   "metadata": {},
   "outputs": [
    {
     "data": {
      "text/plain": [
       "'shubham'"
      ]
     },
     "execution_count": 10,
     "metadata": {},
     "output_type": "execute_result"
    }
   ],
   "source": [
    "SD['name']"
   ]
  },
  {
   "cell_type": "code",
   "execution_count": 11,
   "id": "69407f9a",
   "metadata": {},
   "outputs": [
    {
     "data": {
      "text/plain": [
       "'MCA'"
      ]
     },
     "execution_count": 11,
     "metadata": {},
     "output_type": "execute_result"
    }
   ],
   "source": [
    "SD.get('class','no class')"
   ]
  },
  {
   "cell_type": "code",
   "execution_count": 12,
   "id": "93047957",
   "metadata": {},
   "outputs": [],
   "source": [
    "SD.update({'bike':'shine','car':'dzire'})"
   ]
  },
  {
   "cell_type": "code",
   "execution_count": 13,
   "id": "2db24e46",
   "metadata": {},
   "outputs": [
    {
     "data": {
      "text/plain": [
       "{'name': 'shubham',\n",
       " 'class': 'MCA',\n",
       " 'hobby': 'study',\n",
       " 'bike': 'shine',\n",
       " 'car': 'dzire'}"
      ]
     },
     "execution_count": 13,
     "metadata": {},
     "output_type": "execute_result"
    }
   ],
   "source": [
    "SD"
   ]
  },
  {
   "cell_type": "code",
   "execution_count": 14,
   "id": "19798cb7",
   "metadata": {},
   "outputs": [],
   "source": [
    "SD['laptop'] = 'dell'"
   ]
  },
  {
   "cell_type": "code",
   "execution_count": 15,
   "id": "c40eb440",
   "metadata": {},
   "outputs": [
    {
     "data": {
      "text/plain": [
       "{'name': 'shubham',\n",
       " 'class': 'MCA',\n",
       " 'hobby': 'study',\n",
       " 'bike': 'shine',\n",
       " 'car': 'dzire',\n",
       " 'laptop': 'dell'}"
      ]
     },
     "execution_count": 15,
     "metadata": {},
     "output_type": "execute_result"
    }
   ],
   "source": [
    "SD"
   ]
  },
  {
   "cell_type": "code",
   "execution_count": 16,
   "id": "ea3d99b1",
   "metadata": {},
   "outputs": [
    {
     "data": {
      "text/plain": [
       "'dell'"
      ]
     },
     "execution_count": 16,
     "metadata": {},
     "output_type": "execute_result"
    }
   ],
   "source": [
    "SD.setdefault('laptop','no found')"
   ]
  },
  {
   "cell_type": "code",
   "execution_count": 17,
   "id": "22b37689",
   "metadata": {},
   "outputs": [],
   "source": [
    "m = ('hello','one','two')"
   ]
  },
  {
   "cell_type": "code",
   "execution_count": 18,
   "id": "8b396db6",
   "metadata": {},
   "outputs": [
    {
     "data": {
      "text/plain": [
       "{'hello': 0, 'one': 0, 'two': 0}"
      ]
     },
     "execution_count": 18,
     "metadata": {},
     "output_type": "execute_result"
    }
   ],
   "source": [
    "dict.fromkeys(m,0)"
   ]
  },
  {
   "cell_type": "code",
   "execution_count": 19,
   "id": "3fffa193",
   "metadata": {},
   "outputs": [],
   "source": [
    "import pandas as pd "
   ]
  },
  {
   "cell_type": "code",
   "execution_count": 23,
   "id": "90641f8c",
   "metadata": {},
   "outputs": [
    {
     "data": {
      "text/plain": [
       "{'name': 'shubham',\n",
       " 'class': 'MCA',\n",
       " 'hobby': 'study',\n",
       " 'bike': 'shine',\n",
       " 'car': 'dzire',\n",
       " 'laptop': 'dell'}"
      ]
     },
     "execution_count": 23,
     "metadata": {},
     "output_type": "execute_result"
    }
   ],
   "source": [
    "SD"
   ]
  },
  {
   "cell_type": "code",
   "execution_count": 24,
   "id": "c89685ac",
   "metadata": {},
   "outputs": [
    {
     "data": {
      "text/plain": [
       "'shubham'"
      ]
     },
     "execution_count": 24,
     "metadata": {},
     "output_type": "execute_result"
    }
   ],
   "source": [
    "SD.pop('name')"
   ]
  },
  {
   "cell_type": "code",
   "execution_count": 25,
   "id": "df7bf9f1",
   "metadata": {},
   "outputs": [
    {
     "data": {
      "text/plain": [
       "{'class': 'MCA',\n",
       " 'hobby': 'study',\n",
       " 'bike': 'shine',\n",
       " 'car': 'dzire',\n",
       " 'laptop': 'dell'}"
      ]
     },
     "execution_count": 25,
     "metadata": {},
     "output_type": "execute_result"
    }
   ],
   "source": [
    "SD"
   ]
  },
  {
   "cell_type": "code",
   "execution_count": 27,
   "id": "46cb660e",
   "metadata": {},
   "outputs": [
    {
     "data": {
      "text/plain": [
       "('laptop', 'dell')"
      ]
     },
     "execution_count": 27,
     "metadata": {},
     "output_type": "execute_result"
    }
   ],
   "source": [
    "SD.popitem()"
   ]
  },
  {
   "cell_type": "code",
   "execution_count": null,
   "id": "860f58e9",
   "metadata": {},
   "outputs": [],
   "source": []
  },
  {
   "cell_type": "code",
   "execution_count": 5,
   "id": "62bf6353",
   "metadata": {},
   "outputs": [],
   "source": [
    "d = {'k':'v'}"
   ]
  },
  {
   "cell_type": "code",
   "execution_count": 8,
   "id": "7628069f",
   "metadata": {},
   "outputs": [
    {
     "data": {
      "text/plain": [
       "{'k': 'v'}"
      ]
     },
     "execution_count": 8,
     "metadata": {},
     "output_type": "execute_result"
    }
   ],
   "source": [
    "d.fromkeys('k','v')"
   ]
  },
  {
   "cell_type": "code",
   "execution_count": null,
   "id": "9cba93cd",
   "metadata": {},
   "outputs": [],
   "source": []
  },
  {
   "cell_type": "code",
   "execution_count": null,
   "id": "3f4b20f2",
   "metadata": {},
   "outputs": [],
   "source": []
  },
  {
   "cell_type": "code",
   "execution_count": null,
   "id": "2806bfc4",
   "metadata": {},
   "outputs": [],
   "source": []
  },
  {
   "cell_type": "code",
   "execution_count": null,
   "id": "3ecaa159",
   "metadata": {},
   "outputs": [],
   "source": []
  },
  {
   "cell_type": "code",
   "execution_count": null,
   "id": "3f8ba0da",
   "metadata": {},
   "outputs": [],
   "source": []
  },
  {
   "cell_type": "code",
   "execution_count": null,
   "id": "f03df412",
   "metadata": {},
   "outputs": [],
   "source": []
  }
 ],
 "metadata": {
  "kernelspec": {
   "display_name": "Python 3 (ipykernel)",
   "language": "python",
   "name": "python3"
  },
  "language_info": {
   "codemirror_mode": {
    "name": "ipython",
    "version": 3
   },
   "file_extension": ".py",
   "mimetype": "text/x-python",
   "name": "python",
   "nbconvert_exporter": "python",
   "pygments_lexer": "ipython3",
   "version": "3.9.19"
  }
 },
 "nbformat": 4,
 "nbformat_minor": 5
}
